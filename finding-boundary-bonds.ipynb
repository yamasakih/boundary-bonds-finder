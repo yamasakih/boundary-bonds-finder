{
 "cells": [
  {
   "cell_type": "markdown",
   "metadata": {},
   "source": [
    "Murcko scaffoldとscaffold外の間の結合を求めたいという希望があったので関数を作成してみる。"
   ]
  },
  {
   "cell_type": "code",
   "execution_count": 1,
   "metadata": {},
   "outputs": [
    {
     "name": "stdout",
     "output_type": "stream",
     "text": [
      "sys.version_info(major=3, minor=6, micro=2, releaselevel='final', serial=0)\n",
      "RDKit version is 2017.03.3\n"
     ]
    }
   ],
   "source": [
    "from copy import deepcopy\n",
    "import os\n",
    "import random\n",
    "import sys\n",
    "\n",
    "from IPython.display import SVG\n",
    "\n",
    "from rdkit import Chem\n",
    "from rdkit import RDConfig\n",
    "from rdkit import rdBase\n",
    "from rdkit.Chem import rdDepictor, Draw, MurckoDecompose, PandasTools\n",
    "from rdkit.Chem.Scaffolds.MurckoScaffold import GetScaffoldForMol\n",
    "from rdkit.Chem.rdFMCS import FindMCS\n",
    "from rdkit.Chem.Draw import rdMolDraw2D, IPythonConsole\n",
    "\n",
    "\n",
    "%matplotlib inline\n",
    "\n",
    "IPythonConsole.ipython_useSVG = True\n",
    "\n",
    "print(sys.version_info)\n",
    "print(f'RDKit version is {rdBase.rdkitVersion}')"
   ]
  },
  {
   "cell_type": "markdown",
   "metadata": {},
   "source": [
    "### 1. テストデータの用意"
   ]
  },
  {
   "cell_type": "markdown",
   "metadata": {},
   "source": [
    "テストとしてRDKit内にあらかじめ用意されている200個の化合物を含むSDFを読み込み使用する。"
   ]
  },
  {
   "cell_type": "code",
   "execution_count": 2,
   "metadata": {},
   "outputs": [
    {
     "data": {
      "text/plain": [
       "'/opt/conda/share/RDKit/Data/NCI/first_200.props.sdf'"
      ]
     },
     "execution_count": 2,
     "metadata": {},
     "output_type": "execute_result"
    }
   ],
   "source": [
    "sdf_file = os.path.join(RDConfig.RDDataDir, 'NCI/first_200.props.sdf')\n",
    "sdf_file"
   ]
  },
  {
   "cell_type": "markdown",
   "metadata": {},
   "source": [
    "目視で確認するためにSMILESに基づいた化学構造とMurcko scaffoldsを含むデータフレームを作成してみる。"
   ]
  },
  {
   "cell_type": "code",
   "execution_count": 3,
   "metadata": {},
   "outputs": [
    {
     "data": {
      "text/html": [
       "<table border=\"1\" class=\"dataframe\">\n",
       "  <thead>\n",
       "    <tr style=\"text-align: right;\">\n",
       "      <th></th>\n",
       "      <th>SMILES</th>\n",
       "      <th>Molecule</th>\n",
       "      <th>Murcko_SMILES</th>\n",
       "      <th>Murcko_scaffold</th>\n",
       "    </tr>\n",
       "  </thead>\n",
       "  <tbody>\n",
       "    <tr>\n",
       "      <th>0</th>\n",
       "      <td>CC1=CC(=O)C=CC1=O</td>\n",
       "      <td><img src=\"data:image/png;base64,iVBORw0KGgoAAAANSUhEUgAAAMgAAADICAIAAAAiOjnJAAADw0lEQVR4nO3c0VLbMBRFUbnT//9l9yEDQxNiaKojCd213jp0UhO2T4ybyXGeZ4Pefs0+APYkLCKERYSwiBAWEcIiQlhECIsIYREhLCKERYSwiBAWEcIiQlhECIsIYREhLCKERYSwiBAWEcIiQlhECIsIYREhLCKERYSwiBAWEcIiQlhECIsIYREhLCKERYSwiBAWEcIiQlhECIsIYREhLCKERYSwiBAWEcIiQlhECIsIYREhLCKERYSwiBAWEcIiQlhECIsIYREhLCKERYSwiBAWEcIiQlhECIsIYREhrNZaO45jwYf60YTVjuM4z7PXo53nqa0mLEKqh9V3rm6MVmvt9+wDWMLHDl7r7P8fYTP9z9cf5NO5ehybl/9O5ee27mI9+8G/lhF36ob1TK/Ful1plU2w6Hd+9yPPXWOVbctitdbjpa1mPRcq3m4YuSJlbz2UC6vsa9Ng5cIar+Zo1QrLXA1TK6xZCo5WobDM1UiFwpqr2mhVCWuFuSrVVomwVqiqmp9z5/3yXL/42lJJvf8H4sV0fXG4K307F1YK6+Nz/fj0XT6hF19bc64WPKS+lgnrOP5K5+6PG+n8rofrs3GeNcJ6zOg8u7S15lx1s/DZuPnF+5q/iPU5qmdn4xo2D2tNm+9oa61CWGuO1vbWuMb6ji1uN7S3uXK7YYjHS/VPLyAuHuCLh1/u7edLHUzCGmG1hwvPTZ/3nn1/52ycZ63zOGr6aEUOYNWzcZnF4jUrxfTR/r8Vvpv76+H0vRysUFiMVCusWaNVba5atbDa7BfEOsqFNV7BuWo1wxo5WjWram433Pjgte6Knk/t+Zb0+hiji3+iAot1zwevdVH3lGo+KjLJYrX271dI16kt+GaK8cp//5kChFXxdkOaqpqw3IgPqR5W93UxVzfVw+pOVTelw7IuOaXDIqduWOYqqm5YRBUNy1ylVQxLVQNUDIsByoVlrsYoFxZj1ArLXA1TKyyGKRSWuRqpUFiMVCUsczVYibBUNV6JsBhv/7DM1RT7h8UUm4dlrmbZPCxm2TksczXRzmGpaqKdw2IiYREhLCKERYSwiBAWEcIiQlhECIsIYREhLCKERYSwiBAWEcIiQlhECIsIYREhLCKERYSwiBAWEcIiQlhECIsIYREhLCKERYSwiBAWEcIiQlhECIsIYREhLCKERYSwiBAWEcIiQlhECIsIYREhLCKERYSwiBAWEcIiQlhECIsIYREhLCKERYSwiBAWEcIiQlhECIsIYREhLCKERYSwiBAWEcIiQlhECIuIP6dUcnEvdsTcAAAAAElFTkSuQmCC\" alt=\"Mol\"/></td>\n",
       "      <td>O=C1C=CC(=O)C=C1</td>\n",
       "      <td><img src=\"data:image/png;base64,iVBORw0KGgoAAAANSUhEUgAAAMgAAADICAIAAAAiOjnJAAADxUlEQVR4nO3d0aoaSQBF0XKY///lngchTBIiGD1dVafWegtcaLW3p1XivY/rugZ82z+zbwCdhEWEsIgQFhHCIkJYRAiLCGERISwihEWEsIgQFhHCIkJYRAiLCGERISwihEWEsIgQFhHCIkJYRAiLCGERISwihEWEsIgQFhHCIkJYRAiLCGERISwihEWEsIgQFhHCIkJYRAiLCGERISwihEWEsIgQFhHCIkJYRAiLCGERISwihEWEsIgQFhHCIkJYRAiLCGERISwihEWEsIgQFhHCIkJYRAiLCGERISwi/p19A+72eDymHPe6rinHneWssB6Px6wTPPHQU7gUEnFQWHM347quWVfhKQ4KizudEtYKL3GOGq1TwuJmR4S1wlw9nTNa/R83vKgqfY4XqXmK/rBemHLin6NV31z5pXDNU3jCBbE8LGZpDmvNuXqqH63msJioNqyV5+qpe7Q6w1q/qnqdYe2ieLQKw9prrlrbKgyLFbSFtddcPVWOVlVYO1bVqiqsffWNVk9Y5mopPWHtrmy0SsIyV6spCatD02g1hNU0VzVtbR9WU1VNtg+rT8do7R2WuVpW+MsUbz7z3vrp4qR+fOHi3el67xFJPoDhsN686W/99Alzte8d/Dis/z+ltn0UFjThW2JfPZWfhfV4/HQLfvln0glzdatvn8oPXrz/fuzrevdF1V/reOv02n33MXAq935X2G3rVd44rBNGa18+bliUjxteSn7cMA74BRv73rUPLoW/v7678V1ht7ufLYFT+dli/XKD/FagfX37VH58KXRGv23a8+SrB934XeEPTW8Pa9a3IazR1VaHkrA61MzVaArLaC2lJ6zdNc3VKAvLaK2jKqx9lc3V6Atrx9Hqq2r0hcUiCsPaa7Qq52pUhjV2a6tSZ1i7aJ2rURzW+qNVXNUoDou5msNaebS652p0h8VE5WGtOVr1czVO+AurL/7vsj/dm9Mf1gtTTvwJczXqL4VP61wQD6lqHBIW9zslrBVG65y5GueExc0OCmvuaB01V+OosLjTWU+jkf/s6k+Oe5xPu8Pcw6WQCGERISwihEWEsIgQFhHCIkJYRAiLCGERISwihEWEsIgQFhHCIkJYRAiLCGERISwihEWEsIgQFhHCIkJYRAiLCGERISwihEWEsIgQFhHCIkJYRAiLCGERISwihEWEsIgQFhHCIkJYRAiLCGERISwihEWEsIgQFhHCIkJYRAiLCGERISwihEWEsIgQFhHCIkJYRAiLCGERISwihEWEsIgQFhHCIkJYRAiLiP8ADFdMhHts5L8AAAAASUVORK5CYII=\" alt=\"Mol\"/></td>\n",
       "    </tr>\n",
       "    <tr>\n",
       "      <th>1</th>\n",
       "      <td>c1ccc2sc(SSc3nc4ccccc4s3)nc2c1</td>\n",
       "      <td><img src=\"data:image/png;base64,iVBORw0KGgoAAAANSUhEUgAAAMgAAADICAIAAAAiOjnJAAAFLElEQVR4nO3cbXKbOhhAYdTpjpL978Broj/UMB4MtpDeIxA5z9wfHt+EEnMqiY80zfM8SdH+nL0DuifDEsKwhDAsIQxLCMMSwrCEMCwhDEsIwxLCsIQwLCEMSwjDEsKwhDAsIQxLCMMSwrCEMCwhDEsIwxLCsIQwLCEMSwjDEsKwhDAsIQxLCMMSwrCEMCwhDEsIwxLCsIQwLCEMSwjDEsKwhDAsIQxLCMMSwrCEMCwhDEsIwxLCsIQwLCEMSwjDEsKwhDAsIQxLCMMSwrCEMCwhDEsIwxLCsIQwLCEMSwjDEsKwhDAsIQxLCMMSwrCEMCwhDEsIwxLCsIQwLCEMSwjDEuLvuX98Sim/mOf53D1RrBPCWmKannpKKdnWnXQ6nJsxvX6Nbd0GeCxLYnr9Ftu6h/gD2bhssq17QNZY5ePT69fP82xbNxB8CD82UTg/2tboepwVViy2HLdGB4bVuNiyraGBYbU3YVvjirylQ0SQ24rdpjo4+ZZOidW49dTZOuL8JSlNS97Pr9XTRcNaDX7P41bJoGhPp7toWJvK59l5Hrutx+P/36Kvr1F/hrCwAhdYr5v6VUv4xyON29Pits9j5UFrUI9HWgatQd02rGkaaSp8zujra87/5TcHLWyAsI7OgwP1lL2f+3Jh7XmllHpeuIlZu6yOfcuSKHaBdf0l/GtVeyv3/P7R5dfqbLrbahUJa/Od/pv6+XaqrfZzt4p1euG3vLk606ctKqy9N49uqmIjq5KgsMpHmvItFMrRbH7gy+uPz5jQbYHXCPbePLSd9rA232n3JqPlf31/T9N+AY2f/PLJ1N3sp9uK3Hp7W1HzYJ9BK/s48OytctoPbXmggVNKocizws0bxi13keN+8rCzoYqzs/lHPi9bfqKQ++uHnm8reTNK8C2dzQddznj6Jb3eom60OimrWLnHHsijo3vnQ8NslFlvtXxv48cXeJslasfqlg3d5kRqICHWWy07UPF4NORlxyrXf9WB9mmLuvLeOKmHLD6WjeRPbbXWSems+3EnX7Hts96CzzkP/j0Iv0z88byp/wMqIVdD2k+f6XGLv1DW9gthLZd8Di2M6m6Y1Gm/GhKyUEPb6nJ1f+cHyC9KdoC79XGK9utq554BFG250y3JtsvE08ERJaQqdJZsbIu76z9YWFPQfYySvKKqQge8lrDAYWagNRbhzVGPCuLKT51DY0zwpkYMq6cLrtWGCGuAJ0g1opF+/auny06FQwxX0w2mwssWEGvvat9lwxp7xLrgAqjF1j2Vjaszq2dvOuxYhbHDmvpeMQ+0+Q9MbEWy9dYI/wjP1fev0HBDVx6c8mdfd00reEk0ytMN+mhu+13txkdzs/o//pOxp8JfsnLfc2hO7PxE2k2mwuEs09/znFi7qd2DWB5T+FQ49oh1A40T4rQ1bh290z/So8nqrPqRrPzCsLSrsK0+iy3DupW9tvr/Lolh3c3rM5XTGRfoDeuGQp6pbN0HwxLBK+9CGJYQhiWEYQlhWEIYlhCGJYRhCWFYQhiWEIYlhGEJYVhCGJYQhiWEYQlhWEIYlhCGJYRhCWFYQhiWEIYlhGEJYVhCGJYQhiWEYQlhWEIYlhCGJYRhCWFYQhiWEIYlhGEJYVhCGJYQhiWEYQlhWEIYlhCGJYRhCWFYQhiWEIYlhGEJYVhCGJYQhiWEYQlhWEIYlhCGJYRhCWFYQhiWEIYlhGEJYVhCGJYQhiWEYQlhWEIYlhCGJYRhCWFYQhiWEIYlhGEJYVhCGJYQ/wBWenRCo70ctgAAAABJRU5ErkJggg==\" alt=\"Mol\"/></td>\n",
       "      <td>c1ccc2sc(SSc3nc4ccccc4s3)nc2c1</td>\n",
       "      <td><img src=\"data:image/png;base64,iVBORw0KGgoAAAANSUhEUgAAAMgAAADICAIAAAAiOjnJAAAFFElEQVR4nO3bUXqaQACFUejXHaX7X0GyJvpASo2AIjMXRzznKdFEgfzMAMF+GIYOavv17AXgnIRFhLCIEBYRwiJCWEQIiwhhESEsIoRFhLCIEBYRwiJCWEQIiwhhESEsIoRFhLCIEBYRwiJCWEQIiwhhESEsIoRFhLCIEBYRwiJCWEQIiwhhESEsIoRFhLCIEBYRwiJCWEQIiwhhESEsIoRFhLCIEBYRwiJCWEQIiwhhESEsIoRFhLCIEBYRwiJCWEQIiwhhESEsIoRFhLCIEBYRwiJCWEQIiwhhESEsIoRFhLCIEBYRwiJCWEQIiwhhESEsIoRFhLCIEBYRwiJCWEQIiwhhESEsIoR1Wn3f933/rHf//aw3ruvr63sLfnwMz12SRvR9PwzD+MX4yPjtcQtw5PuNK1n9Hb++ej1N1jZyaOOvOW4qHPehYRhqDdHTKDV+ffnt25o28vypy41/wBR5xIi1uK+UDNFjQ/NR6s2Hrmn6u/HI5VPjF6EA4sdYa+s2PfjQGq4l9ebWdt0bm/Rq+1fPKztiXa3b7XW4++zn53JS8yP3txq6Fgeq7sFWqueVCuvGgm7JqyvepV6orZJT2oemv0dfqkQkrC2LeHcGLD8IeIm25gu5sbMd09/a60wXJpoO69HluxFQ+aq239aNjKan/vz5fuRyFK+1uV4grMJ5ev7rVVa17vbK2bIPrO2EJVs+FFa1s8Lyxbq8UlxxDceLN7svanQtnYReXUwf1Qpi94ZaVCesigsUmpovl3D6w3x+Lvz8mNFhc2hhvlX258SgXucVQ8Np+Qsu9rT9glmXHK52t5vbyBVf+b3C2jchJtoqedmXCOvMt82UVxVSGOs4eVVcnoST3DazYv8fr8Ej99dSb04NXQ7Zfx25m36vyiLVmhMbvIZiKtytwsb6+BjcmbPdOUesn8NV18zBVbWN0/7x+zlHrDarmrR/6F2u9bBe4gxoo2kwONNKrTnzWWEjw9ViQ6Hr3e1oNKwqG/3Iv9r8uH5+S0L3c72GYdidfvUuG/2XTlf1auT8vtM29+x917pma7ezrasPeLV2TlBtxKqyD93+6NLiU8+y+7LW1UA1DKVTdpW8qt9U0tBUuOXmtYvjlfEo+KBlW7T7kx1XMZW31c3uqHn0Xst2p8Ku7FrIvk8ETJk9sbCCmxT2L3bFG7tDRxqREatKVVte5OpHmr0uumjfQHW1v63tfnd/4PZT5Z58a3KtTwT8+8Wu+1dbOqxa/6Xevpx3E1l7dvF306dEkQ9TjF/sGISLj0D/DwPtj1jbXe4w935y08Y/4ES7/lS4ZRDuCqa/t7I9qdHdjR+d/n68Ufo9jtyHplHq0b9Hm8oH3auNf+Sue+A7BT66NHuLVzp4P9JhA9X/dzx+9rlcSdPf5GR7xRMukFb/R8RpnKCnydOuvEtq7kwns63fj8WLElZbxkHrBITVnHNMhU7KiDBiESEsIoRFhLCIEBYRwiJCWEQIiwhhESEsIoRFhLCIEBYRwiJCWEQIiwhhESEsIoRFhLCIEBYRwiJCWEQIiwhhESEsIoRFhLCIEBYRwiJCWEQIiwhhESEsIoRFhLCIEBYRwiJCWEQIiwhhESEsIoRFhLCIEBYRwiJCWEQIiwhhESEsIoRFhLCIEBYRwiJCWEQIiwhhESEsIoRFhLCIEBYRwiJCWEQIiwhhESEsIoRFhLCIEBYRwiJCWEQIiwhhESEsIoRFhLCIEBYRfwFe+TgVCuzHJwAAAABJRU5ErkJggg==\" alt=\"Mol\"/></td>\n",
       "    </tr>\n",
       "    <tr>\n",
       "      <th>2</th>\n",
       "      <td>O=[N+]([O-])c1cc(Cl)c(O)c([N+](=O)[O-])c1</td>\n",
       "      <td><img src=\"data:image/png;base64,iVBORw0KGgoAAAANSUhEUgAAAMgAAADICAIAAAAiOjnJAAAE90lEQVR4nO3dW5abRhiFUZGVGXn+M0jGRB6UJbeFLtwO9Rfs/SR7tduo+JqiESoN4zjeYG9/td4AzklYRAiLCGERISwihEWEsIgQFhHCIkJYRAiLCGERISwihEWEsIgQFhHCIkJYRAiLCGERISwihEWEsIgQFhHCIkJYRAiLCGERISwihEWEsIgQFhHCIkJYRAiLCGERISwihEWEsIgQFhHCIkJYRAiLCGERISwi/m69ATMMw+/HV/6ssq7GoXxYw/DHID798Tp6G4faU+F0+Mbxjx/ci+hwHGqHRbeERUT5c6wPnuaC2uccV9NzWEoqrPZUOD1FLf/bUESH4zB08Cn2XV2/CepqHHoIiw7VngrplrCI6CSs2leZ4949/cLD0klY9EZYRAiLiD7CGm6Xviby7ulXHpY+wqI7fYTlIm53XHknoo8jFt0RFhHCIkJYRAiLCGERUTqs6Yv3hV/Oz+puKEqHdSs/fEfqaygKhfVy4Eq943douimlhuKrEm//uo/XipcADnuvyj2pcRwfD474X5eo9rad1mENw/BtN91/UluN2lNJ9wet8mo7FIs0Det7VP+bDuhjUlh9tJuxdW/reeRVoa0DhmKFRmFtHoP7Pw39+M48IEVnxvkjFB2K1VqEtWoMjjl1XRpKYmb8mlQXZ/Etwlq7A6YDuuPP6JY49spr0VGq+JIoRe/HOvLAvvfxZs2Qljo92kW5sLYP8fzvMD+pRbksLbXa6dEuKoU149LDkm92u73Pa8VRanku378+ftmiXbM1worNBNOB3bgvV+T17oubXK04TPK5zVl2J39ykbhovuhbvfziZlUdtRZS7OkVWz46sSPX5dXyRaEDd0omrJdb3LSt3BFi6Xl9s+nv2J1S6O6GTt0PQm1vfCjo6mHtEsQ4jvJ60vruhhNpe+PDVntfyBfWznrNa+9NzUyFHS4fva/H5Nh6Q344dqfEjlhPT+NKVT2UO2IduFOSU2G1YeV23E65+m+FhAiLCGERISwihEWEsIgQ1nHOfWffE2ERISwihEWEsIgQFhHCSql1z8zh3Oi3v/7u8gsQ1p4k9XD1sHaM4FLXP7+6eli7cKCaEtYmknrn/GHl3ttu7vvgzEOTW40jsaTRyZwzrM87cvtKRpL66oRhzdzxx6y9dr7hnelcz3z5aluhCi97oHo4UVhr39f7NQJz3wpnCWvzu8W3T1uS+qn/sPZbbHJLGVc+nXqp8+EILGuxNBEHqpc6DytjZiuS+qB1WK/Wy3792Va3o1cZ+XoxTFIf1H5Jp+nSy+8+O86Bao7CYU0zGht8DuTPFxklNV/hsMpo+LGX/SoQ1rXvDT+rAmFNT97pn3fpEFE4rMsvvdy1AlPhB5Ze7lbrsKatTC8x0KHCU2E1/7TegK4IiwhhESEsIoRFhLCIEBYRwiJCWES4x4gIRywihEWEsIgQFhHCIkJYRLS+0a+84d/ft7COv8bHXz4e85KwPnkKSE/zmQrfmmakqvmERYSwiBAWEcIiQlhvjb/Gn9cabn9eeuAzlxs+eWrLb4XzuR+LCFMhEcIiQlhECIsIYREhLCKERYSwiBAWEcIiQlhECIsIYREhLCKERYSwiBAWEcIiQlhECIsIYREhLCKERYSwiBAWEcIiQlhECIsIYREhLCKERYSwiBAWEcIiQlhECIsIYREhLCKERYSwiBAWEf8BfAphYHmL1kcAAAAASUVORK5CYII=\" alt=\"Mol\"/></td>\n",
       "      <td>c1ccccc1</td>\n",
       "      <td><img src=\"data:image/png;base64,iVBORw0KGgoAAAANSUhEUgAAAMgAAADICAIAAAAiOjnJAAADf0lEQVR4nO3cQW6cQBiEUYhy/yuTxWyiLFAWrun+q9+7wID5KEbI9v08zwU/7dfqA6CTsIgQFhHCIkJYRAiLCGERISwihEWEsIgQFhHCIkJYRAiLCGERISwihEWEsIgQFhHCIkJYRAiLCGERISwihEWEsIgQFhHCIkJYRAiLCGERISwihEWEsIgQFhHCIkJYRAiLCGERISwihEWEsIgQFhHCIkJYRAiLCGERISwihEWEsIgQFhHCIkJYRAiLCGERISwihEWEsIgQFhHCIkJYRAiLCGERISwihEXE79UH8G33fS/53Od5lnzuKmeFdd/3qgu88KOX8Cgk4qCw1m7G8zyrnsJLHBQW33RKWDt8xTlqtE4Jiy87Iqwd5urjnNHqf93wUlX6Gm9S8xL9Yb1YcuE/o1XfXPmjcM9LeMIDsTwsVmkOa8+5+qgfreawWKg2rJ3n6qN7tDrD2r+qep1hTVE8WoVhzZqr1rYKw2IHbWHNmquPytGqCmtiVa2qwpqrb7R6wjJXW+kJa7qy0SoJy1ztpiSsDk2j1RBW01zVtDU+rKaqmowPq0/HaM0Oy1xta3ZYrQpGa3BY5mpng8PqNn20poa18M9Qf9y4A/4fU8N6uaFn3esvd8isE/nH1LBOMPpL5OCwCkZrdDrvBofVbXpzs8MaPVrT03k3O6xWBc2ND2voaBWk8258WH06mmsIa9xovb/dLajq6gjrGtVWTTrvSsLq0NRcT1gjRqspnXc9YU1X1lxVWJuPVlk676rCmquvubawth2tE14x/K0tLDZRGNaGo3XaXF2VYV2btdWazrvOsKYobq42rE1G68CH4EdtWKzVHNby0Tp2rq7usFioPKyFo3XyXF31YV2rX7gfqz+sF7nmDp+r67qOOMlrm8u5yWF8wdGLRc4pYe3wTeucubrOCYsvOyisbX8fq9JBYfFNZ91G17p/n3fcz/m0E+Y7PAqJEBYRwiJCWEQIiwhhESEsIoRFhLCIEBYRwiJCWEQIiwhhESEsIoRFhLCIEBYRwiJCWEQIiwhhESEsIoRFhLCIEBYRwiJCWEQIiwhhESEsIoRFhLCIEBYRwiJCWEQIiwhhESEsIoRFhLCIEBYRwiJCWEQIiwhhESEsIoRFhLCIEBYRwiJCWEQIiwhhESEsIoRFhLCIEBYRwiJCWEQIiwhhESEsIoRFhLCI+ANcz1SYoIL0pAAAAABJRU5ErkJggg==\" alt=\"Mol\"/></td>\n",
       "    </tr>\n",
       "    <tr>\n",
       "      <th>3</th>\n",
       "      <td>N=c1[nH]cc([N+](=O)[O-])s1</td>\n",
       "      <td><img src=\"data:image/png;base64,iVBORw0KGgoAAAANSUhEUgAAAMgAAADICAIAAAAiOjnJAAAEaUlEQVR4nO3dUXLaMABFUbvTHWX/S2BN6gcT6tpAKPhZknXO5KOQBtJwKwnFhrmUMsHeftX+BjgnYREhLCKERYSwiBAWEcIiQlhECIsIYREhLCKERYSwiBAWEcIiQlhECIsIYREhLCKERYSwiBAWEcIiQlhECIsIYREhLCKERYSwiBAWEcIiQlhECIsIYREhLCKERYSwiBAWEcIiQlhECIsIYREhLCKERYSwiBAWEcIiQlhECIsIYREhLCKERYSwiBAWEcIiQlhECIsIYREhLCKERYSwiBAWEcIiQlhEjBXWPD+85smneMNYYU1yOcpwYZWirSMMFxbH+F37G6jgOmiVsr7eSLajEcOaHrS1urjq7HZxWyRbg4b1hltP34XN0zQVlT0wblhvr+K/WyrTNM3fN6GwlaEX75/HUEqR1F1jhbVt4HbNk0/xhrHC+tzsqeNrRglLDwcbIqy7u1ZEDREWxzt/WAcMV6UUa6+Vk4dlEqzl5GHtzuD0ojOHNc+z4aqWM4dFRacNa55nv2yp6Ay/hF4tevTUgm7C2qyY/17elmS4qq7dsFYlbTrRTdPaDevtEcdw1YLTLt6pKxtWlRNE7WG2oOaIlXv0o23dvXE1r9RcYz06DesN2x2H6yNtsVVLu4v3rf/acZi+RxFtVRGfCuf5n4+V56fKrL62lNXHX49uoZRyuZihKoiHtarh7l941NaPX/uKr69h2nryP/hwQ2w37N5Wi9Prakiv3VYTYR3wczhm3Kr2xPDu6wVUbauVxXvtn8NHrj1dh7Hln3P3N02tn/c41pOmy2X++trz3/sooyPy+vf+7r96Tr0Hd6ywpv3aeiWd4/JqL6wm1lhH+ryqy2W+bo/9WMxtn/bDe+zRcCPWJ67L/zfSPGJRtBqfap+fJKyXvJ3UUjyv5dBY+2EV1g92SWqp9lBykFa2Gxq0e1JXt42VffJqtdPRR6zlrunuDT3XahL7GHrEWm097L7L9dyJq5oG3G544uARa+l8b7hiKowspP7XdtXV+0Q5elhX1fO6ZrSMSVjncfAaa+nHsLrrbOg1VmsHAHZ9iMfK0GE1aNvW7YDQNo4MfdXoU2HFfayl7STY+1Q4eliN2GY0df4k0VTYohO8TYYRiwgjFhHCIkJYTetof2FFWE3rd8tUWK0rU5dlCat5fY5awupBh1tCwiJCWEQIiwhhESEsIoRFxNDnFXappRdoeEJYXennuFJTYT/ae6HRJ4RFhLCIsMY6i5/eOPRgwjqL2iWtmAr7cfdk1sZ6ujFidWXVVqtVTcLqT8MxLZkKiRAWEcIiQlhECIsIYREhLCKERYSwiBAWEcIiQlhECIsIYREhLCKERYSwiBAWEcIiQlhECIsIYREhLCKERYSwiBAWEcIiQlhECIsIYREhLCKERYSwiBAWEcIiQlhECIsIYREhLCKERYSwiBAWEcIiQlhECIsIYREhLCKERYSwiBAWEcIiQlhECIsIYREhLCKERYSwiBAWEcIi4g99W5gIxcY6vAAAAABJRU5ErkJggg==\" alt=\"Mol\"/></td>\n",
       "      <td>N=c1[nH]ccs1</td>\n",
       "      <td><img src=\"data:image/png;base64,iVBORw0KGgoAAAANSUhEUgAAAMgAAADICAIAAAAiOjnJAAADrUlEQVR4nO3cUXLaMBiFUbvTHWX/Oyhrch+ccWlIwDa6lmSf84Z5IZNvfglhGKdpGqC0X7VfAOckLCKERYSwiBAWEcIiQlhECIsIYREhLCKERYSwiBAWEcIiQlhECIsIYREhLCKERYSwiBAWEcIiQlhECIsIYREhLCKERYSwiBAWEcIiQlhECIsIYREhLCKERYSwiBAWEcIiQlhECIsIYREhLCKERYSwiBAWEcIiQlhECIsIYREhLCKERYSwiBAWEcIiQlhECIsIYREhLCKERYSwiBAWEcIiQlhECIsIYREhLCIuHdY4/njlyVOscemwBrnEXD2sadJWxNXDIuR37RdwqHk4TdN/F+eh9eXiYJV8zyXCWhJ5rGe5/tjWl4c62+TMYb3siZwThrWvJ7v4ss4T1vvzSVsFjVPn68T42ULvf8fZdDmxxrvBIqg29RTW0pOY2td6WHWH07fnW6zRblhzUnWH009np7zU9Ec6lrx+NR1WC5xB7COs17S1Q2dhjf7DnegsrFoMra2EtZa2NhHWBtpaT1hECGsbQ2slYW02Td6cviYsIoS1xzRNhtZzwtpJW88Jaz9tPSEsItq9H6sL89Cab+/ZPr223RTU1z1EwnrX0pa7x+5ZCgs4eLPVxa8vCatL7b9nEFYZBw+t9j9ZElYZyxaemc17AVWqavzXl4RVzPHHDS3/+pKw3rWMK0vhPXust1TfWjW7ixfWftWrmjXwEr4hrJ0qVvXtZuvlUwcTFhHC2qORRbBlwtpMVWsIa5vbTVWrCIsIYW1wu40fH8bVKsJaS1WbCGsVVW3VWVg2zr3oLKwqjKsdhPWCqvZpOqzqXwdV1W7t3o/1+GU9G6yO9HSOfHBkxtU7egrrnknWuF7DujeO458/wzAMBkw7zhDW4nb7HGMKq+5UYS3mwuRV0TnDmhlgFZ05rIXCjneJsBaWyMNcK6xHyzAbBFdUuyfvB/hyBOpEtKCmPys8mKoKshTadUVcPayZvIoT1j/2WAVdeo91/5aQsi4dFjlXXwqdY4VcPSxCLIVECIsIYREhLCKERYSwiBAWEcIiQlhECIsIYREhLCKERYSwiBAWEcIiQlhECIsIYREhLCKERYSwiBAWEcIiQlhECIsIYREhLCKERYSwiBAWEcIiQlhECIsIYREhLCKERYSwiBAWEcIiQlhECIsIYREhLCKERYSwiBAWEcIiQlhECIsIYREhLCKERYSwiBAWEcIiQlhECIsIYREhLCKERcRfaMwbDiIO0swAAAAASUVORK5CYII=\" alt=\"Mol\"/></td>\n",
       "    </tr>\n",
       "  </tbody>\n",
       "</table>"
      ],
      "text/plain": [
       "                                      SMILES                                                                                                                                                                                                                                                                                                                                                                                                                                                                                                                                                                                                                                                                                                                                                                                                                                                                                                                                                                                                                                                                                                                                                                                                                                                                                                                                                                                                                                                                                                                                                                                                                                                                                                                                                                                                                                                                                                                                                           Molecule                   Murcko_SMILES                                                                                                                                                                                                                                                                                                                                                                                                                                                                                                                                                                                                                                                                                                                                                                                                                                                                                                                                                                                                                                                                                                                                                                                                                                                                                                                                                                                                                                                                                                                                                                                                                                                                                                                                                                                                                                                                                                                    Murcko_scaffold\n",
       "0                          CC1=CC(=O)C=CC1=O                                                                                                                                                                                                                                                                                                                                                                                                                                                                                                      <img src=\"data:image/png;base64,iVBORw0KGgoAAAANSUhEUgAAAMgAAADICAIAAAAiOjnJAAADw0lEQVR4nO3c0VLbMBRFUbnT//9l9yEDQxNiaKojCd213jp0UhO2T4ybyXGeZ4Pefs0+APYkLCKERYSwiBAWEcIiQlhECIsIYREhLCKERYSwiBAWEcIiQlhECIsIYREhLCKERYSwiBAWEcIiQlhECIsIYREhLCKERYSwiBAWEcIiQlhECIsIYREhLCKERYSwiBAWEcIiQlhECIsIYREhLCKERYSwiBAWEcIiQlhECIsIYREhLCKERYSwiBAWEcIiQlhECIsIYREhLCKERYSwiBAWEcIiQlhECIsIYREhrNZaO45jwYf60YTVjuM4z7PXo53nqa0mLEKqh9V3rm6MVmvt9+wDWMLHDl7r7P8fYTP9z9cf5NO5ehybl/9O5ee27mI9+8G/lhF36ob1TK/Ful1plU2w6Hd+9yPPXWOVbctitdbjpa1mPRcq3m4YuSJlbz2UC6vsa9Ng5cIar+Zo1QrLXA1TK6xZCo5WobDM1UiFwpqr2mhVCWuFuSrVVomwVqiqmp9z5/3yXL/42lJJvf8H4sV0fXG4K307F1YK6+Nz/fj0XT6hF19bc64WPKS+lgnrOP5K5+6PG+n8rofrs3GeNcJ6zOg8u7S15lx1s/DZuPnF+5q/iPU5qmdn4xo2D2tNm+9oa61CWGuO1vbWuMb6ji1uN7S3uXK7YYjHS/VPLyAuHuCLh1/u7edLHUzCGmG1hwvPTZ/3nn1/52ycZ63zOGr6aEUOYNWzcZnF4jUrxfTR/r8Vvpv76+H0vRysUFiMVCusWaNVba5atbDa7BfEOsqFNV7BuWo1wxo5WjWram433Pjgte6Knk/t+Zb0+hiji3+iAot1zwevdVH3lGo+KjLJYrX271dI16kt+GaK8cp//5kChFXxdkOaqpqw3IgPqR5W93UxVzfVw+pOVTelw7IuOaXDIqduWOYqqm5YRBUNy1ylVQxLVQNUDIsByoVlrsYoFxZj1ArLXA1TKyyGKRSWuRqpUFiMVCUsczVYibBUNV6JsBhv/7DM1RT7h8UUm4dlrmbZPCxm2TksczXRzmGpaqKdw2IiYREhLCKERYSwiBAWEcIiQlhECIsIYREhLCKERYSwiBAWEcIiQlhECIsIYREhLCKERYSwiBAWEcIiQlhECIsIYREhLCKERYSwiBAWEcIiQlhECIsIYREhLCKERYSwiBAWEcIiQlhECIsIYREhLCKERYSwiBAWEcIiQlhECIsIYREhLCKERYSwiBAWEcIiQlhECIsIYREhLCKERYSwiBAWEcIiQlhECIuIP6dUcnEvdsTcAAAAAElFTkSuQmCC\" alt=\"Mol\"/>                O=C1C=CC(=O)C=C1                                                                                                                                                                                                                                                                                                                                                                                                                                                                  <img src=\"data:image/png;base64,iVBORw0KGgoAAAANSUhEUgAAAMgAAADICAIAAAAiOjnJAAADxUlEQVR4nO3d0aoaSQBF0XKY///lngchTBIiGD1dVafWegtcaLW3p1XivY/rugZ82z+zbwCdhEWEsIgQFhHCIkJYRAiLCGERISwihEWEsIgQFhHCIkJYRAiLCGERISwihEWEsIgQFhHCIkJYRAiLCGERISwihEWEsIgQFhHCIkJYRAiLCGERISwihEWEsIgQFhHCIkJYRAiLCGERISwihEWEsIgQFhHCIkJYRAiLCGERISwihEWEsIgQFhHCIkJYRAiLCGERISwihEWEsIgQFhHCIkJYRAiLCGERISwi/p19A+72eDymHPe6rinHneWssB6Px6wTPPHQU7gUEnFQWHM347quWVfhKQ4KizudEtYKL3GOGq1TwuJmR4S1wlw9nTNa/R83vKgqfY4XqXmK/rBemHLin6NV31z5pXDNU3jCBbE8LGZpDmvNuXqqH63msJioNqyV5+qpe7Q6w1q/qnqdYe2ieLQKw9prrlrbKgyLFbSFtddcPVWOVlVYO1bVqiqsffWNVk9Y5mopPWHtrmy0SsIyV6spCatD02g1hNU0VzVtbR9WU1VNtg+rT8do7R2WuVpW+MsUbz7z3vrp4qR+fOHi3el67xFJPoDhsN686W/99Alzte8d/Dis/z+ltn0UFjThW2JfPZWfhfV4/HQLfvln0glzdatvn8oPXrz/fuzrevdF1V/reOv02n33MXAq935X2G3rVd44rBNGa18+bliUjxteSn7cMA74BRv73rUPLoW/v7678V1ht7ufLYFT+dli/XKD/FagfX37VH58KXRGv23a8+SrB934XeEPTW8Pa9a3IazR1VaHkrA61MzVaArLaC2lJ6zdNc3VKAvLaK2jKqx9lc3V6Atrx9Hqq2r0hcUiCsPaa7Qq52pUhjV2a6tSZ1i7aJ2rURzW+qNVXNUoDou5msNaebS652p0h8VE5WGtOVr1czVO+AurL/7vsj/dm9Mf1gtTTvwJczXqL4VP61wQD6lqHBIW9zslrBVG65y5GueExc0OCmvuaB01V+OosLjTWU+jkf/s6k+Oe5xPu8Pcw6WQCGERISwihEWEsIgQFhHCIkJYRAiLCGERISwihEWEsIgQFhHCIkJYRAiLCGERISwihEWEsIgQFhHCIkJYRAiLCGERISwihEWEsIgQFhHCIkJYRAiLCGERISwihEWEsIgQFhHCIkJYRAiLCGERISwihEWEsIgQFhHCIkJYRAiLCGERISwihEWEsIgQFhHCIkJYRAiLCGERISwihEWEsIgQFhHCIkJYRAiLiP8ADFdMhHts5L8AAAAASUVORK5CYII=\" alt=\"Mol\"/>\n",
       "1             c1ccc2sc(SSc3nc4ccccc4s3)nc2c1  <img src=\"data:image/png;base64,iVBORw0KGgoAAAANSUhEUgAAAMgAAADICAIAAAAiOjnJAAAFLElEQVR4nO3cbXKbOhhAYdTpjpL978Broj/UMB4MtpDeIxA5z9wfHt+EEnMqiY80zfM8SdH+nL0DuifDEsKwhDAsIQxLCMMSwrCEMCwhDEsIwxLCsIQwLCEMSwjDEsKwhDAsIQxLCMMSwrCEMCwhDEsIwxLCsIQwLCEMSwjDEsKwhDAsIQxLCMMSwrCEMCwhDEsIwxLCsIQwLCEMSwjDEsKwhDAsIQxLCMMSwrCEMCwhDEsIwxLCsIQwLCEMSwjDEsKwhDAsIQxLCMMSwrCEMCwhDEsIwxLCsIQwLCEMSwjDEsKwhDAsIQxLCMMSwrCEMCwhDEsIwxLCsIQwLCEMSwjDEuLvuX98Sim/mOf53D1RrBPCWmKannpKKdnWnXQ6nJsxvX6Nbd0GeCxLYnr9Ftu6h/gD2bhssq17QNZY5ePT69fP82xbNxB8CD82UTg/2tboepwVViy2HLdGB4bVuNiyraGBYbU3YVvjirylQ0SQ24rdpjo4+ZZOidW49dTZOuL8JSlNS97Pr9XTRcNaDX7P41bJoGhPp7toWJvK59l5Hrutx+P/36Kvr1F/hrCwAhdYr5v6VUv4xyON29Pits9j5UFrUI9HWgatQd02rGkaaSp8zujra87/5TcHLWyAsI7OgwP1lL2f+3Jh7XmllHpeuIlZu6yOfcuSKHaBdf0l/GtVeyv3/P7R5dfqbLrbahUJa/Od/pv6+XaqrfZzt4p1euG3vLk606ctKqy9N49uqmIjq5KgsMpHmvItFMrRbH7gy+uPz5jQbYHXCPbePLSd9rA232n3JqPlf31/T9N+AY2f/PLJ1N3sp9uK3Hp7W1HzYJ9BK/s48OytctoPbXmggVNKocizws0bxi13keN+8rCzoYqzs/lHPi9bfqKQ++uHnm8reTNK8C2dzQddznj6Jb3eom60OimrWLnHHsijo3vnQ8NslFlvtXxv48cXeJslasfqlg3d5kRqICHWWy07UPF4NORlxyrXf9WB9mmLuvLeOKmHLD6WjeRPbbXWSems+3EnX7Hts96CzzkP/j0Iv0z88byp/wMqIVdD2k+f6XGLv1DW9gthLZd8Di2M6m6Y1Gm/GhKyUEPb6nJ1f+cHyC9KdoC79XGK9utq554BFG250y3JtsvE08ERJaQqdJZsbIu76z9YWFPQfYySvKKqQge8lrDAYWagNRbhzVGPCuLKT51DY0zwpkYMq6cLrtWGCGuAJ0g1opF+/auny06FQwxX0w2mwssWEGvvat9lwxp7xLrgAqjF1j2Vjaszq2dvOuxYhbHDmvpeMQ+0+Q9MbEWy9dYI/wjP1fev0HBDVx6c8mdfd00reEk0ytMN+mhu+13txkdzs/o//pOxp8JfsnLfc2hO7PxE2k2mwuEs09/znFi7qd2DWB5T+FQ49oh1A40T4rQ1bh290z/So8nqrPqRrPzCsLSrsK0+iy3DupW9tvr/Lolh3c3rM5XTGRfoDeuGQp6pbN0HwxLBK+9CGJYQhiWEYQlhWEIYlhCGJYRhCWFYQhiWEIYlhGEJYVhCGJYQhiWEYQlhWEIYlhCGJYRhCWFYQhiWEIYlhGEJYVhCGJYQhiWEYQlhWEIYlhCGJYRhCWFYQhiWEIYlhGEJYVhCGJYQhiWEYQlhWEIYlhCGJYRhCWFYQhiWEIYlhGEJYVhCGJYQhiWEYQlhWEIYlhCGJYRhCWFYQhiWEIYlhGEJYVhCGJYQhiWEYQlhWEIYlhCGJYRhCWFYQhiWEIYlhGEJYVhCGJYQ/wBWenRCo70ctgAAAABJRU5ErkJggg==\" alt=\"Mol\"/>  c1ccc2sc(SSc3nc4ccccc4s3)nc2c1  <img src=\"data:image/png;base64,iVBORw0KGgoAAAANSUhEUgAAAMgAAADICAIAAAAiOjnJAAAFFElEQVR4nO3bUXqaQACFUejXHaX7X0GyJvpASo2AIjMXRzznKdFEgfzMAMF+GIYOavv17AXgnIRFhLCIEBYRwiJCWEQIiwhhESEsIoRFhLCIEBYRwiJCWEQIiwhhESEsIoRFhLCIEBYRwiJCWEQIiwhhESEsIoRFhLCIEBYRwiJCWEQIiwhhESEsIoRFhLCIEBYRwiJCWEQIiwhhESEsIoRFhLCIEBYRwiJCWEQIiwhhESEsIoRFhLCIEBYRwiJCWEQIiwhhESEsIoRFhLCIEBYRwiJCWEQIiwhhESEsIoRFhLCIEBYRwiJCWEQIiwhhESEsIoRFhLCIEBYRwiJCWEQIiwhhESEsIoR1Wn3f933/rHf//aw3ruvr63sLfnwMz12SRvR9PwzD+MX4yPjtcQtw5PuNK1n9Hb++ej1N1jZyaOOvOW4qHPehYRhqDdHTKDV+ffnt25o28vypy41/wBR5xIi1uK+UDNFjQ/NR6s2Hrmn6u/HI5VPjF6EA4sdYa+s2PfjQGq4l9ebWdt0bm/Rq+1fPKztiXa3b7XW4++zn53JS8yP3txq6Fgeq7sFWqueVCuvGgm7JqyvepV6orZJT2oemv0dfqkQkrC2LeHcGLD8IeIm25gu5sbMd09/a60wXJpoO69HluxFQ+aq239aNjKan/vz5fuRyFK+1uV4grMJ5ev7rVVa17vbK2bIPrO2EJVs+FFa1s8Lyxbq8UlxxDceLN7svanQtnYReXUwf1Qpi94ZaVCesigsUmpovl3D6w3x+Lvz8mNFhc2hhvlX258SgXucVQ8Np+Qsu9rT9glmXHK52t5vbyBVf+b3C2jchJtoqedmXCOvMt82UVxVSGOs4eVVcnoST3DazYv8fr8Ej99dSb04NXQ7Zfx25m36vyiLVmhMbvIZiKtytwsb6+BjcmbPdOUesn8NV18zBVbWN0/7x+zlHrDarmrR/6F2u9bBe4gxoo2kwONNKrTnzWWEjw9ViQ6Hr3e1oNKwqG/3Iv9r8uH5+S0L3c72GYdidfvUuG/2XTlf1auT8vtM29+x917pma7ezrasPeLV2TlBtxKqyD93+6NLiU8+y+7LW1UA1DKVTdpW8qt9U0tBUuOXmtYvjlfEo+KBlW7T7kx1XMZW31c3uqHn0Xst2p8Ku7FrIvk8ETJk9sbCCmxT2L3bFG7tDRxqREatKVVte5OpHmr0uumjfQHW1v63tfnd/4PZT5Z58a3KtTwT8+8Wu+1dbOqxa/6Xevpx3E1l7dvF306dEkQ9TjF/sGISLj0D/DwPtj1jbXe4w935y08Y/4ES7/lS4ZRDuCqa/t7I9qdHdjR+d/n68Ufo9jtyHplHq0b9Hm8oH3auNf+Sue+A7BT66NHuLVzp4P9JhA9X/dzx+9rlcSdPf5GR7xRMukFb/R8RpnKCnydOuvEtq7kwns63fj8WLElZbxkHrBITVnHNMhU7KiDBiESEsIoRFhLCIEBYRwiJCWEQIiwhhESEsIoRFhLCIEBYRwiJCWEQIiwhhESEsIoRFhLCIEBYRwiJCWEQIiwhhESEsIoRFhLCIEBYRwiJCWEQIiwhhESEsIoRFhLCIEBYRwiJCWEQIiwhhESEsIoRFhLCIEBYRwiJCWEQIiwhhESEsIoRFhLCIEBYRwiJCWEQIiwhhESEsIoRFhLCIEBYRwiJCWEQIiwhhESEsIoRFhLCIEBYRwiJCWEQIiwhhESEsIoRFhLCIEBYRfwFe+TgVCuzHJwAAAABJRU5ErkJggg==\" alt=\"Mol\"/>\n",
       "2  O=[N+]([O-])c1cc(Cl)c(O)c([N+](=O)[O-])c1                                                                          <img src=\"data:image/png;base64,iVBORw0KGgoAAAANSUhEUgAAAMgAAADICAIAAAAiOjnJAAAE90lEQVR4nO3dW5abRhiFUZGVGXn+M0jGRB6UJbeFLtwO9Rfs/SR7tduo+JqiESoN4zjeYG9/td4AzklYRAiLCGERISwihEWEsIgQFhHCIkJYRAiLCGERISwihEWEsIgQFhHCIkJYRAiLCGERISwihEWEsIgQFhHCIkJYRAiLCGERISwihEWEsIgQFhHCIkJYRAiLCGERISwihEWEsIgQFhHCIkJYRAiLCGERISwi/m69ATMMw+/HV/6ssq7GoXxYw/DHID798Tp6G4faU+F0+Mbxjx/ci+hwHGqHRbeERUT5c6wPnuaC2uccV9NzWEoqrPZUOD1FLf/bUESH4zB08Cn2XV2/CepqHHoIiw7VngrplrCI6CSs2leZ4949/cLD0klY9EZYRAiLiD7CGm6Xviby7ulXHpY+wqI7fYTlIm53XHknoo8jFt0RFhHCIkJYRAiLCGERUTqs6Yv3hV/Oz+puKEqHdSs/fEfqaygKhfVy4Eq943douimlhuKrEm//uo/XipcADnuvyj2pcRwfD474X5eo9rad1mENw/BtN91/UluN2lNJ9wet8mo7FIs0Det7VP+bDuhjUlh9tJuxdW/reeRVoa0DhmKFRmFtHoP7Pw39+M48IEVnxvkjFB2K1VqEtWoMjjl1XRpKYmb8mlQXZ/Etwlq7A6YDuuPP6JY49spr0VGq+JIoRe/HOvLAvvfxZs2Qljo92kW5sLYP8fzvMD+pRbksLbXa6dEuKoU149LDkm92u73Pa8VRanku378+ftmiXbM1worNBNOB3bgvV+T17oubXK04TPK5zVl2J39ykbhovuhbvfziZlUdtRZS7OkVWz46sSPX5dXyRaEDd0omrJdb3LSt3BFi6Xl9s+nv2J1S6O6GTt0PQm1vfCjo6mHtEsQ4jvJ60vruhhNpe+PDVntfyBfWznrNa+9NzUyFHS4fva/H5Nh6Q344dqfEjlhPT+NKVT2UO2IduFOSU2G1YeV23E65+m+FhAiLCGERISwihEWEsIgQ1nHOfWffE2ERISwihEWEsIgQFhHCSql1z8zh3Oi3v/7u8gsQ1p4k9XD1sHaM4FLXP7+6eli7cKCaEtYmknrn/GHl3ttu7vvgzEOTW40jsaTRyZwzrM87cvtKRpL66oRhzdzxx6y9dr7hnelcz3z5aluhCi97oHo4UVhr39f7NQJz3wpnCWvzu8W3T1uS+qn/sPZbbHJLGVc+nXqp8+EILGuxNBEHqpc6DytjZiuS+qB1WK/Wy3792Va3o1cZ+XoxTFIf1H5Jp+nSy+8+O86Bao7CYU0zGht8DuTPFxklNV/hsMpo+LGX/SoQ1rXvDT+rAmFNT97pn3fpEFE4rMsvvdy1AlPhB5Ze7lbrsKatTC8x0KHCU2E1/7TegK4IiwhhESEsIoRFhLCIEBYRwiJCWES4x4gIRywihEWEsIgQFhHCIkJYRLS+0a+84d/ft7COv8bHXz4e85KwPnkKSE/zmQrfmmakqvmERYSwiBAWEcIiQlhvjb/Gn9cabn9eeuAzlxs+eWrLb4XzuR+LCFMhEcIiQlhECIsIYREhLCKERYSwiBAWEcIiQlhECIsIYREhLCKERYSwiBAWEcIiQlhECIsIYREhLCKERYSwiBAWEcIiQlhECIsIYREhLCKERYSwiBAWEcIiQlhECIsIYREhLCKERYSwiBAWEf8BfAphYHmL1kcAAAAASUVORK5CYII=\" alt=\"Mol\"/>                        c1ccccc1                                                                                                                                                                                                                                                                                                                                                                                                                                                                                                                                                              <img src=\"data:image/png;base64,iVBORw0KGgoAAAANSUhEUgAAAMgAAADICAIAAAAiOjnJAAADf0lEQVR4nO3cQW6cQBiEUYhy/yuTxWyiLFAWrun+q9+7wID5KEbI9v08zwU/7dfqA6CTsIgQFhHCIkJYRAiLCGERISwihEWEsIgQFhHCIkJYRAiLCGERISwihEWEsIgQFhHCIkJYRAiLCGERISwihEWEsIgQFhHCIkJYRAiLCGERISwihEWEsIgQFhHCIkJYRAiLCGERISwihEWEsIgQFhHCIkJYRAiLCGERISwihEWEsIgQFhHCIkJYRAiLCGERISwihEWEsIgQFhHCIkJYRAiLCGERISwihEXE79UH8G33fS/53Od5lnzuKmeFdd/3qgu88KOX8Cgk4qCw1m7G8zyrnsJLHBQW33RKWDt8xTlqtE4Jiy87Iqwd5urjnNHqf93wUlX6Gm9S8xL9Yb1YcuE/o1XfXPmjcM9LeMIDsTwsVmkOa8+5+qgfreawWKg2rJ3n6qN7tDrD2r+qep1hTVE8WoVhzZqr1rYKw2IHbWHNmquPytGqCmtiVa2qwpqrb7R6wjJXW+kJa7qy0SoJy1ztpiSsDk2j1RBW01zVtDU+rKaqmowPq0/HaM0Oy1xta3ZYrQpGa3BY5mpng8PqNn20poa18M9Qf9y4A/4fU8N6uaFn3esvd8isE/nH1LBOMPpL5OCwCkZrdDrvBofVbXpzs8MaPVrT03k3O6xWBc2ND2voaBWk8258WH06mmsIa9xovb/dLajq6gjrGtVWTTrvSsLq0NRcT1gjRqspnXc9YU1X1lxVWJuPVlk676rCmquvubawth2tE14x/K0tLDZRGNaGo3XaXF2VYV2btdWazrvOsKYobq42rE1G68CH4EdtWKzVHNby0Tp2rq7usFioPKyFo3XyXF31YV2rX7gfqz+sF7nmDp+r67qOOMlrm8u5yWF8wdGLRc4pYe3wTeucubrOCYsvOyisbX8fq9JBYfFNZ91G17p/n3fcz/m0E+Y7PAqJEBYRwiJCWEQIiwhhESEsIoRFhLCIEBYRwiJCWEQIiwhhESEsIoRFhLCIEBYRwiJCWEQIiwhhESEsIoRFhLCIEBYRwiJCWEQIiwhhESEsIoRFhLCIEBYRwiJCWEQIiwhhESEsIoRFhLCIEBYRwiJCWEQIiwhhESEsIoRFhLCIEBYRwiJCWEQIiwhhESEsIoRFhLCIEBYRwiJCWEQIiwhhESEsIoRFhLCI+ANcz1SYoIL0pAAAAABJRU5ErkJggg==\" alt=\"Mol\"/>\n",
       "3                 N=c1[nH]cc([N+](=O)[O-])s1                                                                                                                                                                                                                                                                      <img src=\"data:image/png;base64,iVBORw0KGgoAAAANSUhEUgAAAMgAAADICAIAAAAiOjnJAAAEaUlEQVR4nO3dUXLaMABFUbvTHWX/S2BN6gcT6tpAKPhZknXO5KOQBtJwKwnFhrmUMsHeftX+BjgnYREhLCKERYSwiBAWEcIiQlhECIsIYREhLCKERYSwiBAWEcIiQlhECIsIYREhLCKERYSwiBAWEcIiQlhECIsIYREhLCKERYSwiBAWEcIiQlhECIsIYREhLCKERYSwiBAWEcIiQlhECIsIYREhLCKERYSwiBAWEcIiQlhECIsIYREhLCKERYSwiBAWEcIiQlhECIsIYREhLCKERYSwiBAWEcIiQlhEjBXWPD+85smneMNYYU1yOcpwYZWirSMMFxbH+F37G6jgOmiVsr7eSLajEcOaHrS1urjq7HZxWyRbg4b1hltP34XN0zQVlT0wblhvr+K/WyrTNM3fN6GwlaEX75/HUEqR1F1jhbVt4HbNk0/xhrHC+tzsqeNrRglLDwcbIqy7u1ZEDREWxzt/WAcMV6UUa6+Vk4dlEqzl5GHtzuD0ojOHNc+z4aqWM4dFRacNa55nv2yp6Ay/hF4tevTUgm7C2qyY/17elmS4qq7dsFYlbTrRTdPaDevtEcdw1YLTLt6pKxtWlRNE7WG2oOaIlXv0o23dvXE1r9RcYz06DesN2x2H6yNtsVVLu4v3rf/acZi+RxFtVRGfCuf5n4+V56fKrL62lNXHX49uoZRyuZihKoiHtarh7l941NaPX/uKr69h2nryP/hwQ2w37N5Wi9Prakiv3VYTYR3wczhm3Kr2xPDu6wVUbauVxXvtn8NHrj1dh7Hln3P3N02tn/c41pOmy2X++trz3/sooyPy+vf+7r96Tr0Hd6ywpv3aeiWd4/JqL6wm1lhH+ryqy2W+bo/9WMxtn/bDe+zRcCPWJ67L/zfSPGJRtBqfap+fJKyXvJ3UUjyv5dBY+2EV1g92SWqp9lBykFa2Gxq0e1JXt42VffJqtdPRR6zlrunuDT3XahL7GHrEWm097L7L9dyJq5oG3G544uARa+l8b7hiKowspP7XdtXV+0Q5elhX1fO6ZrSMSVjncfAaa+nHsLrrbOg1VmsHAHZ9iMfK0GE1aNvW7YDQNo4MfdXoU2HFfayl7STY+1Q4eliN2GY0df4k0VTYohO8TYYRiwgjFhHCIkJYTetof2FFWE3rd8tUWK0rU5dlCat5fY5awupBh1tCwiJCWEQIiwhhESEsIoRFxNDnFXappRdoeEJYXennuFJTYT/ae6HRJ4RFhLCIsMY6i5/eOPRgwjqL2iWtmAr7cfdk1sZ6ujFidWXVVqtVTcLqT8MxLZkKiRAWEcIiQlhECIsIYREhLCKERYSwiBAWEcIiQlhECIsIYREhLCKERYSwiBAWEcIiQlhECIsIYREhLCKERYSwiBAWEcIiQlhECIsIYREhLCKERYSwiBAWEcIiQlhECIsIYREhLCKERYSwiBAWEcIiQlhECIsIYREhLCKERYSwiBAWEcIiQlhECIsIYREhLCKERYSwiBAWEcIi4g99W5gIxcY6vAAAAABJRU5ErkJggg==\" alt=\"Mol\"/>                    N=c1[nH]ccs1                                                                                                                                                                                                                                                                                                                                                                                                                                                                                                  <img src=\"data:image/png;base64,iVBORw0KGgoAAAANSUhEUgAAAMgAAADICAIAAAAiOjnJAAADrUlEQVR4nO3cUXLaMBiFUbvTHWX/Oyhrch+ccWlIwDa6lmSf84Z5IZNvfglhGKdpGqC0X7VfAOckLCKERYSwiBAWEcIiQlhECIsIYREhLCKERYSwiBAWEcIiQlhECIsIYREhLCKERYSwiBAWEcIiQlhECIsIYREhLCKERYSwiBAWEcIiQlhECIsIYREhLCKERYSwiBAWEcIiQlhECIsIYREhLCKERYSwiBAWEcIiQlhECIsIYREhLCKERYSwiBAWEcIiQlhECIsIYREhLCKERYSwiBAWEcIiQlhECIsIYREhLCIuHdY4/njlyVOscemwBrnEXD2sadJWxNXDIuR37RdwqHk4TdN/F+eh9eXiYJV8zyXCWhJ5rGe5/tjWl4c62+TMYb3siZwThrWvJ7v4ss4T1vvzSVsFjVPn68T42ULvf8fZdDmxxrvBIqg29RTW0pOY2td6WHWH07fnW6zRblhzUnWH009np7zU9Ec6lrx+NR1WC5xB7COs17S1Q2dhjf7DnegsrFoMra2EtZa2NhHWBtpaT1hECGsbQ2slYW02Td6cviYsIoS1xzRNhtZzwtpJW88Jaz9tPSEsItq9H6sL89Cab+/ZPr223RTU1z1EwnrX0pa7x+5ZCgs4eLPVxa8vCatL7b9nEFYZBw+t9j9ZElYZyxaemc17AVWqavzXl4RVzPHHDS3/+pKw3rWMK0vhPXust1TfWjW7ixfWftWrmjXwEr4hrJ0qVvXtZuvlUwcTFhHC2qORRbBlwtpMVWsIa5vbTVWrCIsIYW1wu40fH8bVKsJaS1WbCGsVVW3VWVg2zr3oLKwqjKsdhPWCqvZpOqzqXwdV1W7t3o/1+GU9G6yO9HSOfHBkxtU7egrrnknWuF7DujeO458/wzAMBkw7zhDW4nb7HGMKq+5UYS3mwuRV0TnDmhlgFZ05rIXCjneJsBaWyMNcK6xHyzAbBFdUuyfvB/hyBOpEtKCmPys8mKoKshTadUVcPayZvIoT1j/2WAVdeo91/5aQsi4dFjlXXwqdY4VcPSxCLIVECIsIYREhLCKERYSwiBAWEcIiQlhECIsIYREhLCKERYSwiBAWEcIiQlhECIsIYREhLCKERYSwiBAWEcIiQlhECIsIYREhLCKERYSwiBAWEcIiQlhECIsIYREhLCKERYSwiBAWEcIiQlhECIsIYREhLCKERYSwiBAWEcIiQlhECIsIYREhLCKERYSwiBAWEcIiQlhECIsIYREhLCKERcRfaMwbDiIO0swAAAAASUVORK5CYII=\" alt=\"Mol\"/>"
      ]
     },
     "execution_count": 3,
     "metadata": {},
     "output_type": "execute_result"
    }
   ],
   "source": [
    "frame = PandasTools.LoadSDF(sdf_file, smilesName='SMILES', molColName='Molecule', includeFingerprints=False)\n",
    "PandasTools.AddMurckoToFrame(frame, molCol='Molecule', MurckoCol='Murcko_SMILES')\n",
    "PandasTools.AddMoleculeColumnToFrame(frame, 'Murcko_SMILES', 'Murcko_scaffold')\n",
    "frame.loc[:3, ['SMILES', 'Molecule', 'Murcko_SMILES', 'Murcko_scaffold']]"
   ]
  },
  {
   "cell_type": "markdown",
   "metadata": {},
   "source": [
    "### 2. Murcko_scaffoldの抽出"
   ]
  },
  {
   "cell_type": "markdown",
   "metadata": {},
   "source": [
    "Murcko_scaffoldをMolオブジェクトとして取り出すには [GetScaffoldForMol関数](http://www.rdkit.org/Python_Docs/rdkit.Chem.Scaffolds.MurckoScaffold-module.html#GetScaffoldForMol) を用いる。  \n",
    "例として上のデータフレームのID 3の化学構造に対して関数を適用してみる。"
   ]
  },
  {
   "cell_type": "code",
   "execution_count": 4,
   "metadata": {},
   "outputs": [],
   "source": [
    "smiles = 'N=c1[nH]cc([N+](=O)[O-])s1'\n",
    "mol = Chem.MolFromSmiles(smiles)\n",
    "scaffold = GetScaffoldForMol(mol)"
   ]
  },
  {
   "cell_type": "markdown",
   "metadata": {},
   "source": [
    "確認のため図にしてみる。"
   ]
  },
  {
   "cell_type": "code",
   "execution_count": 5,
   "metadata": {},
   "outputs": [
    {
     "data": {
      "image/svg+xml": [
       "<svg baseProfile=\"full\" height=\"200px\" version=\"1.1\" width=\"600px\" xml:space=\"preserve\" xmlns:rdkit=\"http://www.rdkit.org/xml\" xmlns:svg=\"http://www.w3.org/2000/svg\" xmlns:xlink=\"http://www.w3.org/1999/xlink\">\n",
       "<g transform=\"translate(0,0)\"><rect height=\"200\" style=\"opacity:1.0;fill:#FFFFFF;stroke:none\" width=\"200\" x=\"0\" y=\"0\"> </rect>\n",
       "<path d=\"M 161.535,110.308 150.561,105.141\" style=\"fill:none;fill-rule:evenodd;stroke:#0000FF;stroke-width:2px;stroke-linecap:butt;stroke-linejoin:miter;stroke-opacity:1\"/>\n",
       "<path d=\"M 150.561,105.141 139.587,99.9744\" style=\"fill:none;fill-rule:evenodd;stroke:#000000;stroke-width:2px;stroke-linecap:butt;stroke-linejoin:miter;stroke-opacity:1\"/>\n",
       "<path d=\"M 158.499,116.758 147.525,111.591\" style=\"fill:none;fill-rule:evenodd;stroke:#0000FF;stroke-width:2px;stroke-linecap:butt;stroke-linejoin:miter;stroke-opacity:1\"/>\n",
       "<path d=\"M 147.525,111.591 136.55,106.424\" style=\"fill:none;fill-rule:evenodd;stroke:#000000;stroke-width:2px;stroke-linecap:butt;stroke-linejoin:miter;stroke-opacity:1\"/>\n",
       "<path d=\"M 138.068,103.199 135.299,88.6635\" style=\"fill:none;fill-rule:evenodd;stroke:#000000;stroke-width:2px;stroke-linecap:butt;stroke-linejoin:miter;stroke-opacity:1\"/>\n",
       "<path d=\"M 135.299,88.6635 132.529,74.1279\" style=\"fill:none;fill-rule:evenodd;stroke:#0000FF;stroke-width:2px;stroke-linecap:butt;stroke-linejoin:miter;stroke-opacity:1\"/>\n",
       "<path d=\"M 138.068,103.199 124.829,110.474\" style=\"fill:none;fill-rule:evenodd;stroke:#000000;stroke-width:2px;stroke-linecap:butt;stroke-linejoin:miter;stroke-opacity:1\"/>\n",
       "<path d=\"M 124.829,110.474 111.589,117.749\" style=\"fill:none;fill-rule:evenodd;stroke:#CCCC00;stroke-width:2px;stroke-linecap:butt;stroke-linejoin:miter;stroke-opacity:1\"/>\n",
       "<path d=\"M 121.1,66.8847 108.569,65.299\" style=\"fill:none;fill-rule:evenodd;stroke:#0000FF;stroke-width:2px;stroke-linecap:butt;stroke-linejoin:miter;stroke-opacity:1\"/>\n",
       "<path d=\"M 108.569,65.299 96.038,63.7133\" style=\"fill:none;fill-rule:evenodd;stroke:#000000;stroke-width:2px;stroke-linecap:butt;stroke-linejoin:miter;stroke-opacity:1\"/>\n",
       "<path d=\"M 96.038,63.7133 80.856,95.9593\" style=\"fill:none;fill-rule:evenodd;stroke:#000000;stroke-width:2px;stroke-linecap:butt;stroke-linejoin:miter;stroke-opacity:1\"/>\n",
       "<path d=\"M 100.21,71.5866 89.5825,94.1588\" style=\"fill:none;fill-rule:evenodd;stroke:#000000;stroke-width:2px;stroke-linecap:butt;stroke-linejoin:miter;stroke-opacity:1\"/>\n",
       "<path d=\"M 80.856,95.9593 66.9658,98.6059\" style=\"fill:none;fill-rule:evenodd;stroke:#000000;stroke-width:2px;stroke-linecap:butt;stroke-linejoin:miter;stroke-opacity:1\"/>\n",
       "<path d=\"M 66.9658,98.6059 53.0756,101.253\" style=\"fill:none;fill-rule:evenodd;stroke:#0000FF;stroke-width:2px;stroke-linecap:butt;stroke-linejoin:miter;stroke-opacity:1\"/>\n",
       "<path d=\"M 80.856,95.9593 91.4659,105.927\" style=\"fill:none;fill-rule:evenodd;stroke:#000000;stroke-width:2px;stroke-linecap:butt;stroke-linejoin:miter;stroke-opacity:1\"/>\n",
       "<path d=\"M 91.4659,105.927 102.076,115.894\" style=\"fill:none;fill-rule:evenodd;stroke:#CCCC00;stroke-width:2px;stroke-linecap:butt;stroke-linejoin:miter;stroke-opacity:1\"/>\n",
       "<path d=\"M 40.202,107.992 36.5114,118.583\" style=\"fill:none;fill-rule:evenodd;stroke:#0000FF;stroke-width:2px;stroke-linecap:butt;stroke-linejoin:miter;stroke-opacity:1\"/>\n",
       "<path d=\"M 36.5114,118.583 32.8207,129.174\" style=\"fill:none;fill-rule:evenodd;stroke:#FF0000;stroke-width:2px;stroke-linecap:butt;stroke-linejoin:miter;stroke-opacity:1\"/>\n",
       "<path d=\"M 46.9333,110.337 43.2426,120.928\" style=\"fill:none;fill-rule:evenodd;stroke:#0000FF;stroke-width:2px;stroke-linecap:butt;stroke-linejoin:miter;stroke-opacity:1\"/>\n",
       "<path d=\"M 43.2426,120.928 39.552,131.519\" style=\"fill:none;fill-rule:evenodd;stroke:#FF0000;stroke-width:2px;stroke-linecap:butt;stroke-linejoin:miter;stroke-opacity:1\"/>\n",
       "<path d=\"M 40.2068,96.0962 34.2031,89.1379\" style=\"fill:none;fill-rule:evenodd;stroke:#0000FF;stroke-width:2px;stroke-linecap:butt;stroke-linejoin:miter;stroke-opacity:1\"/>\n",
       "<path d=\"M 34.2031,89.1379 28.1994,82.1795\" style=\"fill:none;fill-rule:evenodd;stroke:#FF0000;stroke-width:2px;stroke-linecap:butt;stroke-linejoin:miter;stroke-opacity:1\"/>\n",
       "<text style=\"font-size:11px;font-style:normal;font-weight:normal;fill-opacity:1;stroke:none;font-family:sans-serif;text-anchor:start;fill:#0000FF\" x=\"160.017\" y=\"124.321\"><tspan>NH</tspan></text>\n",
       "<text style=\"font-size:11px;font-style:normal;font-weight:normal;fill-opacity:1;stroke:none;font-family:sans-serif;text-anchor:start;fill:#0000FF\" x=\"121.1\" y=\"74.1279\"><tspan>NH</tspan></text>\n",
       "<text style=\"font-size:11px;font-style:normal;font-weight:normal;fill-opacity:1;stroke:none;font-family:sans-serif;text-anchor:start;fill:#0000FF\" x=\"38.6137\" y=\"109.165\"><tspan>N</tspan><tspan style=\"baseline-shift:super;font-size:8.25px;\">+</tspan><tspan/></text>\n",
       "<text style=\"font-size:11px;font-style:normal;font-weight:normal;fill-opacity:1;stroke:none;font-family:sans-serif;text-anchor:start;fill:#FF0000\" x=\"28.5684\" y=\"142.227\"><tspan>O</tspan></text>\n",
       "<text style=\"font-size:11px;font-style:normal;font-weight:normal;fill-opacity:1;stroke:none;font-family:sans-serif;text-anchor:start;fill:#FF0000\" x=\"15.8262\" y=\"82.1795\"><tspan>O</tspan><tspan style=\"baseline-shift:super;font-size:8.25px;\">-</tspan><tspan/></text>\n",
       "<text style=\"font-size:11px;font-style:normal;font-weight:normal;fill-opacity:1;stroke:none;font-family:sans-serif;text-anchor:start;fill:#CCCC00\" x=\"102.076\" y=\"126.303\"><tspan>S</tspan></text>\n",
       "<text style=\"font-size:12px;font-style:normal;font-weight:normal;fill-opacity:1;stroke:none;font-family:sans-serif;text-anchor:start;fill:#000000\" x=\"88.3962\" y=\"194\"><tspan>mol</tspan></text>\n",
       "</g>\n",
       "<g transform=\"translate(200,0)\"><rect height=\"200\" style=\"opacity:1.0;fill:#FFFFFF;stroke:none\" width=\"200\" x=\"0\" y=\"0\"> </rect>\n",
       "<path d=\"M 140.345,94.1663 119.604,94.1663\" style=\"fill:none;fill-rule:evenodd;stroke:#0000FF;stroke-width:2px;stroke-linecap:butt;stroke-linejoin:miter;stroke-opacity:1\"/>\n",
       "<path d=\"M 119.604,94.1663 98.8627,94.1663\" style=\"fill:none;fill-rule:evenodd;stroke:#000000;stroke-width:2px;stroke-linecap:butt;stroke-linejoin:miter;stroke-opacity:1\"/>\n",
       "<path d=\"M 140.345,105.834 119.604,105.834\" style=\"fill:none;fill-rule:evenodd;stroke:#0000FF;stroke-width:2px;stroke-linecap:butt;stroke-linejoin:miter;stroke-opacity:1\"/>\n",
       "<path d=\"M 119.604,105.834 98.8627,105.834\" style=\"fill:none;fill-rule:evenodd;stroke:#000000;stroke-width:2px;stroke-linecap:butt;stroke-linejoin:miter;stroke-opacity:1\"/>\n",
       "<path d=\"M 98.8627,100 85.2499,81.2635\" style=\"fill:none;fill-rule:evenodd;stroke:#000000;stroke-width:2px;stroke-linecap:butt;stroke-linejoin:miter;stroke-opacity:1\"/>\n",
       "<path d=\"M 85.2499,81.2635 71.637,62.527\" style=\"fill:none;fill-rule:evenodd;stroke:#0000FF;stroke-width:2px;stroke-linecap:butt;stroke-linejoin:miter;stroke-opacity:1\"/>\n",
       "<path d=\"M 98.8627,100 85.2499,118.736\" style=\"fill:none;fill-rule:evenodd;stroke:#000000;stroke-width:2px;stroke-linecap:butt;stroke-linejoin:miter;stroke-opacity:1\"/>\n",
       "<path d=\"M 85.2499,118.736 71.637,137.473\" style=\"fill:none;fill-rule:evenodd;stroke:#CCCC00;stroke-width:2px;stroke-linecap:butt;stroke-linejoin:miter;stroke-opacity:1\"/>\n",
       "<path d=\"M 47.7184,58.2805 28.4047,64.5559\" style=\"fill:none;fill-rule:evenodd;stroke:#0000FF;stroke-width:2px;stroke-linecap:butt;stroke-linejoin:miter;stroke-opacity:1\"/>\n",
       "<path d=\"M 28.4047,64.5559 9.09091,70.8314\" style=\"fill:none;fill-rule:evenodd;stroke:#000000;stroke-width:2px;stroke-linecap:butt;stroke-linejoin:miter;stroke-opacity:1\"/>\n",
       "<path d=\"M 9.09091,70.8314 9.09091,129.169\" style=\"fill:none;fill-rule:evenodd;stroke:#000000;stroke-width:2px;stroke-linecap:butt;stroke-linejoin:miter;stroke-opacity:1\"/>\n",
       "<path d=\"M 20.7584,79.582 20.7584,120.418\" style=\"fill:none;fill-rule:evenodd;stroke:#000000;stroke-width:2px;stroke-linecap:butt;stroke-linejoin:miter;stroke-opacity:1\"/>\n",
       "<path d=\"M 9.09091,129.169 32.9393,136.917\" style=\"fill:none;fill-rule:evenodd;stroke:#000000;stroke-width:2px;stroke-linecap:butt;stroke-linejoin:miter;stroke-opacity:1\"/>\n",
       "<path d=\"M 32.9393,136.917 56.7876,144.666\" style=\"fill:none;fill-rule:evenodd;stroke:#CCCC00;stroke-width:2px;stroke-linecap:butt;stroke-linejoin:miter;stroke-opacity:1\"/>\n",
       "<text style=\"font-size:19px;font-style:normal;font-weight:normal;fill-opacity:1;stroke:none;font-family:sans-serif;text-anchor:start;fill:#0000FF\" x=\"140.345\" y=\"109.723\"><tspan>NH</tspan></text>\n",
       "<text style=\"font-size:19px;font-style:normal;font-weight:normal;fill-opacity:1;stroke:none;font-family:sans-serif;text-anchor:start;fill:#0000FF\" x=\"47.7184\" y=\"62.527\"><tspan>NH</tspan></text>\n",
       "<text style=\"font-size:19px;font-style:normal;font-weight:normal;fill-opacity:1;stroke:none;font-family:sans-serif;text-anchor:start;fill:#CCCC00\" x=\"56.7876\" y=\"156.919\"><tspan>S</tspan></text>\n",
       "<text style=\"font-size:12px;font-style:normal;font-weight:normal;fill-opacity:1;stroke:none;font-family:sans-serif;text-anchor:start;fill:#000000\" x=\"75.1789\" y=\"194\"><tspan>scaffold</tspan></text>\n",
       "</g>\n",
       "<g transform=\"translate(400,0)\"><rect height=\"200\" style=\"opacity:1.0;fill:#FFFFFF;stroke:none\" width=\"200\" x=\"0\" y=\"0\"> </rect>\n",
       "</g></svg>"
      ],
      "text/plain": [
       "<IPython.core.display.SVG object>"
      ]
     },
     "execution_count": 5,
     "metadata": {},
     "output_type": "execute_result"
    }
   ],
   "source": [
    "Draw.MolsToGridImage([mol, scaffold], legends=['mol', 'scaffold'])"
   ]
  },
  {
   "cell_type": "markdown",
   "metadata": {},
   "source": [
    "データフレームで記述されている図と同様であり正常に機能しているようだ。"
   ]
  },
  {
   "cell_type": "markdown",
   "metadata": {},
   "source": [
    "#### 2.1 scaffold原子のindex情報の抽出"
   ]
  },
  {
   "cell_type": "markdown",
   "metadata": {},
   "source": [
    "得られたscaffoldの分子中の原子のindex情報を取り出すには `GetIdx` メソッドを用いる。"
   ]
  },
  {
   "cell_type": "code",
   "execution_count": 6,
   "metadata": {},
   "outputs": [
    {
     "name": "stdout",
     "output_type": "stream",
     "text": [
      "0 N\n",
      "1 C\n",
      "2 N\n",
      "3 C\n",
      "4 C\n",
      "5 S\n"
     ]
    }
   ],
   "source": [
    "atoms = scaffold.GetAtoms()\n",
    "for atom in atoms:\n",
    "    print(atom.GetIdx(), atom.GetSymbol())"
   ]
  },
  {
   "cell_type": "code",
   "execution_count": 7,
   "metadata": {},
   "outputs": [
    {
     "name": "stdout",
     "output_type": "stream",
     "text": [
      "0 N\n",
      "1 C\n",
      "2 N\n",
      "3 C\n",
      "4 C\n",
      "5 N\n",
      "6 O\n",
      "7 O\n",
      "8 S\n"
     ]
    }
   ],
   "source": [
    "atoms = mol.GetAtoms()\n",
    "for atom in atoms:\n",
    "    print(atom.GetIdx(), atom.GetSymbol())"
   ]
  },
  {
   "cell_type": "markdown",
   "metadata": {},
   "source": [
    "`GetSymbol` メソッドの結果も同時に出力することでmolとscaffoldでindexが対応していないことがわかる。  \n",
    "どうやらscaffoldのmolオブジェクトは新規に作成されているようだ。対応してないとプログラムを作成する際にかなり厄介である。"
   ]
  },
  {
   "cell_type": "markdown",
   "metadata": {},
   "source": [
    "そこで`GetScaffoldForMol`関数の[ソースコード](http://www.rdkit.org/Python_Docs/rdkit.Chem.Scaffolds.MurckoScaffold-pysrc.html#GetScaffoldForMol)を調べてみると、[Chem.MurckoDecompose](http://www.rdkit.org/Python_Docs/rdkit.Chem.rdmolops-module.html#MurckoDecompose)関数を最初に実行しているようである。"
   ]
  },
  {
   "cell_type": "code",
   "execution_count": 8,
   "metadata": {},
   "outputs": [
    {
     "name": "stdout",
     "output_type": "stream",
     "text": [
      "0 N\n",
      "1 C\n",
      "2 N\n",
      "3 C\n",
      "4 C\n",
      "5 S\n"
     ]
    }
   ],
   "source": [
    "test_scaffold = MurckoDecompose(mol)\n",
    "atoms = test_scaffold.GetAtoms()\n",
    "for atom in atoms:\n",
    "    print(atom.GetIdx(), atom.GetSymbol())"
   ]
  },
  {
   "cell_type": "markdown",
   "metadata": {},
   "source": [
    "この時点で既にIDの情報が更新されているようだ。[Chem.MurckoDecompose](http://www.rdkit.org/Python_Docs/rdkit.Chem.rdmolops-module.html#MurckoDecompose)関数のソースコードはC++らしくこれ以上詳しく調べるのはやめる。  \n",
    "色々googlingしたところ[こちらのサイト](http://cheminformist.itmol.com/TEST/?p=571)のスクリプト例を真似るのがよさそうなので一度試してみる。"
   ]
  },
  {
   "cell_type": "markdown",
   "metadata": {},
   "source": [
    "得られたscaffoldに対してmolオブジェクトの`GetSubstructMatch`メソッドを実行してマッチする原子のIDを取り出す。"
   ]
  },
  {
   "cell_type": "code",
   "execution_count": 9,
   "metadata": {},
   "outputs": [
    {
     "data": {
      "text/plain": [
       "(0, 1, 2, 3, 4, 8)"
      ]
     },
     "execution_count": 9,
     "metadata": {},
     "output_type": "execute_result"
    }
   ],
   "source": [
    "scaffold_atom_indices = mol.GetSubstructMatch(scaffold)\n",
    "scaffold_atom_indices"
   ]
  },
  {
   "cell_type": "markdown",
   "metadata": {},
   "source": [
    "In[7]と比較したところ正しく取り出せているのでこの手法でオリジナルの分子のindexを取り出すことにする。"
   ]
  },
  {
   "cell_type": "markdown",
   "metadata": {},
   "source": [
    "### 3. scaffoldからscaffold外に伸びている結合の抽出"
   ]
  },
  {
   "cell_type": "markdown",
   "metadata": {},
   "source": [
    "#### 3.1 試行実験"
   ]
  },
  {
   "cell_type": "markdown",
   "metadata": {},
   "source": [
    "続けてscaffoldの各原子の結合を取り出す。以下では例としてindex0の原子について作業をすすめる。"
   ]
  },
  {
   "cell_type": "code",
   "execution_count": 10,
   "metadata": {},
   "outputs": [],
   "source": [
    "atoms = mol.GetAtoms()\n",
    "atom = atoms[0]"
   ]
  },
  {
   "cell_type": "markdown",
   "metadata": {},
   "source": [
    "原子に結合する結合を取り出すには`GetBonds`メソッドを用いる。"
   ]
  },
  {
   "cell_type": "code",
   "execution_count": 11,
   "metadata": {},
   "outputs": [
    {
     "data": {
      "text/plain": [
       "(<rdkit.Chem.rdchem.Bond at 0x7fd8f2e28cb0>,)"
      ]
     },
     "execution_count": 11,
     "metadata": {},
     "output_type": "execute_result"
    }
   ],
   "source": [
    "bonds = atom.GetBonds()\n",
    "bonds"
   ]
  },
  {
   "cell_type": "markdown",
   "metadata": {},
   "source": [
    "得られた結合のもう一つの原子のindexは`GetOtherAtomIdx`メソッドを用いることで取り出せる。"
   ]
  },
  {
   "cell_type": "code",
   "execution_count": 12,
   "metadata": {},
   "outputs": [
    {
     "data": {
      "text/plain": [
       "1"
      ]
     },
     "execution_count": 12,
     "metadata": {},
     "output_type": "execute_result"
    }
   ],
   "source": [
    "bond = bonds[0]\n",
    "bond.GetOtherAtomIdx(0)"
   ]
  },
  {
   "cell_type": "markdown",
   "metadata": {},
   "source": [
    "この結合はindex0, 1の原子の間の結合だとわかる。そしてscaffold_atom_indicesにどちらも含まれているのでこの結合はscaffold内の結合である。"
   ]
  },
  {
   "cell_type": "code",
   "execution_count": 13,
   "metadata": {},
   "outputs": [
    {
     "data": {
      "text/plain": [
       "True"
      ]
     },
     "execution_count": 13,
     "metadata": {},
     "output_type": "execute_result"
    }
   ],
   "source": [
    "bond.GetOtherAtomIdx(0) in scaffold_atom_indices"
   ]
  },
  {
   "cell_type": "markdown",
   "metadata": {},
   "source": [
    "#### 3.2 抽出をするスクリプトのまとめ"
   ]
  },
  {
   "cell_type": "markdown",
   "metadata": {},
   "source": [
    "以上のことを踏まえると以下のようにコードを書くことでscaffoldからscaffold外に伸びている結合を取り出せる。"
   ]
  },
  {
   "cell_type": "code",
   "execution_count": 14,
   "metadata": {},
   "outputs": [],
   "source": [
    "boundary_bonds = []\n",
    "for atom_idx in scaffold_atom_indices:\n",
    "    for bond in mol.GetAtomWithIdx(atom_idx).GetBonds():\n",
    "        if bond.GetOtherAtomIdx(atom_idx) not in scaffold_atom_indices:\n",
    "            boundary_bonds.append(bond)            "
   ]
  },
  {
   "cell_type": "code",
   "execution_count": 15,
   "metadata": {},
   "outputs": [
    {
     "name": "stdout",
     "output_type": "stream",
     "text": [
      "4\n"
     ]
    }
   ],
   "source": [
    "for bond in boundary_bonds:\n",
    "    print(bond.GetIdx())"
   ]
  },
  {
   "cell_type": "markdown",
   "metadata": {},
   "source": [
    "内包表記を使って書くと以下のようになる。"
   ]
  },
  {
   "cell_type": "code",
   "execution_count": 16,
   "metadata": {},
   "outputs": [],
   "source": [
    "boundary_bonds = [bond for atom_idx in scaffold_atom_indices for bond in mol.GetAtomWithIdx(atom_idx).GetBonds()\n",
    "                                                                                                if bond.GetOtherAtomIdx(atom_idx) not in scaffold_atom_indices]"
   ]
  },
  {
   "cell_type": "code",
   "execution_count": 17,
   "metadata": {},
   "outputs": [
    {
     "name": "stdout",
     "output_type": "stream",
     "text": [
      "4\n"
     ]
    }
   ],
   "source": [
    "for bond in boundary_bonds:\n",
    "    print(bond.GetIdx())"
   ]
  },
  {
   "cell_type": "code",
   "execution_count": 18,
   "metadata": {
    "scrolled": false
   },
   "outputs": [
    {
     "data": {
      "image/svg+xml": [
       "<svg baseProfile=\"full\" height=\"200px\" version=\"1.1\" width=\"400px\" xml:space=\"preserve\" xmlns:rdkit=\"http://www.rdkit.org/xml\" xmlns:svg=\"http://www.w3.org/2000/svg\" xmlns:xlink=\"http://www.w3.org/1999/xlink\">\n",
       "<rect height=\"200\" style=\"opacity:1.0;fill:#FFFFFF;stroke:none\" width=\"400\" x=\"0\" y=\"0\"> </rect>\n",
       "<path d=\"M 161.712,91.9185 91.6893,105.261\" style=\"fill:none;fill-rule:evenodd;stroke:#FF7F7F;stroke-width:16px;stroke-linecap:butt;stroke-linejoin:miter;stroke-opacity:1\"/>\n",
       "<path d=\"M 330.664,124.192 304.919,112.07\" style=\"fill:none;fill-rule:evenodd;stroke:#0000FF;stroke-width:2px;stroke-linecap:butt;stroke-linejoin:miter;stroke-opacity:1\"/>\n",
       "<path d=\"M 304.919,112.07 279.173,99.9489\" style=\"fill:none;fill-rule:evenodd;stroke:#000000;stroke-width:2px;stroke-linecap:butt;stroke-linejoin:miter;stroke-opacity:1\"/>\n",
       "<path d=\"M 324.591,137.09 298.846,124.969\" style=\"fill:none;fill-rule:evenodd;stroke:#0000FF;stroke-width:2px;stroke-linecap:butt;stroke-linejoin:miter;stroke-opacity:1\"/>\n",
       "<path d=\"M 298.846,124.969 273.101,112.847\" style=\"fill:none;fill-rule:evenodd;stroke:#000000;stroke-width:2px;stroke-linecap:butt;stroke-linejoin:miter;stroke-opacity:1\"/>\n",
       "<path d=\"M 276.137,106.398 270.18,75.1367\" style=\"fill:none;fill-rule:evenodd;stroke:#000000;stroke-width:2px;stroke-linecap:butt;stroke-linejoin:miter;stroke-opacity:1\"/>\n",
       "<path d=\"M 270.18,75.1367 264.224,43.8754\" style=\"fill:none;fill-rule:evenodd;stroke:#0000FF;stroke-width:2px;stroke-linecap:butt;stroke-linejoin:miter;stroke-opacity:1\"/>\n",
       "<path d=\"M 260.345,99.6881 256.176,77.8052\" style=\"fill:none;fill-rule:evenodd;stroke:#000000;stroke-width:2px;stroke-linecap:butt;stroke-linejoin:miter;stroke-opacity:1;stroke-dasharray:6,6\"/>\n",
       "<path d=\"M 256.176,77.8052 252.006,55.9223\" style=\"fill:none;fill-rule:evenodd;stroke:#0000FF;stroke-width:2px;stroke-linecap:butt;stroke-linejoin:miter;stroke-opacity:1;stroke-dasharray:6,6\"/>\n",
       "<path d=\"M 276.137,106.398 247.903,121.912\" style=\"fill:none;fill-rule:evenodd;stroke:#000000;stroke-width:2px;stroke-linecap:butt;stroke-linejoin:miter;stroke-opacity:1\"/>\n",
       "<path d=\"M 247.903,121.912 219.67,137.426\" style=\"fill:none;fill-rule:evenodd;stroke:#CCCC00;stroke-width:2px;stroke-linecap:butt;stroke-linejoin:miter;stroke-opacity:1\"/>\n",
       "<path d=\"M 260.801,98.5577 241.038,109.417\" style=\"fill:none;fill-rule:evenodd;stroke:#000000;stroke-width:2px;stroke-linecap:butt;stroke-linejoin:miter;stroke-opacity:1;stroke-dasharray:6,6\"/>\n",
       "<path d=\"M 241.038,109.417 221.274,120.277\" style=\"fill:none;fill-rule:evenodd;stroke:#CCCC00;stroke-width:2px;stroke-linecap:butt;stroke-linejoin:miter;stroke-opacity:1;stroke-dasharray:6,6\"/>\n",
       "<path d=\"M 249.793,34.7302 220.935,31.0784\" style=\"fill:none;fill-rule:evenodd;stroke:#0000FF;stroke-width:2px;stroke-linecap:butt;stroke-linejoin:miter;stroke-opacity:1\"/>\n",
       "<path d=\"M 220.935,31.0784 192.076,27.4265\" style=\"fill:none;fill-rule:evenodd;stroke:#000000;stroke-width:2px;stroke-linecap:butt;stroke-linejoin:miter;stroke-opacity:1\"/>\n",
       "<path d=\"M 239.346,47.7783 219.145,45.2221\" style=\"fill:none;fill-rule:evenodd;stroke:#0000FF;stroke-width:2px;stroke-linecap:butt;stroke-linejoin:miter;stroke-opacity:1;stroke-dasharray:6,6\"/>\n",
       "<path d=\"M 219.145,45.2221 198.944,42.6658\" style=\"fill:none;fill-rule:evenodd;stroke:#000000;stroke-width:2px;stroke-linecap:butt;stroke-linejoin:miter;stroke-opacity:1;stroke-dasharray:6,6\"/>\n",
       "<path d=\"M 192.076,27.4265 161.712,91.9185\" style=\"fill:none;fill-rule:evenodd;stroke:#000000;stroke-width:2px;stroke-linecap:butt;stroke-linejoin:miter;stroke-opacity:1\"/>\n",
       "<path d=\"M 200.42,43.1731 179.165,88.3175\" style=\"fill:none;fill-rule:evenodd;stroke:#000000;stroke-width:2px;stroke-linecap:butt;stroke-linejoin:miter;stroke-opacity:1;stroke-dasharray:6,6\"/>\n",
       "<path d=\"M 161.712,91.9185 131.265,97.7199\" style=\"fill:none;fill-rule:evenodd;stroke:#000000;stroke-width:2px;stroke-linecap:butt;stroke-linejoin:miter;stroke-opacity:1\"/>\n",
       "<path d=\"M 131.265,97.7199 100.819,103.521\" style=\"fill:none;fill-rule:evenodd;stroke:#0000FF;stroke-width:2px;stroke-linecap:butt;stroke-linejoin:miter;stroke-opacity:1\"/>\n",
       "<path d=\"M 161.712,91.9185 184.686,113.501\" style=\"fill:none;fill-rule:evenodd;stroke:#000000;stroke-width:2px;stroke-linecap:butt;stroke-linejoin:miter;stroke-opacity:1\"/>\n",
       "<path d=\"M 184.686,113.501 207.659,135.084\" style=\"fill:none;fill-rule:evenodd;stroke:#CCCC00;stroke-width:2px;stroke-linecap:butt;stroke-linejoin:miter;stroke-opacity:1\"/>\n",
       "<path d=\"M 178.365,88.0028 194.447,103.111\" style=\"fill:none;fill-rule:evenodd;stroke:#000000;stroke-width:2px;stroke-linecap:butt;stroke-linejoin:miter;stroke-opacity:1;stroke-dasharray:6,6\"/>\n",
       "<path d=\"M 194.447,103.111 210.528,118.218\" style=\"fill:none;fill-rule:evenodd;stroke:#CCCC00;stroke-width:2px;stroke-linecap:butt;stroke-linejoin:miter;stroke-opacity:1;stroke-dasharray:6,6\"/>\n",
       "<path d=\"M 82.0831,111.165 73.0991,136.947\" style=\"fill:none;fill-rule:evenodd;stroke:#0000FF;stroke-width:2px;stroke-linecap:butt;stroke-linejoin:miter;stroke-opacity:1\"/>\n",
       "<path d=\"M 73.0991,136.947 64.115,162.728\" style=\"fill:none;fill-rule:evenodd;stroke:#FF0000;stroke-width:2px;stroke-linecap:butt;stroke-linejoin:miter;stroke-opacity:1\"/>\n",
       "<path d=\"M 95.5457,115.857 86.5616,141.638\" style=\"fill:none;fill-rule:evenodd;stroke:#0000FF;stroke-width:2px;stroke-linecap:butt;stroke-linejoin:miter;stroke-opacity:1\"/>\n",
       "<path d=\"M 86.5616,141.638 77.5776,167.419\" style=\"fill:none;fill-rule:evenodd;stroke:#FF0000;stroke-width:2px;stroke-linecap:butt;stroke-linejoin:miter;stroke-opacity:1\"/>\n",
       "<path d=\"M 84.5711,97.0109 68.4062,78.2758\" style=\"fill:none;fill-rule:evenodd;stroke:#0000FF;stroke-width:2px;stroke-linecap:butt;stroke-linejoin:miter;stroke-opacity:1\"/>\n",
       "<path d=\"M 68.4062,78.2758 52.2413,59.5406\" style=\"fill:none;fill-rule:evenodd;stroke:#FF0000;stroke-width:2px;stroke-linecap:butt;stroke-linejoin:miter;stroke-opacity:1\"/>\n",
       "<text style=\"font-size:15px;font-style:normal;font-weight:normal;fill-opacity:1;stroke:none;font-family:sans-serif;text-anchor:start;fill:#0000FF\" x=\"327.628\" y=\"144.262\"><tspan>NH</tspan></text>\n",
       "<text style=\"font-size:15px;font-style:normal;font-weight:normal;fill-opacity:1;stroke:none;font-family:sans-serif;text-anchor:start;fill:#0000FF\" x=\"249.793\" y=\"43.8754\"><tspan>NH</tspan></text>\n",
       "<text style=\"font-size:15px;font-style:normal;font-weight:normal;fill-opacity:1;stroke:none;font-family:sans-serif;text-anchor:start;fill:#0000FF\" x=\"82.5596\" y=\"113.511\"><tspan>N</tspan><tspan style=\"baseline-shift:super;font-size:11.25px;\">+</tspan><tspan/></text>\n",
       "<text style=\"font-size:15px;font-style:normal;font-weight:normal;fill-opacity:1;stroke:none;font-family:sans-serif;text-anchor:start;fill:#FF0000\" x=\"61.228\" y=\"180.073\"><tspan>O</tspan></text>\n",
       "<text style=\"font-size:15px;font-style:normal;font-weight:normal;fill-opacity:1;stroke:none;font-family:sans-serif;text-anchor:start;fill:#FF0000\" x=\"36.6192\" y=\"59.5406\"><tspan>O</tspan><tspan style=\"baseline-shift:super;font-size:11.25px;\">-</tspan><tspan/></text>\n",
       "<text style=\"font-size:15px;font-style:normal;font-weight:normal;fill-opacity:1;stroke:none;font-family:sans-serif;text-anchor:start;fill:#CCCC00\" x=\"207.659\" y=\"148.226\"><tspan>S</tspan></text>\n",
       "</svg>"
      ],
      "text/plain": [
       "<IPython.core.display.SVG object>"
      ]
     },
     "execution_count": 18,
     "metadata": {},
     "output_type": "execute_result"
    }
   ],
   "source": [
    "highlight=[4]\n",
    "\n",
    "rdDepictor.Compute2DCoords(mol)\n",
    "drawer = rdMolDraw2D.MolDraw2DSVG(400,200)\n",
    "drawer.DrawMolecule(mol, highlightAtoms=[], highlightBonds=highlight)\n",
    "drawer.FinishDrawing()\n",
    "svg = drawer.GetDrawingText().replace('svg:','')\n",
    "SVG(svg)"
   ]
  },
  {
   "cell_type": "markdown",
   "metadata": {},
   "source": [
    "正しくscaffoldからscaffold外に伸びている結合を取り出すことができた。"
   ]
  },
  {
   "cell_type": "markdown",
   "metadata": {},
   "source": [
    "#### 3.3 抽出をするスクリプトの関数化"
   ]
  },
  {
   "cell_type": "markdown",
   "metadata": {},
   "source": [
    "スクリプトが正常に動くことが確認できたので関数にする。  \n",
    "Murcko scaffoldからscaffold外へ伸びる結合を取り出す関数`find_boundary_bonds`を作成する。  \n",
    "柔軟性を考えてユーザがatom_indicesを設定できるよう(つまりMurcko scaffold以外でも良い)にし、  \n",
    "何も設定しない時はMurcko scaffoldを関数内で求めるようにした。"
   ]
  },
  {
   "cell_type": "code",
   "execution_count": 19,
   "metadata": {},
   "outputs": [],
   "source": [
    "def find_boundary_bonds(mol, scaffold_atom_indices=None):\n",
    "    if not scaffold_atom_indices:\n",
    "        scaffold = GetScaffoldForMol(mol)    \n",
    "        scaffold_atom_indices = mol.GetSubstructMatch(scaffold)        \n",
    "    return [bond for atom_idx in scaffold_atom_indices for bond in mol.GetAtomWithIdx(atom_idx).GetBonds()\n",
    "                                                                                    if bond.GetOtherAtomIdx(atom_idx) not in scaffold_atom_indices]"
   ]
  },
  {
   "cell_type": "code",
   "execution_count": 20,
   "metadata": {},
   "outputs": [
    {
     "name": "stdout",
     "output_type": "stream",
     "text": [
      "4\n"
     ]
    }
   ],
   "source": [
    "boundary_bonds = find_boundary_bonds(mol)\n",
    "for bond in boundary_bonds:\n",
    "    print(bond.GetIdx())"
   ]
  },
  {
   "cell_type": "code",
   "execution_count": 21,
   "metadata": {},
   "outputs": [
    {
     "name": "stdout",
     "output_type": "stream",
     "text": [
      "4\n"
     ]
    }
   ],
   "source": [
    "boundary_bonds = find_boundary_bonds(mol, scaffold_atom_indices)\n",
    "for bond in boundary_bonds:\n",
    "    print(bond.GetIdx())"
   ]
  },
  {
   "cell_type": "markdown",
   "metadata": {},
   "source": [
    "引数あるなしいずれでも正しく動いているようだ。"
   ]
  },
  {
   "cell_type": "markdown",
   "metadata": {},
   "source": [
    "#### 4. 他の構造でのテスト"
   ]
  },
  {
   "cell_type": "markdown",
   "metadata": {},
   "source": [
    "#### 4.1 サブセットの準備"
   ]
  },
  {
   "cell_type": "markdown",
   "metadata": {},
   "source": [
    "いくつかの構造でも同様に正常に動作するか確認する。今回はランダムに取り出した10構造で試す。  \n",
    "まずデータフレームの`reindex`メソッドを用いてランダムに並び替えることができるようだが再現性が担保できないので  \n",
    "再現性が担保できる[random.sample](https://docs.python.jp/3/library/random.html#random.sample)関数でランダムなID番号を10個まず発生させる。"
   ]
  },
  {
   "cell_type": "code",
   "execution_count": 22,
   "metadata": {},
   "outputs": [],
   "source": [
    "random.seed(1)"
   ]
  },
  {
   "cell_type": "code",
   "execution_count": 23,
   "metadata": {},
   "outputs": [
    {
     "data": {
      "text/plain": [
       "[34, 145, 195, 16, 65, 30, 126, 194, 115, 120]"
      ]
     },
     "execution_count": 23,
     "metadata": {},
     "output_type": "execute_result"
    }
   ],
   "source": [
    "random_idxes = random.sample(range(0, frame.shape[0]), 10)\n",
    "random_idxes"
   ]
  },
  {
   "cell_type": "markdown",
   "metadata": {},
   "source": [
    "このランダムなID番号でframeを絞り込む。"
   ]
  },
  {
   "cell_type": "code",
   "execution_count": 24,
   "metadata": {
    "scrolled": false
   },
   "outputs": [
    {
     "data": {
      "text/html": [
       "<table border=\"1\" class=\"dataframe\">\n",
       "  <thead>\n",
       "    <tr style=\"text-align: right;\">\n",
       "      <th></th>\n",
       "      <th>SMILES</th>\n",
       "      <th>Molecule</th>\n",
       "      <th>Murcko_SMILES</th>\n",
       "      <th>Murcko_scaffold</th>\n",
       "    </tr>\n",
       "  </thead>\n",
       "  <tbody>\n",
       "    <tr>\n",
       "      <th>34</th>\n",
       "      <td>O=[N+]([O-])c1cnc2cc(Cl)ccc2c1O</td>\n",
       "      <td><img src=\"data:image/png;base64,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\" alt=\"Mol\"/></td>\n",
       "      <td>c1ccc2ncccc2c1</td>\n",
       "      <td><img src=\"data:image/png;base64,iVBORw0KGgoAAAANSUhEUgAAAMgAAADICAIAAAAiOjnJAAAEmklEQVR4nO3d0VLbMBRFUbvT//9l90E0BRogdnysK2WtJ6bDxBLeSE5I43XbtgXO9qv3AJiTsIgQFhHCIkJYRAiLCGERISwihEWEsIgQFhHCIkJYRAiLCGERISwihEWEsIgQFhHCIkJYRAiLCGERISwihEWEsIgQFhHCIkJYRAiLCGERISwihEWEsIgQFhHCIkJYRAiLCGERISwihEWEsIgQFhHCIkJYRAiLCGERISwihEWEsIgQFhHCIkJYRAiLCGERISwihEWEsIgQVn/r+vO/DEdYJUxQ0ieThLUOfma2bba2fvcewLNaUtu23b7oPSKWZeiwPpXUvhg3r7ZoDTjw+4YM65t6hs5rprbGC2td1x+LueU1XFvTGOnifV3XXa20C6+a1/VfDeruVXzJGfxgjBXr8NZWcGdslXwzlv/buv1LjRk8pPpmcWIT3fN6Po6B8iodVuIiqcuF17lBDJFX0bD2ri67crly6cpFUDyvcmEdPusHWjx2oIcff1nyJ75sXrXCen6fii51Dz/mslx7sgvmVSWsc9ePXY929qFPPsGPP2Cp1+36DyW3JV184ZWcyLI8tiB1f+b7byRdn37HfwrXXHhdczrHyqtbWFeu27kLr+tP4a6dcemXV5cXdfpM+NydseNp23Wp3u2nfe1vW/fXvk/YGbvP4u8wlqVwXheFVeRkNIfzKjWLpu4rwxccptTT4JsKr3idouZExnh3Q8I079kq+A6OZaz3YyVUfs/WLtu23TbrCl53xbqp+Rt/TJ0LwZ5hldqGpsmryERefSv8pNqGclj3iQjrjqFXrPesWMxGWEQIiwhhESEsIoRFhLCIEBYRwiJCWEQIiwhhESEsIoRFhLCIEBYRwiJCWEQIiwhhESEsIoRFhLCIEBYRwiJCWEQIiwhh3THBh4I0HSfi87E+6P7pP2fpPpGeYZU6f93PxFmKTMSKVeVMPK/URF49rFKfKnhYqaSa1w2r4Mk4pubvhhsI7Pj+UrNY6t3788OxXuqWJ8sZt3IoMotdY5j2licfDtnvJk2PH7fsTZrqJ/V2XLeVu/v9BW8rd+BYHS+/3AjzhCFdcP72HqL7ft3/CcUct+6NzmLXI3dP6m0Y3UfQzHGz8Y6zOP3oT6oSVvP8nlLhHmtd7lte7dWsWqNZnjgr1X6/L7tveamF6qZcWE104bn4qVxu+ayZVFM0rCa0T1085dDpr7b3fVJ6cEvhK+uOR6+8UN1UD6sp+1rAxSOpM5EfjRFWM8+F7f5drOZEvjFSWM2uv7eUnd3eV9rKTuQr4414KfwX4r2mmcj/hgyrKfuelr2mmch7A4fVlH0X3l7TTKQZPqxmxKuQu+aZyBzToBr/E5oIYREhLCKERYSwiBAWEcIiQlhECIsIYREhLCKERYSwiBAWEcIiQlhECIsIYREhLCKERYSwiBAWEcIiQlhECIsIYREhLCKERYSwiBAWEcIiQlhECIsIYREhLCKERYSwiBAWEcIiQlhECIsIYREhLCKERYSwiBAWEcIiQlhECIsIYREhLCKERYSwiBAWEcIiQlhECIsIYREhLCKERcQfq6LpJx4tYtUAAAAASUVORK5CYII=\" alt=\"Mol\"/></td>\n",
       "    </tr>\n",
       "    <tr>\n",
       "      <th>145</th>\n",
       "      <td>O=S(=O)(O)c1ccccc1</td>\n",
       "      <td><img src=\"data:image/png;base64,iVBORw0KGgoAAAANSUhEUgAAAMgAAADICAIAAAAiOjnJAAAEJElEQVR4nO3dUXLTSBRAUXlqdgT7X8FkTZ4PV0FIohQOulJ3c84XzodR0TevZSGVb/f7fYOj/XP1AbAmYZEQFglhkRAWCWGREBYJYZEQFglhkRAWCWGREBYJYZEQFglhkRAWCWGREBYJYZEQFglhkRAWCWGREBYJYZEQFglhkRAWCWGREBYJYZEQFglhkRAWCWGREBYJYZEQFglhkRAWCWGREBYJYZEQFglhkRAWCWGREBYJYZEQFglhkRAWCWGREBYJYZEQFglhkRAWCWGREBYJYZEQFglhkRAWCWGREBYJYZEQFglhkRAWiX+vPoDM7fbzz/f7dcfxl1o0rNvtl5jevKS34lb4PqP7/ZcBRm/FsBiAsEgseo51qduh2+59zrNDYR3sdrsdm8Lhb3iOFbfC96fqPhWebsrfht9yxXWsaLrMOLTW3QpnW4nFrLgVXqSbK/f7/dgPBCcQVu6pJqYLaM+KYe2tTblme+Pq2TG2N5ymG1orhnW6c06u52pLWKGvBTdXQHuE9afOvBYwUXMLhvXy33M/j/xJcBMFtGfBsM50/qXLWZqb75LuUI76MHj+m9dMrK+7aoGnGFrCOt5RwU0R0B5hfdE5+9S810uF9RUjnOUM3pawjlQEN3hAe4T1tBHG1cPIzQnrMG6bee2sG/3e3xz8/pnSH45YnpeXn2/47dth6z3OuHp4NDfUIT2McQfp0Q8uv7zcXsf05mWhXt1hA9ozQFh7Dy7vzbNt23b+42+vnjc/fz3M3vj+/fNjHfFhrDGbO+uAPtkKP5xPRwyt7dBN8OHDJTxtXa/9259yYljvlWE9HJ7XgKs44CFtC0+s1449xxpqIYc6mNfWvNzwyVkU5xggrNkeXB7nqtKw42obYiv88fKHga9jPYywoiMcwyeGPriRXb6ulx/A5wbYCud07YY4eFWbsIgsGNbeR8LDPypeNbTGH1fbkmExggnaf9re1YrmKsbJ82OKcbWZWHOZpaptiLsbJrd3c8Gfn37N0tCHhHWAD9s6PIuJxtW25la4968/z6osYMWwrlBfephrXG3CmsJ0VW3COtA4dz2MQFijm3FcbT4VHuv3h9aMrTxlyt+GBfz+pjnpAq0blq/uvdSiW6Gv7r3aiifvvrp3ACuGxQCERUJYJIRFYsWwZnsCdkmLXm5405aqTrdoWJuYLrbiVsgAhEVCWCSERUJYJIRFQlgkhEVCWCSERUJYJIRFQlgkhEVCWCSERUJYJIRFQlgkhEVCWCSERUJYJIRFQlgkhEVCWCSERUJYJIRFQlgkhEVCWCSERUJYJIRFQlgkhEVCWCSERUJYJIRFQlgkhEVCWCSERUJYJIRFQlgkhEVCWCSERUJYJIRFQlgkhEVCWCSERUJYJIRFQlgkhEVCWCSERUJYJIRFQlgk/genUaXhPVdObAAAAABJRU5ErkJggg==\" alt=\"Mol\"/></td>\n",
       "      <td>c1ccccc1</td>\n",
       "      <td><img src=\"data:image/png;base64,iVBORw0KGgoAAAANSUhEUgAAAMgAAADICAIAAAAiOjnJAAADf0lEQVR4nO3cQW6cQBiEUYhy/yuTxWyiLFAWrun+q9+7wID5KEbI9v08zwU/7dfqA6CTsIgQFhHCIkJYRAiLCGERISwihEWEsIgQFhHCIkJYRAiLCGERISwihEWEsIgQFhHCIkJYRAiLCGERISwihEWEsIgQFhHCIkJYRAiLCGERISwihEWEsIgQFhHCIkJYRAiLCGERISwihEWEsIgQFhHCIkJYRAiLCGERISwihEWEsIgQFhHCIkJYRAiLCGERISwihEWEsIgQFhHCIkJYRAiLCGERISwihEXE79UH8G33fS/53Od5lnzuKmeFdd/3qgu88KOX8Cgk4qCw1m7G8zyrnsJLHBQW33RKWDt8xTlqtE4Jiy87Iqwd5urjnNHqf93wUlX6Gm9S8xL9Yb1YcuE/o1XfXPmjcM9LeMIDsTwsVmkOa8+5+qgfreawWKg2rJ3n6qN7tDrD2r+qep1hTVE8WoVhzZqr1rYKw2IHbWHNmquPytGqCmtiVa2qwpqrb7R6wjJXW+kJa7qy0SoJy1ztpiSsDk2j1RBW01zVtDU+rKaqmowPq0/HaM0Oy1xta3ZYrQpGa3BY5mpng8PqNn20poa18M9Qf9y4A/4fU8N6uaFn3esvd8isE/nH1LBOMPpL5OCwCkZrdDrvBofVbXpzs8MaPVrT03k3O6xWBc2ND2voaBWk8258WH06mmsIa9xovb/dLajq6gjrGtVWTTrvSsLq0NRcT1gjRqspnXc9YU1X1lxVWJuPVlk676rCmquvubawth2tE14x/K0tLDZRGNaGo3XaXF2VYV2btdWazrvOsKYobq42rE1G68CH4EdtWKzVHNby0Tp2rq7usFioPKyFo3XyXF31YV2rX7gfqz+sF7nmDp+r67qOOMlrm8u5yWF8wdGLRc4pYe3wTeucubrOCYsvOyisbX8fq9JBYfFNZ91G17p/n3fcz/m0E+Y7PAqJEBYRwiJCWEQIiwhhESEsIoRFhLCIEBYRwiJCWEQIiwhhESEsIoRFhLCIEBYRwiJCWEQIiwhhESEsIoRFhLCIEBYRwiJCWEQIiwhhESEsIoRFhLCIEBYRwiJCWEQIiwhhESEsIoRFhLCIEBYRwiJCWEQIiwhhESEsIoRFhLCIEBYRwiJCWEQIiwhhESEsIoRFhLCIEBYRwiJCWEQIiwhhESEsIoRFhLCI+ANcz1SYoIL0pAAAAABJRU5ErkJggg==\" alt=\"Mol\"/></td>\n",
       "    </tr>\n",
       "    <tr>\n",
       "      <th>195</th>\n",
       "      <td>O=C(C=Cc1cccnc1)c1ccccc1</td>\n",
       "      <td><img src=\"data:image/png;base64,iVBORw0KGgoAAAANSUhEUgAAAMgAAADICAIAAAAiOjnJAAAFM0lEQVR4nO3d246bMBRAUVP1/3+ZPqAiFDIJMGf7crzX00jTXNljg0Posq5rkaL9af0ElJNhCWFYQhiWEIYlhGEJYVhCGJYQhiWEYQlhWEIYlhCGJYRhCWFYQhiWEIYlhGEJYVhCGJYQhiWEYQlhWEIYlhCGJYRhCWFYQhiWEIYlhGEJYVhCGJYQhiWEYQlhWEIYlhCGJYRhCWFYQhiWEIYlhGEJYVhCGJYQhiWEYQlhWEIYlhCGJYRhCWFYQhiWEIYlhGEJYVhCGJYQhiWEYQlhWEIYlhCGJYRhCfG39RN4tSzL9sO6rm2fiX6ji7D2mMqhp2VZbGtczTbe25jO/8a2BlV1y12J6XwT2xoRvtkexHS+B9saDrXNYvfBbWs44HLDuq5RNazrehz51D9kJPjNAPNhqNt+5dA1hH6XG862XzktDqFZWI936rdp0bY6VzWs3x8h7re1rc7Fb57zJoc+pbGtntUYsaDN77jVs7HPbnAZoltjh1Vsq1fBYTWZm2yrQ+ONWDY0hPHCOnMXvkORYVXYwDY0igwjljpkWEKMFNbbedDJsU9hYbmBdTTSiKWBUGHVWW1ymOwWFVb4argNjSUmrLdb3U9aZsbuY9nWtGLC+hBQSFsuNAwnbMSi29JYIqdC2+rN8l+Dh65wzvuVX929Q+fBn3Ry6Z74c94/nIruWeqElwGpk3cevHYDenGiyQN99kW6mm8a+EhoWxOGFfKtzGrvG/swUFtTVRX+rcw6716zBdLHx4kTHl0+u25P2yP0GvGGTHz7z7NdGgQa2uk3sNaMe/9lfN2lmKEtdGcUfQMrHiZcexm3dinStxWyhtekrXpXm/mwlOIljVBNVhZrb5X9ZURd0qikHrfeXrrn2YutPG412CTEFR9TthX+WVbNthqc8/7s4PnrfU64DHFXzbME/DLFVTnCrdZWnrDoQauHQTFkwqrTVp6wCrPtm53PRO41Vvgj6eJy3IFCjp9/OmLNtLrx9rUEvrpsYZWnm7//T43Cnw/6d5IwrHLnLfuw0L/PF1kHrUL+Nx85wypBC/3Htdyqp1+O327asLZtE7LQ/5JXk0GrwiPGPkTasDZvp7PHd1VSjCU/G3zlvbJ9oT/kAHsvtfmaVufyhxUuttSzJoPispTYx8wZVoVts7dV4zTfAeffnGHVsW3s2FXsNDNs8p33XZ1PSB6fKXW8q3J6tvzxYPA8WLKGVW3a2Jce7q54fV7+SLAMmzEs4g/wmq95XT+jv2ZbxINkDOsdbvucC3iZzuY8o3+OsKqPYce1rkHL+KU5woKdPzuKimncQStdWO12sDbQ6fwP7nafgZu8H+nCOquSGjq03D8LaFtgI57LVUMOs/e0HsOifP7y1vZDP1tzgrASeXsycbnf09bhfiPiT8+PdEZy/viI+JJmCMMazOOPJpelHG+3rgX9WHKCnffpvUx8dRjWeC4eJH5dbtgGLSg4wxrSha+KNN71yhXWy05EaiFfFeH2tBKF9TKsZ1m++iDwqyLhEoU1pWdJHW8ENelygxCGJYRhCWFYQiTaeX85dO7vQGkqicIqxtQRp0IhDEsIwxLCsIQwLCEMSwjDEsKwhDAsIQxLCMMSwrCEMCwhDEsIwxLCsIQwLCEMSwjDEsKwhDAsIQxLCMMSwrCEMCwhDEsIwxLCsIQwLCEMSwjDEsKwhDAsIQxLCMMSwrCEMCwhDEsIwxLCsIQwLCEMSwjDEsKwhDAsIQxLCMMSwrCEMCwhDEsIwxLCsIQwLCEMSwjDEsKwhPgHXyNsIJt7ankAAAAASUVORK5CYII=\" alt=\"Mol\"/></td>\n",
       "      <td>O=C(C=Cc1cccnc1)c1ccccc1</td>\n",
       "      <td><img src=\"data:image/png;base64,iVBORw0KGgoAAAANSUhEUgAAAMgAAADICAIAAAAiOjnJAAAEX0lEQVR4nO3c23KiWABAUZya//9l5sEqJzOtxOjZBwlrPXTZqUS5bOCIyGVd1wVG+2vvCeB3EhYJYZEQFglhkRAWCWGREBYJYZEQFglhkRAWCWGREBYJYZEQFglhkRAWCWGREBYJYZEQFglhkRAWCWGREBYJYZEQFglhkRAWCWGREBYJYZEQFglhkRAWCWGREBYJYZEQFglhkRAWCWGREBYJYZEQFglhkRAWCWGREBYJYZEQFglhkRAWCWGREBYJYZEQFglhkRAWCWGREBYJYZEQFglhkdg/rMvlsvckMN7fO772Nal1XW8PdpwYxrrssjrvliSvIS6X5bYIvz6ebPYea6Oe6w/l9b4de7qZF9aTxdzy0tbL1nX/tiYN3q+h3G3l7uD9OvAyrn/e9qKavyDzPdbGjmp7H+bI+KRrNP9bQted1p//nbYgw7BeTuorR8YN26382da3fzJQssKGJDXqD3+lN/uYkNfgsIqkhj/J0T3af/90wJ4O8IeFVSeVPuFRPJrxl/dA3ZIcE9bjbSgs4FQDr83t9t0dT7Ekq8H7aXcqw20ntYwYKl1P7oxdWePDktRAG+t7bArDP7EdH1aX1KmOfRuiTXfsmZ09r27gpw50NBDWMRzubZCwjuEQe6mv9r+ClF9JWCSERUJYJIRF4qhhOVn64Y4a1hkceuMR1tlF+QqLhLBICIuEsEiMD8u3TFmKsHyJmSU6FF6/TT88r+Oe1BniWNtqOMa65dW9xKkc61AwJqyNeT7W4tjwCbNQHAqi48CwK0g37uEx9vYe8+8D+Gl3HjzE/Sx2uHfDy684/z6Aj16xXqNPpvzJXzEPl9HAr0d/+yeTF3H4zfSfbzyfeVOMduN7/4YOP5rhUfuSJ59n7Mp4c+N5ed6jjWTGcfq1I+NrM/zmYnphUofU/PyTDFxi7Shi2gDwR8tueW+Gi6Ptxu+8M8HDJ/WdGRlo6juLyUOlIbuBu7+8PMhreMov//ku9//5zwvNf8s6881dl/LdNff8s00eDi7Tv56/27mQmSeHopRfOzLOP0ewy+m3nU+yzTzLF6X8/JFxl1Nu3St+Mz2ffPZ2rOua/vrv8Cf/84fLWT8kON1NQaJlfXddzv/s5XM+7TldWJ1HH4nOX8e7V7W4NHm4dV1XFwsJK/IJ+4x9CYuEsEgIi4SwSJworPXBYwonCouZhEVCWCSERUJYJIRFQlgk9r9wh1/JHouEsEgIi4SwSJzsmvfbFcPessTOFNbl8m9PXx8TcCgkISwSwiJxpjHWuhq8T3OmsBY9zeNQSEJYJIRFQlgkhEVCWCSERUJYJIRFQlgkhEVCWCSERUJYJIRFQlgkhEVCWCSERUJYJIRFQlgkhEVCWCSERUJYJIRFQlgkhEVCWCSERUJYJIRFQlgkhEVCWCSERUJYJIRFQlgkhEVCWCSERUJYJIRFQlgkhEVCWCSERUJYJIRFQlgkhEVCWCSERUJYJIRFQlgkhEVCWCT+AfA5pFrOhap7AAAAAElFTkSuQmCC\" alt=\"Mol\"/></td>\n",
       "    </tr>\n",
       "    <tr>\n",
       "      <th>16</th>\n",
       "      <td>CCCCCCCCCCCCCCCc1cc(O)ccc1N</td>\n",
       "      <td><img src=\"data:image/png;base64,iVBORw0KGgoAAAANSUhEUgAAAMgAAADICAIAAAAiOjnJAAADJElEQVR4nO3d0U7iQABA0Xaz///Lsw+YLiqKYi9C55z4gCUDmFyHMi2wjjEW2Nuf334AHJOwSAiLhLBICIuEsEgIi4SwSAiLhLBICIuEsEgIi4SwSAiLhLBICIuEsEgIi4SwSAiLhLBICIuEsEgIi4SwSAiLhLBICIuEsEgIi4SwSAiLhLBICIuEsEgIi4SwSAiLhLBICIuEsEgIi4SwSAiLhLBICIuEsEgIi4SwSAiLhLBICIuEsEgIi4SwSAiLhLBICIuEsEgIi4SwSAiLhLBICIuEsEgIi4SwSAiLhLBICIuEsEgIi4SwSAiLhLBICIuEsEgIaz7r+vKz/Rr4W9woj2tdlzEuXN6bGYvl1QS2EzMWSzFvmbFImLEmM8b/Z71sB2sxY83o1NNWVZOXsEgIi4SwZpQsib4mLBJeFc5lXddlWcYY24Xqjrqb5qFcLKnLS1jH91FS25YiL2Ed2bdmqX3zEtZhnc9J25blWjrvR93GzvsUria1V08bYR3f7tF8hXWs4/uVvR1hkRAWCWGREBYJYR3f2rzB63PCOr7TIec755WHddvfY9TPR50bY2xnNNxHuEB62xkaRnWjTlsu3sjua13VmuzFA1VX78uoO4x61oPQnzw+Vz3OVU922szT/fsatTz4iX5Pt8Nh1NdH3WCfsG47fm7Uc4363l040W9CdwjLAumc8tlEWCSERUJYM7rDfrWwSAiLhLBICIuEsOZyfkbW6fL7Lcsen88trOlcLeb0vQI/fOXondDTOX1u8nk3b1LbZTHCjMXL/PSmJ0+FfNv5h71f9PNv2RHWpD7p5v1O/Q2cNkPCjEVCWCSERUJYJIRFQlgkhEVCWCSERUJYJIRFQlgkhEVCWCSERUJYJIRFQlgkhEVCWCSERUJYJIRFQlgkhEVCWCSERUJYJIRFQlgkhEVCWCSERUJYJIRFQlgkhEVCWCSERUJYJIRFQlgkhEVCWCSERUJYJIRFQlgkhEVCWCSERUJYJIRFQlgkhEVCWCSERUJYJIRFQlgkhEVCWCSERUJYJIRFQlgkhEVCWCSERUJYJIRFQlgkhEXiH6+gs5c01E8VAAAAAElFTkSuQmCC\" alt=\"Mol\"/></td>\n",
       "      <td>c1ccccc1</td>\n",
       "      <td><img src=\"data:image/png;base64,iVBORw0KGgoAAAANSUhEUgAAAMgAAADICAIAAAAiOjnJAAADf0lEQVR4nO3cQW6cQBiEUYhy/yuTxWyiLFAWrun+q9+7wID5KEbI9v08zwU/7dfqA6CTsIgQFhHCIkJYRAiLCGERISwihEWEsIgQFhHCIkJYRAiLCGERISwihEWEsIgQFhHCIkJYRAiLCGERISwihEWEsIgQFhHCIkJYRAiLCGERISwihEWEsIgQFhHCIkJYRAiLCGERISwihEWEsIgQFhHCIkJYRAiLCGERISwihEWEsIgQFhHCIkJYRAiLCGERISwihEWEsIgQFhHCIkJYRAiLCGERISwihEXE79UH8G33fS/53Od5lnzuKmeFdd/3qgu88KOX8Cgk4qCw1m7G8zyrnsJLHBQW33RKWDt8xTlqtE4Jiy87Iqwd5urjnNHqf93wUlX6Gm9S8xL9Yb1YcuE/o1XfXPmjcM9LeMIDsTwsVmkOa8+5+qgfreawWKg2rJ3n6qN7tDrD2r+qep1hTVE8WoVhzZqr1rYKw2IHbWHNmquPytGqCmtiVa2qwpqrb7R6wjJXW+kJa7qy0SoJy1ztpiSsDk2j1RBW01zVtDU+rKaqmowPq0/HaM0Oy1xta3ZYrQpGa3BY5mpng8PqNn20poa18M9Qf9y4A/4fU8N6uaFn3esvd8isE/nH1LBOMPpL5OCwCkZrdDrvBofVbXpzs8MaPVrT03k3O6xWBc2ND2voaBWk8258WH06mmsIa9xovb/dLajq6gjrGtVWTTrvSsLq0NRcT1gjRqspnXc9YU1X1lxVWJuPVlk676rCmquvubawth2tE14x/K0tLDZRGNaGo3XaXF2VYV2btdWazrvOsKYobq42rE1G68CH4EdtWKzVHNby0Tp2rq7usFioPKyFo3XyXF31YV2rX7gfqz+sF7nmDp+r67qOOMlrm8u5yWF8wdGLRc4pYe3wTeucubrOCYsvOyisbX8fq9JBYfFNZ91G17p/n3fcz/m0E+Y7PAqJEBYRwiJCWEQIiwhhESEsIoRFhLCIEBYRwiJCWEQIiwhhESEsIoRFhLCIEBYRwiJCWEQIiwhhESEsIoRFhLCIEBYRwiJCWEQIiwhhESEsIoRFhLCIEBYRwiJCWEQIiwhhESEsIoRFhLCIEBYRwiJCWEQIiwhhESEsIoRFhLCIEBYRwiJCWEQIiwhhESEsIoRFhLCIEBYRwiJCWEQIiwhhESEsIoRFhLCI+ANcz1SYoIL0pAAAAABJRU5ErkJggg==\" alt=\"Mol\"/></td>\n",
       "    </tr>\n",
       "    <tr>\n",
       "      <th>65</th>\n",
       "      <td>CC(=O)C(Cc1ccccc1)(c1ccccc1)c1ccccc1</td>\n",
       "      <td><img src=\"data:image/png;base64,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\" alt=\"Mol\"/></td>\n",
       "      <td>c1ccc(CC(c2ccccc2)c2ccccc2)cc1</td>\n",
       "      <td><img src=\"data:image/png;base64,iVBORw0KGgoAAAANSUhEUgAAAMgAAADICAIAAAAiOjnJAAAFQklEQVR4nO3d0Y7aShAAUTu6///L5AFlxcXgNbire6Zd5ylSpAWccjNMbHa93W6LFO1P9RNQT4YlhGEJYVhCGJYQhiWEYQlhWEIYlhCGJYRhCWFYQhiWEIYlhGEJYVhCGJYQhiWEYQlhWEIYlhCGJYRhCWFYQhiWEIYlhGEJYVhCGJYQhiWEYQlhWEIYlhCGJYRhCWFYQhiWEIYlhGEJYVhCGJYQhiWEYQlhWEIYlhCGJYRhCWFYQhiWEP9VP4E967r+/NnfBDuXIcJ6DOjRY0zrutrWRFLDOhKQesDHQODbmUNrIhkTK6qG2+1mW7NgPxWe7+Dp3fPe1rknpQyjbzdY0qTAsJ7GVVQfpnbc+iD5oYfYbti3XVq52Hoy4H4NFdZ2XJ15VbZ1N9F+zQQT6+6aJS1x+zXJBzBj8Q69nusstm7/nP85aUcMCSutpPZtfXck1/97/Ku0IzbNW+Gdi60fO32McDTiw4pdtm9dp6T9/Zqvj0DOAZxsYr10kdQCX2DCEQteY9Hj6g5abBVuJ+ajF1uzTqwzi60BtxO3yp/ASWBY9KH5taQz24lXeHtFX2NkWOX/Ek/jfd4s0o4k19boVzfse7lQmHE7sRD0MsPCylm2byVsbQT+wCPKB3+IuSdWgivMLeI1xoRVNa52nkMg2/qCE2sshe+DsW3FhFX+cSxna4P7+f04sY5KaKtqCfHz58DXGBbWFc7pK7zGKJETq+q49/h8XoL71BX8Vtj+nOZeYLPTY/o1Vv6/R5uTB90kig+rzXHfEf4aoXswCyETK62t2Xd93l3+lX9yhh9J6rKZK1x2ctyAV4DRDzfrhX4j2J48gVeAzX5mgmHRh2aE447+l0NaW8SjsBPr/KGJujUFFfWs0m5u63CXzpFD88UtciOMK+Jp5L8DQg9Xs8aaYg5VoRdbOeEmfVXkdsKf+YFdx9U73BjjXkLSzju669PP9nBNt+2c91YYe99fufKb276TNmUr97GmCKjQ1Iut7MWK9/2dfKwzD515a0L2xJo3pkFEzS363Jj+spl8yZ9JA5ftmU/bsCaw/Y+jk6klnBtDbAhNpHAL7fxDZy5wvbqhoRE+bjuxPlC+4x94lQ7NiTWT8huDj3NiHVU+rubip0IhDOsQx9WnDEsIw/qd4+oLfip8a67rn0ZjWCPe9NfAhcIaeTuxn+YnYuB2okPrI/0nFnfTn3Z0PlJfd7Bzd5ptHdR/Yr20/4nPdM5re/7tXwhw8q7/rgct0FUmVmAKLraO6Lnz7te+l+sZlsoZ1pccWvsahpX8XR0JDzSjhmFlsq13uoXl57VBdAsrn0PrpVZhVY0r29pqFVYh23piWEL0CavkfTD2uzo66ROWhtIkrKpx5aVa7zQJS6PpEFbJL/tzXO3rENYTF9Ej6BBWeUmOq60OYW3RqVnSr5qE1eB3hDTTJKwlsS2X7Uf0CWtxSo2kVVhb4ak5rg7qFpaLrUF0C2upW2zpUcOwFksaQM+wtnxDTNY2rPA3RJftH2kb1uJCvlTnsBbsl/05rn7VPKwth1aO/mG9fEM88wMdV0dc4vuxQr7Ryjn3kQudfAfb8lu7Q1xiYr1kQKgLTawl95ciX9y1wlKa/p8KVcKwhDAsIQxLCMMSwrCEMCwhDEsIwxLCsIQwLCEMSwjDEsKwhDAsIQxLCMMSwrCEMCwhDEsIwxLCsIQwLCEMSwjDEsKwhDAsIQxLCMMSwrCEMCwhDEsIwxLCsIQwLCEMSwjDEsKwhDAsIQxLCMMSwrCEMCwhDEsIwxLCsIQwLCEMSwjDEuIvoqvHZMMAbzcAAAAASUVORK5CYII=\" alt=\"Mol\"/></td>\n",
       "    </tr>\n",
       "    <tr>\n",
       "      <th>30</th>\n",
       "      <td>Cc1cc(C)c(N)c(C)c1</td>\n",
       "      <td><img src=\"data:image/png;base64,iVBORw0KGgoAAAANSUhEUgAAAMgAAADICAIAAAAiOjnJAAADw0lEQVR4nO3d0U7bWBhG0ZPRvP8rey4iIQQ0QMf7OMq/lnrRgkhSuvnsGKLejuNYcLZ/rn4AvCZhkRAWCWGREBYJYZEQFglhkRAWCWGREBYJYZEQFglhkRAWCWGREBYJYZEQFglhkRAWCWGREBYJYZEQFglhkRAWCWGREBYJYZEQFglhkRAWCWGREBYJYZEQFglhkRAWCWGREBYJYZEQFglhkRAWCWGREBYJYZEQFglhkRAWCWGREBYJYZEQ1jVut9vVD6ElrAvcbrfjOK5+FC1hkRDWbhPmagmLiLC2GjJXS1g7zalqCYuIsDYZNVdLWESEtcO0uVrCIiKs3MC5WsKqzaxqCYuIsEJj52oJi4iwKpPnagkrMryqJSwiwjqfuVrCIvLv1Q/geqe/YMZcLWEVhy2HwuVQSGR0WNG0HMfx8q9H/dbosOjMDSs9EzJac8MiNTSsDU/cho/W9MsN7/3/Dj7Eem9r5qWHiWH96R97ZgGRoYfCbcYeEMeFNfbYtNmssC6pauZozQqLbQaFdeFBcOBoDQqLnaaEdfk5+7TRmhLWMxjV1oiwLp+rgUaE9TzmjNbrh2WuLvH6YX1p22x8vqMTR+vzzby95cG77r+//+o83Teh97xmZs/PHWy5i/Xbe3j/IX/x4T/0dGFNeM3Md6P1zaN9/7c5jl/HseeT8XRhbVOP1oMbf5LWu7laE8J6+Z+2+9NoPT6nSKtaE8J6oGtu81x92daHP344ea+/0EY8K5xz9egnNlS1hoT1QNHcJWdX99F6HlPCeobRqk/1fn7bb9exuk/J6HOsu3PPtHY+Ufh8P29v+dW7ClMWaz0crbP27PkvMWwzKCx2mhVWOlrm6r1ZYV1iYFVrYFjRaM2s54FxYW02NriJYZ0+WmPreWBiWNtMDm5oWCeO1uR6Hhga1mO/CsUlhi/NDSv97uHwqtbksEiNDisaLXO1hodFx9eW/6QpIazzORQuh0IiwjrfM/wY9OWERUJYCaMlrMrwtoRFQlihyaMlLBLCao0dLWHlZrYlLBLC2mHgaAmLhLA2mTZawiIhrH1GjZawtprTlrBICGu3IaMlLBLCusCE0RLWNV7+ZTzCIiEsEsIiISwSwiIhLBLCIiEsEsIiISwSwiIhLBLCIiEsEsIiISwSwiIhLBLCIiEsEsIiISwSwiIhLBLCIiEsEsIiISwSwiIhLBLCIiEsEsIiISwSwiIhLBLCIiEsEsIiISwSwiIhLBLCIiEsEsIiISwSwiIhLBLCIiEsEsIiISwSwiIhLBL/AVakepGqa6gRAAAAAElFTkSuQmCC\" alt=\"Mol\"/></td>\n",
       "      <td>c1ccccc1</td>\n",
       "      <td><img src=\"data:image/png;base64,iVBORw0KGgoAAAANSUhEUgAAAMgAAADICAIAAAAiOjnJAAADf0lEQVR4nO3cQW6cQBiEUYhy/yuTxWyiLFAWrun+q9+7wID5KEbI9v08zwU/7dfqA6CTsIgQFhHCIkJYRAiLCGERISwihEWEsIgQFhHCIkJYRAiLCGERISwihEWEsIgQFhHCIkJYRAiLCGERISwihEWEsIgQFhHCIkJYRAiLCGERISwihEWEsIgQFhHCIkJYRAiLCGERISwihEWEsIgQFhHCIkJYRAiLCGERISwihEWEsIgQFhHCIkJYRAiLCGERISwihEWEsIgQFhHCIkJYRAiLCGERISwihEXE79UH8G33fS/53Od5lnzuKmeFdd/3qgu88KOX8Cgk4qCw1m7G8zyrnsJLHBQW33RKWDt8xTlqtE4Jiy87Iqwd5urjnNHqf93wUlX6Gm9S8xL9Yb1YcuE/o1XfXPmjcM9LeMIDsTwsVmkOa8+5+qgfreawWKg2rJ3n6qN7tDrD2r+qep1hTVE8WoVhzZqr1rYKw2IHbWHNmquPytGqCmtiVa2qwpqrb7R6wjJXW+kJa7qy0SoJy1ztpiSsDk2j1RBW01zVtDU+rKaqmowPq0/HaM0Oy1xta3ZYrQpGa3BY5mpng8PqNn20poa18M9Qf9y4A/4fU8N6uaFn3esvd8isE/nH1LBOMPpL5OCwCkZrdDrvBofVbXpzs8MaPVrT03k3O6xWBc2ND2voaBWk8258WH06mmsIa9xovb/dLajq6gjrGtVWTTrvSsLq0NRcT1gjRqspnXc9YU1X1lxVWJuPVlk676rCmquvubawth2tE14x/K0tLDZRGNaGo3XaXF2VYV2btdWazrvOsKYobq42rE1G68CH4EdtWKzVHNby0Tp2rq7usFioPKyFo3XyXF31YV2rX7gfqz+sF7nmDp+r67qOOMlrm8u5yWF8wdGLRc4pYe3wTeucubrOCYsvOyisbX8fq9JBYfFNZ91G17p/n3fcz/m0E+Y7PAqJEBYRwiJCWEQIiwhhESEsIoRFhLCIEBYRwiJCWEQIiwhhESEsIoRFhLCIEBYRwiJCWEQIiwhhESEsIoRFhLCIEBYRwiJCWEQIiwhhESEsIoRFhLCIEBYRwiJCWEQIiwhhESEsIoRFhLCIEBYRwiJCWEQIiwhhESEsIoRFhLCIEBYRwiJCWEQIiwhhESEsIoRFhLCIEBYRwiJCWEQIiwhhESEsIoRFhLCI+ANcz1SYoIL0pAAAAABJRU5ErkJggg==\" alt=\"Mol\"/></td>\n",
       "    </tr>\n",
       "    <tr>\n",
       "      <th>126</th>\n",
       "      <td>CC(=O)N1c2ccccc2Sc2ccc(C(=O)CCl)cc21</td>\n",
       "      <td><img src=\"data:image/png;base64,iVBORw0KGgoAAAANSUhEUgAAAMgAAADICAIAAAAiOjnJAAAFT0lEQVR4nO3dUXKjSBAA0WZjb+S9/wlGZ2I/iJUxAs2OurKpgnxfHk/YIkSquwUYTfM8NynaX2dvgK7JsIQwLCEMSwjDEsKwhDAsIQxLCMMSwrCEMCwhDEsIwxLCsIQwLCEMSwjDEsKwhDAsIQxLCMMSwrCEMCwhDEsIwxLCsIQwLCEMSwjDEsKwhDAsIQxLCMMSwrCEMCwhDEsIwxLCsIQwLCEMSwjDEsKwhDAsIQxLCMMSwrCEMCwhDEsIwxLCsIQwLCEMSwjDEuLvszfgiqbp++t5Pm87zmRY0abpR0ybf96GU6EQhiWEYQlhWEIYlhC+K4w2zx5uaIYVY3NM4a4xrTkVdrvrkar3DEsIw+qzO1yt11h3ZVjRnBlba4bVxYaOGdaHpqNJ0NRaa4YliGF9Ypqm2eHqLcOKsT8z3phh/bH94Uo/3fo5mroPOC3P3vjUOrd8wNbe+lxh//N7yujV/6ADNtupsJcz4y7D6lJxuGqtzfPcvwx4z7AqKTQ6GlaveZ4rnnSmB61bL95reR2uPihj/RuWtqAh0LACLFcjo3PUbgGZp0WnwlvjJkTDirH5E4pYhdbsT4Z1d9CgZVhhoDGl4nDVDCu5MVURg5ZhqTWgLcPKq+gkuDCspMZXFTtoGVYN0NEm7qxO4cE2p2VPPZ/UoyPyqx26v2tf90v4GLb7C6MexVM64xzchGZ/Lxa9hPDJsOIdnTrs3GWx54zpcF1jJbW7lEavdYlNzbAQ6KnDfl7zfmsjB63w1AyLEjJoEW2NeVtgWPeCHmJYM6xgm3uR9u+v8av4EIYVhtvRURkNG66aYUUZf0+QkNq49ZZh1dA/IQ4+lG9YAYrewghNzbDK6Bm0Trgfjlc3dBq8z6IeznOFqZW+yBPVdXXD9PgehOevefnO8oUgIdc4DHg9fB7WpqHXpF6zuxiHqzfCrsd6TWeT3fd//PPysyftnuQHr4/0H8G6zq0if2S3cx/rqldL1t1ymot3IVKENf6UatSLvu6W08LC+rGK0u19vsaav+bA933o3eU2Pj7Jf3T3s2Fb/njUGK5aqiPvJ4b1/x965JUnG4/H9FXnqE2KNdZizHqFiCD/ZXfjJQrrLH+U2lkN1RquWraw6N3GzVkOWhu5wmrkHopaHh1tIbfl5Yarlmrx/gSNK4Hr7qOfqnKQaYB0I1ZjXvqx7+bGD1rlZAxrjM7RxYbeSxpW7G4bOUMZ3CJpWLQqH85WV+qwuL/SRBlcS3vjtaWGkccdPkOcKHz8dwa23CGGtaRhLULaOuX9/5st//Vr55vPhtaHrCoevnrKGNZ6DHh+8fHAsPnB8AFmd9AKeZS6VbUqB0h79lO5q4evMRXmC2vv79U74yj6N6Wlp8Jk7wqBqmp5XOVC3GRhMUa+/7/Vy+CNTM/C7k1bgu7kMmZ/hzyKa6xorw2F3h9oQFsOV09ppsKi95hasaq1NGFhk+DqEcp8rMMFpAlrCM/iDZM1rFIzo8PVq4yndFrDPhJ+7wzMB2OYGf1W1rAGyn8Ts4qyToWkwJWWVR25Y1ga4NQX3MFn2Y568AJ38qzrvDXW5n1fqbeB+q37Lt5L3MmzrvuG1SyD5OJdCMMSwrCEOG+Ntfkwbpc713Lq4t2YrsupUAjDEsKwhDAsIQxLCMMSwrCEMCwhDEsIwxLCsIQwLCEMSwjDEsKwhDAsIQxLCMMSwrCEMCwhDEsIwxLCsIQwLCEMSwjDEsKwhDAsIQxLCMMSwrCEMCwhDEsIwxLCsIQwLCEMSwjDEsKwhDAsIQxLCMMSwrCEMCwhDEsIwxLCsIQwLCEMS4h/AdKT2KB87WeWAAAAAElFTkSuQmCC\" alt=\"Mol\"/></td>\n",
       "      <td>c1ccc2c(c1)Nc1ccccc1S2</td>\n",
       "      <td><img src=\"data:image/png;base64,iVBORw0KGgoAAAANSUhEUgAAAMgAAADICAIAAAAiOjnJAAAEvElEQVR4nO3dUW6bQBSGUai6o+x/CVkTfUCijZPaYOafuaBzniLVxnD9Gagdk3lZlgla+zV6BbgnYREhLCKERYSwiBAWEcIiQlhECIsIYREhLCKERYSwiBAWEcIiQlhECIsIYREhLCKERYSwiBAWEcIiQlhECIsIYREhLCKERYSwiBAWEcIiQlhECIsIYREhLCKERYSwiBAWEcIiQlhECIsIYREhLCKERYSwiBAWEcIiQlhECIsIYREhLCKERYSwiBAWEcIiQlhECIsIYREhLCKERYSwiBAWEcIiQlhECIsIYREhLCKERcTv0StwDZ+f8/rDx8cydk2uomJY8zwvS6Hn7/Nz3nr69+ciqo1rVSuseZ6naVqWZfth9Bo9KlVV5XFVif3H0dSZV7VDYfFxTRXCejmOUbv6H496FQ6LzwdSJK/Bh8I90fTf1a/7p5cBfXwsD7dM2zOH9V+Hn3gNC+tQK9uw9t/lPUdDWW/ZIa+j2z78xGtA1yc3OPdafHJo23OOlTsyntnkUXl1DWvPRu4ZYvNhtdrlNN917dzSl0Prn1e/sPa/7PZPc8/NnkscxZosMzGEnidePR7pvQJavVhD933pzJExt9vutuvKhnV+M3YePY8+Sp/5hlasz1RPCobVcH/QcNwDzjbarVjblY/usCOLDj1558/9B767c3LFBo70zSW3XWiPfeyOd+q/36DC+9HvrViFkb6zzJ5Hq4b2Px8VkvrX/hWrNtJjS2uyoFGHmLKfM75U9vO+VhOr9WszR3X7qKeb22zLtcNa3SOvq6//g9TvvK9j6mlZlu3E5XLWA9Coz20T7vZliou+4i+62k/cLSyKEBYRwiJCWEQIiwhhESEsIoRFhLCIEBYRwiJCWEQIiwhhESEsIoRFhLCIEBYRwiJCWEQIi4i7hXXdr3+NXoXGUl9YvdylTccadY2J3MPd4ZvQl05qc4/vc2+uHdZtnobNbfJyGaPeXMborcUVuEpY2QuvTT9dJKhCXqUvvPZloZmrUp1/DsZeKnL6/7oNzCv1ZIUG3fwyrC+XtnNAIy5uO+2cc+crkUZH4XLcQeubU4cexOW4jzzGWzvbDiOe52PP+qElTweT+nr34Lb3OR/odM5x9C9z7LlxkwGdLOB/y2yywOZ/n6LnaYA/0rQucJpa59VEq9fYgDPLIZ+9nDh4Jc83L57Xk7sPeJZrXka7yV3ec6e8Rl7We+B7hvs3u/9rLndef1LZd1UeV6Dgm9EP/zoVeMe8lMrvA/9dh+FrMNX+EGb6dnDcdmYPe7XOO7niQyvx2w0PH+nXmU5lxYdWIqzVNqk609ksS9GzrrJDKxTWqtqAnivyG8UFh1YurLJ+3Gk9nGOxuduXKShCWAesOy32EBYR5f43wT3YYxEhLCKERYSwiBAWEcIiQlhECIsIYREhLCKERYSwiBAWEcIiQlhECIsIYREhLCKERYSwiBAWEcIiQlhECIsIYREhLCKERYSwiBAWEcIiQlhECIsIYREhLCKERYSwiBAWEcIiQlhECIsIYREhLCKERYSwiBAWEcIiQlhECIsIYREhLCKERYSwiBAWEcIiQlhECIsIYREhLCKERYSwiBAWEcIiQlhECIuIP978JWiiqT1zAAAAAElFTkSuQmCC\" alt=\"Mol\"/></td>\n",
       "    </tr>\n",
       "    <tr>\n",
       "      <th>194</th>\n",
       "      <td>CNCC(N)=O</td>\n",
       "      <td><img src=\"data:image/png;base64,iVBORw0KGgoAAAANSUhEUgAAAMgAAADICAIAAAAiOjnJAAADfklEQVR4nO3d207bQABAQbvq///y9oGWAiFu2nJ82cyIhwSQvMKHtdc2Yh1jLPDVvh09AOYkLBLCIiEsEsIiISwSwiIhLBLCIiEsEsIiISwSwiIhLBLCIiEsEsIiISwSwiIhLBLCIiEsEsIiISwSwiIhLBLCIiEsEsIiISwSwiIhLBLCIiEsEsIiISwSwiIhLBLCIiEsEsIiISwSwiIhLBLCIiEsEsIiISwSwiIhLBLCIiEsEsIiISwSwiIhLBLCIiEsEsIiISwSwiIhLBLCIiEsEsIiISwSwiIhLBLCIiEsEsIiISwSwiIhLBLCIiEsEsIi8f3oAfTW9ffrMY4bx3OZPax1fRfTh7dkpj4U3mY0xrsJjMzUYXEcYZEQFglhkZg6rNtTdavCvcx+ueFDW6ray+xhLWI6xtSHQo4jLBJTh3XvIruL772pw+I4wiIhLBLCIiEsEsIiISwSwiIxc1j3LoO6PLqDmcPiQMIiISwSwiIhrNztsxSvn9n40tUJaw/T5PK4ZwlrPXTfPuEfYM/8zPsYY/mV1Bjj9cXwFHxv5rBeS3p5+6GznQfzMmndbnbWmWzOsDbqOTCvT9v68HaazmYLa12XZVn/WMxrXl1bT/63sfOE9fK7PsayLI/uz7cnXs1Ibrc4z5y0bZKw/nl6+Noj40ZSb7b4FG2Fx4LdfNVB53/yeiSpp3LtsIrd+bd5ret6xCrz7C4cVnp2/Mh5/Q5Ly+uuAC4cVm27m3RF+X5Dy3LBg+x+t3S2b7iu68+PB79/By/X6Nd1vb0dtFtVy7KMccnz/VOsCt9O+PdeH+XefaHdh3HYPYN/c4qw7v2s7t0G2d8OF1QvMYbHnevphpNkdM8Z9ugZxvCIXWes7ROFT6s6z6TFX9k1rI0brhv1aOuKTnEo1M18ThHWH11xvf3kTrEqXB7432/aupZrrF25nGscCrkcYZEQFglhkRAWCWGREBYJYZEQFglhkRAWCWGREBYJYZEQFglhkRAWCWGREBYJYZEQFglhkRAWCWGREBYJYZEQFglhkRAWCWGREBYJYZEQFglhkRAWCWGREBYJYZEQFglhkRAWCWGREBYJYZEQFglhkRAWCWGREBYJYZEQFglhkRAWCWGREBYJYZEQFglhkRAWCWGREBYJYZEQFglhkRAWCWGREBYJYZEQFglhkRAWCWGREBaJH7tO54MPMByuAAAAAElFTkSuQmCC\" alt=\"Mol\"/></td>\n",
       "      <td></td>\n",
       "      <td><img src=\"data:image/png;base64,iVBORw0KGgoAAAANSUhEUgAAAMgAAADICAIAAAAiOjnJAAACFElEQVR4nO3SwQ3AIBDAsNL9dz6WIEJC9gR5ZM3MB6f9twN4k7FIGIuEsUgYi4SxSBiLhLFIGIuEsUgYi4SxSBiLhLFIGIuEsUgYi4SxSBiLhLFIGIuEsUgYi4SxSBiLhLFIGIuEsUgYi4SxSBiLhLFIGIuEsUgYi4SxSBiLhLFIGIuEsUgYi4SxSBiLhLFIGIuEsUgYi4SxSBiLhLFIGIuEsUgYi4SxSBiLhLFIGIuEsUgYi4SxSBiLhLFIGIuEsUgYi4SxSBiLhLFIGIuEsUgYi4SxSBiLhLFIGIuEsUgYi4SxSBiLhLFIGIuEsUgYi4SxSBiLhLFIGIuEsUgYi4SxSBiLhLFIGIuEsUgYi4SxSBiLhLFIGIuEsUgYi4SxSBiLhLFIGIuEsUgYi4SxSBiLhLFIGIuEsUgYi4SxSBiLhLFIGIuEsUgYi4SxSBiLhLFIGIuEsUgYi4SxSBiLhLFIGIuEsUgYi4SxSBiLhLFIGIuEsUgYi4SxSBiLhLFIGIuEsUgYi4SxSBiLhLFIGIuEsUgYi4SxSBiLhLFIGIuEsUgYi4SxSBiLhLFIGIuEsUgYi4SxSBiLhLFIGIuEsUgYi4SxSBiLhLFIGIuEsUgYi4SxSBiLhLFIGIuEsUgYi4SxSBiLhLFIGIuEsUgYi4SxSBiLhLFIGIuEsUgYi4SxSBiLhLFIGIuEsUgYi4SxSBiLxAYhCgSN2aqNlwAAAABJRU5ErkJggg==\" alt=\"Mol\"/></td>\n",
       "    </tr>\n",
       "    <tr>\n",
       "      <th>115</th>\n",
       "      <td>O=C(CCCC(=O)OCC(F)(F)C(F)(F)C(F)(F)C(F)F)OCC(F)(F)C(F)(F)C(F)(F)C(F)F</td>\n",
       "      <td><img src=\"data:image/png;base64,iVBORw0KGgoAAAANSUhEUgAAAMgAAADICAIAAAAiOjnJAAAFdElEQVR4nO3dW3LbOBQAUSGVHVH7X4G0JuYDNszoQfGBBi7NPh9TGo+TEuEWCEKUJ43jeJFq+9P7Ceh3MiwhDEsIwxLCsIQwLCEMSwjDEsKwhDAsIQxLCMMSwrCEMCwhDEsIwxLCsIQwLCEMSwjDEsKwhDAsIQxLCMMSwrCEMCwhDEsIwxLCsIQwLCEMSwjDEsKwhDAsIQxLCMMSwrCEMCwhDEsIwxLCsIQwLCEMSwjDEsKwhDAsIQxLCMMSwrCEMCwhDEsIwxLCsIQwLCEMSwjDEsKwhDAsIQxLCMMSwrCEMCwhDEsIwxLCsIQwLCEMSwjDEsKwhDAsIf72fgINpfT1YBy7Po9TOE1YKf30NH0shqdCIQxLCMMS4jRrrHF08d7SmWas3FP+Z4lMjDOFpYZOFlY5IU7PjAKcLKwJs0KdLqzS0ziOyUkLc5qrwm/21MbpwrpcLuPlZ8fhObLRzYga0unG8dMbhSW1041MVSdbYy14+3kcR5Pa72RhWUwr4U6F1/s9P7gNw5Lvny6Spoun/VIKNzgHEnHxvjCpy8uffdn/VFcRw8qT1se8Xs8o06/4rnM/EcNaMmN9Pk95y2hX0RfvZclVpJRc/cQXPazbMEzbyklZVXzHeOlf7/fbMKybqGqcCp0aNzvMwG35Ge9evBvWZj0X78u3rPIPePWPuUYTeZ+sY15rN/aC6HxVuOoCcBzHfE7kn9eX0lPf96qPlVTWc6pf8lp8nqUat/VOs/eqnbG2mB+sl+e+fJ3YfZTzE2tza9f8wcYsL8oG6cLd9izOCG5Z+QHiDEgRZR/rNgwvt6w6PqUDud7vzzvJfYX74W28AOwHfapLTvrz39PrRNniVLjq2NZWFXOFEUqXkWm0xlp7J8yqtvomtWd+bbNJtmr9WkujsNbeCbNqy6rLwO2VUnp1afkQ2f16nd/mXTJKZ5+xHl73y7cVDpbU5eu9y3Ko06Oebo8daKH5rMNV4cvrl0MPYkXjt1xYvkfo3TdH2M97p8M+1vNU9K6qsKM2teUydtl3vntDqXy9yony+Y/kBzsHv0VYz09xOiI756rO8U2efN1Jd7jdyuOHv5be7q8ypH123stL/NhnwMltXvlYUko/B4MdV1nyP/y6gFojWeViqNtbOoffr/r/5sFer5CXC//y9Y/nyuzhjHngGetywP2qR/9/HGjuKDbdb/jxYKfnyu+//nVk86ArgD5hTferUkrD7bbk2ILuV83f98x8WGhJDR83yS7kRNs6rOe95vw47EbfZyHXiGU+e7dJdnl/V1KVJ9A0rJnXR9Booto2XA/7F+iisE5Y2+4FVS8zM1Yt1WasktTLldD+YwgxpW1Yhq///fLNrn+fl/8VVQur9JSHI//r/XrN//U3zFWbl+Hrj31/Ut1fh3Umw/ml97H3q4pWvwyi5Qhw7za2WLwfe7+qh4B3hK7V6Kpw1ek86H5VGBVHhhvkOmEt2YJaPusGTSrM/+bpEC+8KB//OoYmPe3cKA5yrmwXVvBX2G8SYaijfK6wiDAoRxfhY4aeCg+m+ocAoFOnYQk5S4Q7Fao94tTZdMYKcsHyu20Y299wo59JnUTrU2GECxY14Ix1dtBPxMW7EIYlhLcLC+GMJYRhCWFYQhiWEIYlhGEJYVhCGJYQhiWEYQlhWEIYlhCGJYRhCWFYQhiWEIYlhGEJYVhCGJYQhiWEYQlhWEIYlhCGJYRhCWFYQhiWEIYlhGEJYVhCGJYQhiWEYQlhWEIYlhCGJYRhCWFYQhiWEIYlhGEJYVhCGJYQhiWEYQlhWEIYlhCGJYRhCWFYQhiWEIYlhGEJYVhCGJYQhiWEYQlhWEIYlhCGJYRhCWFYQhiWEIYlxD9pKarVaIVMbwAAAABJRU5ErkJggg==\" alt=\"Mol\"/></td>\n",
       "      <td></td>\n",
       "      <td><img src=\"data:image/png;base64,iVBORw0KGgoAAAANSUhEUgAAAMgAAADICAIAAAAiOjnJAAACFElEQVR4nO3SwQ3AIBDAsNL9dz6WIEJC9gR5ZM3MB6f9twN4k7FIGIuEsUgYi4SxSBiLhLFIGIuEsUgYi4SxSBiLhLFIGIuEsUgYi4SxSBiLhLFIGIuEsUgYi4SxSBiLhLFIGIuEsUgYi4SxSBiLhLFIGIuEsUgYi4SxSBiLhLFIGIuEsUgYi4SxSBiLhLFIGIuEsUgYi4SxSBiLhLFIGIuEsUgYi4SxSBiLhLFIGIuEsUgYi4SxSBiLhLFIGIuEsUgYi4SxSBiLhLFIGIuEsUgYi4SxSBiLhLFIGIuEsUgYi4SxSBiLhLFIGIuEsUgYi4SxSBiLhLFIGIuEsUgYi4SxSBiLhLFIGIuEsUgYi4SxSBiLhLFIGIuEsUgYi4SxSBiLhLFIGIuEsUgYi4SxSBiLhLFIGIuEsUgYi4SxSBiLhLFIGIuEsUgYi4SxSBiLhLFIGIuEsUgYi4SxSBiLhLFIGIuEsUgYi4SxSBiLhLFIGIuEsUgYi4SxSBiLhLFIGIuEsUgYi4SxSBiLhLFIGIuEsUgYi4SxSBiLhLFIGIuEsUgYi4SxSBiLhLFIGIuEsUgYi4SxSBiLhLFIGIuEsUgYi4SxSBiLhLFIGIuEsUgYi4SxSBiLhLFIGIuEsUgYi4SxSBiLhLFIGIuEsUgYi4SxSBiLhLFIGIuEsUgYi4SxSBiLhLFIGIuEsUgYi4SxSBiLxAYhCgSN2aqNlwAAAABJRU5ErkJggg==\" alt=\"Mol\"/></td>\n",
       "    </tr>\n",
       "    <tr>\n",
       "      <th>120</th>\n",
       "      <td>CCN1c2ccccc2Sc2ccccc21</td>\n",
       "      <td><img src=\"data:image/png;base64,iVBORw0KGgoAAAANSUhEUgAAAMgAAADICAIAAAAiOjnJAAAFl0lEQVR4nO3dW5acOBBFUeHlGdX8h5Bjkj+wWRgS8ZBuRAid/dudVTxOCaWA7innnIDWfnlvAN6JsCBBWJAgLEgQFiQICxKEBQnCggRhQYKwIEFYkCAsSBAWJAgLEoQFCcKCBGFBgrAgQViQICxIEBYkCAsShAUJwoIEYUGCsCBBWJAgLEgQFiQICxKEBQnCggRhQYKwIEFYkCAsSBAWJAgLEoQFCcKCBGFBgrAgQViQICxIEBYkCAsShHVomibvTegYYR3KOdPWY4RVQluPEdYJ2nqGsM7R1gOEdQlt3UVYV9HWLYR1A21dR1j30NZFhHUbbV1BWE/Q1inCeoi2ygjrOdoqIKwqtHWEsGrR1leE1QBt7RFWG7S1QVjN0NYaYbVEWwvCaoy2ZoQFCcJqbJqmnLP3VvgjLEgQFiQICxKE1RITrAVhtUVVfxEWJAirmWlKXAYXhAUJwoIEYUGi47CmaYpzu5cJ1sZv7w24Z13SvGLE0lFMfZyVpaevW0tbAcU9JfvBqfwvh92RMcU6H7di2n821L4MLsTJKF/pbv2cCLuD5BhWzeBU/rG0FYHDaZiT0v1e2orAZx2ryYk/WsfidYYIrP+464eTixMyxi1ffSyQPpiQzeOWoq39IjvL7nuhw6r8tmjZFjYihtVq9SHJ2sqZtk6YhlU4x6LVh6Qct1DgP2KpVx9SdVtz85tPM2iV+YdlM5bcbWu9XnH0IdoqsAvL/XpUbmt1Lc7pOCZc5D9iWdq0VT+xmwct7I0VVvp/Xb7JCEpbX3X8aPKpwo2dnPPjqvaf26+Xwigs9wmWJcaw9OIR6yhlm8Rp67VhuZvbGjYvwhLKWTt0hXoBbsPiW+FQE6y9nFsegV5egHvncoPvBGuv/n5lYYkk5s3Qd4YV0LPTf3HJLWBb8rCi7bCji6f/2f2AaG35jFihDoGlwumvvx8Qqi35dthPd6JNsPaWLVE8hRZkN93mWKH+vIwt9ysrHhE7PHRBDqx2Hau8h4O/p1Vz7suHLsKBdV4gjXAI7DUZUa605XhstWFd6aZtW/EnWA2dtuX4dysfsezb6tSzI3B66LyOrcWlkLakYrZlNMeim4XmPcdwbdlN3g12vt8JVv0WRmvL9FthtJ0fjeXhtV5uGLwt6dgZai7rsI6layv49c5AnLbc/sNr5eW7hjs/wgRrLUhbbivvp8t3774mSkU4dKFv6TT5nljz8bYsx87yoTPYEv8nSMt34x/sfy9Phav5PubgH1ZqdAi6eyp8ZvA90WXHQ4SVqh8JTx0+FW5j6BFrJn0k3F2crG22JFBYaaRHwl8v3JvQ668z00r+p/KHfz6Dfk80FnTHKh8JL/t8pp+fEP/bBPuwzH5juBFrVj84Ffz8xBq3XiloWGq0pTZoWClAWy+eYKWRw0pWbcUJyHJLhg4rids6fYJD9HsjiPLH9Bpf12+DDFqMWJ35fL6st61PYYTnWIyF+Evq1HINvbgq5jtuGf/2WLd0unC3p8VQ95QIa2s9l9+kM/+jmlV7dVv1d1SbbYn7FoSyudsjuvnTtq0rj3vYj5SMWCWiW4r141b8Z4cYsbbqr3cX3W2rJiaHu92E9ZVNXqfnu9XIRFixGDxgU36wscnZcfkqygLpf+xvSx+tnbZ6cMhrYZbJu7/maxARpvZcCrcK61hS0hfg7BFWINIX4IwRViyveQGOsMLRvQBnibAiWtrqYnD6irCCkr4AZ4CwIMECKSQICxKEBQnCggRhQYKwIEFYkCAsSBAWJAgLEoQFCcKCBGFBgrAgQViQICxIEBYkCAsShAUJwoIEYUGCsCBBWJAgLEgQFiQICxKEBQnCggRhQYKwIEFYkCAsSBAWJAgLEoQFCcKCBGFBgrAgQViQICxIEBYkCAsShAUJwoIEYUGCsCDxBwJ521YCRDljAAAAAElFTkSuQmCC\" alt=\"Mol\"/></td>\n",
       "      <td>c1ccc2c(c1)Nc1ccccc1S2</td>\n",
       "      <td><img src=\"data:image/png;base64,iVBORw0KGgoAAAANSUhEUgAAAMgAAADICAIAAAAiOjnJAAAEvElEQVR4nO3dUW6bQBSGUai6o+x/CVkTfUCijZPaYOafuaBzniLVxnD9Gagdk3lZlgla+zV6BbgnYREhLCKERYSwiBAWEcIiQlhECIsIYREhLCKERYSwiBAWEcIiQlhECIsIYREhLCKERYSwiBAWEcIiQlhECIsIYREhLCKERYSwiBAWEcIiQlhECIsIYREhLCKERYSwiBAWEcIiQlhECIsIYREhLCKERYSwiBAWEcIiQlhECIsIYREhLCKERYSwiBAWEcIiQlhECIsIYREhLCKERYSwiBAWEcIiQlhECIsIYREhLCKERcTv0StwDZ+f8/rDx8cydk2uomJY8zwvS6Hn7/Nz3nr69+ciqo1rVSuseZ6naVqWZfth9Bo9KlVV5XFVif3H0dSZV7VDYfFxTRXCejmOUbv6H496FQ6LzwdSJK/Bh8I90fTf1a/7p5cBfXwsD7dM2zOH9V+Hn3gNC+tQK9uw9t/lPUdDWW/ZIa+j2z78xGtA1yc3OPdafHJo23OOlTsyntnkUXl1DWvPRu4ZYvNhtdrlNN917dzSl0Prn1e/sPa/7PZPc8/NnkscxZosMzGEnidePR7pvQJavVhD933pzJExt9vutuvKhnV+M3YePY8+Sp/5hlasz1RPCobVcH/QcNwDzjbarVjblY/usCOLDj1558/9B767c3LFBo70zSW3XWiPfeyOd+q/36DC+9HvrViFkb6zzJ5Hq4b2Px8VkvrX/hWrNtJjS2uyoFGHmLKfM75U9vO+VhOr9WszR3X7qKeb22zLtcNa3SOvq6//g9TvvK9j6mlZlu3E5XLWA9Coz20T7vZliou+4i+62k/cLSyKEBYRwiJCWEQIiwhhESEsIoRFhLCIEBYRwiJCWEQIiwhhESEsIoRFhLCIEBYRwiJCWEQIi4i7hXXdr3+NXoXGUl9YvdylTccadY2J3MPd4ZvQl05qc4/vc2+uHdZtnobNbfJyGaPeXMborcUVuEpY2QuvTT9dJKhCXqUvvPZloZmrUp1/DsZeKnL6/7oNzCv1ZIUG3fwyrC+XtnNAIy5uO+2cc+crkUZH4XLcQeubU4cexOW4jzzGWzvbDiOe52PP+qElTweT+nr34Lb3OR/odM5x9C9z7LlxkwGdLOB/y2yywOZ/n6LnaYA/0rQucJpa59VEq9fYgDPLIZ+9nDh4Jc83L57Xk7sPeJZrXka7yV3ec6e8Rl7We+B7hvs3u/9rLndef1LZd1UeV6Dgm9EP/zoVeMe8lMrvA/9dh+FrMNX+EGb6dnDcdmYPe7XOO7niQyvx2w0PH+nXmU5lxYdWIqzVNqk609ksS9GzrrJDKxTWqtqAnivyG8UFh1YurLJ+3Gk9nGOxuduXKShCWAesOy32EBYR5f43wT3YYxEhLCKERYSwiBAWEcIiQlhECIsIYREhLCKERYSwiBAWEcIiQlhECIsIYREhLCKERYSwiBAWEcIiQlhECIsIYREhLCKERYSwiBAWEcIiQlhECIsIYREhLCKERYSwiBAWEcIiQlhECIsIYREhLCKERYSwiBAWEcIiQlhECIsIYREhLCKERYSwiBAWEcIiQlhECIsIYREhLCKERYSwiBAWEcIiQlhECIuIP978JWiiqT1zAAAAAElFTkSuQmCC\" alt=\"Mol\"/></td>\n",
       "    </tr>\n",
       "  </tbody>\n",
       "</table>"
      ],
      "text/plain": [
       "                                                                    SMILES                                                                                                                                                                                                                                                                                                                                                                                                                                                                                                                                                                                                                                                                                                                                                                                                                                                                                                                                                                                                                                                                                                                                                                                                                                                                                                                                                                                                                                                                                                                                                                                                                                                                                                                                                                                                                                                                                                                                                                                                                                                                                                                                                                                                                                                                                                                                                                                   Molecule                   Murcko_SMILES                                                                                                                                                                                                                                                                                                                                                                                                                                                                                                                                                                                                                                                                                                                                                                                                                                                                                                                                                                                                                                                                                                                                                                                                                                                                                                                                                                                                                                                                                                                                                                                                                                                                                                                                                                                                                                                                                                                                                                                Murcko_scaffold\n",
       "34                                         O=[N+]([O-])c1cnc2cc(Cl)ccc2c1O                                                                                                                                                                                                                                      <img src=\"data:image/png;base64,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\" alt=\"Mol\"/>                  c1ccc2ncccc2c1                                                                                                                                                                                                                                  <img src=\"data:image/png;base64,iVBORw0KGgoAAAANSUhEUgAAAMgAAADICAIAAAAiOjnJAAAEmklEQVR4nO3d0VLbMBRFUbvT//9l90E0BRogdnysK2WtJ6bDxBLeSE5I43XbtgXO9qv3AJiTsIgQFhHCIkJYRAiLCGERISwihEWEsIgQFhHCIkJYRAiLCGERISwihEWEsIgQFhHCIkJYRAiLCGERISwihEWEsIgQFhHCIkJYRAiLCGERISwihEWEsIgQFhHCIkJYRAiLCGERISwihEWEsIgQFhHCIkJYRAiLCGERISwihEWEsIgQFhHCIkJYRAiLCGERISwihEWEsIgQVn/r+vO/DEdYJUxQ0ieThLUOfma2bba2fvcewLNaUtu23b7oPSKWZeiwPpXUvhg3r7ZoDTjw+4YM65t6hs5rprbGC2td1x+LueU1XFvTGOnifV3XXa20C6+a1/VfDeruVXzJGfxgjBXr8NZWcGdslXwzlv/buv1LjRk8pPpmcWIT3fN6Po6B8iodVuIiqcuF17lBDJFX0bD2ri67crly6cpFUDyvcmEdPusHWjx2oIcff1nyJ75sXrXCen6fii51Dz/mslx7sgvmVSWsc9ePXY929qFPPsGPP2Cp1+36DyW3JV184ZWcyLI8tiB1f+b7byRdn37HfwrXXHhdczrHyqtbWFeu27kLr+tP4a6dcemXV5cXdfpM+NydseNp23Wp3u2nfe1vW/fXvk/YGbvP4u8wlqVwXheFVeRkNIfzKjWLpu4rwxccptTT4JsKr3idouZExnh3Q8I079kq+A6OZaz3YyVUfs/WLtu23TbrCl53xbqp+Rt/TJ0LwZ5hldqGpsmryERefSv8pNqGclj3iQjrjqFXrPesWMxGWEQIiwhhESEsIoRFhLCIEBYRwiJCWEQIiwhhESEsIoRFhLCIEBYRwiJCWEQIiwhhESEsIoRFhLCIEBYRwiJCWEQIiwhh3THBh4I0HSfi87E+6P7pP2fpPpGeYZU6f93PxFmKTMSKVeVMPK/URF49rFKfKnhYqaSa1w2r4Mk4pubvhhsI7Pj+UrNY6t3788OxXuqWJ8sZt3IoMotdY5j2licfDtnvJk2PH7fsTZrqJ/V2XLeVu/v9BW8rd+BYHS+/3AjzhCFdcP72HqL7ft3/CcUct+6NzmLXI3dP6m0Y3UfQzHGz8Y6zOP3oT6oSVvP8nlLhHmtd7lte7dWsWqNZnjgr1X6/L7tveamF6qZcWE104bn4qVxu+ayZVFM0rCa0T1085dDpr7b3fVJ6cEvhK+uOR6+8UN1UD6sp+1rAxSOpM5EfjRFWM8+F7f5drOZEvjFSWM2uv7eUnd3eV9rKTuQr4414KfwX4r2mmcj/hgyrKfuelr2mmch7A4fVlH0X3l7TTKQZPqxmxKuQu+aZyBzToBr/E5oIYREhLCKERYSwiBAWEcIiQlhECIsIYREhLCKERYSwiBAWEcIiQlhECIsIYREhLCKERYSwiBAWEcIiQlhECIsIYREhLCKERYSwiBAWEcIiQlhECIsIYREhLCKERYSwiBAWEcIiQlhECIsIYREhLCKERYSwiBAWEcIiQlhECIsIYREhLCKERYSwiBAWEcIiQlhECIsIYREhLCKERcQfq6LpJx4tYtUAAAAASUVORK5CYII=\" alt=\"Mol\"/>\n",
       "145                                                     O=S(=O)(O)c1ccccc1                                                                                                                                                                                                                                                                                                                                                                                                                                                                                                                                                                                                                                                                                                                                                                                          <img src=\"data:image/png;base64,iVBORw0KGgoAAAANSUhEUgAAAMgAAADICAIAAAAiOjnJAAAEJElEQVR4nO3dUXLTSBRAUXlqdgT7X8FkTZ4PV0FIohQOulJ3c84XzodR0TevZSGVb/f7fYOj/XP1AbAmYZEQFglhkRAWCWGREBYJYZEQFglhkRAWCWGREBYJYZEQFglhkRAWCWGREBYJYZEQFglhkRAWCWGREBYJYZEQFglhkRAWCWGREBYJYZEQFglhkRAWCWGREBYJYZEQFglhkRAWCWGREBYJYZEQFglhkRAWCWGREBYJYZEQFglhkRAWCWGREBYJYZEQFglhkRAWCWGREBYJYZEQFglhkRAWCWGREBYJYZEQFglhkRAWiX+vPoDM7fbzz/f7dcfxl1o0rNvtl5jevKS34lb4PqP7/ZcBRm/FsBiAsEgseo51qduh2+59zrNDYR3sdrsdm8Lhb3iOFbfC96fqPhWebsrfht9yxXWsaLrMOLTW3QpnW4nFrLgVXqSbK/f7/dgPBCcQVu6pJqYLaM+KYe2tTblme+Pq2TG2N5ymG1orhnW6c06u52pLWKGvBTdXQHuE9afOvBYwUXMLhvXy33M/j/xJcBMFtGfBsM50/qXLWZqb75LuUI76MHj+m9dMrK+7aoGnGFrCOt5RwU0R0B5hfdE5+9S810uF9RUjnOUM3pawjlQEN3hAe4T1tBHG1cPIzQnrMG6bee2sG/3e3xz8/pnSH45YnpeXn2/47dth6z3OuHp4NDfUIT2McQfp0Q8uv7zcXsf05mWhXt1hA9ozQFh7Dy7vzbNt23b+42+vnjc/fz3M3vj+/fNjHfFhrDGbO+uAPtkKP5xPRwyt7dBN8OHDJTxtXa/9259yYljvlWE9HJ7XgKs44CFtC0+s1449xxpqIYc6mNfWvNzwyVkU5xggrNkeXB7nqtKw42obYiv88fKHga9jPYywoiMcwyeGPriRXb6ulx/A5wbYCud07YY4eFWbsIgsGNbeR8LDPypeNbTGH1fbkmExggnaf9re1YrmKsbJ82OKcbWZWHOZpaptiLsbJrd3c8Gfn37N0tCHhHWAD9s6PIuJxtW25la4968/z6osYMWwrlBfephrXG3CmsJ0VW3COtA4dz2MQFijm3FcbT4VHuv3h9aMrTxlyt+GBfz+pjnpAq0blq/uvdSiW6Gv7r3aiifvvrp3ACuGxQCERUJYJIRFYsWwZnsCdkmLXm5405aqTrdoWJuYLrbiVsgAhEVCWCSERUJYJIRFQlgkhEVCWCSERUJYJIRFQlgkhEVCWCSERUJYJIRFQlgkhEVCWCSERUJYJIRFQlgkhEVCWCSERUJYJIRFQlgkhEVCWCSERUJYJIRFQlgkhEVCWCSERUJYJIRFQlgkhEVCWCSERUJYJIRFQlgkhEVCWCSERUJYJIRFQlgkhEVCWCSERUJYJIRFQlgkhEVCWCSERUJYJIRFQlgk/genUaXhPVdObAAAAABJRU5ErkJggg==\" alt=\"Mol\"/>                        c1ccccc1                                                                                                                                                                                                                                                                                                                                                                                                                                                                                                                                                                                                                          <img src=\"data:image/png;base64,iVBORw0KGgoAAAANSUhEUgAAAMgAAADICAIAAAAiOjnJAAADf0lEQVR4nO3cQW6cQBiEUYhy/yuTxWyiLFAWrun+q9+7wID5KEbI9v08zwU/7dfqA6CTsIgQFhHCIkJYRAiLCGERISwihEWEsIgQFhHCIkJYRAiLCGERISwihEWEsIgQFhHCIkJYRAiLCGERISwihEWEsIgQFhHCIkJYRAiLCGERISwihEWEsIgQFhHCIkJYRAiLCGERISwihEWEsIgQFhHCIkJYRAiLCGERISwihEWEsIgQFhHCIkJYRAiLCGERISwihEWEsIgQFhHCIkJYRAiLCGERISwihEXE79UH8G33fS/53Od5lnzuKmeFdd/3qgu88KOX8Cgk4qCw1m7G8zyrnsJLHBQW33RKWDt8xTlqtE4Jiy87Iqwd5urjnNHqf93wUlX6Gm9S8xL9Yb1YcuE/o1XfXPmjcM9LeMIDsTwsVmkOa8+5+qgfreawWKg2rJ3n6qN7tDrD2r+qep1hTVE8WoVhzZqr1rYKw2IHbWHNmquPytGqCmtiVa2qwpqrb7R6wjJXW+kJa7qy0SoJy1ztpiSsDk2j1RBW01zVtDU+rKaqmowPq0/HaM0Oy1xta3ZYrQpGa3BY5mpng8PqNn20poa18M9Qf9y4A/4fU8N6uaFn3esvd8isE/nH1LBOMPpL5OCwCkZrdDrvBofVbXpzs8MaPVrT03k3O6xWBc2ND2voaBWk8258WH06mmsIa9xovb/dLajq6gjrGtVWTTrvSsLq0NRcT1gjRqspnXc9YU1X1lxVWJuPVlk676rCmquvubawth2tE14x/K0tLDZRGNaGo3XaXF2VYV2btdWazrvOsKYobq42rE1G68CH4EdtWKzVHNby0Tp2rq7usFioPKyFo3XyXF31YV2rX7gfqz+sF7nmDp+r67qOOMlrm8u5yWF8wdGLRc4pYe3wTeucubrOCYsvOyisbX8fq9JBYfFNZ91G17p/n3fcz/m0E+Y7PAqJEBYRwiJCWEQIiwhhESEsIoRFhLCIEBYRwiJCWEQIiwhhESEsIoRFhLCIEBYRwiJCWEQIiwhhESEsIoRFhLCIEBYRwiJCWEQIiwhhESEsIoRFhLCIEBYRwiJCWEQIiwhhESEsIoRFhLCIEBYRwiJCWEQIiwhhESEsIoRFhLCIEBYRwiJCWEQIiwhhESEsIoRFhLCIEBYRwiJCWEQIiwhhESEsIoRFhLCI+ANcz1SYoIL0pAAAAABJRU5ErkJggg==\" alt=\"Mol\"/>\n",
       "195                                               O=C(C=Cc1cccnc1)c1ccccc1                                                                                                                                                                                                                                                                                                                                                                                                                  <img src=\"data:image/png;base64,iVBORw0KGgoAAAANSUhEUgAAAMgAAADICAIAAAAiOjnJAAAFM0lEQVR4nO3d246bMBRAUVP1/3+ZPqAiFDIJMGf7crzX00jTXNljg0Posq5rkaL9af0ElJNhCWFYQhiWEIYlhGEJYVhCGJYQhiWEYQlhWEIYlhCGJYRhCWFYQhiWEIYlhGEJYVhCGJYQhiWEYQlhWEIYlhCGJYRhCWFYQhiWEIYlhGEJYVhCGJYQhiWEYQlhWEIYlhCGJYRhCWFYQhiWEIYlhGEJYVhCGJYQhiWEYQlhWEIYlhCGJYRhCWFYQhiWEIYlhGEJYVhCGJYQhiWEYQlhWEIYlhCGJYRhCfG39RN4tSzL9sO6rm2fiX6ji7D2mMqhp2VZbGtczTbe25jO/8a2BlV1y12J6XwT2xoRvtkexHS+B9saDrXNYvfBbWs44HLDuq5RNazrehz51D9kJPjNAPNhqNt+5dA1hH6XG862XzktDqFZWI936rdp0bY6VzWs3x8h7re1rc7Fb57zJoc+pbGtntUYsaDN77jVs7HPbnAZoltjh1Vsq1fBYTWZm2yrQ+ONWDY0hPHCOnMXvkORYVXYwDY0igwjljpkWEKMFNbbedDJsU9hYbmBdTTSiKWBUGHVWW1ymOwWFVb4argNjSUmrLdb3U9aZsbuY9nWtGLC+hBQSFsuNAwnbMSi29JYIqdC2+rN8l+Dh65wzvuVX929Q+fBn3Ry6Z74c94/nIruWeqElwGpk3cevHYDenGiyQN99kW6mm8a+EhoWxOGFfKtzGrvG/swUFtTVRX+rcw6716zBdLHx4kTHl0+u25P2yP0GvGGTHz7z7NdGgQa2uk3sNaMe/9lfN2lmKEtdGcUfQMrHiZcexm3dinStxWyhtekrXpXm/mwlOIljVBNVhZrb5X9ZURd0qikHrfeXrrn2YutPG412CTEFR9TthX+WVbNthqc8/7s4PnrfU64DHFXzbME/DLFVTnCrdZWnrDoQauHQTFkwqrTVp6wCrPtm53PRO41Vvgj6eJy3IFCjp9/OmLNtLrx9rUEvrpsYZWnm7//T43Cnw/6d5IwrHLnLfuw0L/PF1kHrUL+Nx85wypBC/3Htdyqp1+O327asLZtE7LQ/5JXk0GrwiPGPkTasDZvp7PHd1VSjCU/G3zlvbJ9oT/kAHsvtfmaVufyhxUuttSzJoPispTYx8wZVoVts7dV4zTfAeffnGHVsW3s2FXsNDNs8p33XZ1PSB6fKXW8q3J6tvzxYPA8WLKGVW3a2Jce7q54fV7+SLAMmzEs4g/wmq95XT+jv2ZbxINkDOsdbvucC3iZzuY8o3+OsKqPYce1rkHL+KU5woKdPzuKimncQStdWO12sDbQ6fwP7nafgZu8H+nCOquSGjq03D8LaFtgI57LVUMOs/e0HsOifP7y1vZDP1tzgrASeXsycbnf09bhfiPiT8+PdEZy/viI+JJmCMMazOOPJpelHG+3rgX9WHKCnffpvUx8dRjWeC4eJH5dbtgGLSg4wxrSha+KNN71yhXWy05EaiFfFeH2tBKF9TKsZ1m++iDwqyLhEoU1pWdJHW8ENelygxCGJYRhCWFYQiTaeX85dO7vQGkqicIqxtQRp0IhDEsIwxLCsIQwLCEMSwjDEsKwhDAsIQxLCMMSwrCEMCwhDEsIwxLCsIQwLCEMSwjDEsKwhDAsIQxLCMMSwrCEMCwhDEsIwxLCsIQwLCEMSwjDEsKwhDAsIQxLCMMSwrCEMCwhDEsIwxLCsIQwLCEMSwjDEsKwhDAsIQxLCMMSwrCEMCwhDEsIwxLCsIQwLCEMSwjDEsKwhPgHXyNsIJt7ankAAAAASUVORK5CYII=\" alt=\"Mol\"/>        O=C(C=Cc1cccnc1)c1ccccc1                                                                                                                                                                                                                                                                                                                  <img src=\"data:image/png;base64,iVBORw0KGgoAAAANSUhEUgAAAMgAAADICAIAAAAiOjnJAAAEX0lEQVR4nO3c23KiWABAUZya//9l5sEqJzOtxOjZBwlrPXTZqUS5bOCIyGVd1wVG+2vvCeB3EhYJYZEQFglhkRAWCWGREBYJYZEQFglhkRAWCWGREBYJYZEQFglhkRAWCWGREBYJYZEQFglhkRAWCWGREBYJYZEQFglhkRAWCWGREBYJYZEQFglhkRAWCWGREBYJYZEQFglhkRAWCWGREBYJYZEQFglhkRAWCWGREBYJYZEQFglhkRAWCWGREBYJYZEQFglhkRAWCWGREBYJYZEQFglhkdg/rMvlsvckMN7fO772Nal1XW8PdpwYxrrssjrvliSvIS6X5bYIvz6ebPYea6Oe6w/l9b4de7qZF9aTxdzy0tbL1nX/tiYN3q+h3G3l7uD9OvAyrn/e9qKavyDzPdbGjmp7H+bI+KRrNP9bQted1p//nbYgw7BeTuorR8YN26382da3fzJQssKGJDXqD3+lN/uYkNfgsIqkhj/J0T3af/90wJ4O8IeFVSeVPuFRPJrxl/dA3ZIcE9bjbSgs4FQDr83t9t0dT7Ekq8H7aXcqw20ntYwYKl1P7oxdWePDktRAG+t7bArDP7EdH1aX1KmOfRuiTXfsmZ09r27gpw50NBDWMRzubZCwjuEQe6mv9r+ClF9JWCSERUJYJIRF4qhhOVn64Y4a1hkceuMR1tlF+QqLhLBICIuEsEiMD8u3TFmKsHyJmSU6FF6/TT88r+Oe1BniWNtqOMa65dW9xKkc61AwJqyNeT7W4tjwCbNQHAqi48CwK0g37uEx9vYe8+8D+Gl3HjzE/Sx2uHfDy684/z6Aj16xXqNPpvzJXzEPl9HAr0d/+yeTF3H4zfSfbzyfeVOMduN7/4YOP5rhUfuSJ59n7Mp4c+N5ed6jjWTGcfq1I+NrM/zmYnphUofU/PyTDFxi7Shi2gDwR8tueW+Gi6Ptxu+8M8HDJ/WdGRlo6juLyUOlIbuBu7+8PMhreMov//ku9//5zwvNf8s6881dl/LdNff8s00eDi7Tv56/27mQmSeHopRfOzLOP0ewy+m3nU+yzTzLF6X8/JFxl1Nu3St+Mz2ffPZ2rOua/vrv8Cf/84fLWT8kON1NQaJlfXddzv/s5XM+7TldWJ1HH4nOX8e7V7W4NHm4dV1XFwsJK/IJ+4x9CYuEsEgIi4SwSJworPXBYwonCouZhEVCWCSERUJYJIRFQlgk9r9wh1/JHouEsEgIi4SwSJzsmvfbFcPessTOFNbl8m9PXx8TcCgkISwSwiJxpjHWuhq8T3OmsBY9zeNQSEJYJIRFQlgkhEVCWCSERUJYJIRFQlgkhEVCWCSERUJYJIRFQlgkhEVCWCSERUJYJIRFQlgkhEVCWCSERUJYJIRFQlgkhEVCWCSERUJYJIRFQlgkhEVCWCSERUJYJIRFQlgkhEVCWCSERUJYJIRFQlgkhEVCWCSERUJYJIRFQlgkhEVCWCSERUJYJIRFQlgkhEVCWCT+AfA5pFrOhap7AAAAAElFTkSuQmCC\" alt=\"Mol\"/>\n",
       "16                                             CCCCCCCCCCCCCCCc1cc(O)ccc1N                                                                                                                                                                                                                                                                                                                                                                                                                                                                                                                                                                                                                                                                                                                                                                                                                                                                                                                                                                                                                                                                                                                                                  <img src=\"data:image/png;base64,iVBORw0KGgoAAAANSUhEUgAAAMgAAADICAIAAAAiOjnJAAADJElEQVR4nO3d0U7iQABA0Xaz///Lsw+YLiqKYi9C55z4gCUDmFyHMi2wjjEW2Nuf334AHJOwSAiLhLBICIuEsEgIi4SwSAiLhLBICIuEsEgIi4SwSAiLhLBICIuEsEgIi4SwSAiLhLBICIuEsEgIi4SwSAiLhLBICIuEsEgIi4SwSAiLhLBICIuEsEgIi4SwSAiLhLBICIuEsEgIi4SwSAiLhLBICIuEsEgIi4SwSAiLhLBICIuEsEgIi4SwSAiLhLBICIuEsEgIi4SwSAiLhLBICIuEsEgIi4SwSAiLhLBICIuEsEgIi4SwSAiLhLBICIuEsEgIaz7r+vKz/Rr4W9woj2tdlzEuXN6bGYvl1QS2EzMWSzFvmbFImLEmM8b/Z71sB2sxY83o1NNWVZOXsEgIi4SwZpQsib4mLBJeFc5lXddlWcYY24Xqjrqb5qFcLKnLS1jH91FS25YiL2Ed2bdmqX3zEtZhnc9J25blWjrvR93GzvsUria1V08bYR3f7tF8hXWs4/uVvR1hkRAWCWGREBYJYR3f2rzB63PCOr7TIec755WHddvfY9TPR50bY2xnNNxHuEB62xkaRnWjTlsu3sjua13VmuzFA1VX78uoO4x61oPQnzw+Vz3OVU922szT/fsatTz4iX5Pt8Nh1NdH3WCfsG47fm7Uc4363l040W9CdwjLAumc8tlEWCSERUJYM7rDfrWwSAiLhLBICIuEsOZyfkbW6fL7Lcsen88trOlcLeb0vQI/fOXondDTOX1u8nk3b1LbZTHCjMXL/PSmJ0+FfNv5h71f9PNv2RHWpD7p5v1O/Q2cNkPCjEVCWCSERUJYJIRFQlgkhEVCWCSERUJYJIRFQlgkhEVCWCSERUJYJIRFQlgkhEVCWCSERUJYJIRFQlgkhEVCWCSERUJYJIRFQlgkhEVCWCSERUJYJIRFQlgkhEVCWCSERUJYJIRFQlgkhEVCWCSERUJYJIRFQlgkhEVCWCSERUJYJIRFQlgkhEVCWCSERUJYJIRFQlgkhEVCWCSERUJYJIRFQlgkhEVCWCSERUJYJIRFQlgkhEXiH6+gs5c01E8VAAAAAElFTkSuQmCC\" alt=\"Mol\"/>                        c1ccccc1                                                                                                                                                                                                                                                                                                                                                                                                                                                                                                                                                                                                                          <img src=\"data:image/png;base64,iVBORw0KGgoAAAANSUhEUgAAAMgAAADICAIAAAAiOjnJAAADf0lEQVR4nO3cQW6cQBiEUYhy/yuTxWyiLFAWrun+q9+7wID5KEbI9v08zwU/7dfqA6CTsIgQFhHCIkJYRAiLCGERISwihEWEsIgQFhHCIkJYRAiLCGERISwihEWEsIgQFhHCIkJYRAiLCGERISwihEWEsIgQFhHCIkJYRAiLCGERISwihEWEsIgQFhHCIkJYRAiLCGERISwihEWEsIgQFhHCIkJYRAiLCGERISwihEWEsIgQFhHCIkJYRAiLCGERISwihEWEsIgQFhHCIkJYRAiLCGERISwihEXE79UH8G33fS/53Od5lnzuKmeFdd/3qgu88KOX8Cgk4qCw1m7G8zyrnsJLHBQW33RKWDt8xTlqtE4Jiy87Iqwd5urjnNHqf93wUlX6Gm9S8xL9Yb1YcuE/o1XfXPmjcM9LeMIDsTwsVmkOa8+5+qgfreawWKg2rJ3n6qN7tDrD2r+qep1hTVE8WoVhzZqr1rYKw2IHbWHNmquPytGqCmtiVa2qwpqrb7R6wjJXW+kJa7qy0SoJy1ztpiSsDk2j1RBW01zVtDU+rKaqmowPq0/HaM0Oy1xta3ZYrQpGa3BY5mpng8PqNn20poa18M9Qf9y4A/4fU8N6uaFn3esvd8isE/nH1LBOMPpL5OCwCkZrdDrvBofVbXpzs8MaPVrT03k3O6xWBc2ND2voaBWk8258WH06mmsIa9xovb/dLajq6gjrGtVWTTrvSsLq0NRcT1gjRqspnXc9YU1X1lxVWJuPVlk676rCmquvubawth2tE14x/K0tLDZRGNaGo3XaXF2VYV2btdWazrvOsKYobq42rE1G68CH4EdtWKzVHNby0Tp2rq7usFioPKyFo3XyXF31YV2rX7gfqz+sF7nmDp+r67qOOMlrm8u5yWF8wdGLRc4pYe3wTeucubrOCYsvOyisbX8fq9JBYfFNZ91G17p/n3fcz/m0E+Y7PAqJEBYRwiJCWEQIiwhhESEsIoRFhLCIEBYRwiJCWEQIiwhhESEsIoRFhLCIEBYRwiJCWEQIiwhhESEsIoRFhLCIEBYRwiJCWEQIiwhhESEsIoRFhLCIEBYRwiJCWEQIiwhhESEsIoRFhLCIEBYRwiJCWEQIiwhhESEsIoRFhLCIEBYRwiJCWEQIiwhhESEsIoRFhLCIEBYRwiJCWEQIiwhhESEsIoRFhLCI+ANcz1SYoIL0pAAAAABJRU5ErkJggg==\" alt=\"Mol\"/>\n",
       "65                                    CC(=O)C(Cc1ccccc1)(c1ccccc1)c1ccccc1  <img src=\"data:image/png;base64,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\" alt=\"Mol\"/>  c1ccc(CC(c2ccccc2)c2ccccc2)cc1  <img src=\"data:image/png;base64,iVBORw0KGgoAAAANSUhEUgAAAMgAAADICAIAAAAiOjnJAAAFQklEQVR4nO3d0Y7aShAAUTu6///L5AFlxcXgNbire6Zd5ylSpAWccjNMbHa93W6LFO1P9RNQT4YlhGEJYVhCGJYQhiWEYQlhWEIYlhCGJYRhCWFYQhiWEIYlhGEJYVhCGJYQhiWEYQlhWEIYlhCGJYRhCWFYQhiWEIYlhGEJYVhCGJYQhiWEYQlhWEIYlhCGJYRhCWFYQhiWEIYlhGEJYVhCGJYQhiWEYQlhWEIYlhCGJYRhCWFYQhiWEP9VP4E967r+/NnfBDuXIcJ6DOjRY0zrutrWRFLDOhKQesDHQODbmUNrIhkTK6qG2+1mW7NgPxWe7+Dp3fPe1rknpQyjbzdY0qTAsJ7GVVQfpnbc+iD5oYfYbti3XVq52Hoy4H4NFdZ2XJ15VbZ1N9F+zQQT6+6aJS1x+zXJBzBj8Q69nusstm7/nP85aUcMCSutpPZtfXck1/97/Ku0IzbNW+Gdi60fO32McDTiw4pdtm9dp6T9/Zqvj0DOAZxsYr10kdQCX2DCEQteY9Hj6g5abBVuJ+ajF1uzTqwzi60BtxO3yp/ASWBY9KH5taQz24lXeHtFX2NkWOX/Ek/jfd4s0o4k19boVzfse7lQmHE7sRD0MsPCylm2byVsbQT+wCPKB3+IuSdWgivMLeI1xoRVNa52nkMg2/qCE2sshe+DsW3FhFX+cSxna4P7+f04sY5KaKtqCfHz58DXGBbWFc7pK7zGKJETq+q49/h8XoL71BX8Vtj+nOZeYLPTY/o1Vv6/R5uTB90kig+rzXHfEf4aoXswCyETK62t2Xd93l3+lX9yhh9J6rKZK1x2ctyAV4DRDzfrhX4j2J48gVeAzX5mgmHRh2aE447+l0NaW8SjsBPr/KGJujUFFfWs0m5u63CXzpFD88UtciOMK+Jp5L8DQg9Xs8aaYg5VoRdbOeEmfVXkdsKf+YFdx9U73BjjXkLSzju669PP9nBNt+2c91YYe99fufKb276TNmUr97GmCKjQ1Iut7MWK9/2dfKwzD515a0L2xJo3pkFEzS363Jj+spl8yZ9JA5ftmU/bsCaw/Y+jk6klnBtDbAhNpHAL7fxDZy5wvbqhoRE+bjuxPlC+4x94lQ7NiTWT8huDj3NiHVU+rubip0IhDOsQx9WnDEsIw/qd4+oLfip8a67rn0ZjWCPe9NfAhcIaeTuxn+YnYuB2okPrI/0nFnfTn3Z0PlJfd7Bzd5ptHdR/Yr20/4nPdM5re/7tXwhw8q7/rgct0FUmVmAKLraO6Lnz7te+l+sZlsoZ1pccWvsahpX8XR0JDzSjhmFlsq13uoXl57VBdAsrn0PrpVZhVY0r29pqFVYh23piWEL0CavkfTD2uzo66ROWhtIkrKpx5aVa7zQJS6PpEFbJL/tzXO3rENYTF9Ej6BBWeUmOq60OYW3RqVnSr5qE1eB3hDTTJKwlsS2X7Uf0CWtxSo2kVVhb4ak5rg7qFpaLrUF0C2upW2zpUcOwFksaQM+wtnxDTNY2rPA3RJftH2kb1uJCvlTnsBbsl/05rn7VPKwth1aO/mG9fEM88wMdV0dc4vuxQr7Ryjn3kQudfAfb8lu7Q1xiYr1kQKgLTawl95ciX9y1wlKa/p8KVcKwhDAsIQxLCMMSwrCEMCwhDEsIwxLCsIQwLCEMSwjDEsKwhDAsIQxLCMMSwrCEMCwhDEsIwxLCsIQwLCEMSwjDEsKwhDAsIQxLCMMSwrCEMCwhDEsIwxLCsIQwLCEMSwjDEsKwhDAsIQxLCMMSwrCEMCwhDEsIwxLCsIQwLCEMSwjDEuIvoqvHZMMAbzcAAAAASUVORK5CYII=\" alt=\"Mol\"/>\n",
       "30                                                      Cc1cc(C)c(N)c(C)c1                                                                                                                                                                                                                                                                                                                                                                                                                                                                                                                                                                                                                                                                                                                                                                                                                                                                                                                              <img src=\"data:image/png;base64,iVBORw0KGgoAAAANSUhEUgAAAMgAAADICAIAAAAiOjnJAAADw0lEQVR4nO3d0U7bWBhG0ZPRvP8rey4iIQQ0QMf7OMq/lnrRgkhSuvnsGKLejuNYcLZ/rn4AvCZhkRAWCWGREBYJYZEQFglhkRAWCWGREBYJYZEQFglhkRAWCWGREBYJYZEQFglhkRAWCWGREBYJYZEQFglhkRAWCWGREBYJYZEQFglhkRAWCWGREBYJYZEQFglhkRAWCWGREBYJYZEQFglhkRAWCWGREBYJYZEQFglhkRAWCWGREBYJYZEQ1jVut9vVD6ElrAvcbrfjOK5+FC1hkRDWbhPmagmLiLC2GjJXS1g7zalqCYuIsDYZNVdLWESEtcO0uVrCIiKs3MC5WsKqzaxqCYuIsEJj52oJi4iwKpPnagkrMryqJSwiwjqfuVrCIvLv1Q/geqe/YMZcLWEVhy2HwuVQSGR0WNG0HMfx8q9H/dbosOjMDSs9EzJac8MiNTSsDU/cho/W9MsN7/3/Dj7Eem9r5qWHiWH96R97ZgGRoYfCbcYeEMeFNfbYtNmssC6pauZozQqLbQaFdeFBcOBoDQqLnaaEdfk5+7TRmhLWMxjV1oiwLp+rgUaE9TzmjNbrh2WuLvH6YX1p22x8vqMTR+vzzby95cG77r+//+o83Teh97xmZs/PHWy5i/Xbe3j/IX/x4T/0dGFNeM3Md6P1zaN9/7c5jl/HseeT8XRhbVOP1oMbf5LWu7laE8J6+Z+2+9NoPT6nSKtaE8J6oGtu81x92daHP344ea+/0EY8K5xz9egnNlS1hoT1QNHcJWdX99F6HlPCeobRqk/1fn7bb9exuk/J6HOsu3PPtHY+Ufh8P29v+dW7ClMWaz0crbP27PkvMWwzKCx2mhVWOlrm6r1ZYV1iYFVrYFjRaM2s54FxYW02NriJYZ0+WmPreWBiWNtMDm5oWCeO1uR6Hhga1mO/CsUlhi/NDSv97uHwqtbksEiNDisaLXO1hodFx9eW/6QpIazzORQuh0IiwjrfM/wY9OWERUJYCaMlrMrwtoRFQlihyaMlLBLCao0dLWHlZrYlLBLC2mHgaAmLhLA2mTZawiIhrH1GjZawtprTlrBICGu3IaMlLBLCusCE0RLWNV7+ZTzCIiEsEsIiISwSwiIhLBLCIiEsEsIiISwSwiIhLBLCIiEsEsIiISwSwiIhLBLCIiEsEsIiISwSwiIhLBLCIiEsEsIiISwSwiIhLBLCIiEsEsIiISwSwiIhLBLCIiEsEsIiISwSwiIhLBLCIiEsEsIiISwSwiIhLBLCIiEsEsIiISwSwiIhLBL/AVakepGqa6gRAAAAAElFTkSuQmCC\" alt=\"Mol\"/>                        c1ccccc1                                                                                                                                                                                                                                                                                                                                                                                                                                                                                                                                                                                                                          <img src=\"data:image/png;base64,iVBORw0KGgoAAAANSUhEUgAAAMgAAADICAIAAAAiOjnJAAADf0lEQVR4nO3cQW6cQBiEUYhy/yuTxWyiLFAWrun+q9+7wID5KEbI9v08zwU/7dfqA6CTsIgQFhHCIkJYRAiLCGERISwihEWEsIgQFhHCIkJYRAiLCGERISwihEWEsIgQFhHCIkJYRAiLCGERISwihEWEsIgQFhHCIkJYRAiLCGERISwihEWEsIgQFhHCIkJYRAiLCGERISwihEWEsIgQFhHCIkJYRAiLCGERISwihEWEsIgQFhHCIkJYRAiLCGERISwihEWEsIgQFhHCIkJYRAiLCGERISwihEXE79UH8G33fS/53Od5lnzuKmeFdd/3qgu88KOX8Cgk4qCw1m7G8zyrnsJLHBQW33RKWDt8xTlqtE4Jiy87Iqwd5urjnNHqf93wUlX6Gm9S8xL9Yb1YcuE/o1XfXPmjcM9LeMIDsTwsVmkOa8+5+qgfreawWKg2rJ3n6qN7tDrD2r+qep1hTVE8WoVhzZqr1rYKw2IHbWHNmquPytGqCmtiVa2qwpqrb7R6wjJXW+kJa7qy0SoJy1ztpiSsDk2j1RBW01zVtDU+rKaqmowPq0/HaM0Oy1xta3ZYrQpGa3BY5mpng8PqNn20poa18M9Qf9y4A/4fU8N6uaFn3esvd8isE/nH1LBOMPpL5OCwCkZrdDrvBofVbXpzs8MaPVrT03k3O6xWBc2ND2voaBWk8258WH06mmsIa9xovb/dLajq6gjrGtVWTTrvSsLq0NRcT1gjRqspnXc9YU1X1lxVWJuPVlk676rCmquvubawth2tE14x/K0tLDZRGNaGo3XaXF2VYV2btdWazrvOsKYobq42rE1G68CH4EdtWKzVHNby0Tp2rq7usFioPKyFo3XyXF31YV2rX7gfqz+sF7nmDp+r67qOOMlrm8u5yWF8wdGLRc4pYe3wTeucubrOCYsvOyisbX8fq9JBYfFNZ91G17p/n3fcz/m0E+Y7PAqJEBYRwiJCWEQIiwhhESEsIoRFhLCIEBYRwiJCWEQIiwhhESEsIoRFhLCIEBYRwiJCWEQIiwhhESEsIoRFhLCIEBYRwiJCWEQIiwhhESEsIoRFhLCIEBYRwiJCWEQIiwhhESEsIoRFhLCIEBYRwiJCWEQIiwhhESEsIoRFhLCIEBYRwiJCWEQIiwhhESEsIoRFhLCIEBYRwiJCWEQIiwhhESEsIoRFhLCI+ANcz1SYoIL0pAAAAABJRU5ErkJggg==\" alt=\"Mol\"/>\n",
       "126                                   CC(=O)N1c2ccccc2Sc2ccc(C(=O)CCl)cc21                                                                                                                                                                                                                                                                                                                                                                              <img src=\"data:image/png;base64,iVBORw0KGgoAAAANSUhEUgAAAMgAAADICAIAAAAiOjnJAAAFT0lEQVR4nO3dUXKjSBAA0WZjb+S9/wlGZ2I/iJUxAs2OurKpgnxfHk/YIkSquwUYTfM8NynaX2dvgK7JsIQwLCEMSwjDEsKwhDAsIQxLCMMSwrCEMCwhDEsIwxLCsIQwLCEMSwjDEsKwhDAsIQxLCMMSwrCEMCwhDEsIwxLCsIQwLCEMSwjDEsKwhDAsIQxLCMMSwrCEMCwhDEsIwxLCsIQwLCEMSwjDEsKwhDAsIQxLCMMSwrCEMCwhDEsIwxLCsIQwLCEMSwjDEuLvszfgiqbp++t5Pm87zmRY0abpR0ybf96GU6EQhiWEYQlhWEIYlhC+K4w2zx5uaIYVY3NM4a4xrTkVdrvrkar3DEsIw+qzO1yt11h3ZVjRnBlba4bVxYaOGdaHpqNJ0NRaa4YliGF9Ypqm2eHqLcOKsT8z3phh/bH94Uo/3fo5mroPOC3P3vjUOrd8wNbe+lxh//N7yujV/6ADNtupsJcz4y7D6lJxuGqtzfPcvwx4z7AqKTQ6GlaveZ4rnnSmB61bL95reR2uPihj/RuWtqAh0LACLFcjo3PUbgGZp0WnwlvjJkTDirH5E4pYhdbsT4Z1d9CgZVhhoDGl4nDVDCu5MVURg5ZhqTWgLcPKq+gkuDCspMZXFTtoGVYN0NEm7qxO4cE2p2VPPZ/UoyPyqx26v2tf90v4GLb7C6MexVM64xzchGZ/Lxa9hPDJsOIdnTrs3GWx54zpcF1jJbW7lEavdYlNzbAQ6KnDfl7zfmsjB63w1AyLEjJoEW2NeVtgWPeCHmJYM6xgm3uR9u+v8av4EIYVhtvRURkNG66aYUUZf0+QkNq49ZZh1dA/IQ4+lG9YAYrewghNzbDK6Bm0Trgfjlc3dBq8z6IeznOFqZW+yBPVdXXD9PgehOevefnO8oUgIdc4DHg9fB7WpqHXpF6zuxiHqzfCrsd6TWeT3fd//PPysyftnuQHr4/0H8G6zq0if2S3cx/rqldL1t1ymot3IVKENf6UatSLvu6W08LC+rGK0u19vsaav+bA933o3eU2Pj7Jf3T3s2Fb/njUGK5aqiPvJ4b1/x965JUnG4/H9FXnqE2KNdZizHqFiCD/ZXfjJQrrLH+U2lkN1RquWraw6N3GzVkOWhu5wmrkHopaHh1tIbfl5Yarlmrx/gSNK4Hr7qOfqnKQaYB0I1ZjXvqx7+bGD1rlZAxrjM7RxYbeSxpW7G4bOUMZ3CJpWLQqH85WV+qwuL/SRBlcS3vjtaWGkccdPkOcKHz8dwa23CGGtaRhLULaOuX9/5st//Vr55vPhtaHrCoevnrKGNZ6DHh+8fHAsPnB8AFmd9AKeZS6VbUqB0h79lO5q4evMRXmC2vv79U74yj6N6Wlp8Jk7wqBqmp5XOVC3GRhMUa+/7/Vy+CNTM/C7k1bgu7kMmZ/hzyKa6xorw2F3h9oQFsOV09ppsKi95hasaq1NGFhk+DqEcp8rMMFpAlrCM/iDZM1rFIzo8PVq4yndFrDPhJ+7wzMB2OYGf1W1rAGyn8Ts4qyToWkwJWWVR25Y1ga4NQX3MFn2Y568AJ38qzrvDXW5n1fqbeB+q37Lt5L3MmzrvuG1SyD5OJdCMMSwrCEOG+Ntfkwbpc713Lq4t2YrsupUAjDEsKwhDAsIQxLCMMSwrCEMCwhDEsIwxLCsIQwLCEMSwjDEsKwhDAsIQxLCMMSwrCEMCwhDEsIwxLCsIQwLCEMSwjDEsKwhDAsIQxLCMMSwrCEMCwhDEsIwxLCsIQwLCEMSwjDEsKwhDAsIQxLCMMSwrCEMCwhDEsIwxLCsIQwLCEMS4h/AdKT2KB87WeWAAAAAElFTkSuQmCC\" alt=\"Mol\"/>          c1ccc2c(c1)Nc1ccccc1S2                                                                                                                                                                                      <img src=\"data:image/png;base64,iVBORw0KGgoAAAANSUhEUgAAAMgAAADICAIAAAAiOjnJAAAEvElEQVR4nO3dUW6bQBSGUai6o+x/CVkTfUCijZPaYOafuaBzniLVxnD9Gagdk3lZlgla+zV6BbgnYREhLCKERYSwiBAWEcIiQlhECIsIYREhLCKERYSwiBAWEcIiQlhECIsIYREhLCKERYSwiBAWEcIiQlhECIsIYREhLCKERYSwiBAWEcIiQlhECIsIYREhLCKERYSwiBAWEcIiQlhECIsIYREhLCKERYSwiBAWEcIiQlhECIsIYREhLCKERYSwiBAWEcIiQlhECIsIYREhLCKERYSwiBAWEcIiQlhECIsIYREhLCKERcTv0StwDZ+f8/rDx8cydk2uomJY8zwvS6Hn7/Nz3nr69+ciqo1rVSuseZ6naVqWZfth9Bo9KlVV5XFVif3H0dSZV7VDYfFxTRXCejmOUbv6H496FQ6LzwdSJK/Bh8I90fTf1a/7p5cBfXwsD7dM2zOH9V+Hn3gNC+tQK9uw9t/lPUdDWW/ZIa+j2z78xGtA1yc3OPdafHJo23OOlTsyntnkUXl1DWvPRu4ZYvNhtdrlNN917dzSl0Prn1e/sPa/7PZPc8/NnkscxZosMzGEnidePR7pvQJavVhD933pzJExt9vutuvKhnV+M3YePY8+Sp/5hlasz1RPCobVcH/QcNwDzjbarVjblY/usCOLDj1558/9B767c3LFBo70zSW3XWiPfeyOd+q/36DC+9HvrViFkb6zzJ5Hq4b2Px8VkvrX/hWrNtJjS2uyoFGHmLKfM75U9vO+VhOr9WszR3X7qKeb22zLtcNa3SOvq6//g9TvvK9j6mlZlu3E5XLWA9Coz20T7vZliou+4i+62k/cLSyKEBYRwiJCWEQIiwhhESEsIoRFhLCIEBYRwiJCWEQIiwhhESEsIoRFhLCIEBYRwiJCWEQIi4i7hXXdr3+NXoXGUl9YvdylTccadY2J3MPd4ZvQl05qc4/vc2+uHdZtnobNbfJyGaPeXMborcUVuEpY2QuvTT9dJKhCXqUvvPZloZmrUp1/DsZeKnL6/7oNzCv1ZIUG3fwyrC+XtnNAIy5uO+2cc+crkUZH4XLcQeubU4cexOW4jzzGWzvbDiOe52PP+qElTweT+nr34Lb3OR/odM5x9C9z7LlxkwGdLOB/y2yywOZ/n6LnaYA/0rQucJpa59VEq9fYgDPLIZ+9nDh4Jc83L57Xk7sPeJZrXka7yV3ec6e8Rl7We+B7hvs3u/9rLndef1LZd1UeV6Dgm9EP/zoVeMe8lMrvA/9dh+FrMNX+EGb6dnDcdmYPe7XOO7niQyvx2w0PH+nXmU5lxYdWIqzVNqk609ksS9GzrrJDKxTWqtqAnivyG8UFh1YurLJ+3Gk9nGOxuduXKShCWAesOy32EBYR5f43wT3YYxEhLCKERYSwiBAWEcIiQlhECIsIYREhLCKERYSwiBAWEcIiQlhECIsIYREhLCKERYSwiBAWEcIiQlhECIsIYREhLCKERYSwiBAWEcIiQlhECIsIYREhLCKERYSwiBAWEcIiQlhECIsIYREhLCKERYSwiBAWEcIiQlhECIsIYREhLCKERYSwiBAWEcIiQlhECIsIYREhLCKERYSwiBAWEcIiQlhECIuIP978JWiiqT1zAAAAAElFTkSuQmCC\" alt=\"Mol\"/>\n",
       "194                                                              CNCC(N)=O                                                                                                                                                                                                                                                                                                                                                                                                                                                                                                                                                                                                                                                                                                                                                                                                                                                                                                                                                                                                                          <img src=\"data:image/png;base64,iVBORw0KGgoAAAANSUhEUgAAAMgAAADICAIAAAAiOjnJAAADfklEQVR4nO3d207bQABAQbvq///y9oGWAiFu2nJ82cyIhwSQvMKHtdc2Yh1jLPDVvh09AOYkLBLCIiEsEsIiISwSwiIhLBLCIiEsEsIiISwSwiIhLBLCIiEsEsIiISwSwiIhLBLCIiEsEsIiISwSwiIhLBLCIiEsEsIiISwSwiIhLBLCIiEsEsIiISwSwiIhLBLCIiEsEsIiISwSwiIhLBLCIiEsEsIiISwSwiIhLBLCIiEsEsIiISwSwiIhLBLCIiEsEsIiISwSwiIhLBLCIiEsEsIiISwSwiIhLBLCIiEsEsIiISwSwiIhLBLCIiEsEsIi8f3oAfTW9ffrMY4bx3OZPax1fRfTh7dkpj4U3mY0xrsJjMzUYXEcYZEQFglhkZg6rNtTdavCvcx+ueFDW6ray+xhLWI6xtSHQo4jLBJTh3XvIruL772pw+I4wiIhLBLCIiEsEsIiISwSwiIxc1j3LoO6PLqDmcPiQMIiISwSwiIhrNztsxSvn9n40tUJaw/T5PK4ZwlrPXTfPuEfYM/8zPsYY/mV1Bjj9cXwFHxv5rBeS3p5+6GznQfzMmndbnbWmWzOsDbqOTCvT9v68HaazmYLa12XZVn/WMxrXl1bT/63sfOE9fK7PsayLI/uz7cnXs1Ibrc4z5y0bZKw/nl6+Noj40ZSb7b4FG2Fx4LdfNVB53/yeiSpp3LtsIrd+bd5ret6xCrz7C4cVnp2/Mh5/Q5Ly+uuAC4cVm27m3RF+X5Dy3LBg+x+t3S2b7iu68+PB79/By/X6Nd1vb0dtFtVy7KMccnz/VOsCt9O+PdeH+XefaHdh3HYPYN/c4qw7v2s7t0G2d8OF1QvMYbHnevphpNkdM8Z9ugZxvCIXWes7ROFT6s6z6TFX9k1rI0brhv1aOuKTnEo1M18ThHWH11xvf3kTrEqXB7432/aupZrrF25nGscCrkcYZEQFglhkRAWCWGREBYJYZEQFglhkRAWCWGREBYJYZEQFglhkRAWCWGREBYJYZEQFglhkRAWCWGREBYJYZEQFglhkRAWCWGREBYJYZEQFglhkRAWCWGREBYJYZEQFglhkRAWCWGREBYJYZEQFglhkRAWCWGREBYJYZEQFglhkRAWCWGREBYJYZEQFglhkRAWCWGREBYJYZEQFglhkRAWCWGREBYJYZEQFglhkRAWCWGREBaJH7tO54MPMByuAAAAAElFTkSuQmCC\" alt=\"Mol\"/>                                                                                                                                                                                                                                                                                                                                                                                                                                                                                                                                                                                                                                                                                                                                                                                                                                                                                                                                                                                                                                                                                                                                                              <img src=\"data:image/png;base64,iVBORw0KGgoAAAANSUhEUgAAAMgAAADICAIAAAAiOjnJAAACFElEQVR4nO3SwQ3AIBDAsNL9dz6WIEJC9gR5ZM3MB6f9twN4k7FIGIuEsUgYi4SxSBiLhLFIGIuEsUgYi4SxSBiLhLFIGIuEsUgYi4SxSBiLhLFIGIuEsUgYi4SxSBiLhLFIGIuEsUgYi4SxSBiLhLFIGIuEsUgYi4SxSBiLhLFIGIuEsUgYi4SxSBiLhLFIGIuEsUgYi4SxSBiLhLFIGIuEsUgYi4SxSBiLhLFIGIuEsUgYi4SxSBiLhLFIGIuEsUgYi4SxSBiLhLFIGIuEsUgYi4SxSBiLhLFIGIuEsUgYi4SxSBiLhLFIGIuEsUgYi4SxSBiLhLFIGIuEsUgYi4SxSBiLhLFIGIuEsUgYi4SxSBiLhLFIGIuEsUgYi4SxSBiLhLFIGIuEsUgYi4SxSBiLhLFIGIuEsUgYi4SxSBiLhLFIGIuEsUgYi4SxSBiLhLFIGIuEsUgYi4SxSBiLhLFIGIuEsUgYi4SxSBiLhLFIGIuEsUgYi4SxSBiLhLFIGIuEsUgYi4SxSBiLhLFIGIuEsUgYi4SxSBiLhLFIGIuEsUgYi4SxSBiLhLFIGIuEsUgYi4SxSBiLhLFIGIuEsUgYi4SxSBiLhLFIGIuEsUgYi4SxSBiLhLFIGIuEsUgYi4SxSBiLhLFIGIuEsUgYi4SxSBiLhLFIGIuEsUgYi4SxSBiLhLFIGIuEsUgYi4SxSBiLxAYhCgSN2aqNlwAAAABJRU5ErkJggg==\" alt=\"Mol\"/>\n",
       "115  O=C(CCCC(=O)OCC(F)(F)C(F)(F)C(F)(F)C(F)F)OCC(F)(F)C(F)(F)C(F)(F)C(F)F                                                                                                                                                                                                                                                                                                                          <img src=\"data:image/png;base64,iVBORw0KGgoAAAANSUhEUgAAAMgAAADICAIAAAAiOjnJAAAFdElEQVR4nO3dW3LbOBQAUSGVHVH7X4G0JuYDNszoQfGBBi7NPh9TGo+TEuEWCEKUJ43jeJFq+9P7Ceh3MiwhDEsIwxLCsIQwLCEMSwjDEsKwhDAsIQxLCMMSwrCEMCwhDEsIwxLCsIQwLCEMSwjDEsKwhDAsIQxLCMMSwrCEMCwhDEsIwxLCsIQwLCEMSwjDEsKwhDAsIQxLCMMSwrCEMCwhDEsIwxLCsIQwLCEMSwjDEsKwhDAsIQxLCMMSwrCEMCwhDEsIwxLCsIQwLCEMSwjDEsKwhDAsIQxLCMMSwrCEMCwhDEsIwxLCsIQwLCEMSwjDEsKwhDAsIf72fgINpfT1YBy7Po9TOE1YKf30NH0shqdCIQxLCMMS4jRrrHF08d7SmWas3FP+Z4lMjDOFpYZOFlY5IU7PjAKcLKwJs0KdLqzS0ziOyUkLc5qrwm/21MbpwrpcLuPlZ8fhObLRzYga0unG8dMbhSW1041MVSdbYy14+3kcR5Pa72RhWUwr4U6F1/s9P7gNw5Lvny6Spoun/VIKNzgHEnHxvjCpy8uffdn/VFcRw8qT1se8Xs8o06/4rnM/EcNaMmN9Pk95y2hX0RfvZclVpJRc/cQXPazbMEzbyklZVXzHeOlf7/fbMKybqGqcCp0aNzvMwG35Ge9evBvWZj0X78u3rPIPePWPuUYTeZ+sY15rN/aC6HxVuOoCcBzHfE7kn9eX0lPf96qPlVTWc6pf8lp8nqUat/VOs/eqnbG2mB+sl+e+fJ3YfZTzE2tza9f8wcYsL8oG6cLd9izOCG5Z+QHiDEgRZR/rNgwvt6w6PqUDud7vzzvJfYX74W28AOwHfapLTvrz39PrRNniVLjq2NZWFXOFEUqXkWm0xlp7J8yqtvomtWd+bbNJtmr9WkujsNbeCbNqy6rLwO2VUnp1afkQ2f16nd/mXTJKZ5+xHl73y7cVDpbU5eu9y3Ko06Oebo8daKH5rMNV4cvrl0MPYkXjt1xYvkfo3TdH2M97p8M+1vNU9K6qsKM2teUydtl3vntDqXy9yony+Y/kBzsHv0VYz09xOiI756rO8U2efN1Jd7jdyuOHv5be7q8ypH123stL/NhnwMltXvlYUko/B4MdV1nyP/y6gFojWeViqNtbOoffr/r/5sFer5CXC//y9Y/nyuzhjHngGetywP2qR/9/HGjuKDbdb/jxYKfnyu+//nVk86ArgD5hTferUkrD7bbk2ILuV83f98x8WGhJDR83yS7kRNs6rOe95vw47EbfZyHXiGU+e7dJdnl/V1KVJ9A0rJnXR9Booto2XA/7F+iisE5Y2+4FVS8zM1Yt1WasktTLldD+YwgxpW1Yhq///fLNrn+fl/8VVQur9JSHI//r/XrN//U3zFWbl+Hrj31/Ut1fh3Umw/ml97H3q4pWvwyi5Qhw7za2WLwfe7+qh4B3hK7V6Kpw1ek86H5VGBVHhhvkOmEt2YJaPusGTSrM/+bpEC+8KB//OoYmPe3cKA5yrmwXVvBX2G8SYaijfK6wiDAoRxfhY4aeCg+m+ocAoFOnYQk5S4Q7Fao94tTZdMYKcsHyu20Y299wo59JnUTrU2GECxY14Ix1dtBPxMW7EIYlhLcLC+GMJYRhCWFYQhiWEIYlhGEJYVhCGJYQhiWEYQlhWEIYlhCGJYRhCWFYQhiWEIYlhGEJYVhCGJYQhiWEYQlhWEIYlhCGJYRhCWFYQhiWEIYlhGEJYVhCGJYQhiWEYQlhWEIYlhCGJYRhCWFYQhiWEIYlhGEJYVhCGJYQhiWEYQlhWEIYlhCGJYRhCWFYQhiWEIYlhGEJYVhCGJYQhiWEYQlhWEIYlhCGJYRhCWFYQhiWEIYlxD9pKarVaIVMbwAAAABJRU5ErkJggg==\" alt=\"Mol\"/>                                                                                                                                                                                                                                                                                                                                                                                                                                                                                                                                                                                                                                                                                                                                                                                                                                                                                                                                                                                                                                                                                                                                                              <img src=\"data:image/png;base64,iVBORw0KGgoAAAANSUhEUgAAAMgAAADICAIAAAAiOjnJAAACFElEQVR4nO3SwQ3AIBDAsNL9dz6WIEJC9gR5ZM3MB6f9twN4k7FIGIuEsUgYi4SxSBiLhLFIGIuEsUgYi4SxSBiLhLFIGIuEsUgYi4SxSBiLhLFIGIuEsUgYi4SxSBiLhLFIGIuEsUgYi4SxSBiLhLFIGIuEsUgYi4SxSBiLhLFIGIuEsUgYi4SxSBiLhLFIGIuEsUgYi4SxSBiLhLFIGIuEsUgYi4SxSBiLhLFIGIuEsUgYi4SxSBiLhLFIGIuEsUgYi4SxSBiLhLFIGIuEsUgYi4SxSBiLhLFIGIuEsUgYi4SxSBiLhLFIGIuEsUgYi4SxSBiLhLFIGIuEsUgYi4SxSBiLhLFIGIuEsUgYi4SxSBiLhLFIGIuEsUgYi4SxSBiLhLFIGIuEsUgYi4SxSBiLhLFIGIuEsUgYi4SxSBiLhLFIGIuEsUgYi4SxSBiLhLFIGIuEsUgYi4SxSBiLhLFIGIuEsUgYi4SxSBiLhLFIGIuEsUgYi4SxSBiLhLFIGIuEsUgYi4SxSBiLhLFIGIuEsUgYi4SxSBiLhLFIGIuEsUgYi4SxSBiLhLFIGIuEsUgYi4SxSBiLhLFIGIuEsUgYi4SxSBiLhLFIGIuEsUgYi4SxSBiLhLFIGIuEsUgYi4SxSBiLhLFIGIuEsUgYi4SxSBiLhLFIGIuEsUgYi4SxSBiLhLFIGIuEsUgYi4SxSBiLxAYhCgSN2aqNlwAAAABJRU5ErkJggg==\" alt=\"Mol\"/>\n",
       "120                                                 CCN1c2ccccc2Sc2ccccc21                                                                                                                                                                                                                                                                              <img src=\"data:image/png;base64,iVBORw0KGgoAAAANSUhEUgAAAMgAAADICAIAAAAiOjnJAAAFl0lEQVR4nO3dW5acOBBFUeHlGdX8h5Bjkj+wWRgS8ZBuRAid/dudVTxOCaWA7innnIDWfnlvAN6JsCBBWJAgLEgQFiQICxKEBQnCggRhQYKwIEFYkCAsSBAWJAgLEoQFCcKCBGFBgrAgQViQICxIEBYkCAsShAUJwoIEYUGCsCBBWJAgLEgQFiQICxKEBQnCggRhQYKwIEFYkCAsSBAWJAgLEoQFCcKCBGFBgrAgQViQICxIEBYkCAsShHVomibvTegYYR3KOdPWY4RVQluPEdYJ2nqGsM7R1gOEdQlt3UVYV9HWLYR1A21dR1j30NZFhHUbbV1BWE/Q1inCeoi2ygjrOdoqIKwqtHWEsGrR1leE1QBt7RFWG7S1QVjN0NYaYbVEWwvCaoy2ZoQFCcJqbJqmnLP3VvgjLEgQFiQICxKE1RITrAVhtUVVfxEWJAirmWlKXAYXhAUJwoIEYUGi47CmaYpzu5cJ1sZv7w24Z13SvGLE0lFMfZyVpaevW0tbAcU9JfvBqfwvh92RMcU6H7di2n821L4MLsTJKF/pbv2cCLuD5BhWzeBU/rG0FYHDaZiT0v1e2orAZx2ryYk/WsfidYYIrP+464eTixMyxi1ffSyQPpiQzeOWoq39IjvL7nuhw6r8tmjZFjYihtVq9SHJ2sqZtk6YhlU4x6LVh6Qct1DgP2KpVx9SdVtz85tPM2iV+YdlM5bcbWu9XnH0IdoqsAvL/XpUbmt1Lc7pOCZc5D9iWdq0VT+xmwct7I0VVvp/Xb7JCEpbX3X8aPKpwo2dnPPjqvaf26+Xwigs9wmWJcaw9OIR6yhlm8Rp67VhuZvbGjYvwhLKWTt0hXoBbsPiW+FQE6y9nFsegV5egHvncoPvBGuv/n5lYYkk5s3Qd4YV0LPTf3HJLWBb8rCi7bCji6f/2f2AaG35jFihDoGlwumvvx8Qqi35dthPd6JNsPaWLVE8hRZkN93mWKH+vIwt9ysrHhE7PHRBDqx2Hau8h4O/p1Vz7suHLsKBdV4gjXAI7DUZUa605XhstWFd6aZtW/EnWA2dtuX4dysfsezb6tSzI3B66LyOrcWlkLakYrZlNMeim4XmPcdwbdlN3g12vt8JVv0WRmvL9FthtJ0fjeXhtV5uGLwt6dgZai7rsI6layv49c5AnLbc/sNr5eW7hjs/wgRrLUhbbivvp8t3774mSkU4dKFv6TT5nljz8bYsx87yoTPYEv8nSMt34x/sfy9Phav5PubgH1ZqdAi6eyp8ZvA90WXHQ4SVqh8JTx0+FW5j6BFrJn0k3F2crG22JFBYaaRHwl8v3JvQ668z00r+p/KHfz6Dfk80FnTHKh8JL/t8pp+fEP/bBPuwzH5juBFrVj84Ffz8xBq3XiloWGq0pTZoWClAWy+eYKWRw0pWbcUJyHJLhg4rids6fYJD9HsjiPLH9Bpf12+DDFqMWJ35fL6st61PYYTnWIyF+Evq1HINvbgq5jtuGf/2WLd0unC3p8VQ95QIa2s9l9+kM/+jmlV7dVv1d1SbbYn7FoSyudsjuvnTtq0rj3vYj5SMWCWiW4r141b8Z4cYsbbqr3cX3W2rJiaHu92E9ZVNXqfnu9XIRFixGDxgU36wscnZcfkqygLpf+xvSx+tnbZ6cMhrYZbJu7/maxARpvZcCrcK61hS0hfg7BFWINIX4IwRViyveQGOsMLRvQBnibAiWtrqYnD6irCCkr4AZ4CwIMECKSQICxKEBQnCggRhQYKwIEFYkCAsSBAWJAgLEoQFCcKCBGFBgrAgQViQICxIEBYkCAsShAUJwoIEYUGCsCBBWJAgLEgQFiQICxKEBQnCggRhQYKwIEFYkCAsSBAWJAgLEoQFCcKCBGFBgrAgQViQICxIEBYkCAsShAUJwoIEYUGCsCDxBwJ521YCRDljAAAAAElFTkSuQmCC\" alt=\"Mol\"/>          c1ccc2c(c1)Nc1ccccc1S2                                                                                                                                                                                      <img src=\"data:image/png;base64,iVBORw0KGgoAAAANSUhEUgAAAMgAAADICAIAAAAiOjnJAAAEvElEQVR4nO3dUW6bQBSGUai6o+x/CVkTfUCijZPaYOafuaBzniLVxnD9Gagdk3lZlgla+zV6BbgnYREhLCKERYSwiBAWEcIiQlhECIsIYREhLCKERYSwiBAWEcIiQlhECIsIYREhLCKERYSwiBAWEcIiQlhECIsIYREhLCKERYSwiBAWEcIiQlhECIsIYREhLCKERYSwiBAWEcIiQlhECIsIYREhLCKERYSwiBAWEcIiQlhECIsIYREhLCKERYSwiBAWEcIiQlhECIsIYREhLCKERYSwiBAWEcIiQlhECIsIYREhLCKERcTv0StwDZ+f8/rDx8cydk2uomJY8zwvS6Hn7/Nz3nr69+ciqo1rVSuseZ6naVqWZfth9Bo9KlVV5XFVif3H0dSZV7VDYfFxTRXCejmOUbv6H496FQ6LzwdSJK/Bh8I90fTf1a/7p5cBfXwsD7dM2zOH9V+Hn3gNC+tQK9uw9t/lPUdDWW/ZIa+j2z78xGtA1yc3OPdafHJo23OOlTsyntnkUXl1DWvPRu4ZYvNhtdrlNN917dzSl0Prn1e/sPa/7PZPc8/NnkscxZosMzGEnidePR7pvQJavVhD933pzJExt9vutuvKhnV+M3YePY8+Sp/5hlasz1RPCobVcH/QcNwDzjbarVjblY/usCOLDj1558/9B767c3LFBo70zSW3XWiPfeyOd+q/36DC+9HvrViFkb6zzJ5Hq4b2Px8VkvrX/hWrNtJjS2uyoFGHmLKfM75U9vO+VhOr9WszR3X7qKeb22zLtcNa3SOvq6//g9TvvK9j6mlZlu3E5XLWA9Coz20T7vZliou+4i+62k/cLSyKEBYRwiJCWEQIiwhhESEsIoRFhLCIEBYRwiJCWEQIiwhhESEsIoRFhLCIEBYRwiJCWEQIi4i7hXXdr3+NXoXGUl9YvdylTccadY2J3MPd4ZvQl05qc4/vc2+uHdZtnobNbfJyGaPeXMborcUVuEpY2QuvTT9dJKhCXqUvvPZloZmrUp1/DsZeKnL6/7oNzCv1ZIUG3fwyrC+XtnNAIy5uO+2cc+crkUZH4XLcQeubU4cexOW4jzzGWzvbDiOe52PP+qElTweT+nr34Lb3OR/odM5x9C9z7LlxkwGdLOB/y2yywOZ/n6LnaYA/0rQucJpa59VEq9fYgDPLIZ+9nDh4Jc83L57Xk7sPeJZrXka7yV3ec6e8Rl7We+B7hvs3u/9rLndef1LZd1UeV6Dgm9EP/zoVeMe8lMrvA/9dh+FrMNX+EGb6dnDcdmYPe7XOO7niQyvx2w0PH+nXmU5lxYdWIqzVNqk609ksS9GzrrJDKxTWqtqAnivyG8UFh1YurLJ+3Gk9nGOxuduXKShCWAesOy32EBYR5f43wT3YYxEhLCKERYSwiBAWEcIiQlhECIsIYREhLCKERYSwiBAWEcIiQlhECIsIYREhLCKERYSwiBAWEcIiQlhECIsIYREhLCKERYSwiBAWEcIiQlhECIsIYREhLCKERYSwiBAWEcIiQlhECIsIYREhLCKERYSwiBAWEcIiQlhECIsIYREhLCKERYSwiBAWEcIiQlhECIsIYREhLCKERYSwiBAWEcIiQlhECIuIP978JWiiqT1zAAAAAElFTkSuQmCC\" alt=\"Mol\"/>"
      ]
     },
     "execution_count": 24,
     "metadata": {},
     "output_type": "execute_result"
    }
   ],
   "source": [
    "subset = frame.loc[random_idxes, ['SMILES', 'Molecule', 'Murcko_SMILES', 'Murcko_scaffold']]\n",
    "subset"
   ]
  },
  {
   "cell_type": "markdown",
   "metadata": {},
   "source": [
    "#### 4.2 テスト"
   ]
  },
  {
   "cell_type": "markdown",
   "metadata": {},
   "source": [
    "##### 4.2.1 引数なし"
   ]
  },
  {
   "cell_type": "markdown",
   "metadata": {},
   "source": [
    "この10個の化学構造に対して作成した関数を引数なしで実行してみる。"
   ]
  },
  {
   "cell_type": "code",
   "execution_count": 25,
   "metadata": {},
   "outputs": [
    {
     "data": {
      "text/plain": [
       "['O=[N+]([O-])c1cnc2cc(Cl)ccc2c1O',\n",
       " 'O=S(=O)(O)c1ccccc1',\n",
       " 'O=C(C=Cc1cccnc1)c1ccccc1',\n",
       " 'CCCCCCCCCCCCCCCc1cc(O)ccc1N',\n",
       " 'CC(=O)C(Cc1ccccc1)(c1ccccc1)c1ccccc1',\n",
       " 'Cc1cc(C)c(N)c(C)c1',\n",
       " 'CC(=O)N1c2ccccc2Sc2ccc(C(=O)CCl)cc21',\n",
       " 'CNCC(N)=O',\n",
       " 'O=C(CCCC(=O)OCC(F)(F)C(F)(F)C(F)(F)C(F)F)OCC(F)(F)C(F)(F)C(F)(F)C(F)F',\n",
       " 'CCN1c2ccccc2Sc2ccccc21']"
      ]
     },
     "execution_count": 25,
     "metadata": {},
     "output_type": "execute_result"
    }
   ],
   "source": [
    "smiles_set = list(subset['SMILES'])\n",
    "smiles_set"
   ]
  },
  {
   "cell_type": "code",
   "execution_count": 26,
   "metadata": {
    "scrolled": true
   },
   "outputs": [],
   "source": [
    "mols = [Chem.MolFromSmiles(smiles) for smiles in smiles_set]"
   ]
  },
  {
   "cell_type": "markdown",
   "metadata": {},
   "source": [
    "Jupyter上で図にする部分は関数にできないので冗長ではあるがほぼ同じスクリプトを書き続けてみる。"
   ]
  },
  {
   "cell_type": "code",
   "execution_count": 27,
   "metadata": {},
   "outputs": [
    {
     "data": {
      "image/svg+xml": [
       "<svg baseProfile=\"full\" height=\"200px\" version=\"1.1\" width=\"400px\" xml:space=\"preserve\" xmlns:rdkit=\"http://www.rdkit.org/xml\" xmlns:svg=\"http://www.w3.org/2000/svg\" xmlns:xlink=\"http://www.w3.org/1999/xlink\">\n",
       "<rect height=\"200\" style=\"opacity:1.0;fill:#FFFFFF;stroke:none\" width=\"400\" x=\"0\" y=\"0\"> </rect>\n",
       "<path d=\"M 69.1662,104.607 120.801,114.75\" style=\"fill:none;fill-rule:evenodd;stroke:#FF7F7F;stroke-width:16px;stroke-linecap:butt;stroke-linejoin:miter;stroke-opacity:1\"/>\n",
       "<path d=\"M 310.306,105.537 361.94,115.681\" style=\"fill:none;fill-rule:evenodd;stroke:#FF7F7F;stroke-width:16px;stroke-linecap:butt;stroke-linejoin:miter;stroke-opacity:1\"/>\n",
       "<path d=\"M 155.403,75.1057 138.37,25.317\" style=\"fill:none;fill-rule:evenodd;stroke:#FF7F7F;stroke-width:16px;stroke-linecap:butt;stroke-linejoin:miter;stroke-opacity:1\"/>\n",
       "<path d=\"M 46.1833,138.941 55.4469,128.328\" style=\"fill:none;fill-rule:evenodd;stroke:#FF0000;stroke-width:2px;stroke-linecap:butt;stroke-linejoin:miter;stroke-opacity:1\"/>\n",
       "<path d=\"M 55.4469,128.328 64.7106,117.714\" style=\"fill:none;fill-rule:evenodd;stroke:#0000FF;stroke-width:2px;stroke-linecap:butt;stroke-linejoin:miter;stroke-opacity:1\"/>\n",
       "<path d=\"M 38.2544,132.021 47.518,121.407\" style=\"fill:none;fill-rule:evenodd;stroke:#FF0000;stroke-width:2px;stroke-linecap:butt;stroke-linejoin:miter;stroke-opacity:1\"/>\n",
       "<path d=\"M 47.518,121.407 56.7816,110.794\" style=\"fill:none;fill-rule:evenodd;stroke:#0000FF;stroke-width:2px;stroke-linecap:butt;stroke-linejoin:miter;stroke-opacity:1\"/>\n",
       "<path d=\"M 65.866,94.9593 60.6501,79.7122\" style=\"fill:none;fill-rule:evenodd;stroke:#0000FF;stroke-width:2px;stroke-linecap:butt;stroke-linejoin:miter;stroke-opacity:1\"/>\n",
       "<path d=\"M 60.6501,79.7122 55.4342,64.4651\" style=\"fill:none;fill-rule:evenodd;stroke:#FF0000;stroke-width:2px;stroke-linecap:butt;stroke-linejoin:miter;stroke-opacity:1\"/>\n",
       "<path d=\"M 79.8421,106.704 100.321,110.727\" style=\"fill:none;fill-rule:evenodd;stroke:#0000FF;stroke-width:2px;stroke-linecap:butt;stroke-linejoin:miter;stroke-opacity:1\"/>\n",
       "<path d=\"M 100.321,110.727 120.801,114.75\" style=\"fill:none;fill-rule:evenodd;stroke:#000000;stroke-width:2px;stroke-linecap:butt;stroke-linejoin:miter;stroke-opacity:1\"/>\n",
       "<path d=\"M 120.801,114.75 137.833,164.539\" style=\"fill:none;fill-rule:evenodd;stroke:#000000;stroke-width:2px;stroke-linecap:butt;stroke-linejoin:miter;stroke-opacity:1\"/>\n",
       "<path d=\"M 133.313,118.812 145.236,153.664\" style=\"fill:none;fill-rule:evenodd;stroke:#000000;stroke-width:2px;stroke-linecap:butt;stroke-linejoin:miter;stroke-opacity:1;stroke-dasharray:6,6\"/>\n",
       "<path d=\"M 120.801,114.75 155.403,75.1057\" style=\"fill:none;fill-rule:evenodd;stroke:#000000;stroke-width:2px;stroke-linecap:butt;stroke-linejoin:miter;stroke-opacity:1\"/>\n",
       "<path d=\"M 133.92,115.724 158.141,87.9728\" style=\"fill:none;fill-rule:evenodd;stroke:#000000;stroke-width:2px;stroke-linecap:butt;stroke-linejoin:miter;stroke-opacity:1;stroke-dasharray:6,6\"/>\n",
       "<path d=\"M 137.833,164.539 159.849,168.864\" style=\"fill:none;fill-rule:evenodd;stroke:#000000;stroke-width:2px;stroke-linecap:butt;stroke-linejoin:miter;stroke-opacity:1\"/>\n",
       "<path d=\"M 159.849,168.864 181.866,173.19\" style=\"fill:none;fill-rule:evenodd;stroke:#0000FF;stroke-width:2px;stroke-linecap:butt;stroke-linejoin:miter;stroke-opacity:1\"/>\n",
       "<path d=\"M 146.467,155.51 161.878,158.537\" style=\"fill:none;fill-rule:evenodd;stroke:#000000;stroke-width:2px;stroke-linecap:butt;stroke-linejoin:miter;stroke-opacity:1;stroke-dasharray:6,6\"/>\n",
       "<path d=\"M 161.878,158.537 177.29,161.565\" style=\"fill:none;fill-rule:evenodd;stroke:#0000FF;stroke-width:2px;stroke-linecap:butt;stroke-linejoin:miter;stroke-opacity:1;stroke-dasharray:6,6\"/>\n",
       "<path d=\"M 197.069,165.974 210.569,150.506\" style=\"fill:none;fill-rule:evenodd;stroke:#0000FF;stroke-width:2px;stroke-linecap:butt;stroke-linejoin:miter;stroke-opacity:1\"/>\n",
       "<path d=\"M 210.569,150.506 224.069,135.038\" style=\"fill:none;fill-rule:evenodd;stroke:#000000;stroke-width:2px;stroke-linecap:butt;stroke-linejoin:miter;stroke-opacity:1\"/>\n",
       "<path d=\"M 193.19,154.413 202.64,143.586\" style=\"fill:none;fill-rule:evenodd;stroke:#0000FF;stroke-width:2px;stroke-linecap:butt;stroke-linejoin:miter;stroke-opacity:1;stroke-dasharray:6,6\"/>\n",
       "<path d=\"M 202.64,143.586 212.09,132.758\" style=\"fill:none;fill-rule:evenodd;stroke:#000000;stroke-width:2px;stroke-linecap:butt;stroke-linejoin:miter;stroke-opacity:1;stroke-dasharray:6,6\"/>\n",
       "<path d=\"M 224.069,135.038 275.704,145.182\" style=\"fill:none;fill-rule:evenodd;stroke:#000000;stroke-width:2px;stroke-linecap:butt;stroke-linejoin:miter;stroke-opacity:1\"/>\n",
       "<path d=\"M 233.843,126.233 269.988,133.334\" style=\"fill:none;fill-rule:evenodd;stroke:#000000;stroke-width:2px;stroke-linecap:butt;stroke-linejoin:miter;stroke-opacity:1;stroke-dasharray:6,6\"/>\n",
       "<path d=\"M 224.069,135.038 207.037,85.2496\" style=\"fill:none;fill-rule:evenodd;stroke:#000000;stroke-width:2px;stroke-linecap:butt;stroke-linejoin:miter;stroke-opacity:1\"/>\n",
       "<path d=\"M 231.472,124.163 219.55,89.3114\" style=\"fill:none;fill-rule:evenodd;stroke:#000000;stroke-width:2px;stroke-linecap:butt;stroke-linejoin:miter;stroke-opacity:1;stroke-dasharray:6,6\"/>\n",
       "<path d=\"M 275.704,145.182 310.306,105.537\" style=\"fill:none;fill-rule:evenodd;stroke:#000000;stroke-width:2px;stroke-linecap:butt;stroke-linejoin:miter;stroke-opacity:1\"/>\n",
       "<path d=\"M 272.965,132.315 297.187,104.564\" style=\"fill:none;fill-rule:evenodd;stroke:#000000;stroke-width:2px;stroke-linecap:butt;stroke-linejoin:miter;stroke-opacity:1;stroke-dasharray:6,6\"/>\n",
       "<path d=\"M 310.306,105.537 331.154,109.633\" style=\"fill:none;fill-rule:evenodd;stroke:#000000;stroke-width:2px;stroke-linecap:butt;stroke-linejoin:miter;stroke-opacity:1\"/>\n",
       "<path d=\"M 331.154,109.633 352.001,113.729\" style=\"fill:none;fill-rule:evenodd;stroke:#00CC00;stroke-width:2px;stroke-linecap:butt;stroke-linejoin:miter;stroke-opacity:1\"/>\n",
       "<path d=\"M 310.306,105.537 293.274,55.7487\" style=\"fill:none;fill-rule:evenodd;stroke:#000000;stroke-width:2px;stroke-linecap:butt;stroke-linejoin:miter;stroke-opacity:1\"/>\n",
       "<path d=\"M 297.793,101.476 285.871,66.6235\" style=\"fill:none;fill-rule:evenodd;stroke:#000000;stroke-width:2px;stroke-linecap:butt;stroke-linejoin:miter;stroke-opacity:1;stroke-dasharray:6,6\"/>\n",
       "<path d=\"M 293.274,55.7487 241.639,45.6048\" style=\"fill:none;fill-rule:evenodd;stroke:#000000;stroke-width:2px;stroke-linecap:butt;stroke-linejoin:miter;stroke-opacity:1\"/>\n",
       "<path d=\"M 283.5,64.554 247.356,57.4533\" style=\"fill:none;fill-rule:evenodd;stroke:#000000;stroke-width:2px;stroke-linecap:butt;stroke-linejoin:miter;stroke-opacity:1;stroke-dasharray:6,6\"/>\n",
       "<path d=\"M 241.639,45.6048 207.037,85.2496\" style=\"fill:none;fill-rule:evenodd;stroke:#000000;stroke-width:2px;stroke-linecap:butt;stroke-linejoin:miter;stroke-opacity:1\"/>\n",
       "<path d=\"M 244.378,58.472 220.156,86.2233\" style=\"fill:none;fill-rule:evenodd;stroke:#000000;stroke-width:2px;stroke-linecap:butt;stroke-linejoin:miter;stroke-opacity:1;stroke-dasharray:6,6\"/>\n",
       "<path d=\"M 207.037,85.2496 155.403,75.1057\" style=\"fill:none;fill-rule:evenodd;stroke:#000000;stroke-width:2px;stroke-linecap:butt;stroke-linejoin:miter;stroke-opacity:1\"/>\n",
       "<path d=\"M 197.263,94.0549 161.119,86.9541\" style=\"fill:none;fill-rule:evenodd;stroke:#000000;stroke-width:2px;stroke-linecap:butt;stroke-linejoin:miter;stroke-opacity:1;stroke-dasharray:6,6\"/>\n",
       "<path d=\"M 155.403,75.1057 148.387,54.5964\" style=\"fill:none;fill-rule:evenodd;stroke:#000000;stroke-width:2px;stroke-linecap:butt;stroke-linejoin:miter;stroke-opacity:1\"/>\n",
       "<path d=\"M 148.387,54.5964 141.371,34.0872\" style=\"fill:none;fill-rule:evenodd;stroke:#FF0000;stroke-width:2px;stroke-linecap:butt;stroke-linejoin:miter;stroke-opacity:1\"/>\n",
       "<text style=\"font-size:17px;font-style:normal;font-weight:normal;fill-opacity:1;stroke:none;font-family:sans-serif;text-anchor:start;fill:#FF0000\" x=\"26.373\" y=\"153.021\"><tspan>O</tspan></text>\n",
       "<text style=\"font-size:17px;font-style:normal;font-weight:normal;fill-opacity:1;stroke:none;font-family:sans-serif;text-anchor:start;fill:#0000FF\" x=\"58.4904\" y=\"114.254\"><tspan>N</tspan><tspan style=\"baseline-shift:super;font-size:12.75px;\">+</tspan><tspan/></text>\n",
       "<text style=\"font-size:17px;font-style:normal;font-weight:normal;fill-opacity:1;stroke:none;font-family:sans-serif;text-anchor:start;fill:#FF0000\" x=\"42.1898\" y=\"64.4651\"><tspan>O</tspan><tspan style=\"baseline-shift:super;font-size:12.75px;\">-</tspan><tspan/></text>\n",
       "<text style=\"font-size:17px;font-style:normal;font-weight:normal;fill-opacity:1;stroke:none;font-family:sans-serif;text-anchor:start;fill:#0000FF\" x=\"181.866\" y=\"183.453\"><tspan>N</tspan></text>\n",
       "<text style=\"font-size:17px;font-style:normal;font-weight:normal;fill-opacity:1;stroke:none;font-family:sans-serif;text-anchor:start;fill:#00CC00\" x=\"352.001\" y=\"124.452\"><tspan>Cl</tspan></text>\n",
       "<text style=\"font-size:17px;font-style:normal;font-weight:normal;fill-opacity:1;stroke:none;font-family:sans-serif;text-anchor:start;fill:#FF0000\" x=\"122.578\" y=\"34.0872\"><tspan>OH</tspan></text>\n",
       "</svg>"
      ],
      "text/plain": [
       "<IPython.core.display.SVG object>"
      ]
     },
     "execution_count": 27,
     "metadata": {},
     "output_type": "execute_result"
    }
   ],
   "source": [
    "mol = mols[0]\n",
    "bonds = find_boundary_bonds(mol)\n",
    "bond_idxes = [bond.GetIdx() for bond in bonds]\n",
    "\n",
    "rdDepictor.Compute2DCoords(mol)\n",
    "drawer = rdMolDraw2D.MolDraw2DSVG(400,200)\n",
    "drawer.DrawMolecule(mol, highlightAtoms=[], highlightBonds=bond_idxes)\n",
    "drawer.FinishDrawing()\n",
    "svg = drawer.GetDrawingText().replace('svg:','')\n",
    "SVG(svg)"
   ]
  },
  {
   "cell_type": "code",
   "execution_count": 28,
   "metadata": {},
   "outputs": [
    {
     "data": {
      "image/svg+xml": [
       "<svg baseProfile=\"full\" height=\"200px\" version=\"1.1\" width=\"400px\" xml:space=\"preserve\" xmlns:rdkit=\"http://www.rdkit.org/xml\" xmlns:svg=\"http://www.w3.org/2000/svg\" xmlns:xlink=\"http://www.w3.org/1999/xlink\">\n",
       "<rect height=\"200\" style=\"opacity:1.0;fill:#FFFFFF;stroke:none\" width=\"400\" x=\"0\" y=\"0\"> </rect>\n",
       "<path d=\"M 255.324,100 176.276,100\" style=\"fill:none;fill-rule:evenodd;stroke:#FF7F7F;stroke-width:16px;stroke-linecap:butt;stroke-linejoin:miter;stroke-opacity:1\"/>\n",
       "<path d=\"M 263.228,171.547 263.228,139.524\" style=\"fill:none;fill-rule:evenodd;stroke:#FF0000;stroke-width:2px;stroke-linecap:butt;stroke-linejoin:miter;stroke-opacity:1\"/>\n",
       "<path d=\"M 263.228,139.524 263.228,107.5\" style=\"fill:none;fill-rule:evenodd;stroke:#CCCC00;stroke-width:2px;stroke-linecap:butt;stroke-linejoin:miter;stroke-opacity:1\"/>\n",
       "<path d=\"M 247.419,171.547 247.419,139.524\" style=\"fill:none;fill-rule:evenodd;stroke:#FF0000;stroke-width:2px;stroke-linecap:butt;stroke-linejoin:miter;stroke-opacity:1\"/>\n",
       "<path d=\"M 247.419,139.524 247.419,107.5\" style=\"fill:none;fill-rule:evenodd;stroke:#CCCC00;stroke-width:2px;stroke-linecap:butt;stroke-linejoin:miter;stroke-opacity:1\"/>\n",
       "<path d=\"M 263.228,92.5 263.228,60.4764\" style=\"fill:none;fill-rule:evenodd;stroke:#CCCC00;stroke-width:2px;stroke-linecap:butt;stroke-linejoin:miter;stroke-opacity:1\"/>\n",
       "<path d=\"M 263.228,60.4764 263.228,28.4527\" style=\"fill:none;fill-rule:evenodd;stroke:#FF0000;stroke-width:2px;stroke-linecap:butt;stroke-linejoin:miter;stroke-opacity:1\"/>\n",
       "<path d=\"M 247.419,92.5 247.419,60.4764\" style=\"fill:none;fill-rule:evenodd;stroke:#CCCC00;stroke-width:2px;stroke-linecap:butt;stroke-linejoin:miter;stroke-opacity:1\"/>\n",
       "<path d=\"M 247.419,60.4764 247.419,28.4527\" style=\"fill:none;fill-rule:evenodd;stroke:#FF0000;stroke-width:2px;stroke-linecap:butt;stroke-linejoin:miter;stroke-opacity:1\"/>\n",
       "<path d=\"M 261.329,100 291.097,100\" style=\"fill:none;fill-rule:evenodd;stroke:#CCCC00;stroke-width:2px;stroke-linecap:butt;stroke-linejoin:miter;stroke-opacity:1\"/>\n",
       "<path d=\"M 291.097,100 320.865,100\" style=\"fill:none;fill-rule:evenodd;stroke:#FF0000;stroke-width:2px;stroke-linecap:butt;stroke-linejoin:miter;stroke-opacity:1\"/>\n",
       "<path d=\"M 249.318,100 212.797,100\" style=\"fill:none;fill-rule:evenodd;stroke:#CCCC00;stroke-width:2px;stroke-linecap:butt;stroke-linejoin:miter;stroke-opacity:1\"/>\n",
       "<path d=\"M 212.797,100 176.276,100\" style=\"fill:none;fill-rule:evenodd;stroke:#000000;stroke-width:2px;stroke-linecap:butt;stroke-linejoin:miter;stroke-opacity:1\"/>\n",
       "<path d=\"M 176.276,100 136.753,168.457\" style=\"fill:none;fill-rule:evenodd;stroke:#000000;stroke-width:2px;stroke-linecap:butt;stroke-linejoin:miter;stroke-opacity:1\"/>\n",
       "<path d=\"M 156.656,102.364 128.99,150.284\" style=\"fill:none;fill-rule:evenodd;stroke:#000000;stroke-width:2px;stroke-linecap:butt;stroke-linejoin:miter;stroke-opacity:1;stroke-dasharray:6,6\"/>\n",
       "<path d=\"M 176.276,100 136.753,31.5431\" style=\"fill:none;fill-rule:evenodd;stroke:#000000;stroke-width:2px;stroke-linecap:butt;stroke-linejoin:miter;stroke-opacity:1\"/>\n",
       "<path d=\"M 156.656,97.6362 128.99,49.7163\" style=\"fill:none;fill-rule:evenodd;stroke:#000000;stroke-width:2px;stroke-linecap:butt;stroke-linejoin:miter;stroke-opacity:1;stroke-dasharray:6,6\"/>\n",
       "<path d=\"M 136.753,168.457 57.7054,168.457\" style=\"fill:none;fill-rule:evenodd;stroke:#000000;stroke-width:2px;stroke-linecap:butt;stroke-linejoin:miter;stroke-opacity:1\"/>\n",
       "<path d=\"M 124.896,152.647 69.5625,152.647\" style=\"fill:none;fill-rule:evenodd;stroke:#000000;stroke-width:2px;stroke-linecap:butt;stroke-linejoin:miter;stroke-opacity:1;stroke-dasharray:6,6\"/>\n",
       "<path d=\"M 57.7054,168.457 18.1818,100\" style=\"fill:none;fill-rule:evenodd;stroke:#000000;stroke-width:2px;stroke-linecap:butt;stroke-linejoin:miter;stroke-opacity:1\"/>\n",
       "<path d=\"M 65.4683,150.284 37.8017,102.364\" style=\"fill:none;fill-rule:evenodd;stroke:#000000;stroke-width:2px;stroke-linecap:butt;stroke-linejoin:miter;stroke-opacity:1;stroke-dasharray:6,6\"/>\n",
       "<path d=\"M 18.1818,100 57.7054,31.5431\" style=\"fill:none;fill-rule:evenodd;stroke:#000000;stroke-width:2px;stroke-linecap:butt;stroke-linejoin:miter;stroke-opacity:1\"/>\n",
       "<path d=\"M 37.8017,97.6362 65.4683,49.7163\" style=\"fill:none;fill-rule:evenodd;stroke:#000000;stroke-width:2px;stroke-linecap:butt;stroke-linejoin:miter;stroke-opacity:1;stroke-dasharray:6,6\"/>\n",
       "<path d=\"M 57.7054,31.5431 136.753,31.5431\" style=\"fill:none;fill-rule:evenodd;stroke:#000000;stroke-width:2px;stroke-linecap:butt;stroke-linejoin:miter;stroke-opacity:1\"/>\n",
       "<path d=\"M 69.5625,47.3525 124.896,47.3525\" style=\"fill:none;fill-rule:evenodd;stroke:#000000;stroke-width:2px;stroke-linecap:butt;stroke-linejoin:miter;stroke-opacity:1;stroke-dasharray:6,6\"/>\n",
       "<text style=\"font-size:15px;font-style:normal;font-weight:normal;fill-opacity:1;stroke:none;font-family:sans-serif;text-anchor:start;fill:#FF0000\" x=\"248.319\" y=\"186.547\"><tspan>O</tspan></text>\n",
       "<text style=\"font-size:15px;font-style:normal;font-weight:normal;fill-opacity:1;stroke:none;font-family:sans-serif;text-anchor:start;fill:#CCCC00\" x=\"249.318\" y=\"107.5\"><tspan>S</tspan></text>\n",
       "<text style=\"font-size:15px;font-style:normal;font-weight:normal;fill-opacity:1;stroke:none;font-family:sans-serif;text-anchor:start;fill:#FF0000\" x=\"248.319\" y=\"28.4527\"><tspan>O</tspan></text>\n",
       "<text style=\"font-size:15px;font-style:normal;font-weight:normal;fill-opacity:1;stroke:none;font-family:sans-serif;text-anchor:start;fill:#FF0000\" x=\"320.865\" y=\"107.5\"><tspan>OH</tspan></text>\n",
       "</svg>"
      ],
      "text/plain": [
       "<IPython.core.display.SVG object>"
      ]
     },
     "execution_count": 28,
     "metadata": {},
     "output_type": "execute_result"
    }
   ],
   "source": [
    "mol = mols[1]\n",
    "bonds = find_boundary_bonds(mol)\n",
    "bond_idxes = [bond.GetIdx() for bond in bonds]\n",
    "\n",
    "rdDepictor.Compute2DCoords(mol)\n",
    "drawer = rdMolDraw2D.MolDraw2DSVG(400,200)\n",
    "drawer.DrawMolecule(mol, highlightAtoms=[], highlightBonds=bond_idxes)\n",
    "drawer.FinishDrawing()\n",
    "svg = drawer.GetDrawingText().replace('svg:','')\n",
    "SVG(svg)"
   ]
  },
  {
   "cell_type": "code",
   "execution_count": 29,
   "metadata": {},
   "outputs": [
    {
     "data": {
      "image/svg+xml": [
       "<svg baseProfile=\"full\" height=\"200px\" version=\"1.1\" width=\"400px\" xml:space=\"preserve\" xmlns:rdkit=\"http://www.rdkit.org/xml\" xmlns:svg=\"http://www.w3.org/2000/svg\" xmlns:xlink=\"http://www.w3.org/1999/xlink\">\n",
       "<rect height=\"200\" style=\"opacity:1.0;fill:#FFFFFF;stroke:none\" width=\"400\" x=\"0\" y=\"0\"> </rect>\n",
       "<path d=\"M 158.079,170.751 158.494,148.942\" style=\"fill:none;fill-rule:evenodd;stroke:#FF0000;stroke-width:2px;stroke-linecap:butt;stroke-linejoin:miter;stroke-opacity:1\"/>\n",
       "<path d=\"M 158.494,148.942 158.908,127.133\" style=\"fill:none;fill-rule:evenodd;stroke:#000000;stroke-width:2px;stroke-linecap:butt;stroke-linejoin:miter;stroke-opacity:1\"/>\n",
       "<path d=\"M 147.61,170.551 148.025,148.743\" style=\"fill:none;fill-rule:evenodd;stroke:#FF0000;stroke-width:2px;stroke-linecap:butt;stroke-linejoin:miter;stroke-opacity:1\"/>\n",
       "<path d=\"M 148.025,148.743 148.44,126.934\" style=\"fill:none;fill-rule:evenodd;stroke:#000000;stroke-width:2px;stroke-linecap:butt;stroke-linejoin:miter;stroke-opacity:1\"/>\n",
       "<path d=\"M 153.674,127.034 199.502,101.725\" style=\"fill:none;fill-rule:evenodd;stroke:#000000;stroke-width:2px;stroke-linecap:butt;stroke-linejoin:miter;stroke-opacity:1\"/>\n",
       "<path d=\"M 153.674,127.034 108.842,100\" style=\"fill:none;fill-rule:evenodd;stroke:#000000;stroke-width:2px;stroke-linecap:butt;stroke-linejoin:miter;stroke-opacity:1\"/>\n",
       "<path d=\"M 199.502,101.725 244.334,128.758\" style=\"fill:none;fill-rule:evenodd;stroke:#000000;stroke-width:2px;stroke-linecap:butt;stroke-linejoin:miter;stroke-opacity:1\"/>\n",
       "<path d=\"M 200.82,114.746 232.203,133.67\" style=\"fill:none;fill-rule:evenodd;stroke:#000000;stroke-width:2px;stroke-linecap:butt;stroke-linejoin:miter;stroke-opacity:1\"/>\n",
       "<path d=\"M 244.334,128.758 290.162,103.449\" style=\"fill:none;fill-rule:evenodd;stroke:#000000;stroke-width:2px;stroke-linecap:butt;stroke-linejoin:miter;stroke-opacity:1\"/>\n",
       "<path d=\"M 290.162,103.449 334.995,130.483\" style=\"fill:none;fill-rule:evenodd;stroke:#000000;stroke-width:2px;stroke-linecap:butt;stroke-linejoin:miter;stroke-opacity:1\"/>\n",
       "<path d=\"M 302.294,98.5378 333.676,117.461\" style=\"fill:none;fill-rule:evenodd;stroke:#000000;stroke-width:2px;stroke-linecap:butt;stroke-linejoin:miter;stroke-opacity:1;stroke-dasharray:6,6\"/>\n",
       "<path d=\"M 290.162,103.449 291.158,51.1066\" style=\"fill:none;fill-rule:evenodd;stroke:#000000;stroke-width:2px;stroke-linecap:butt;stroke-linejoin:miter;stroke-opacity:1\"/>\n",
       "<path d=\"M 300.78,95.797 301.477,59.1571\" style=\"fill:none;fill-rule:evenodd;stroke:#000000;stroke-width:2px;stroke-linecap:butt;stroke-linejoin:miter;stroke-opacity:1;stroke-dasharray:6,6\"/>\n",
       "<path d=\"M 334.995,130.483 380.822,105.174\" style=\"fill:none;fill-rule:evenodd;stroke:#000000;stroke-width:2px;stroke-linecap:butt;stroke-linejoin:miter;stroke-opacity:1\"/>\n",
       "<path d=\"M 336.807,117.521 368.886,99.8046\" style=\"fill:none;fill-rule:evenodd;stroke:#000000;stroke-width:2px;stroke-linecap:butt;stroke-linejoin:miter;stroke-opacity:1;stroke-dasharray:6,6\"/>\n",
       "<path d=\"M 380.822,105.174 381.818,52.8312\" style=\"fill:none;fill-rule:evenodd;stroke:#000000;stroke-width:2px;stroke-linecap:butt;stroke-linejoin:miter;stroke-opacity:1\"/>\n",
       "<path d=\"M 370.503,97.1233 371.2,60.4834\" style=\"fill:none;fill-rule:evenodd;stroke:#000000;stroke-width:2px;stroke-linecap:butt;stroke-linejoin:miter;stroke-opacity:1;stroke-dasharray:6,6\"/>\n",
       "<path d=\"M 381.818,52.8312 363.183,41.5945\" style=\"fill:none;fill-rule:evenodd;stroke:#000000;stroke-width:2px;stroke-linecap:butt;stroke-linejoin:miter;stroke-opacity:1\"/>\n",
       "<path d=\"M 363.183,41.5945 344.549,30.3578\" style=\"fill:none;fill-rule:evenodd;stroke:#0000FF;stroke-width:2px;stroke-linecap:butt;stroke-linejoin:miter;stroke-opacity:1\"/>\n",
       "<path d=\"M 370.821,58.4266 357.777,50.5609\" style=\"fill:none;fill-rule:evenodd;stroke:#000000;stroke-width:2px;stroke-linecap:butt;stroke-linejoin:miter;stroke-opacity:1;stroke-dasharray:6,6\"/>\n",
       "<path d=\"M 357.777,50.5609 344.732,42.6952\" style=\"fill:none;fill-rule:evenodd;stroke:#0000FF;stroke-width:2px;stroke-linecap:butt;stroke-linejoin:miter;stroke-opacity:1;stroke-dasharray:6,6\"/>\n",
       "<path d=\"M 329.423,29.9741 310.291,40.5403\" style=\"fill:none;fill-rule:evenodd;stroke:#0000FF;stroke-width:2px;stroke-linecap:butt;stroke-linejoin:miter;stroke-opacity:1\"/>\n",
       "<path d=\"M 310.291,40.5403 291.158,51.1066\" style=\"fill:none;fill-rule:evenodd;stroke:#000000;stroke-width:2px;stroke-linecap:butt;stroke-linejoin:miter;stroke-opacity:1\"/>\n",
       "<path d=\"M 328.745,42.3096 315.352,49.7059\" style=\"fill:none;fill-rule:evenodd;stroke:#0000FF;stroke-width:2px;stroke-linecap:butt;stroke-linejoin:miter;stroke-opacity:1;stroke-dasharray:6,6\"/>\n",
       "<path d=\"M 315.352,49.7059 301.96,57.1023\" style=\"fill:none;fill-rule:evenodd;stroke:#000000;stroke-width:2px;stroke-linecap:butt;stroke-linejoin:miter;stroke-opacity:1;stroke-dasharray:6,6\"/>\n",
       "<path d=\"M 108.842,100 109.838,47.6573\" style=\"fill:none;fill-rule:evenodd;stroke:#000000;stroke-width:2px;stroke-linecap:butt;stroke-linejoin:miter;stroke-opacity:1\"/>\n",
       "<path d=\"M 98.5228,91.9495 99.2198,55.3096\" style=\"fill:none;fill-rule:evenodd;stroke:#000000;stroke-width:2px;stroke-linecap:butt;stroke-linejoin:miter;stroke-opacity:1;stroke-dasharray:6,6\"/>\n",
       "<path d=\"M 108.842,100 63.014,125.309\" style=\"fill:none;fill-rule:evenodd;stroke:#000000;stroke-width:2px;stroke-linecap:butt;stroke-linejoin:miter;stroke-opacity:1\"/>\n",
       "<path d=\"M 96.906,94.6308 64.8264,112.347\" style=\"fill:none;fill-rule:evenodd;stroke:#000000;stroke-width:2px;stroke-linecap:butt;stroke-linejoin:miter;stroke-opacity:1;stroke-dasharray:6,6\"/>\n",
       "<path d=\"M 109.838,47.6573 65.0055,20.6237\" style=\"fill:none;fill-rule:evenodd;stroke:#000000;stroke-width:2px;stroke-linecap:butt;stroke-linejoin:miter;stroke-opacity:1\"/>\n",
       "<path d=\"M 97.7061,52.5687 66.3236,33.6452\" style=\"fill:none;fill-rule:evenodd;stroke:#000000;stroke-width:2px;stroke-linecap:butt;stroke-linejoin:miter;stroke-opacity:1;stroke-dasharray:6,6\"/>\n",
       "<path d=\"M 65.0055,20.6237 19.1775,45.9327\" style=\"fill:none;fill-rule:evenodd;stroke:#000000;stroke-width:2px;stroke-linecap:butt;stroke-linejoin:miter;stroke-opacity:1\"/>\n",
       "<path d=\"M 63.1931,33.5856 31.1135,51.3019\" style=\"fill:none;fill-rule:evenodd;stroke:#000000;stroke-width:2px;stroke-linecap:butt;stroke-linejoin:miter;stroke-opacity:1;stroke-dasharray:6,6\"/>\n",
       "<path d=\"M 19.1775,45.9327 18.1818,98.2754\" style=\"fill:none;fill-rule:evenodd;stroke:#000000;stroke-width:2px;stroke-linecap:butt;stroke-linejoin:miter;stroke-opacity:1\"/>\n",
       "<path d=\"M 29.4967,53.9833 28.7997,90.6231\" style=\"fill:none;fill-rule:evenodd;stroke:#000000;stroke-width:2px;stroke-linecap:butt;stroke-linejoin:miter;stroke-opacity:1;stroke-dasharray:6,6\"/>\n",
       "<path d=\"M 18.1818,98.2754 63.014,125.309\" style=\"fill:none;fill-rule:evenodd;stroke:#000000;stroke-width:2px;stroke-linecap:butt;stroke-linejoin:miter;stroke-opacity:1\"/>\n",
       "<path d=\"M 30.3134,93.364 61.6959,112.288\" style=\"fill:none;fill-rule:evenodd;stroke:#000000;stroke-width:2px;stroke-linecap:butt;stroke-linejoin:miter;stroke-opacity:1;stroke-dasharray:6,6\"/>\n",
       "<text style=\"font-size:17px;font-style:normal;font-weight:normal;fill-opacity:1;stroke:none;font-family:sans-serif;text-anchor:start;fill:#FF0000\" x=\"144.529\" y=\"188.102\"><tspan>O</tspan></text>\n",
       "<text style=\"font-size:17px;font-style:normal;font-weight:normal;fill-opacity:1;stroke:none;font-family:sans-serif;text-anchor:start;fill:#0000FF\" x=\"329.423\" y=\"34.5229\"><tspan>N</tspan></text>\n",
       "</svg>"
      ],
      "text/plain": [
       "<IPython.core.display.SVG object>"
      ]
     },
     "execution_count": 29,
     "metadata": {},
     "output_type": "execute_result"
    }
   ],
   "source": [
    "mol = mols[2]\n",
    "bonds = find_boundary_bonds(mol)\n",
    "bond_idxes = [bond.GetIdx() for bond in bonds]\n",
    "\n",
    "rdDepictor.Compute2DCoords(mol)\n",
    "drawer = rdMolDraw2D.MolDraw2DSVG(400,200)\n",
    "drawer.DrawMolecule(mol, highlightAtoms=[], highlightBonds=bond_idxes)\n",
    "drawer.FinishDrawing()\n",
    "svg = drawer.GetDrawingText().replace('svg:','')\n",
    "SVG(svg)"
   ]
  },
  {
   "cell_type": "markdown",
   "metadata": {},
   "source": [
    "この化学構造はすべてがMurcko scaffoldなのでハイライトされてないのが正しい。"
   ]
  },
  {
   "cell_type": "code",
   "execution_count": 30,
   "metadata": {},
   "outputs": [
    {
     "data": {
      "image/svg+xml": [
       "<svg baseProfile=\"full\" height=\"200px\" version=\"1.1\" width=\"400px\" xml:space=\"preserve\" xmlns:rdkit=\"http://www.rdkit.org/xml\" xmlns:svg=\"http://www.w3.org/2000/svg\" xmlns:xlink=\"http://www.w3.org/1999/xlink\">\n",
       "<rect height=\"200\" style=\"opacity:1.0;fill:#FFFFFF;stroke:none\" width=\"400\" x=\"0\" y=\"0\"> </rect>\n",
       "<path d=\"M 315.818,121.984 337.818,110.992\" style=\"fill:none;fill-rule:evenodd;stroke:#FF7F7F;stroke-width:10px;stroke-linecap:butt;stroke-linejoin:miter;stroke-opacity:1\"/>\n",
       "<path d=\"M 361.299,75.4514 362.78,50.9028\" style=\"fill:none;fill-rule:evenodd;stroke:#FF7F7F;stroke-width:10px;stroke-linecap:butt;stroke-linejoin:miter;stroke-opacity:1\"/>\n",
       "<path d=\"M 358.337,124.549 356.856,149.097\" style=\"fill:none;fill-rule:evenodd;stroke:#FF7F7F;stroke-width:10px;stroke-linecap:butt;stroke-linejoin:miter;stroke-opacity:1\"/>\n",
       "<path d=\"M 18.1818,104.03 40.1819,93.0377\" style=\"fill:none;fill-rule:evenodd;stroke:#000000;stroke-width:2px;stroke-linecap:butt;stroke-linejoin:miter;stroke-opacity:1\"/>\n",
       "<path d=\"M 40.1819,93.0377 60.7012,106.594\" style=\"fill:none;fill-rule:evenodd;stroke:#000000;stroke-width:2px;stroke-linecap:butt;stroke-linejoin:miter;stroke-opacity:1\"/>\n",
       "<path d=\"M 60.7012,106.594 82.7014,95.6026\" style=\"fill:none;fill-rule:evenodd;stroke:#000000;stroke-width:2px;stroke-linecap:butt;stroke-linejoin:miter;stroke-opacity:1\"/>\n",
       "<path d=\"M 82.7014,95.6026 103.221,109.159\" style=\"fill:none;fill-rule:evenodd;stroke:#000000;stroke-width:2px;stroke-linecap:butt;stroke-linejoin:miter;stroke-opacity:1\"/>\n",
       "<path d=\"M 103.221,109.159 125.221,98.1675\" style=\"fill:none;fill-rule:evenodd;stroke:#000000;stroke-width:2px;stroke-linecap:butt;stroke-linejoin:miter;stroke-opacity:1\"/>\n",
       "<path d=\"M 125.221,98.1675 145.74,111.724\" style=\"fill:none;fill-rule:evenodd;stroke:#000000;stroke-width:2px;stroke-linecap:butt;stroke-linejoin:miter;stroke-opacity:1\"/>\n",
       "<path d=\"M 145.74,111.724 167.74,100.732\" style=\"fill:none;fill-rule:evenodd;stroke:#000000;stroke-width:2px;stroke-linecap:butt;stroke-linejoin:miter;stroke-opacity:1\"/>\n",
       "<path d=\"M 167.74,100.732 188.26,114.289\" style=\"fill:none;fill-rule:evenodd;stroke:#000000;stroke-width:2px;stroke-linecap:butt;stroke-linejoin:miter;stroke-opacity:1\"/>\n",
       "<path d=\"M 188.26,114.289 210.26,103.297\" style=\"fill:none;fill-rule:evenodd;stroke:#000000;stroke-width:2px;stroke-linecap:butt;stroke-linejoin:miter;stroke-opacity:1\"/>\n",
       "<path d=\"M 210.26,103.297 230.779,116.854\" style=\"fill:none;fill-rule:evenodd;stroke:#000000;stroke-width:2px;stroke-linecap:butt;stroke-linejoin:miter;stroke-opacity:1\"/>\n",
       "<path d=\"M 230.779,116.854 252.779,105.862\" style=\"fill:none;fill-rule:evenodd;stroke:#000000;stroke-width:2px;stroke-linecap:butt;stroke-linejoin:miter;stroke-opacity:1\"/>\n",
       "<path d=\"M 252.779,105.862 273.298,119.419\" style=\"fill:none;fill-rule:evenodd;stroke:#000000;stroke-width:2px;stroke-linecap:butt;stroke-linejoin:miter;stroke-opacity:1\"/>\n",
       "<path d=\"M 273.298,119.419 295.298,108.427\" style=\"fill:none;fill-rule:evenodd;stroke:#000000;stroke-width:2px;stroke-linecap:butt;stroke-linejoin:miter;stroke-opacity:1\"/>\n",
       "<path d=\"M 295.298,108.427 315.818,121.984\" style=\"fill:none;fill-rule:evenodd;stroke:#000000;stroke-width:2px;stroke-linecap:butt;stroke-linejoin:miter;stroke-opacity:1\"/>\n",
       "<path d=\"M 315.818,121.984 337.818,110.992\" style=\"fill:none;fill-rule:evenodd;stroke:#000000;stroke-width:2px;stroke-linecap:butt;stroke-linejoin:miter;stroke-opacity:1\"/>\n",
       "<path d=\"M 337.818,110.992 339.299,86.4433\" style=\"fill:none;fill-rule:evenodd;stroke:#000000;stroke-width:2px;stroke-linecap:butt;stroke-linejoin:miter;stroke-opacity:1\"/>\n",
       "<path d=\"M 342.95,107.606 343.986,90.4217\" style=\"fill:none;fill-rule:evenodd;stroke:#000000;stroke-width:2px;stroke-linecap:butt;stroke-linejoin:miter;stroke-opacity:1;stroke-dasharray:6,6\"/>\n",
       "<path d=\"M 337.818,110.992 358.337,124.549\" style=\"fill:none;fill-rule:evenodd;stroke:#000000;stroke-width:2px;stroke-linecap:butt;stroke-linejoin:miter;stroke-opacity:1\"/>\n",
       "<path d=\"M 343.607,108.922 357.971,118.411\" style=\"fill:none;fill-rule:evenodd;stroke:#000000;stroke-width:2px;stroke-linecap:butt;stroke-linejoin:miter;stroke-opacity:1;stroke-dasharray:6,6\"/>\n",
       "<path d=\"M 339.299,86.4433 361.299,75.4514\" style=\"fill:none;fill-rule:evenodd;stroke:#000000;stroke-width:2px;stroke-linecap:butt;stroke-linejoin:miter;stroke-opacity:1\"/>\n",
       "<path d=\"M 344.797,89.1945 360.197,81.5002\" style=\"fill:none;fill-rule:evenodd;stroke:#000000;stroke-width:2px;stroke-linecap:butt;stroke-linejoin:miter;stroke-opacity:1;stroke-dasharray:6,6\"/>\n",
       "<path d=\"M 361.299,75.4514 361.916,65.2265\" style=\"fill:none;fill-rule:evenodd;stroke:#000000;stroke-width:2px;stroke-linecap:butt;stroke-linejoin:miter;stroke-opacity:1\"/>\n",
       "<path d=\"M 361.916,65.2265 362.532,55.0017\" style=\"fill:none;fill-rule:evenodd;stroke:#FF0000;stroke-width:2px;stroke-linecap:butt;stroke-linejoin:miter;stroke-opacity:1\"/>\n",
       "<path d=\"M 361.299,75.4514 381.818,89.0081\" style=\"fill:none;fill-rule:evenodd;stroke:#000000;stroke-width:2px;stroke-linecap:butt;stroke-linejoin:miter;stroke-opacity:1\"/>\n",
       "<path d=\"M 361.665,81.5888 376.029,91.0785\" style=\"fill:none;fill-rule:evenodd;stroke:#000000;stroke-width:2px;stroke-linecap:butt;stroke-linejoin:miter;stroke-opacity:1;stroke-dasharray:6,6\"/>\n",
       "<path d=\"M 381.818,89.0081 380.337,113.557\" style=\"fill:none;fill-rule:evenodd;stroke:#000000;stroke-width:2px;stroke-linecap:butt;stroke-linejoin:miter;stroke-opacity:1\"/>\n",
       "<path d=\"M 376.686,92.3943 375.65,109.578\" style=\"fill:none;fill-rule:evenodd;stroke:#000000;stroke-width:2px;stroke-linecap:butt;stroke-linejoin:miter;stroke-opacity:1;stroke-dasharray:6,6\"/>\n",
       "<path d=\"M 380.337,113.557 358.337,124.549\" style=\"fill:none;fill-rule:evenodd;stroke:#000000;stroke-width:2px;stroke-linecap:butt;stroke-linejoin:miter;stroke-opacity:1\"/>\n",
       "<path d=\"M 374.839,110.805 359.439,118.5\" style=\"fill:none;fill-rule:evenodd;stroke:#000000;stroke-width:2px;stroke-linecap:butt;stroke-linejoin:miter;stroke-opacity:1;stroke-dasharray:6,6\"/>\n",
       "<path d=\"M 358.337,124.549 357.733,134.569\" style=\"fill:none;fill-rule:evenodd;stroke:#000000;stroke-width:2px;stroke-linecap:butt;stroke-linejoin:miter;stroke-opacity:1\"/>\n",
       "<path d=\"M 357.733,134.569 357.128,144.588\" style=\"fill:none;fill-rule:evenodd;stroke:#0000FF;stroke-width:2px;stroke-linecap:butt;stroke-linejoin:miter;stroke-opacity:1\"/>\n",
       "<text style=\"font-size:8px;font-style:normal;font-weight:normal;fill-opacity:1;stroke:none;font-family:sans-serif;text-anchor:start;fill:#FF0000\" x=\"355.399\" y=\"55.0017\"><tspan>OH</tspan></text>\n",
       "<text style=\"font-size:8px;font-style:normal;font-weight:normal;fill-opacity:1;stroke:none;font-family:sans-serif;text-anchor:start;fill:#0000FF\" x=\"348.383\" y=\"153.606\"><tspan>NH</tspan><tspan style=\"baseline-shift:sub;font-size:6px;\">2</tspan><tspan/></text>\n",
       "</svg>"
      ],
      "text/plain": [
       "<IPython.core.display.SVG object>"
      ]
     },
     "execution_count": 30,
     "metadata": {},
     "output_type": "execute_result"
    }
   ],
   "source": [
    "mol = mols[3]\n",
    "bonds = find_boundary_bonds(mol)\n",
    "bond_idxes = [bond.GetIdx() for bond in bonds]\n",
    "\n",
    "rdDepictor.Compute2DCoords(mol)\n",
    "drawer = rdMolDraw2D.MolDraw2DSVG(400,200)\n",
    "drawer.DrawMolecule(mol, highlightAtoms=[], highlightBonds=bond_idxes)\n",
    "drawer.FinishDrawing()\n",
    "svg = drawer.GetDrawingText().replace('svg:','')\n",
    "SVG(svg)"
   ]
  },
  {
   "cell_type": "code",
   "execution_count": 31,
   "metadata": {},
   "outputs": [
    {
     "data": {
      "image/svg+xml": [
       "<svg baseProfile=\"full\" height=\"200px\" version=\"1.1\" width=\"400px\" xml:space=\"preserve\" xmlns:rdkit=\"http://www.rdkit.org/xml\" xmlns:svg=\"http://www.w3.org/2000/svg\" xmlns:xlink=\"http://www.w3.org/1999/xlink\">\n",
       "<rect height=\"200\" style=\"opacity:1.0;fill:#FFFFFF;stroke:none\" width=\"400\" x=\"0\" y=\"0\"> </rect>\n",
       "<path d=\"M 203.496,70.5861 177.402,98.5074\" style=\"fill:none;fill-rule:evenodd;stroke:#FF7F7F;stroke-width:16px;stroke-linecap:butt;stroke-linejoin:miter;stroke-opacity:1\"/>\n",
       "<path d=\"M 231.352,70.1289 203.496,70.5861\" style=\"fill:none;fill-rule:evenodd;stroke:#000000;stroke-width:2px;stroke-linecap:butt;stroke-linejoin:miter;stroke-opacity:1\"/>\n",
       "<path d=\"M 207.152,69.4727 202.555,54.3779\" style=\"fill:none;fill-rule:evenodd;stroke:#000000;stroke-width:2px;stroke-linecap:butt;stroke-linejoin:miter;stroke-opacity:1\"/>\n",
       "<path d=\"M 202.555,54.3779 197.958,39.2831\" style=\"fill:none;fill-rule:evenodd;stroke:#FF0000;stroke-width:2px;stroke-linecap:butt;stroke-linejoin:miter;stroke-opacity:1\"/>\n",
       "<path d=\"M 199.84,71.6994 195.243,56.6046\" style=\"fill:none;fill-rule:evenodd;stroke:#000000;stroke-width:2px;stroke-linecap:butt;stroke-linejoin:miter;stroke-opacity:1\"/>\n",
       "<path d=\"M 195.243,56.6046 190.646,41.5098\" style=\"fill:none;fill-rule:evenodd;stroke:#FF0000;stroke-width:2px;stroke-linecap:butt;stroke-linejoin:miter;stroke-opacity:1\"/>\n",
       "<path d=\"M 203.496,70.5861 177.402,98.5074\" style=\"fill:none;fill-rule:evenodd;stroke:#000000;stroke-width:2px;stroke-linecap:butt;stroke-linejoin:miter;stroke-opacity:1\"/>\n",
       "<path d=\"M 177.402,98.5074 205.323,124.602\" style=\"fill:none;fill-rule:evenodd;stroke:#000000;stroke-width:2px;stroke-linecap:butt;stroke-linejoin:miter;stroke-opacity:1\"/>\n",
       "<path d=\"M 177.402,98.5074 149.48,72.413\" style=\"fill:none;fill-rule:evenodd;stroke:#000000;stroke-width:2px;stroke-linecap:butt;stroke-linejoin:miter;stroke-opacity:1\"/>\n",
       "<path d=\"M 177.402,98.5074 151.307,126.429\" style=\"fill:none;fill-rule:evenodd;stroke:#000000;stroke-width:2px;stroke-linecap:butt;stroke-linejoin:miter;stroke-opacity:1\"/>\n",
       "<path d=\"M 205.323,124.602 241.882,113.468\" style=\"fill:none;fill-rule:evenodd;stroke:#000000;stroke-width:2px;stroke-linecap:butt;stroke-linejoin:miter;stroke-opacity:1\"/>\n",
       "<path d=\"M 241.882,113.468 250.52,76.2406\" style=\"fill:none;fill-rule:evenodd;stroke:#000000;stroke-width:2px;stroke-linecap:butt;stroke-linejoin:miter;stroke-opacity:1\"/>\n",
       "<path d=\"M 250.623,109.612 256.67,83.5523\" style=\"fill:none;fill-rule:evenodd;stroke:#000000;stroke-width:2px;stroke-linecap:butt;stroke-linejoin:miter;stroke-opacity:1;stroke-dasharray:6,6\"/>\n",
       "<path d=\"M 241.882,113.468 269.803,139.563\" style=\"fill:none;fill-rule:evenodd;stroke:#000000;stroke-width:2px;stroke-linecap:butt;stroke-linejoin:miter;stroke-opacity:1\"/>\n",
       "<path d=\"M 251.289,111.798 270.834,130.064\" style=\"fill:none;fill-rule:evenodd;stroke:#000000;stroke-width:2px;stroke-linecap:butt;stroke-linejoin:miter;stroke-opacity:1;stroke-dasharray:6,6\"/>\n",
       "<path d=\"M 250.52,76.2406 287.079,65.1072\" style=\"fill:none;fill-rule:evenodd;stroke:#000000;stroke-width:2px;stroke-linecap:butt;stroke-linejoin:miter;stroke-opacity:1\"/>\n",
       "<path d=\"M 258.23,81.8824 283.822,74.089\" style=\"fill:none;fill-rule:evenodd;stroke:#000000;stroke-width:2px;stroke-linecap:butt;stroke-linejoin:miter;stroke-opacity:1;stroke-dasharray:6,6\"/>\n",
       "<path d=\"M 287.079,65.1072 315,91.2016\" style=\"fill:none;fill-rule:evenodd;stroke:#000000;stroke-width:2px;stroke-linecap:butt;stroke-linejoin:miter;stroke-opacity:1\"/>\n",
       "<path d=\"M 286.048,74.6056 305.593,92.8717\" style=\"fill:none;fill-rule:evenodd;stroke:#000000;stroke-width:2px;stroke-linecap:butt;stroke-linejoin:miter;stroke-opacity:1;stroke-dasharray:6,6\"/>\n",
       "<path d=\"M 315,91.2016 306.362,128.429\" style=\"fill:none;fill-rule:evenodd;stroke:#000000;stroke-width:2px;stroke-linecap:butt;stroke-linejoin:miter;stroke-opacity:1\"/>\n",
       "<path d=\"M 306.259,95.0582 300.212,121.118\" style=\"fill:none;fill-rule:evenodd;stroke:#000000;stroke-width:2px;stroke-linecap:butt;stroke-linejoin:miter;stroke-opacity:1;stroke-dasharray:6,6\"/>\n",
       "<path d=\"M 306.362,128.429 269.803,139.563\" style=\"fill:none;fill-rule:evenodd;stroke:#000000;stroke-width:2px;stroke-linecap:butt;stroke-linejoin:miter;stroke-opacity:1\"/>\n",
       "<path d=\"M 298.652,122.788 273.06,130.581\" style=\"fill:none;fill-rule:evenodd;stroke:#000000;stroke-width:2px;stroke-linecap:butt;stroke-linejoin:miter;stroke-opacity:1;stroke-dasharray:6,6\"/>\n",
       "<path d=\"M 149.48,72.413 158.118,35.1853\" style=\"fill:none;fill-rule:evenodd;stroke:#000000;stroke-width:2px;stroke-linecap:butt;stroke-linejoin:miter;stroke-opacity:1\"/>\n",
       "<path d=\"M 143.33,65.1013 149.377,39.0419\" style=\"fill:none;fill-rule:evenodd;stroke:#000000;stroke-width:2px;stroke-linecap:butt;stroke-linejoin:miter;stroke-opacity:1;stroke-dasharray:6,6\"/>\n",
       "<path d=\"M 149.48,72.413 112.921,83.5464\" style=\"fill:none;fill-rule:evenodd;stroke:#000000;stroke-width:2px;stroke-linecap:butt;stroke-linejoin:miter;stroke-opacity:1\"/>\n",
       "<path d=\"M 141.77,66.7712 116.178,74.5646\" style=\"fill:none;fill-rule:evenodd;stroke:#000000;stroke-width:2px;stroke-linecap:butt;stroke-linejoin:miter;stroke-opacity:1;stroke-dasharray:6,6\"/>\n",
       "<path d=\"M 158.118,35.1853 130.197,9.09091\" style=\"fill:none;fill-rule:evenodd;stroke:#000000;stroke-width:2px;stroke-linecap:butt;stroke-linejoin:miter;stroke-opacity:1\"/>\n",
       "<path d=\"M 148.711,36.8554 129.166,18.5893\" style=\"fill:none;fill-rule:evenodd;stroke:#000000;stroke-width:2px;stroke-linecap:butt;stroke-linejoin:miter;stroke-opacity:1;stroke-dasharray:6,6\"/>\n",
       "<path d=\"M 130.197,9.09091 93.6376,20.2243\" style=\"fill:none;fill-rule:evenodd;stroke:#000000;stroke-width:2px;stroke-linecap:butt;stroke-linejoin:miter;stroke-opacity:1\"/>\n",
       "<path d=\"M 126.94,18.0727 101.348,25.8661\" style=\"fill:none;fill-rule:evenodd;stroke:#000000;stroke-width:2px;stroke-linecap:butt;stroke-linejoin:miter;stroke-opacity:1;stroke-dasharray:6,6\"/>\n",
       "<path d=\"M 93.6376,20.2243 84.9999,57.4521\" style=\"fill:none;fill-rule:evenodd;stroke:#000000;stroke-width:2px;stroke-linecap:butt;stroke-linejoin:miter;stroke-opacity:1\"/>\n",
       "<path d=\"M 99.7875,27.536 93.7411,53.5954\" style=\"fill:none;fill-rule:evenodd;stroke:#000000;stroke-width:2px;stroke-linecap:butt;stroke-linejoin:miter;stroke-opacity:1;stroke-dasharray:6,6\"/>\n",
       "<path d=\"M 84.9999,57.4521 112.921,83.5464\" style=\"fill:none;fill-rule:evenodd;stroke:#000000;stroke-width:2px;stroke-linecap:butt;stroke-linejoin:miter;stroke-opacity:1\"/>\n",
       "<path d=\"M 94.407,55.782 113.952,74.048\" style=\"fill:none;fill-rule:evenodd;stroke:#000000;stroke-width:2px;stroke-linecap:butt;stroke-linejoin:miter;stroke-opacity:1;stroke-dasharray:6,6\"/>\n",
       "<path d=\"M 151.307,126.429 114.08,117.791\" style=\"fill:none;fill-rule:evenodd;stroke:#000000;stroke-width:2px;stroke-linecap:butt;stroke-linejoin:miter;stroke-opacity:1\"/>\n",
       "<path d=\"M 143.996,132.579 117.936,126.532\" style=\"fill:none;fill-rule:evenodd;stroke:#000000;stroke-width:2px;stroke-linecap:butt;stroke-linejoin:miter;stroke-opacity:1;stroke-dasharray:6,6\"/>\n",
       "<path d=\"M 151.307,126.429 162.441,162.988\" style=\"fill:none;fill-rule:evenodd;stroke:#000000;stroke-width:2px;stroke-linecap:butt;stroke-linejoin:miter;stroke-opacity:1\"/>\n",
       "<path d=\"M 145.665,134.139 153.459,159.731\" style=\"fill:none;fill-rule:evenodd;stroke:#000000;stroke-width:2px;stroke-linecap:butt;stroke-linejoin:miter;stroke-opacity:1;stroke-dasharray:6,6\"/>\n",
       "<path d=\"M 114.08,117.791 87.9851,145.712\" style=\"fill:none;fill-rule:evenodd;stroke:#000000;stroke-width:2px;stroke-linecap:butt;stroke-linejoin:miter;stroke-opacity:1\"/>\n",
       "<path d=\"M 115.75,127.198 97.4836,146.743\" style=\"fill:none;fill-rule:evenodd;stroke:#000000;stroke-width:2px;stroke-linecap:butt;stroke-linejoin:miter;stroke-opacity:1;stroke-dasharray:6,6\"/>\n",
       "<path d=\"M 87.9851,145.712 99.1185,182.271\" style=\"fill:none;fill-rule:evenodd;stroke:#000000;stroke-width:2px;stroke-linecap:butt;stroke-linejoin:miter;stroke-opacity:1\"/>\n",
       "<path d=\"M 96.967,148.97 104.76,174.561\" style=\"fill:none;fill-rule:evenodd;stroke:#000000;stroke-width:2px;stroke-linecap:butt;stroke-linejoin:miter;stroke-opacity:1;stroke-dasharray:6,6\"/>\n",
       "<path d=\"M 99.1185,182.271 136.346,190.909\" style=\"fill:none;fill-rule:evenodd;stroke:#000000;stroke-width:2px;stroke-linecap:butt;stroke-linejoin:miter;stroke-opacity:1\"/>\n",
       "<path d=\"M 106.43,176.121 132.49,182.168\" style=\"fill:none;fill-rule:evenodd;stroke:#000000;stroke-width:2px;stroke-linecap:butt;stroke-linejoin:miter;stroke-opacity:1;stroke-dasharray:6,6\"/>\n",
       "<path d=\"M 136.346,190.909 162.441,162.988\" style=\"fill:none;fill-rule:evenodd;stroke:#000000;stroke-width:2px;stroke-linecap:butt;stroke-linejoin:miter;stroke-opacity:1\"/>\n",
       "<path d=\"M 134.676,181.502 152.942,161.957\" style=\"fill:none;fill-rule:evenodd;stroke:#000000;stroke-width:2px;stroke-linecap:butt;stroke-linejoin:miter;stroke-opacity:1;stroke-dasharray:6,6\"/>\n",
       "<text style=\"font-size:12px;font-style:normal;font-weight:normal;fill-opacity:1;stroke:none;font-family:sans-serif;text-anchor:start;fill:#FF0000\" x=\"186.414\" y=\"40.3965\"><tspan>O</tspan></text>\n",
       "</svg>"
      ],
      "text/plain": [
       "<IPython.core.display.SVG object>"
      ]
     },
     "execution_count": 31,
     "metadata": {},
     "output_type": "execute_result"
    }
   ],
   "source": [
    "mol = mols[4]\n",
    "bonds = find_boundary_bonds(mol)\n",
    "bond_idxes = [bond.GetIdx() for bond in bonds]\n",
    "\n",
    "rdDepictor.Compute2DCoords(mol)\n",
    "drawer = rdMolDraw2D.MolDraw2DSVG(400,200)\n",
    "drawer.DrawMolecule(mol, highlightAtoms=[], highlightBonds=bond_idxes)\n",
    "drawer.FinishDrawing()\n",
    "svg = drawer.GetDrawingText().replace('svg:','')\n",
    "SVG(svg)"
   ]
  },
  {
   "cell_type": "code",
   "execution_count": 32,
   "metadata": {},
   "outputs": [
    {
     "data": {
      "image/svg+xml": [
       "<svg baseProfile=\"full\" height=\"200px\" version=\"1.1\" width=\"400px\" xml:space=\"preserve\" xmlns:rdkit=\"http://www.rdkit.org/xml\" xmlns:svg=\"http://www.w3.org/2000/svg\" xmlns:xlink=\"http://www.w3.org/1999/xlink\">\n",
       "<rect height=\"200\" style=\"opacity:1.0;fill:#FFFFFF;stroke:none\" width=\"400\" x=\"0\" y=\"0\"> </rect>\n",
       "<path d=\"M 323.056,100 270.57,100\" style=\"fill:none;fill-rule:evenodd;stroke:#FF7F7F;stroke-width:16px;stroke-linecap:butt;stroke-linejoin:miter;stroke-opacity:1\"/>\n",
       "<path d=\"M 191.84,145.455 165.597,190.909\" style=\"fill:none;fill-rule:evenodd;stroke:#FF7F7F;stroke-width:16px;stroke-linecap:butt;stroke-linejoin:miter;stroke-opacity:1\"/>\n",
       "<path d=\"M 165.597,100 113.111,100\" style=\"fill:none;fill-rule:evenodd;stroke:#FF7F7F;stroke-width:16px;stroke-linecap:butt;stroke-linejoin:miter;stroke-opacity:1\"/>\n",
       "<path d=\"M 191.84,54.5455 165.597,9.09091\" style=\"fill:none;fill-rule:evenodd;stroke:#FF7F7F;stroke-width:16px;stroke-linecap:butt;stroke-linejoin:miter;stroke-opacity:1\"/>\n",
       "<path d=\"M 323.056,100 270.57,100\" style=\"fill:none;fill-rule:evenodd;stroke:#000000;stroke-width:2px;stroke-linecap:butt;stroke-linejoin:miter;stroke-opacity:1\"/>\n",
       "<path d=\"M 270.57,100 244.327,145.455\" style=\"fill:none;fill-rule:evenodd;stroke:#000000;stroke-width:2px;stroke-linecap:butt;stroke-linejoin:miter;stroke-opacity:1\"/>\n",
       "<path d=\"M 257.543,101.57 239.172,133.388\" style=\"fill:none;fill-rule:evenodd;stroke:#000000;stroke-width:2px;stroke-linecap:butt;stroke-linejoin:miter;stroke-opacity:1;stroke-dasharray:6,6\"/>\n",
       "<path d=\"M 270.57,100 244.327,54.5455\" style=\"fill:none;fill-rule:evenodd;stroke:#000000;stroke-width:2px;stroke-linecap:butt;stroke-linejoin:miter;stroke-opacity:1\"/>\n",
       "<path d=\"M 257.543,98.4305 239.172,66.6123\" style=\"fill:none;fill-rule:evenodd;stroke:#000000;stroke-width:2px;stroke-linecap:butt;stroke-linejoin:miter;stroke-opacity:1;stroke-dasharray:6,6\"/>\n",
       "<path d=\"M 244.327,145.455 191.84,145.455\" style=\"fill:none;fill-rule:evenodd;stroke:#000000;stroke-width:2px;stroke-linecap:butt;stroke-linejoin:miter;stroke-opacity:1\"/>\n",
       "<path d=\"M 236.454,134.957 199.713,134.957\" style=\"fill:none;fill-rule:evenodd;stroke:#000000;stroke-width:2px;stroke-linecap:butt;stroke-linejoin:miter;stroke-opacity:1;stroke-dasharray:6,6\"/>\n",
       "<path d=\"M 191.84,145.455 165.597,190.909\" style=\"fill:none;fill-rule:evenodd;stroke:#000000;stroke-width:2px;stroke-linecap:butt;stroke-linejoin:miter;stroke-opacity:1\"/>\n",
       "<path d=\"M 191.84,145.455 165.597,100\" style=\"fill:none;fill-rule:evenodd;stroke:#000000;stroke-width:2px;stroke-linecap:butt;stroke-linejoin:miter;stroke-opacity:1\"/>\n",
       "<path d=\"M 196.995,133.388 178.625,101.57\" style=\"fill:none;fill-rule:evenodd;stroke:#000000;stroke-width:2px;stroke-linecap:butt;stroke-linejoin:miter;stroke-opacity:1;stroke-dasharray:6,6\"/>\n",
       "<path d=\"M 165.597,100 148.396,100\" style=\"fill:none;fill-rule:evenodd;stroke:#000000;stroke-width:2px;stroke-linecap:butt;stroke-linejoin:miter;stroke-opacity:1\"/>\n",
       "<path d=\"M 148.396,100 131.194,100\" style=\"fill:none;fill-rule:evenodd;stroke:#0000FF;stroke-width:2px;stroke-linecap:butt;stroke-linejoin:miter;stroke-opacity:1\"/>\n",
       "<path d=\"M 165.597,100 191.84,54.5455\" style=\"fill:none;fill-rule:evenodd;stroke:#000000;stroke-width:2px;stroke-linecap:butt;stroke-linejoin:miter;stroke-opacity:1\"/>\n",
       "<path d=\"M 178.625,98.4305 196.995,66.6123\" style=\"fill:none;fill-rule:evenodd;stroke:#000000;stroke-width:2px;stroke-linecap:butt;stroke-linejoin:miter;stroke-opacity:1;stroke-dasharray:6,6\"/>\n",
       "<path d=\"M 191.84,54.5455 165.597,9.09091\" style=\"fill:none;fill-rule:evenodd;stroke:#000000;stroke-width:2px;stroke-linecap:butt;stroke-linejoin:miter;stroke-opacity:1\"/>\n",
       "<path d=\"M 191.84,54.5455 244.327,54.5455\" style=\"fill:none;fill-rule:evenodd;stroke:#000000;stroke-width:2px;stroke-linecap:butt;stroke-linejoin:miter;stroke-opacity:1\"/>\n",
       "<path d=\"M 199.713,65.0427 236.454,65.0427\" style=\"fill:none;fill-rule:evenodd;stroke:#000000;stroke-width:2px;stroke-linecap:butt;stroke-linejoin:miter;stroke-opacity:1;stroke-dasharray:6,6\"/>\n",
       "<text style=\"font-size:17px;font-style:normal;font-weight:normal;fill-opacity:1;stroke:none;font-family:sans-serif;text-anchor:start;fill:#0000FF\" x=\"95.0272\" y=\"109.623\"><tspan>H</tspan><tspan style=\"baseline-shift:sub;font-size:12.75px;\">2</tspan><tspan>N</tspan></text>\n",
       "</svg>"
      ],
      "text/plain": [
       "<IPython.core.display.SVG object>"
      ]
     },
     "execution_count": 32,
     "metadata": {},
     "output_type": "execute_result"
    }
   ],
   "source": [
    "mol = mols[5]\n",
    "bonds = find_boundary_bonds(mol)\n",
    "bond_idxes = [bond.GetIdx() for bond in bonds]\n",
    "\n",
    "rdDepictor.Compute2DCoords(mol)\n",
    "drawer = rdMolDraw2D.MolDraw2DSVG(400,200)\n",
    "drawer.DrawMolecule(mol, highlightAtoms=[], highlightBonds=bond_idxes)\n",
    "drawer.FinishDrawing()\n",
    "svg = drawer.GetDrawingText().replace('svg:','')\n",
    "SVG(svg)"
   ]
  },
  {
   "cell_type": "code",
   "execution_count": 33,
   "metadata": {},
   "outputs": [
    {
     "data": {
      "image/svg+xml": [
       "<svg baseProfile=\"full\" height=\"200px\" version=\"1.1\" width=\"400px\" xml:space=\"preserve\" xmlns:rdkit=\"http://www.rdkit.org/xml\" xmlns:svg=\"http://www.w3.org/2000/svg\" xmlns:xlink=\"http://www.w3.org/1999/xlink\">\n",
       "<rect height=\"200\" style=\"opacity:1.0;fill:#FFFFFF;stroke:none\" width=\"400\" x=\"0\" y=\"0\"> </rect>\n",
       "<path d=\"M 256.22,156.615 261.174,113.039\" style=\"fill:none;fill-rule:evenodd;stroke:#FF7F7F;stroke-width:16px;stroke-linecap:butt;stroke-linejoin:miter;stroke-opacity:1\"/>\n",
       "<path d=\"M 150.438,78.38 110.224,95.8774\" style=\"fill:none;fill-rule:evenodd;stroke:#FF7F7F;stroke-width:16px;stroke-linecap:butt;stroke-linejoin:miter;stroke-opacity:1\"/>\n",
       "<path d=\"M 216.005,174.112 256.22,156.615\" style=\"fill:none;fill-rule:evenodd;stroke:#000000;stroke-width:2px;stroke-linecap:butt;stroke-linejoin:miter;stroke-opacity:1\"/>\n",
       "<path d=\"M 253.612,160.141 267.829,170.655\" style=\"fill:none;fill-rule:evenodd;stroke:#000000;stroke-width:2px;stroke-linecap:butt;stroke-linejoin:miter;stroke-opacity:1\"/>\n",
       "<path d=\"M 267.829,170.655 282.046,181.17\" style=\"fill:none;fill-rule:evenodd;stroke:#FF0000;stroke-width:2px;stroke-linecap:butt;stroke-linejoin:miter;stroke-opacity:1\"/>\n",
       "<path d=\"M 258.828,153.089 273.045,163.603\" style=\"fill:none;fill-rule:evenodd;stroke:#000000;stroke-width:2px;stroke-linecap:butt;stroke-linejoin:miter;stroke-opacity:1\"/>\n",
       "<path d=\"M 273.045,163.603 287.262,174.118\" style=\"fill:none;fill-rule:evenodd;stroke:#FF0000;stroke-width:2px;stroke-linecap:butt;stroke-linejoin:miter;stroke-opacity:1\"/>\n",
       "<path d=\"M 256.22,156.615 258.282,138.482\" style=\"fill:none;fill-rule:evenodd;stroke:#000000;stroke-width:2px;stroke-linecap:butt;stroke-linejoin:miter;stroke-opacity:1\"/>\n",
       "<path d=\"M 258.282,138.482 260.343,120.349\" style=\"fill:none;fill-rule:evenodd;stroke:#0000FF;stroke-width:2px;stroke-linecap:butt;stroke-linejoin:miter;stroke-opacity:1\"/>\n",
       "<path d=\"M 267.51,110.283 284.449,102.912\" style=\"fill:none;fill-rule:evenodd;stroke:#0000FF;stroke-width:2px;stroke-linecap:butt;stroke-linejoin:miter;stroke-opacity:1\"/>\n",
       "<path d=\"M 284.449,102.912 301.389,95.5418\" style=\"fill:none;fill-rule:evenodd;stroke:#000000;stroke-width:2px;stroke-linecap:butt;stroke-linejoin:miter;stroke-opacity:1\"/>\n",
       "<path d=\"M 254.839,108.354 240.376,97.6572\" style=\"fill:none;fill-rule:evenodd;stroke:#0000FF;stroke-width:2px;stroke-linecap:butt;stroke-linejoin:miter;stroke-opacity:1\"/>\n",
       "<path d=\"M 240.376,97.6572 225.914,86.9609\" style=\"fill:none;fill-rule:evenodd;stroke:#000000;stroke-width:2px;stroke-linecap:butt;stroke-linejoin:miter;stroke-opacity:1\"/>\n",
       "<path d=\"M 301.389,95.5418 336.649,121.62\" style=\"fill:none;fill-rule:evenodd;stroke:#000000;stroke-width:2px;stroke-linecap:butt;stroke-linejoin:miter;stroke-opacity:1\"/>\n",
       "<path d=\"M 311.894,92.4014 336.576,110.656\" style=\"fill:none;fill-rule:evenodd;stroke:#000000;stroke-width:2px;stroke-linecap:butt;stroke-linejoin:miter;stroke-opacity:1;stroke-dasharray:6,6\"/>\n",
       "<path d=\"M 301.389,95.5418 306.343,51.9661\" style=\"fill:none;fill-rule:evenodd;stroke:#000000;stroke-width:2px;stroke-linecap:butt;stroke-linejoin:miter;stroke-opacity:1\"/>\n",
       "<path d=\"M 310.847,89.9963 314.315,59.4933\" style=\"fill:none;fill-rule:evenodd;stroke:#000000;stroke-width:2px;stroke-linecap:butt;stroke-linejoin:miter;stroke-opacity:1;stroke-dasharray:6,6\"/>\n",
       "<path d=\"M 336.649,121.62 376.864,104.123\" style=\"fill:none;fill-rule:evenodd;stroke:#000000;stroke-width:2px;stroke-linecap:butt;stroke-linejoin:miter;stroke-opacity:1\"/>\n",
       "<path d=\"M 339.182,110.952 367.332,98.7043\" style=\"fill:none;fill-rule:evenodd;stroke:#000000;stroke-width:2px;stroke-linecap:butt;stroke-linejoin:miter;stroke-opacity:1;stroke-dasharray:6,6\"/>\n",
       "<path d=\"M 376.864,104.123 381.818,60.547\" style=\"fill:none;fill-rule:evenodd;stroke:#000000;stroke-width:2px;stroke-linecap:butt;stroke-linejoin:miter;stroke-opacity:1\"/>\n",
       "<path d=\"M 368.892,96.5955 372.36,66.0925\" style=\"fill:none;fill-rule:evenodd;stroke:#000000;stroke-width:2px;stroke-linecap:butt;stroke-linejoin:miter;stroke-opacity:1;stroke-dasharray:6,6\"/>\n",
       "<path d=\"M 381.818,60.547 346.558,34.4688\" style=\"fill:none;fill-rule:evenodd;stroke:#000000;stroke-width:2px;stroke-linecap:butt;stroke-linejoin:miter;stroke-opacity:1\"/>\n",
       "<path d=\"M 371.313,63.6874 346.631,45.4326\" style=\"fill:none;fill-rule:evenodd;stroke:#000000;stroke-width:2px;stroke-linecap:butt;stroke-linejoin:miter;stroke-opacity:1;stroke-dasharray:6,6\"/>\n",
       "<path d=\"M 346.558,34.4688 306.343,51.9661\" style=\"fill:none;fill-rule:evenodd;stroke:#000000;stroke-width:2px;stroke-linecap:butt;stroke-linejoin:miter;stroke-opacity:1\"/>\n",
       "<path d=\"M 344.025,45.1363 315.875,57.3845\" style=\"fill:none;fill-rule:evenodd;stroke:#000000;stroke-width:2px;stroke-linecap:butt;stroke-linejoin:miter;stroke-opacity:1;stroke-dasharray:6,6\"/>\n",
       "<path d=\"M 306.343,51.9661 291.639,41.0913\" style=\"fill:none;fill-rule:evenodd;stroke:#000000;stroke-width:2px;stroke-linecap:butt;stroke-linejoin:miter;stroke-opacity:1\"/>\n",
       "<path d=\"M 291.639,41.0913 276.935,30.2165\" style=\"fill:none;fill-rule:evenodd;stroke:#CCCC00;stroke-width:2px;stroke-linecap:butt;stroke-linejoin:miter;stroke-opacity:1\"/>\n",
       "<path d=\"M 265.23,28.4344 248.049,35.9098\" style=\"fill:none;fill-rule:evenodd;stroke:#CCCC00;stroke-width:2px;stroke-linecap:butt;stroke-linejoin:miter;stroke-opacity:1\"/>\n",
       "<path d=\"M 248.049,35.9098 230.868,43.3853\" style=\"fill:none;fill-rule:evenodd;stroke:#000000;stroke-width:2px;stroke-linecap:butt;stroke-linejoin:miter;stroke-opacity:1\"/>\n",
       "<path d=\"M 230.868,43.3853 195.607,17.307\" style=\"fill:none;fill-rule:evenodd;stroke:#000000;stroke-width:2px;stroke-linecap:butt;stroke-linejoin:miter;stroke-opacity:1\"/>\n",
       "<path d=\"M 220.363,46.5256 195.681,28.2708\" style=\"fill:none;fill-rule:evenodd;stroke:#000000;stroke-width:2px;stroke-linecap:butt;stroke-linejoin:miter;stroke-opacity:1;stroke-dasharray:6,6\"/>\n",
       "<path d=\"M 230.868,43.3853 225.914,86.9609\" style=\"fill:none;fill-rule:evenodd;stroke:#000000;stroke-width:2px;stroke-linecap:butt;stroke-linejoin:miter;stroke-opacity:1\"/>\n",
       "<path d=\"M 221.41,48.9308 217.942,79.4337\" style=\"fill:none;fill-rule:evenodd;stroke:#000000;stroke-width:2px;stroke-linecap:butt;stroke-linejoin:miter;stroke-opacity:1;stroke-dasharray:6,6\"/>\n",
       "<path d=\"M 195.607,17.307 155.393,34.8044\" style=\"fill:none;fill-rule:evenodd;stroke:#000000;stroke-width:2px;stroke-linecap:butt;stroke-linejoin:miter;stroke-opacity:1\"/>\n",
       "<path d=\"M 193.075,27.9745 164.924,40.2227\" style=\"fill:none;fill-rule:evenodd;stroke:#000000;stroke-width:2px;stroke-linecap:butt;stroke-linejoin:miter;stroke-opacity:1;stroke-dasharray:6,6\"/>\n",
       "<path d=\"M 155.393,34.8044 150.438,78.38\" style=\"fill:none;fill-rule:evenodd;stroke:#000000;stroke-width:2px;stroke-linecap:butt;stroke-linejoin:miter;stroke-opacity:1\"/>\n",
       "<path d=\"M 163.365,42.3315 159.897,72.8345\" style=\"fill:none;fill-rule:evenodd;stroke:#000000;stroke-width:2px;stroke-linecap:butt;stroke-linejoin:miter;stroke-opacity:1;stroke-dasharray:6,6\"/>\n",
       "<path d=\"M 150.438,78.38 110.224,95.8774\" style=\"fill:none;fill-rule:evenodd;stroke:#000000;stroke-width:2px;stroke-linecap:butt;stroke-linejoin:miter;stroke-opacity:1\"/>\n",
       "<path d=\"M 150.438,78.38 185.699,104.458\" style=\"fill:none;fill-rule:evenodd;stroke:#000000;stroke-width:2px;stroke-linecap:butt;stroke-linejoin:miter;stroke-opacity:1\"/>\n",
       "<path d=\"M 160.943,75.2396 185.626,93.4944\" style=\"fill:none;fill-rule:evenodd;stroke:#000000;stroke-width:2px;stroke-linecap:butt;stroke-linejoin:miter;stroke-opacity:1;stroke-dasharray:6,6\"/>\n",
       "<path d=\"M 105.866,95.3819 103.805,113.515\" style=\"fill:none;fill-rule:evenodd;stroke:#000000;stroke-width:2px;stroke-linecap:butt;stroke-linejoin:miter;stroke-opacity:1\"/>\n",
       "<path d=\"M 103.805,113.515 101.743,131.648\" style=\"fill:none;fill-rule:evenodd;stroke:#FF0000;stroke-width:2px;stroke-linecap:butt;stroke-linejoin:miter;stroke-opacity:1\"/>\n",
       "<path d=\"M 114.581,96.3728 112.52,114.506\" style=\"fill:none;fill-rule:evenodd;stroke:#000000;stroke-width:2px;stroke-linecap:butt;stroke-linejoin:miter;stroke-opacity:1\"/>\n",
       "<path d=\"M 112.52,114.506 110.458,132.639\" style=\"fill:none;fill-rule:evenodd;stroke:#FF0000;stroke-width:2px;stroke-linecap:butt;stroke-linejoin:miter;stroke-opacity:1\"/>\n",
       "<path d=\"M 110.224,95.8774 74.9633,69.7991\" style=\"fill:none;fill-rule:evenodd;stroke:#000000;stroke-width:2px;stroke-linecap:butt;stroke-linejoin:miter;stroke-opacity:1\"/>\n",
       "<path d=\"M 74.9633,69.7991 58.9976,76.7457\" style=\"fill:none;fill-rule:evenodd;stroke:#000000;stroke-width:2px;stroke-linecap:butt;stroke-linejoin:miter;stroke-opacity:1\"/>\n",
       "<path d=\"M 58.9976,76.7457 43.032,83.6924\" style=\"fill:none;fill-rule:evenodd;stroke:#00CC00;stroke-width:2px;stroke-linecap:butt;stroke-linejoin:miter;stroke-opacity:1\"/>\n",
       "<path d=\"M 185.699,104.458 225.914,86.9609\" style=\"fill:none;fill-rule:evenodd;stroke:#000000;stroke-width:2px;stroke-linecap:butt;stroke-linejoin:miter;stroke-opacity:1\"/>\n",
       "<path d=\"M 188.232,93.7907 216.382,81.5425\" style=\"fill:none;fill-rule:evenodd;stroke:#000000;stroke-width:2px;stroke-linecap:butt;stroke-linejoin:miter;stroke-opacity:1;stroke-dasharray:6,6\"/>\n",
       "<text style=\"font-size:14px;font-style:normal;font-weight:normal;fill-opacity:1;stroke:none;font-family:sans-serif;text-anchor:start;fill:#FF0000\" x=\"284.654\" y=\"190.002\"><tspan>O</tspan></text>\n",
       "<text style=\"font-size:14px;font-style:normal;font-weight:normal;fill-opacity:1;stroke:none;font-family:sans-serif;text-anchor:start;fill:#0000FF\" x=\"254.839\" y=\"120.349\"><tspan>N</tspan></text>\n",
       "<text style=\"font-size:14px;font-style:normal;font-weight:normal;fill-opacity:1;stroke:none;font-family:sans-serif;text-anchor:start;fill:#CCCC00\" x=\"265.23\" y=\"33.1973\"><tspan>S</tspan></text>\n",
       "<text style=\"font-size:14px;font-style:normal;font-weight:normal;fill-opacity:1;stroke:none;font-family:sans-serif;text-anchor:start;fill:#FF0000\" x=\"98.4428\" y=\"146.762\"><tspan>O</tspan></text>\n",
       "<text style=\"font-size:14px;font-style:normal;font-weight:normal;fill-opacity:1;stroke:none;font-family:sans-serif;text-anchor:start;fill:#00CC00\" x=\"26.4652\" y=\"94.6059\"><tspan>Cl</tspan></text>\n",
       "</svg>"
      ],
      "text/plain": [
       "<IPython.core.display.SVG object>"
      ]
     },
     "execution_count": 33,
     "metadata": {},
     "output_type": "execute_result"
    }
   ],
   "source": [
    "mol = mols[6]\n",
    "bonds = find_boundary_bonds(mol)\n",
    "bond_idxes = [bond.GetIdx() for bond in bonds]\n",
    "\n",
    "rdDepictor.Compute2DCoords(mol)\n",
    "drawer = rdMolDraw2D.MolDraw2DSVG(400,200)\n",
    "drawer.DrawMolecule(mol, highlightAtoms=[], highlightBonds=bond_idxes)\n",
    "drawer.FinishDrawing()\n",
    "svg = drawer.GetDrawingText().replace('svg:','')\n",
    "SVG(svg)"
   ]
  },
  {
   "cell_type": "code",
   "execution_count": 34,
   "metadata": {},
   "outputs": [
    {
     "data": {
      "image/svg+xml": [
       "<svg baseProfile=\"full\" height=\"200px\" version=\"1.1\" width=\"400px\" xml:space=\"preserve\" xmlns:rdkit=\"http://www.rdkit.org/xml\" xmlns:svg=\"http://www.w3.org/2000/svg\" xmlns:xlink=\"http://www.w3.org/1999/xlink\">\n",
       "<rect height=\"200\" style=\"opacity:1.0;fill:#FFFFFF;stroke:none\" width=\"400\" x=\"0\" y=\"0\"> </rect>\n",
       "<path d=\"M 18.1818,127.613 52.6596,113.788\" style=\"fill:none;fill-rule:evenodd;stroke:#000000;stroke-width:2px;stroke-linecap:butt;stroke-linejoin:miter;stroke-opacity:1\"/>\n",
       "<path d=\"M 52.6596,113.788 87.1374,99.963\" style=\"fill:none;fill-rule:evenodd;stroke:#0000FF;stroke-width:2px;stroke-linecap:butt;stroke-linejoin:miter;stroke-opacity:1\"/>\n",
       "<path d=\"M 109.686,102.25 139.632,125.772\" style=\"fill:none;fill-rule:evenodd;stroke:#0000FF;stroke-width:2px;stroke-linecap:butt;stroke-linejoin:miter;stroke-opacity:1\"/>\n",
       "<path d=\"M 139.632,125.772 169.577,149.295\" style=\"fill:none;fill-rule:evenodd;stroke:#000000;stroke-width:2px;stroke-linecap:butt;stroke-linejoin:miter;stroke-opacity:1\"/>\n",
       "<path d=\"M 169.577,149.295 251.534,116.432\" style=\"fill:none;fill-rule:evenodd;stroke:#000000;stroke-width:2px;stroke-linecap:butt;stroke-linejoin:miter;stroke-opacity:1\"/>\n",
       "<path d=\"M 251.534,116.432 281.002,139.579\" style=\"fill:none;fill-rule:evenodd;stroke:#000000;stroke-width:2px;stroke-linecap:butt;stroke-linejoin:miter;stroke-opacity:1\"/>\n",
       "<path d=\"M 281.002,139.579 310.47,162.727\" style=\"fill:none;fill-rule:evenodd;stroke:#0000FF;stroke-width:2px;stroke-linecap:butt;stroke-linejoin:miter;stroke-opacity:1\"/>\n",
       "<path d=\"M 260.275,117.683 265.997,77.7293\" style=\"fill:none;fill-rule:evenodd;stroke:#000000;stroke-width:2px;stroke-linecap:butt;stroke-linejoin:miter;stroke-opacity:1\"/>\n",
       "<path d=\"M 265.997,77.7293 271.719,37.7752\" style=\"fill:none;fill-rule:evenodd;stroke:#FF0000;stroke-width:2px;stroke-linecap:butt;stroke-linejoin:miter;stroke-opacity:1\"/>\n",
       "<path d=\"M 242.793,115.18 248.515,75.2257\" style=\"fill:none;fill-rule:evenodd;stroke:#000000;stroke-width:2px;stroke-linecap:butt;stroke-linejoin:miter;stroke-opacity:1\"/>\n",
       "<path d=\"M 248.515,75.2257 254.237,35.2716\" style=\"fill:none;fill-rule:evenodd;stroke:#FF0000;stroke-width:2px;stroke-linecap:butt;stroke-linejoin:miter;stroke-opacity:1\"/>\n",
       "<text style=\"font-size:15px;font-style:normal;font-weight:normal;fill-opacity:1;stroke:none;font-family:sans-serif;text-anchor:start;fill:#0000FF\" x=\"87.1374\" y=\"102.25\"><tspan>NH</tspan></text>\n",
       "<text style=\"font-size:15px;font-style:normal;font-weight:normal;fill-opacity:1;stroke:none;font-family:sans-serif;text-anchor:start;fill:#0000FF\" x=\"305.469\" y=\"179.227\"><tspan>NH</tspan><tspan style=\"baseline-shift:sub;font-size:11.25px;\">2</tspan><tspan/></text>\n",
       "<text style=\"font-size:15px;font-style:normal;font-weight:normal;fill-opacity:1;stroke:none;font-family:sans-serif;text-anchor:start;fill:#FF0000\" x=\"257.047\" y=\"36.5234\"><tspan>O</tspan></text>\n",
       "</svg>"
      ],
      "text/plain": [
       "<IPython.core.display.SVG object>"
      ]
     },
     "execution_count": 34,
     "metadata": {},
     "output_type": "execute_result"
    }
   ],
   "source": [
    "mol = mols[7]\n",
    "bonds = find_boundary_bonds(mol)\n",
    "bond_idxes = [bond.GetIdx() for bond in bonds]\n",
    "\n",
    "rdDepictor.Compute2DCoords(mol)\n",
    "drawer = rdMolDraw2D.MolDraw2DSVG(400,200)\n",
    "drawer.DrawMolecule(mol, highlightAtoms=[], highlightBonds=bond_idxes)\n",
    "drawer.FinishDrawing()\n",
    "svg = drawer.GetDrawingText().replace('svg:','')\n",
    "SVG(svg)"
   ]
  },
  {
   "cell_type": "markdown",
   "metadata": {},
   "source": [
    "この化学構造はMurcko scaffoldsがないのでハイライトがないのは正しい。そもそもそのような場合はエラーや警告を出したほうが良い？"
   ]
  },
  {
   "cell_type": "code",
   "execution_count": 35,
   "metadata": {
    "scrolled": true
   },
   "outputs": [
    {
     "data": {
      "image/svg+xml": [
       "<svg baseProfile=\"full\" height=\"200px\" version=\"1.1\" width=\"400px\" xml:space=\"preserve\" xmlns:rdkit=\"http://www.rdkit.org/xml\" xmlns:svg=\"http://www.w3.org/2000/svg\" xmlns:xlink=\"http://www.w3.org/1999/xlink\">\n",
       "<rect height=\"200\" style=\"opacity:1.0;fill:#FFFFFF;stroke:none\" width=\"400\" x=\"0\" y=\"0\"> </rect>\n",
       "<path d=\"M 158.563,58.5341 158.563,67.9581\" style=\"fill:none;fill-rule:evenodd;stroke:#FF0000;stroke-width:2px;stroke-linecap:butt;stroke-linejoin:miter;stroke-opacity:1\"/>\n",
       "<path d=\"M 158.563,67.9581 158.563,77.3822\" style=\"fill:none;fill-rule:evenodd;stroke:#000000;stroke-width:2px;stroke-linecap:butt;stroke-linejoin:miter;stroke-opacity:1\"/>\n",
       "<path d=\"M 163.087,58.5341 163.087,67.9581\" style=\"fill:none;fill-rule:evenodd;stroke:#FF0000;stroke-width:2px;stroke-linecap:butt;stroke-linejoin:miter;stroke-opacity:1\"/>\n",
       "<path d=\"M 163.087,67.9581 163.087,77.3822\" style=\"fill:none;fill-rule:evenodd;stroke:#000000;stroke-width:2px;stroke-linecap:butt;stroke-linejoin:miter;stroke-opacity:1\"/>\n",
       "<path d=\"M 160.825,77.3822 180.412,88.6911\" style=\"fill:none;fill-rule:evenodd;stroke:#000000;stroke-width:2px;stroke-linecap:butt;stroke-linejoin:miter;stroke-opacity:1\"/>\n",
       "<path d=\"M 160.825,77.3822 152.791,82.0203\" style=\"fill:none;fill-rule:evenodd;stroke:#000000;stroke-width:2px;stroke-linecap:butt;stroke-linejoin:miter;stroke-opacity:1\"/>\n",
       "<path d=\"M 152.791,82.0203 144.758,86.6584\" style=\"fill:none;fill-rule:evenodd;stroke:#FF0000;stroke-width:2px;stroke-linecap:butt;stroke-linejoin:miter;stroke-opacity:1\"/>\n",
       "<path d=\"M 180.412,88.6911 200,77.3822\" style=\"fill:none;fill-rule:evenodd;stroke:#000000;stroke-width:2px;stroke-linecap:butt;stroke-linejoin:miter;stroke-opacity:1\"/>\n",
       "<path d=\"M 200,77.3822 219.588,88.6911\" style=\"fill:none;fill-rule:evenodd;stroke:#000000;stroke-width:2px;stroke-linecap:butt;stroke-linejoin:miter;stroke-opacity:1\"/>\n",
       "<path d=\"M 219.588,88.6911 239.175,77.3822\" style=\"fill:none;fill-rule:evenodd;stroke:#000000;stroke-width:2px;stroke-linecap:butt;stroke-linejoin:miter;stroke-opacity:1\"/>\n",
       "<path d=\"M 241.437,77.3822 241.437,67.9581\" style=\"fill:none;fill-rule:evenodd;stroke:#000000;stroke-width:2px;stroke-linecap:butt;stroke-linejoin:miter;stroke-opacity:1\"/>\n",
       "<path d=\"M 241.437,67.9581 241.437,58.5341\" style=\"fill:none;fill-rule:evenodd;stroke:#FF0000;stroke-width:2px;stroke-linecap:butt;stroke-linejoin:miter;stroke-opacity:1\"/>\n",
       "<path d=\"M 236.913,77.3822 236.913,67.9581\" style=\"fill:none;fill-rule:evenodd;stroke:#000000;stroke-width:2px;stroke-linecap:butt;stroke-linejoin:miter;stroke-opacity:1\"/>\n",
       "<path d=\"M 236.913,67.9581 236.913,58.5341\" style=\"fill:none;fill-rule:evenodd;stroke:#FF0000;stroke-width:2px;stroke-linecap:butt;stroke-linejoin:miter;stroke-opacity:1\"/>\n",
       "<path d=\"M 239.175,77.3822 247.209,82.0203\" style=\"fill:none;fill-rule:evenodd;stroke:#000000;stroke-width:2px;stroke-linecap:butt;stroke-linejoin:miter;stroke-opacity:1\"/>\n",
       "<path d=\"M 247.209,82.0203 255.242,86.6584\" style=\"fill:none;fill-rule:evenodd;stroke:#FF0000;stroke-width:2px;stroke-linecap:butt;stroke-linejoin:miter;stroke-opacity:1\"/>\n",
       "<path d=\"M 262.283,86.6584 270.317,82.0203\" style=\"fill:none;fill-rule:evenodd;stroke:#FF0000;stroke-width:2px;stroke-linecap:butt;stroke-linejoin:miter;stroke-opacity:1\"/>\n",
       "<path d=\"M 270.317,82.0203 278.35,77.3822\" style=\"fill:none;fill-rule:evenodd;stroke:#000000;stroke-width:2px;stroke-linecap:butt;stroke-linejoin:miter;stroke-opacity:1\"/>\n",
       "<path d=\"M 278.35,77.3822 297.938,88.6911\" style=\"fill:none;fill-rule:evenodd;stroke:#000000;stroke-width:2px;stroke-linecap:butt;stroke-linejoin:miter;stroke-opacity:1\"/>\n",
       "<path d=\"M 297.938,88.6911 302.504,80.7821\" style=\"fill:none;fill-rule:evenodd;stroke:#000000;stroke-width:2px;stroke-linecap:butt;stroke-linejoin:miter;stroke-opacity:1\"/>\n",
       "<path d=\"M 302.504,80.7821 307.07,72.8732\" style=\"fill:none;fill-rule:evenodd;stroke:#33CCCC;stroke-width:2px;stroke-linecap:butt;stroke-linejoin:miter;stroke-opacity:1\"/>\n",
       "<path d=\"M 297.938,88.6911 293.372,96.6001\" style=\"fill:none;fill-rule:evenodd;stroke:#000000;stroke-width:2px;stroke-linecap:butt;stroke-linejoin:miter;stroke-opacity:1\"/>\n",
       "<path d=\"M 293.372,96.6001 288.805,104.509\" style=\"fill:none;fill-rule:evenodd;stroke:#33CCCC;stroke-width:2px;stroke-linecap:butt;stroke-linejoin:miter;stroke-opacity:1\"/>\n",
       "<path d=\"M 297.938,88.6911 317.525,100\" style=\"fill:none;fill-rule:evenodd;stroke:#000000;stroke-width:2px;stroke-linecap:butt;stroke-linejoin:miter;stroke-opacity:1\"/>\n",
       "<path d=\"M 317.525,100 312.959,107.909\" style=\"fill:none;fill-rule:evenodd;stroke:#000000;stroke-width:2px;stroke-linecap:butt;stroke-linejoin:miter;stroke-opacity:1\"/>\n",
       "<path d=\"M 312.959,107.909 308.393,115.818\" style=\"fill:none;fill-rule:evenodd;stroke:#33CCCC;stroke-width:2px;stroke-linecap:butt;stroke-linejoin:miter;stroke-opacity:1\"/>\n",
       "<path d=\"M 317.525,100 322.092,92.091\" style=\"fill:none;fill-rule:evenodd;stroke:#000000;stroke-width:2px;stroke-linecap:butt;stroke-linejoin:miter;stroke-opacity:1\"/>\n",
       "<path d=\"M 322.092,92.091 326.658,84.1821\" style=\"fill:none;fill-rule:evenodd;stroke:#33CCCC;stroke-width:2px;stroke-linecap:butt;stroke-linejoin:miter;stroke-opacity:1\"/>\n",
       "<path d=\"M 317.525,100 337.113,111.309\" style=\"fill:none;fill-rule:evenodd;stroke:#000000;stroke-width:2px;stroke-linecap:butt;stroke-linejoin:miter;stroke-opacity:1\"/>\n",
       "<path d=\"M 337.113,111.309 332.547,119.218\" style=\"fill:none;fill-rule:evenodd;stroke:#000000;stroke-width:2px;stroke-linecap:butt;stroke-linejoin:miter;stroke-opacity:1\"/>\n",
       "<path d=\"M 332.547,119.218 327.981,127.127\" style=\"fill:none;fill-rule:evenodd;stroke:#33CCCC;stroke-width:2px;stroke-linecap:butt;stroke-linejoin:miter;stroke-opacity:1\"/>\n",
       "<path d=\"M 337.113,111.309 341.679,103.4\" style=\"fill:none;fill-rule:evenodd;stroke:#000000;stroke-width:2px;stroke-linecap:butt;stroke-linejoin:miter;stroke-opacity:1\"/>\n",
       "<path d=\"M 341.679,103.4 346.246,95.4909\" style=\"fill:none;fill-rule:evenodd;stroke:#33CCCC;stroke-width:2px;stroke-linecap:butt;stroke-linejoin:miter;stroke-opacity:1\"/>\n",
       "<path d=\"M 337.113,111.309 356.701,122.618\" style=\"fill:none;fill-rule:evenodd;stroke:#000000;stroke-width:2px;stroke-linecap:butt;stroke-linejoin:miter;stroke-opacity:1\"/>\n",
       "<path d=\"M 356.701,122.618 356.701,132.042\" style=\"fill:none;fill-rule:evenodd;stroke:#000000;stroke-width:2px;stroke-linecap:butt;stroke-linejoin:miter;stroke-opacity:1\"/>\n",
       "<path d=\"M 356.701,132.042 356.701,141.466\" style=\"fill:none;fill-rule:evenodd;stroke:#33CCCC;stroke-width:2px;stroke-linecap:butt;stroke-linejoin:miter;stroke-opacity:1\"/>\n",
       "<path d=\"M 356.701,122.618 365.112,117.762\" style=\"fill:none;fill-rule:evenodd;stroke:#000000;stroke-width:2px;stroke-linecap:butt;stroke-linejoin:miter;stroke-opacity:1\"/>\n",
       "<path d=\"M 365.112,117.762 373.523,112.905\" style=\"fill:none;fill-rule:evenodd;stroke:#33CCCC;stroke-width:2px;stroke-linecap:butt;stroke-linejoin:miter;stroke-opacity:1\"/>\n",
       "<path d=\"M 137.717,86.6584 129.683,82.0203\" style=\"fill:none;fill-rule:evenodd;stroke:#FF0000;stroke-width:2px;stroke-linecap:butt;stroke-linejoin:miter;stroke-opacity:1\"/>\n",
       "<path d=\"M 129.683,82.0203 121.65,77.3822\" style=\"fill:none;fill-rule:evenodd;stroke:#000000;stroke-width:2px;stroke-linecap:butt;stroke-linejoin:miter;stroke-opacity:1\"/>\n",
       "<path d=\"M 121.65,77.3822 102.062,88.6911\" style=\"fill:none;fill-rule:evenodd;stroke:#000000;stroke-width:2px;stroke-linecap:butt;stroke-linejoin:miter;stroke-opacity:1\"/>\n",
       "<path d=\"M 102.062,88.6911 97.4959,80.7821\" style=\"fill:none;fill-rule:evenodd;stroke:#000000;stroke-width:2px;stroke-linecap:butt;stroke-linejoin:miter;stroke-opacity:1\"/>\n",
       "<path d=\"M 97.4959,80.7821 92.9296,72.8732\" style=\"fill:none;fill-rule:evenodd;stroke:#33CCCC;stroke-width:2px;stroke-linecap:butt;stroke-linejoin:miter;stroke-opacity:1\"/>\n",
       "<path d=\"M 102.062,88.6911 106.628,96.6001\" style=\"fill:none;fill-rule:evenodd;stroke:#000000;stroke-width:2px;stroke-linecap:butt;stroke-linejoin:miter;stroke-opacity:1\"/>\n",
       "<path d=\"M 106.628,96.6001 111.195,104.509\" style=\"fill:none;fill-rule:evenodd;stroke:#33CCCC;stroke-width:2px;stroke-linecap:butt;stroke-linejoin:miter;stroke-opacity:1\"/>\n",
       "<path d=\"M 102.062,88.6911 82.4745,100\" style=\"fill:none;fill-rule:evenodd;stroke:#000000;stroke-width:2px;stroke-linecap:butt;stroke-linejoin:miter;stroke-opacity:1\"/>\n",
       "<path d=\"M 82.4745,100 87.0408,107.909\" style=\"fill:none;fill-rule:evenodd;stroke:#000000;stroke-width:2px;stroke-linecap:butt;stroke-linejoin:miter;stroke-opacity:1\"/>\n",
       "<path d=\"M 87.0408,107.909 91.607,115.818\" style=\"fill:none;fill-rule:evenodd;stroke:#33CCCC;stroke-width:2px;stroke-linecap:butt;stroke-linejoin:miter;stroke-opacity:1\"/>\n",
       "<path d=\"M 82.4745,100 77.9083,92.091\" style=\"fill:none;fill-rule:evenodd;stroke:#000000;stroke-width:2px;stroke-linecap:butt;stroke-linejoin:miter;stroke-opacity:1\"/>\n",
       "<path d=\"M 77.9083,92.091 73.342,84.1821\" style=\"fill:none;fill-rule:evenodd;stroke:#33CCCC;stroke-width:2px;stroke-linecap:butt;stroke-linejoin:miter;stroke-opacity:1\"/>\n",
       "<path d=\"M 82.4745,100 62.887,111.309\" style=\"fill:none;fill-rule:evenodd;stroke:#000000;stroke-width:2px;stroke-linecap:butt;stroke-linejoin:miter;stroke-opacity:1\"/>\n",
       "<path d=\"M 62.887,111.309 67.4532,119.218\" style=\"fill:none;fill-rule:evenodd;stroke:#000000;stroke-width:2px;stroke-linecap:butt;stroke-linejoin:miter;stroke-opacity:1\"/>\n",
       "<path d=\"M 67.4532,119.218 72.0195,127.127\" style=\"fill:none;fill-rule:evenodd;stroke:#33CCCC;stroke-width:2px;stroke-linecap:butt;stroke-linejoin:miter;stroke-opacity:1\"/>\n",
       "<path d=\"M 62.887,111.309 58.3207,103.4\" style=\"fill:none;fill-rule:evenodd;stroke:#000000;stroke-width:2px;stroke-linecap:butt;stroke-linejoin:miter;stroke-opacity:1\"/>\n",
       "<path d=\"M 58.3207,103.4 53.7545,95.4909\" style=\"fill:none;fill-rule:evenodd;stroke:#33CCCC;stroke-width:2px;stroke-linecap:butt;stroke-linejoin:miter;stroke-opacity:1\"/>\n",
       "<path d=\"M 62.887,111.309 43.2994,122.618\" style=\"fill:none;fill-rule:evenodd;stroke:#000000;stroke-width:2px;stroke-linecap:butt;stroke-linejoin:miter;stroke-opacity:1\"/>\n",
       "<path d=\"M 43.2994,122.618 43.2994,132.042\" style=\"fill:none;fill-rule:evenodd;stroke:#000000;stroke-width:2px;stroke-linecap:butt;stroke-linejoin:miter;stroke-opacity:1\"/>\n",
       "<path d=\"M 43.2994,132.042 43.2994,141.466\" style=\"fill:none;fill-rule:evenodd;stroke:#33CCCC;stroke-width:2px;stroke-linecap:butt;stroke-linejoin:miter;stroke-opacity:1\"/>\n",
       "<path d=\"M 43.2994,122.618 34.8881,117.762\" style=\"fill:none;fill-rule:evenodd;stroke:#000000;stroke-width:2px;stroke-linecap:butt;stroke-linejoin:miter;stroke-opacity:1\"/>\n",
       "<path d=\"M 34.8881,117.762 26.4768,112.905\" style=\"fill:none;fill-rule:evenodd;stroke:#33CCCC;stroke-width:2px;stroke-linecap:butt;stroke-linejoin:miter;stroke-opacity:1\"/>\n",
       "<text style=\"font-size:7px;font-style:normal;font-weight:normal;fill-opacity:1;stroke:none;font-family:sans-serif;text-anchor:start;fill:#FF0000\" x=\"157.304\" y=\"58.5341\"><tspan>O</tspan></text>\n",
       "<text style=\"font-size:7px;font-style:normal;font-weight:normal;fill-opacity:1;stroke:none;font-family:sans-serif;text-anchor:start;fill:#FF0000\" x=\"235.654\" y=\"58.5341\"><tspan>O</tspan></text>\n",
       "<text style=\"font-size:7px;font-style:normal;font-weight:normal;fill-opacity:1;stroke:none;font-family:sans-serif;text-anchor:start;fill:#FF0000\" x=\"255.242\" y=\"92.4607\"><tspan>O</tspan></text>\n",
       "<text style=\"font-size:7px;font-style:normal;font-weight:normal;fill-opacity:1;stroke:none;font-family:sans-serif;text-anchor:start;fill:#33CCCC\" x=\"306.482\" y=\"72.8732\"><tspan>F</tspan></text>\n",
       "<text style=\"font-size:7px;font-style:normal;font-weight:normal;fill-opacity:1;stroke:none;font-family:sans-serif;text-anchor:start;fill:#33CCCC\" x=\"283.864\" y=\"112.048\"><tspan>F</tspan></text>\n",
       "<text style=\"font-size:7px;font-style:normal;font-weight:normal;fill-opacity:1;stroke:none;font-family:sans-serif;text-anchor:start;fill:#33CCCC\" x=\"303.452\" y=\"123.357\"><tspan>F</tspan></text>\n",
       "<text style=\"font-size:7px;font-style:normal;font-weight:normal;fill-opacity:1;stroke:none;font-family:sans-serif;text-anchor:start;fill:#33CCCC\" x=\"326.069\" y=\"84.1821\"><tspan>F</tspan></text>\n",
       "<text style=\"font-size:7px;font-style:normal;font-weight:normal;fill-opacity:1;stroke:none;font-family:sans-serif;text-anchor:start;fill:#33CCCC\" x=\"323.039\" y=\"134.666\"><tspan>F</tspan></text>\n",
       "<text style=\"font-size:7px;font-style:normal;font-weight:normal;fill-opacity:1;stroke:none;font-family:sans-serif;text-anchor:start;fill:#33CCCC\" x=\"345.657\" y=\"95.4909\"><tspan>F</tspan></text>\n",
       "<text style=\"font-size:7px;font-style:normal;font-weight:normal;fill-opacity:1;stroke:none;font-family:sans-serif;text-anchor:start;fill:#33CCCC\" x=\"353.936\" y=\"149.005\"><tspan>F</tspan></text>\n",
       "<text style=\"font-size:7px;font-style:normal;font-weight:normal;fill-opacity:1;stroke:none;font-family:sans-serif;text-anchor:start;fill:#33CCCC\" x=\"373.523\" y=\"115.079\"><tspan>F</tspan></text>\n",
       "<text style=\"font-size:7px;font-style:normal;font-weight:normal;fill-opacity:1;stroke:none;font-family:sans-serif;text-anchor:start;fill:#FF0000\" x=\"137.717\" y=\"92.4607\"><tspan>O</tspan></text>\n",
       "<text style=\"font-size:7px;font-style:normal;font-weight:normal;fill-opacity:1;stroke:none;font-family:sans-serif;text-anchor:start;fill:#33CCCC\" x=\"87.9882\" y=\"72.8732\"><tspan>F</tspan></text>\n",
       "<text style=\"font-size:7px;font-style:normal;font-weight:normal;fill-opacity:1;stroke:none;font-family:sans-serif;text-anchor:start;fill:#33CCCC\" x=\"110.606\" y=\"112.048\"><tspan>F</tspan></text>\n",
       "<text style=\"font-size:7px;font-style:normal;font-weight:normal;fill-opacity:1;stroke:none;font-family:sans-serif;text-anchor:start;fill:#33CCCC\" x=\"91.0184\" y=\"123.357\"><tspan>F</tspan></text>\n",
       "<text style=\"font-size:7px;font-style:normal;font-weight:normal;fill-opacity:1;stroke:none;font-family:sans-serif;text-anchor:start;fill:#33CCCC\" x=\"68.4007\" y=\"84.1821\"><tspan>F</tspan></text>\n",
       "<text style=\"font-size:7px;font-style:normal;font-weight:normal;fill-opacity:1;stroke:none;font-family:sans-serif;text-anchor:start;fill:#33CCCC\" x=\"71.4309\" y=\"134.666\"><tspan>F</tspan></text>\n",
       "<text style=\"font-size:7px;font-style:normal;font-weight:normal;fill-opacity:1;stroke:none;font-family:sans-serif;text-anchor:start;fill:#33CCCC\" x=\"48.8131\" y=\"95.4909\"><tspan>F</tspan></text>\n",
       "<text style=\"font-size:7px;font-style:normal;font-weight:normal;fill-opacity:1;stroke:none;font-family:sans-serif;text-anchor:start;fill:#33CCCC\" x=\"40.5344\" y=\"149.005\"><tspan>F</tspan></text>\n",
       "<text style=\"font-size:7px;font-style:normal;font-weight:normal;fill-opacity:1;stroke:none;font-family:sans-serif;text-anchor:start;fill:#33CCCC\" x=\"20.9468\" y=\"115.079\"><tspan>F</tspan></text>\n",
       "</svg>"
      ],
      "text/plain": [
       "<IPython.core.display.SVG object>"
      ]
     },
     "execution_count": 35,
     "metadata": {},
     "output_type": "execute_result"
    }
   ],
   "source": [
    "mol = mols[8]\n",
    "bonds = find_boundary_bonds(mol)\n",
    "bond_idxes = [bond.GetIdx() for bond in bonds]\n",
    "\n",
    "rdDepictor.Compute2DCoords(mol)\n",
    "drawer = rdMolDraw2D.MolDraw2DSVG(400,200)\n",
    "drawer.DrawMolecule(mol, highlightAtoms=[], highlightBonds=bond_idxes)\n",
    "drawer.FinishDrawing()\n",
    "svg = drawer.GetDrawingText().replace('svg:','')\n",
    "SVG(svg)"
   ]
  },
  {
   "cell_type": "markdown",
   "metadata": {},
   "source": [
    "この化学構造もMurcko scaffoldsがないのでハイライトがないのは正しい。"
   ]
  },
  {
   "cell_type": "code",
   "execution_count": 36,
   "metadata": {
    "scrolled": true
   },
   "outputs": [
    {
     "data": {
      "image/svg+xml": [
       "<svg baseProfile=\"full\" height=\"200px\" version=\"1.1\" width=\"400px\" xml:space=\"preserve\" xmlns:rdkit=\"http://www.rdkit.org/xml\" xmlns:svg=\"http://www.w3.org/2000/svg\" xmlns:xlink=\"http://www.w3.org/1999/xlink\">\n",
       "<rect height=\"200\" style=\"opacity:1.0;fill:#FFFFFF;stroke:none\" width=\"400\" x=\"0\" y=\"0\"> </rect>\n",
       "<path d=\"M 192.42,168.686 196.21,117.676\" style=\"fill:none;fill-rule:evenodd;stroke:#FF7F7F;stroke-width:16px;stroke-linecap:butt;stroke-linejoin:miter;stroke-opacity:1\"/>\n",
       "<path d=\"M 146.349,190.909 192.42,168.686\" style=\"fill:none;fill-rule:evenodd;stroke:#000000;stroke-width:2px;stroke-linecap:butt;stroke-linejoin:miter;stroke-opacity:1\"/>\n",
       "<path d=\"M 192.42,168.686 193.998,147.444\" style=\"fill:none;fill-rule:evenodd;stroke:#000000;stroke-width:2px;stroke-linecap:butt;stroke-linejoin:miter;stroke-opacity:1\"/>\n",
       "<path d=\"M 193.998,147.444 195.577,126.201\" style=\"fill:none;fill-rule:evenodd;stroke:#0000FF;stroke-width:2px;stroke-linecap:butt;stroke-linejoin:miter;stroke-opacity:1\"/>\n",
       "<path d=\"M 203.599,114.112 222.94,104.782\" style=\"fill:none;fill-rule:evenodd;stroke:#0000FF;stroke-width:2px;stroke-linecap:butt;stroke-linejoin:miter;stroke-opacity:1\"/>\n",
       "<path d=\"M 222.94,104.782 242.281,95.4531\" style=\"fill:none;fill-rule:evenodd;stroke:#000000;stroke-width:2px;stroke-linecap:butt;stroke-linejoin:miter;stroke-opacity:1\"/>\n",
       "<path d=\"M 188.821,112.645 171.375,100.767\" style=\"fill:none;fill-rule:evenodd;stroke:#0000FF;stroke-width:2px;stroke-linecap:butt;stroke-linejoin:miter;stroke-opacity:1\"/>\n",
       "<path d=\"M 171.375,100.767 153.929,88.8886\" style=\"fill:none;fill-rule:evenodd;stroke:#000000;stroke-width:2px;stroke-linecap:butt;stroke-linejoin:miter;stroke-opacity:1\"/>\n",
       "<path d=\"M 242.281,95.4531 284.562,124.24\" style=\"fill:none;fill-rule:evenodd;stroke:#000000;stroke-width:2px;stroke-linecap:butt;stroke-linejoin:miter;stroke-opacity:1\"/>\n",
       "<path d=\"M 254.381,91.315 283.978,111.466\" style=\"fill:none;fill-rule:evenodd;stroke:#000000;stroke-width:2px;stroke-linecap:butt;stroke-linejoin:miter;stroke-opacity:1;stroke-dasharray:6,6\"/>\n",
       "<path d=\"M 242.281,95.4531 246.071,44.4428\" style=\"fill:none;fill-rule:evenodd;stroke:#000000;stroke-width:2px;stroke-linecap:butt;stroke-linejoin:miter;stroke-opacity:1\"/>\n",
       "<path d=\"M 253.052,88.5596 255.705,52.8524\" style=\"fill:none;fill-rule:evenodd;stroke:#000000;stroke-width:2px;stroke-linecap:butt;stroke-linejoin:miter;stroke-opacity:1;stroke-dasharray:6,6\"/>\n",
       "<path d=\"M 284.562,124.24 330.634,102.018\" style=\"fill:none;fill-rule:evenodd;stroke:#000000;stroke-width:2px;stroke-linecap:butt;stroke-linejoin:miter;stroke-opacity:1\"/>\n",
       "<path d=\"M 287.028,111.693 319.278,96.1368\" style=\"fill:none;fill-rule:evenodd;stroke:#000000;stroke-width:2px;stroke-linecap:butt;stroke-linejoin:miter;stroke-opacity:1;stroke-dasharray:6,6\"/>\n",
       "<path d=\"M 330.634,102.018 334.424,51.0073\" style=\"fill:none;fill-rule:evenodd;stroke:#000000;stroke-width:2px;stroke-linecap:butt;stroke-linejoin:miter;stroke-opacity:1\"/>\n",
       "<path d=\"M 321,93.6081 323.653,57.9009\" style=\"fill:none;fill-rule:evenodd;stroke:#000000;stroke-width:2px;stroke-linecap:butt;stroke-linejoin:miter;stroke-opacity:1;stroke-dasharray:6,6\"/>\n",
       "<path d=\"M 334.424,51.0073 292.142,22.22\" style=\"fill:none;fill-rule:evenodd;stroke:#000000;stroke-width:2px;stroke-linecap:butt;stroke-linejoin:miter;stroke-opacity:1\"/>\n",
       "<path d=\"M 322.324,55.1455 292.727,34.9943\" style=\"fill:none;fill-rule:evenodd;stroke:#000000;stroke-width:2px;stroke-linecap:butt;stroke-linejoin:miter;stroke-opacity:1;stroke-dasharray:6,6\"/>\n",
       "<path d=\"M 292.142,22.22 246.071,44.4428\" style=\"fill:none;fill-rule:evenodd;stroke:#000000;stroke-width:2px;stroke-linecap:butt;stroke-linejoin:miter;stroke-opacity:1\"/>\n",
       "<path d=\"M 289.676,34.7676 257.426,50.3236\" style=\"fill:none;fill-rule:evenodd;stroke:#000000;stroke-width:2px;stroke-linecap:butt;stroke-linejoin:miter;stroke-opacity:1;stroke-dasharray:6,6\"/>\n",
       "<path d=\"M 246.071,44.4428 228.344,32.373\" style=\"fill:none;fill-rule:evenodd;stroke:#000000;stroke-width:2px;stroke-linecap:butt;stroke-linejoin:miter;stroke-opacity:1\"/>\n",
       "<path d=\"M 228.344,32.373 210.616,20.3031\" style=\"fill:none;fill-rule:evenodd;stroke:#CCCC00;stroke-width:2px;stroke-linecap:butt;stroke-linejoin:miter;stroke-opacity:1\"/>\n",
       "<path d=\"M 196.964,18.9481 177.341,28.4132\" style=\"fill:none;fill-rule:evenodd;stroke:#CCCC00;stroke-width:2px;stroke-linecap:butt;stroke-linejoin:miter;stroke-opacity:1\"/>\n",
       "<path d=\"M 177.341,28.4132 157.719,37.8783\" style=\"fill:none;fill-rule:evenodd;stroke:#000000;stroke-width:2px;stroke-linecap:butt;stroke-linejoin:miter;stroke-opacity:1\"/>\n",
       "<path d=\"M 157.719,37.8783 115.438,9.09091\" style=\"fill:none;fill-rule:evenodd;stroke:#000000;stroke-width:2px;stroke-linecap:butt;stroke-linejoin:miter;stroke-opacity:1\"/>\n",
       "<path d=\"M 145.619,42.0164 116.022,21.8653\" style=\"fill:none;fill-rule:evenodd;stroke:#000000;stroke-width:2px;stroke-linecap:butt;stroke-linejoin:miter;stroke-opacity:1;stroke-dasharray:6,6\"/>\n",
       "<path d=\"M 157.719,37.8783 153.929,88.8886\" style=\"fill:none;fill-rule:evenodd;stroke:#000000;stroke-width:2px;stroke-linecap:butt;stroke-linejoin:miter;stroke-opacity:1\"/>\n",
       "<path d=\"M 146.948,44.7718 144.295,80.479\" style=\"fill:none;fill-rule:evenodd;stroke:#000000;stroke-width:2px;stroke-linecap:butt;stroke-linejoin:miter;stroke-opacity:1;stroke-dasharray:6,6\"/>\n",
       "<path d=\"M 115.438,9.09091 69.3665,31.3138\" style=\"fill:none;fill-rule:evenodd;stroke:#000000;stroke-width:2px;stroke-linecap:butt;stroke-linejoin:miter;stroke-opacity:1\"/>\n",
       "<path d=\"M 112.972,21.6386 80.7217,37.1946\" style=\"fill:none;fill-rule:evenodd;stroke:#000000;stroke-width:2px;stroke-linecap:butt;stroke-linejoin:miter;stroke-opacity:1;stroke-dasharray:6,6\"/>\n",
       "<path d=\"M 69.3665,31.3138 65.5764,82.324\" style=\"fill:none;fill-rule:evenodd;stroke:#000000;stroke-width:2px;stroke-linecap:butt;stroke-linejoin:miter;stroke-opacity:1\"/>\n",
       "<path d=\"M 79,39.7233 76.347,75.4305\" style=\"fill:none;fill-rule:evenodd;stroke:#000000;stroke-width:2px;stroke-linecap:butt;stroke-linejoin:miter;stroke-opacity:1;stroke-dasharray:6,6\"/>\n",
       "<path d=\"M 65.5764,82.324 107.858,111.111\" style=\"fill:none;fill-rule:evenodd;stroke:#000000;stroke-width:2px;stroke-linecap:butt;stroke-linejoin:miter;stroke-opacity:1\"/>\n",
       "<path d=\"M 77.6761,78.1859 107.273,98.3371\" style=\"fill:none;fill-rule:evenodd;stroke:#000000;stroke-width:2px;stroke-linecap:butt;stroke-linejoin:miter;stroke-opacity:1;stroke-dasharray:6,6\"/>\n",
       "<path d=\"M 107.858,111.111 153.929,88.8886\" style=\"fill:none;fill-rule:evenodd;stroke:#000000;stroke-width:2px;stroke-linecap:butt;stroke-linejoin:miter;stroke-opacity:1\"/>\n",
       "<path d=\"M 110.324,98.5638 142.574,83.0078\" style=\"fill:none;fill-rule:evenodd;stroke:#000000;stroke-width:2px;stroke-linecap:butt;stroke-linejoin:miter;stroke-opacity:1;stroke-dasharray:6,6\"/>\n",
       "<text style=\"font-size:17px;font-style:normal;font-weight:normal;fill-opacity:1;stroke:none;font-family:sans-serif;text-anchor:start;fill:#0000FF\" x=\"188.821\" y=\"126.201\"><tspan>N</tspan></text>\n",
       "<text style=\"font-size:17px;font-style:normal;font-weight:normal;fill-opacity:1;stroke:none;font-family:sans-serif;text-anchor:start;fill:#CCCC00\" x=\"196.964\" y=\"24.1806\"><tspan>S</tspan></text>\n",
       "</svg>"
      ],
      "text/plain": [
       "<IPython.core.display.SVG object>"
      ]
     },
     "execution_count": 36,
     "metadata": {},
     "output_type": "execute_result"
    }
   ],
   "source": [
    "mol = mols[9]\n",
    "bonds = find_boundary_bonds(mol)\n",
    "bond_idxes = [bond.GetIdx() for bond in bonds]\n",
    "\n",
    "rdDepictor.Compute2DCoords(mol)\n",
    "drawer = rdMolDraw2D.MolDraw2DSVG(400,200)\n",
    "drawer.DrawMolecule(mol, highlightAtoms=[], highlightBonds=bond_idxes)\n",
    "drawer.FinishDrawing()\n",
    "svg = drawer.GetDrawingText().replace('svg:','')\n",
    "SVG(svg)"
   ]
  },
  {
   "cell_type": "markdown",
   "metadata": {},
   "source": [
    "10個の化学構造すべてで正常に動作することを確認できた。"
   ]
  },
  {
   "cell_type": "markdown",
   "metadata": {},
   "source": [
    "##### 4.2.1 引数あり"
   ]
  },
  {
   "cell_type": "markdown",
   "metadata": {},
   "source": [
    "続けて関数を引数を与えて用いて正常に動作するか確認する。"
   ]
  },
  {
   "cell_type": "code",
   "execution_count": 37,
   "metadata": {},
   "outputs": [],
   "source": [
    "amitriptyline = 'CN(C)CCC=C1c2ccccc2CCc3c1cccc3'\n",
    "imipramine = 'CN(C)CCCN1c2ccccc2CCc3c1cccc3'\n",
    "clomipramine = 'CN(C)CCCN1c2ccccc2CCc3c1cc(cc3)Cl'"
   ]
  },
  {
   "cell_type": "code",
   "execution_count": 38,
   "metadata": {},
   "outputs": [
    {
     "data": {
      "image/svg+xml": [
       "<svg baseProfile=\"full\" height=\"200px\" version=\"1.1\" width=\"600px\" xml:space=\"preserve\" xmlns:rdkit=\"http://www.rdkit.org/xml\" xmlns:svg=\"http://www.w3.org/2000/svg\" xmlns:xlink=\"http://www.w3.org/1999/xlink\">\n",
       "<g transform=\"translate(0,0)\"><rect height=\"200\" style=\"opacity:1.0;fill:#FFFFFF;stroke:none\" width=\"200\" x=\"0\" y=\"0\"> </rect>\n",
       "<path d=\"M 9.09091,150.666 17.007,143.351\" style=\"fill:none;fill-rule:evenodd;stroke:#000000;stroke-width:2px;stroke-linecap:butt;stroke-linejoin:miter;stroke-opacity:1\"/>\n",
       "<path d=\"M 17.007,143.351 24.923,136.036\" style=\"fill:none;fill-rule:evenodd;stroke:#0000FF;stroke-width:2px;stroke-linecap:butt;stroke-linejoin:miter;stroke-opacity:1\"/>\n",
       "<path d=\"M 27.7883,127.981 25.335,117.13\" style=\"fill:none;fill-rule:evenodd;stroke:#0000FF;stroke-width:2px;stroke-linecap:butt;stroke-linejoin:miter;stroke-opacity:1\"/>\n",
       "<path d=\"M 25.335,117.13 22.8817,106.279\" style=\"fill:none;fill-rule:evenodd;stroke:#000000;stroke-width:2px;stroke-linecap:butt;stroke-linejoin:miter;stroke-opacity:1\"/>\n",
       "<path d=\"M 32.6761,133.658 43.5511,137.037\" style=\"fill:none;fill-rule:evenodd;stroke:#0000FF;stroke-width:2px;stroke-linecap:butt;stroke-linejoin:miter;stroke-opacity:1\"/>\n",
       "<path d=\"M 43.5511,137.037 54.4261,140.416\" style=\"fill:none;fill-rule:evenodd;stroke:#000000;stroke-width:2px;stroke-linecap:butt;stroke-linejoin:miter;stroke-opacity:1\"/>\n",
       "<path d=\"M 54.4261,140.416 74.1347,122.203\" style=\"fill:none;fill-rule:evenodd;stroke:#000000;stroke-width:2px;stroke-linecap:butt;stroke-linejoin:miter;stroke-opacity:1\"/>\n",
       "<path d=\"M 74.1347,122.203 99.7612,130.165\" style=\"fill:none;fill-rule:evenodd;stroke:#000000;stroke-width:2px;stroke-linecap:butt;stroke-linejoin:miter;stroke-opacity:1\"/>\n",
       "<path d=\"M 99.7612,130.165 119.47,111.953\" style=\"fill:none;fill-rule:evenodd;stroke:#000000;stroke-width:2px;stroke-linecap:butt;stroke-linejoin:miter;stroke-opacity:1\"/>\n",
       "<path d=\"M 99.0751,123.492 112.871,110.743\" style=\"fill:none;fill-rule:evenodd;stroke:#000000;stroke-width:2px;stroke-linecap:butt;stroke-linejoin:miter;stroke-opacity:1\"/>\n",
       "<path d=\"M 119.47,111.953 144.43,121.808\" style=\"fill:none;fill-rule:evenodd;stroke:#000000;stroke-width:2px;stroke-linecap:butt;stroke-linejoin:miter;stroke-opacity:1\"/>\n",
       "<path d=\"M 119.47,111.953 111.613,86.2944\" style=\"fill:none;fill-rule:evenodd;stroke:#000000;stroke-width:2px;stroke-linecap:butt;stroke-linejoin:miter;stroke-opacity:1\"/>\n",
       "<path d=\"M 144.43,121.808 144.375,148.643\" style=\"fill:none;fill-rule:evenodd;stroke:#000000;stroke-width:2px;stroke-linecap:butt;stroke-linejoin:miter;stroke-opacity:1\"/>\n",
       "<path d=\"M 149.788,125.844 149.75,144.629\" style=\"fill:none;fill-rule:evenodd;stroke:#000000;stroke-width:2px;stroke-linecap:butt;stroke-linejoin:miter;stroke-opacity:1\"/>\n",
       "<path d=\"M 144.43,121.808 167.697,108.438\" style=\"fill:none;fill-rule:evenodd;stroke:#000000;stroke-width:2px;stroke-linecap:butt;stroke-linejoin:miter;stroke-opacity:1\"/>\n",
       "<path d=\"M 144.375,148.643 167.587,162.108\" style=\"fill:none;fill-rule:evenodd;stroke:#000000;stroke-width:2px;stroke-linecap:butt;stroke-linejoin:miter;stroke-opacity:1\"/>\n",
       "<path d=\"M 167.587,162.108 190.854,148.738\" style=\"fill:none;fill-rule:evenodd;stroke:#000000;stroke-width:2px;stroke-linecap:butt;stroke-linejoin:miter;stroke-opacity:1\"/>\n",
       "<path d=\"M 168.403,155.449 184.69,146.09\" style=\"fill:none;fill-rule:evenodd;stroke:#000000;stroke-width:2px;stroke-linecap:butt;stroke-linejoin:miter;stroke-opacity:1\"/>\n",
       "<path d=\"M 190.854,148.738 190.909,121.903\" style=\"fill:none;fill-rule:evenodd;stroke:#000000;stroke-width:2px;stroke-linecap:butt;stroke-linejoin:miter;stroke-opacity:1\"/>\n",
       "<path d=\"M 190.909,121.903 167.697,108.438\" style=\"fill:none;fill-rule:evenodd;stroke:#000000;stroke-width:2px;stroke-linecap:butt;stroke-linejoin:miter;stroke-opacity:1\"/>\n",
       "<path d=\"M 184.734,124.526 168.486,115.1\" style=\"fill:none;fill-rule:evenodd;stroke:#000000;stroke-width:2px;stroke-linecap:butt;stroke-linejoin:miter;stroke-opacity:1\"/>\n",
       "<path d=\"M 167.697,108.438 171.751,81.9112\" style=\"fill:none;fill-rule:evenodd;stroke:#000000;stroke-width:2px;stroke-linecap:butt;stroke-linejoin:miter;stroke-opacity:1\"/>\n",
       "<path d=\"M 171.751,81.9112 153.538,62.2025\" style=\"fill:none;fill-rule:evenodd;stroke:#000000;stroke-width:2px;stroke-linecap:butt;stroke-linejoin:miter;stroke-opacity:1\"/>\n",
       "<path d=\"M 153.538,62.2025 126.774,64.1533\" style=\"fill:none;fill-rule:evenodd;stroke:#000000;stroke-width:2px;stroke-linecap:butt;stroke-linejoin:miter;stroke-opacity:1\"/>\n",
       "<path d=\"M 126.774,64.1533 111.613,86.2944\" style=\"fill:none;fill-rule:evenodd;stroke:#000000;stroke-width:2px;stroke-linecap:butt;stroke-linejoin:miter;stroke-opacity:1\"/>\n",
       "<path d=\"M 128.928,70.5068 118.315,86.0056\" style=\"fill:none;fill-rule:evenodd;stroke:#000000;stroke-width:2px;stroke-linecap:butt;stroke-linejoin:miter;stroke-opacity:1\"/>\n",
       "<path d=\"M 126.774,64.1533 115.181,39.9521\" style=\"fill:none;fill-rule:evenodd;stroke:#000000;stroke-width:2px;stroke-linecap:butt;stroke-linejoin:miter;stroke-opacity:1\"/>\n",
       "<path d=\"M 111.613,86.2944 84.8568,84.2344\" style=\"fill:none;fill-rule:evenodd;stroke:#000000;stroke-width:2px;stroke-linecap:butt;stroke-linejoin:miter;stroke-opacity:1\"/>\n",
       "<path d=\"M 84.8568,84.2344 73.2629,60.0332\" style=\"fill:none;fill-rule:evenodd;stroke:#000000;stroke-width:2px;stroke-linecap:butt;stroke-linejoin:miter;stroke-opacity:1\"/>\n",
       "<path d=\"M 87.9579,78.2854 79.8422,61.3446\" style=\"fill:none;fill-rule:evenodd;stroke:#000000;stroke-width:2px;stroke-linecap:butt;stroke-linejoin:miter;stroke-opacity:1\"/>\n",
       "<path d=\"M 73.2629,60.0332 88.4248,37.8921\" style=\"fill:none;fill-rule:evenodd;stroke:#000000;stroke-width:2px;stroke-linecap:butt;stroke-linejoin:miter;stroke-opacity:1\"/>\n",
       "<path d=\"M 88.4248,37.8921 115.181,39.9521\" style=\"fill:none;fill-rule:evenodd;stroke:#000000;stroke-width:2px;stroke-linecap:butt;stroke-linejoin:miter;stroke-opacity:1\"/>\n",
       "<path d=\"M 92.0262,43.5522 110.755,44.9942\" style=\"fill:none;fill-rule:evenodd;stroke:#000000;stroke-width:2px;stroke-linecap:butt;stroke-linejoin:miter;stroke-opacity:1\"/>\n",
       "<text style=\"font-size:8px;font-style:normal;font-weight:normal;fill-opacity:1;stroke:none;font-family:sans-serif;text-anchor:start;fill:#0000FF\" x=\"24.923\" y=\"136.926\"><tspan>N</tspan></text>\n",
       "</g>\n",
       "<g transform=\"translate(200,0)\"><rect height=\"200\" style=\"opacity:1.0;fill:#FFFFFF;stroke:none\" width=\"200\" x=\"0\" y=\"0\"> </rect>\n",
       "<path d=\"M 9.09091,150.666 17.007,143.351\" style=\"fill:none;fill-rule:evenodd;stroke:#000000;stroke-width:2px;stroke-linecap:butt;stroke-linejoin:miter;stroke-opacity:1\"/>\n",
       "<path d=\"M 17.007,143.351 24.923,136.036\" style=\"fill:none;fill-rule:evenodd;stroke:#0000FF;stroke-width:2px;stroke-linecap:butt;stroke-linejoin:miter;stroke-opacity:1\"/>\n",
       "<path d=\"M 27.7883,127.981 25.335,117.13\" style=\"fill:none;fill-rule:evenodd;stroke:#0000FF;stroke-width:2px;stroke-linecap:butt;stroke-linejoin:miter;stroke-opacity:1\"/>\n",
       "<path d=\"M 25.335,117.13 22.8817,106.279\" style=\"fill:none;fill-rule:evenodd;stroke:#000000;stroke-width:2px;stroke-linecap:butt;stroke-linejoin:miter;stroke-opacity:1\"/>\n",
       "<path d=\"M 32.6761,133.658 43.5511,137.037\" style=\"fill:none;fill-rule:evenodd;stroke:#0000FF;stroke-width:2px;stroke-linecap:butt;stroke-linejoin:miter;stroke-opacity:1\"/>\n",
       "<path d=\"M 43.5511,137.037 54.4261,140.416\" style=\"fill:none;fill-rule:evenodd;stroke:#000000;stroke-width:2px;stroke-linecap:butt;stroke-linejoin:miter;stroke-opacity:1\"/>\n",
       "<path d=\"M 54.4261,140.416 74.1347,122.203\" style=\"fill:none;fill-rule:evenodd;stroke:#000000;stroke-width:2px;stroke-linecap:butt;stroke-linejoin:miter;stroke-opacity:1\"/>\n",
       "<path d=\"M 74.1347,122.203 99.7612,130.165\" style=\"fill:none;fill-rule:evenodd;stroke:#000000;stroke-width:2px;stroke-linecap:butt;stroke-linejoin:miter;stroke-opacity:1\"/>\n",
       "<path d=\"M 99.7612,130.165 107.677,122.85\" style=\"fill:none;fill-rule:evenodd;stroke:#000000;stroke-width:2px;stroke-linecap:butt;stroke-linejoin:miter;stroke-opacity:1\"/>\n",
       "<path d=\"M 107.677,122.85 115.593,115.535\" style=\"fill:none;fill-rule:evenodd;stroke:#0000FF;stroke-width:2px;stroke-linecap:butt;stroke-linejoin:miter;stroke-opacity:1\"/>\n",
       "<path d=\"M 123.346,113.484 133.888,117.646\" style=\"fill:none;fill-rule:evenodd;stroke:#0000FF;stroke-width:2px;stroke-linecap:butt;stroke-linejoin:miter;stroke-opacity:1\"/>\n",
       "<path d=\"M 133.888,117.646 144.43,121.808\" style=\"fill:none;fill-rule:evenodd;stroke:#000000;stroke-width:2px;stroke-linecap:butt;stroke-linejoin:miter;stroke-opacity:1\"/>\n",
       "<path d=\"M 118.1,107.481 114.856,96.8876\" style=\"fill:none;fill-rule:evenodd;stroke:#0000FF;stroke-width:2px;stroke-linecap:butt;stroke-linejoin:miter;stroke-opacity:1\"/>\n",
       "<path d=\"M 114.856,96.8876 111.613,86.2944\" style=\"fill:none;fill-rule:evenodd;stroke:#000000;stroke-width:2px;stroke-linecap:butt;stroke-linejoin:miter;stroke-opacity:1\"/>\n",
       "<path d=\"M 144.43,121.808 144.375,148.643\" style=\"fill:none;fill-rule:evenodd;stroke:#000000;stroke-width:2px;stroke-linecap:butt;stroke-linejoin:miter;stroke-opacity:1\"/>\n",
       "<path d=\"M 149.788,125.844 149.75,144.629\" style=\"fill:none;fill-rule:evenodd;stroke:#000000;stroke-width:2px;stroke-linecap:butt;stroke-linejoin:miter;stroke-opacity:1\"/>\n",
       "<path d=\"M 144.43,121.808 167.697,108.438\" style=\"fill:none;fill-rule:evenodd;stroke:#000000;stroke-width:2px;stroke-linecap:butt;stroke-linejoin:miter;stroke-opacity:1\"/>\n",
       "<path d=\"M 144.375,148.643 167.587,162.108\" style=\"fill:none;fill-rule:evenodd;stroke:#000000;stroke-width:2px;stroke-linecap:butt;stroke-linejoin:miter;stroke-opacity:1\"/>\n",
       "<path d=\"M 167.587,162.108 190.854,148.738\" style=\"fill:none;fill-rule:evenodd;stroke:#000000;stroke-width:2px;stroke-linecap:butt;stroke-linejoin:miter;stroke-opacity:1\"/>\n",
       "<path d=\"M 168.403,155.449 184.69,146.09\" style=\"fill:none;fill-rule:evenodd;stroke:#000000;stroke-width:2px;stroke-linecap:butt;stroke-linejoin:miter;stroke-opacity:1\"/>\n",
       "<path d=\"M 190.854,148.738 190.909,121.903\" style=\"fill:none;fill-rule:evenodd;stroke:#000000;stroke-width:2px;stroke-linecap:butt;stroke-linejoin:miter;stroke-opacity:1\"/>\n",
       "<path d=\"M 190.909,121.903 167.697,108.438\" style=\"fill:none;fill-rule:evenodd;stroke:#000000;stroke-width:2px;stroke-linecap:butt;stroke-linejoin:miter;stroke-opacity:1\"/>\n",
       "<path d=\"M 184.734,124.526 168.486,115.1\" style=\"fill:none;fill-rule:evenodd;stroke:#000000;stroke-width:2px;stroke-linecap:butt;stroke-linejoin:miter;stroke-opacity:1\"/>\n",
       "<path d=\"M 167.697,108.438 171.751,81.9112\" style=\"fill:none;fill-rule:evenodd;stroke:#000000;stroke-width:2px;stroke-linecap:butt;stroke-linejoin:miter;stroke-opacity:1\"/>\n",
       "<path d=\"M 171.751,81.9112 153.538,62.2025\" style=\"fill:none;fill-rule:evenodd;stroke:#000000;stroke-width:2px;stroke-linecap:butt;stroke-linejoin:miter;stroke-opacity:1\"/>\n",
       "<path d=\"M 153.538,62.2025 126.774,64.1533\" style=\"fill:none;fill-rule:evenodd;stroke:#000000;stroke-width:2px;stroke-linecap:butt;stroke-linejoin:miter;stroke-opacity:1\"/>\n",
       "<path d=\"M 126.774,64.1533 111.613,86.2944\" style=\"fill:none;fill-rule:evenodd;stroke:#000000;stroke-width:2px;stroke-linecap:butt;stroke-linejoin:miter;stroke-opacity:1\"/>\n",
       "<path d=\"M 128.928,70.5068 118.315,86.0056\" style=\"fill:none;fill-rule:evenodd;stroke:#000000;stroke-width:2px;stroke-linecap:butt;stroke-linejoin:miter;stroke-opacity:1\"/>\n",
       "<path d=\"M 126.774,64.1533 115.181,39.9521\" style=\"fill:none;fill-rule:evenodd;stroke:#000000;stroke-width:2px;stroke-linecap:butt;stroke-linejoin:miter;stroke-opacity:1\"/>\n",
       "<path d=\"M 111.613,86.2944 84.8568,84.2344\" style=\"fill:none;fill-rule:evenodd;stroke:#000000;stroke-width:2px;stroke-linecap:butt;stroke-linejoin:miter;stroke-opacity:1\"/>\n",
       "<path d=\"M 84.8568,84.2344 73.2629,60.0332\" style=\"fill:none;fill-rule:evenodd;stroke:#000000;stroke-width:2px;stroke-linecap:butt;stroke-linejoin:miter;stroke-opacity:1\"/>\n",
       "<path d=\"M 87.9579,78.2854 79.8422,61.3446\" style=\"fill:none;fill-rule:evenodd;stroke:#000000;stroke-width:2px;stroke-linecap:butt;stroke-linejoin:miter;stroke-opacity:1\"/>\n",
       "<path d=\"M 73.2629,60.0332 88.4248,37.8921\" style=\"fill:none;fill-rule:evenodd;stroke:#000000;stroke-width:2px;stroke-linecap:butt;stroke-linejoin:miter;stroke-opacity:1\"/>\n",
       "<path d=\"M 88.4248,37.8921 115.181,39.9521\" style=\"fill:none;fill-rule:evenodd;stroke:#000000;stroke-width:2px;stroke-linecap:butt;stroke-linejoin:miter;stroke-opacity:1\"/>\n",
       "<path d=\"M 92.0262,43.5522 110.755,44.9942\" style=\"fill:none;fill-rule:evenodd;stroke:#000000;stroke-width:2px;stroke-linecap:butt;stroke-linejoin:miter;stroke-opacity:1\"/>\n",
       "<text style=\"font-size:8px;font-style:normal;font-weight:normal;fill-opacity:1;stroke:none;font-family:sans-serif;text-anchor:start;fill:#0000FF\" x=\"24.923\" y=\"136.926\"><tspan>N</tspan></text>\n",
       "<text style=\"font-size:8px;font-style:normal;font-weight:normal;fill-opacity:1;stroke:none;font-family:sans-serif;text-anchor:start;fill:#0000FF\" x=\"115.593\" y=\"116.426\"><tspan>N</tspan></text>\n",
       "</g>\n",
       "<g transform=\"translate(400,0)\"><rect height=\"200\" style=\"opacity:1.0;fill:#FFFFFF;stroke:none\" width=\"200\" x=\"0\" y=\"0\"> </rect>\n",
       "<path d=\"M 9.09091,160.16 16.1965,152.314\" style=\"fill:none;fill-rule:evenodd;stroke:#000000;stroke-width:2px;stroke-linecap:butt;stroke-linejoin:miter;stroke-opacity:1\"/>\n",
       "<path d=\"M 16.1965,152.314 23.302,144.469\" style=\"fill:none;fill-rule:evenodd;stroke:#0000FF;stroke-width:2px;stroke-linecap:butt;stroke-linejoin:miter;stroke-opacity:1\"/>\n",
       "<path d=\"M 25.7524,135.67 22.3449,125.079\" style=\"fill:none;fill-rule:evenodd;stroke:#0000FF;stroke-width:2px;stroke-linecap:butt;stroke-linejoin:miter;stroke-opacity:1\"/>\n",
       "<path d=\"M 22.3449,125.079 18.9375,114.487\" style=\"fill:none;fill-rule:evenodd;stroke:#000000;stroke-width:2px;stroke-linecap:butt;stroke-linejoin:miter;stroke-opacity:1\"/>\n",
       "<path d=\"M 31.0955,141.006 42.3317,143.429\" style=\"fill:none;fill-rule:evenodd;stroke:#0000FF;stroke-width:2px;stroke-linecap:butt;stroke-linejoin:miter;stroke-opacity:1\"/>\n",
       "<path d=\"M 42.3317,143.429 53.5678,145.851\" style=\"fill:none;fill-rule:evenodd;stroke:#000000;stroke-width:2px;stroke-linecap:butt;stroke-linejoin:miter;stroke-opacity:1\"/>\n",
       "<path d=\"M 53.5678,145.851 71.6757,125.857\" style=\"fill:none;fill-rule:evenodd;stroke:#000000;stroke-width:2px;stroke-linecap:butt;stroke-linejoin:miter;stroke-opacity:1\"/>\n",
       "<path d=\"M 71.6757,125.857 98.0448,131.542\" style=\"fill:none;fill-rule:evenodd;stroke:#000000;stroke-width:2px;stroke-linecap:butt;stroke-linejoin:miter;stroke-opacity:1\"/>\n",
       "<path d=\"M 98.0448,131.542 105.15,123.696\" style=\"fill:none;fill-rule:evenodd;stroke:#000000;stroke-width:2px;stroke-linecap:butt;stroke-linejoin:miter;stroke-opacity:1\"/>\n",
       "<path d=\"M 105.15,123.696 112.256,115.851\" style=\"fill:none;fill-rule:evenodd;stroke:#0000FF;stroke-width:2px;stroke-linecap:butt;stroke-linejoin:miter;stroke-opacity:1\"/>\n",
       "<path d=\"M 120.049,112.699 131.036,115.943\" style=\"fill:none;fill-rule:evenodd;stroke:#0000FF;stroke-width:2px;stroke-linecap:butt;stroke-linejoin:miter;stroke-opacity:1\"/>\n",
       "<path d=\"M 131.036,115.943 142.023,119.188\" style=\"fill:none;fill-rule:evenodd;stroke:#000000;stroke-width:2px;stroke-linecap:butt;stroke-linejoin:miter;stroke-opacity:1\"/>\n",
       "<path d=\"M 114.325,107.052 110.16,96.8055\" style=\"fill:none;fill-rule:evenodd;stroke:#0000FF;stroke-width:2px;stroke-linecap:butt;stroke-linejoin:miter;stroke-opacity:1\"/>\n",
       "<path d=\"M 110.16,96.8055 105.995,86.5586\" style=\"fill:none;fill-rule:evenodd;stroke:#000000;stroke-width:2px;stroke-linecap:butt;stroke-linejoin:miter;stroke-opacity:1\"/>\n",
       "<path d=\"M 142.023,119.188 144.363,146.061\" style=\"fill:none;fill-rule:evenodd;stroke:#000000;stroke-width:2px;stroke-linecap:butt;stroke-linejoin:miter;stroke-opacity:1\"/>\n",
       "<path d=\"M 147.749,122.751 149.387,141.562\" style=\"fill:none;fill-rule:evenodd;stroke:#000000;stroke-width:2px;stroke-linecap:butt;stroke-linejoin:miter;stroke-opacity:1\"/>\n",
       "<path d=\"M 142.023,119.188 164.126,103.725\" style=\"fill:none;fill-rule:evenodd;stroke:#000000;stroke-width:2px;stroke-linecap:butt;stroke-linejoin:miter;stroke-opacity:1\"/>\n",
       "<path d=\"M 144.363,146.061 168.806,157.471\" style=\"fill:none;fill-rule:evenodd;stroke:#000000;stroke-width:2px;stroke-linecap:butt;stroke-linejoin:miter;stroke-opacity:1\"/>\n",
       "<path d=\"M 168.806,157.471 190.909,142.008\" style=\"fill:none;fill-rule:evenodd;stroke:#000000;stroke-width:2px;stroke-linecap:butt;stroke-linejoin:miter;stroke-opacity:1\"/>\n",
       "<path d=\"M 169.029,150.731 184.501,139.907\" style=\"fill:none;fill-rule:evenodd;stroke:#000000;stroke-width:2px;stroke-linecap:butt;stroke-linejoin:miter;stroke-opacity:1\"/>\n",
       "<path d=\"M 190.909,142.008 188.569,115.135\" style=\"fill:none;fill-rule:evenodd;stroke:#000000;stroke-width:2px;stroke-linecap:butt;stroke-linejoin:miter;stroke-opacity:1\"/>\n",
       "<path d=\"M 188.569,115.135 164.126,103.725\" style=\"fill:none;fill-rule:evenodd;stroke:#000000;stroke-width:2px;stroke-linecap:butt;stroke-linejoin:miter;stroke-opacity:1\"/>\n",
       "<path d=\"M 182.621,118.312 165.51,110.325\" style=\"fill:none;fill-rule:evenodd;stroke:#000000;stroke-width:2px;stroke-linecap:butt;stroke-linejoin:miter;stroke-opacity:1\"/>\n",
       "<path d=\"M 164.126,103.725 165.817,76.8027\" style=\"fill:none;fill-rule:evenodd;stroke:#000000;stroke-width:2px;stroke-linecap:butt;stroke-linejoin:miter;stroke-opacity:1\"/>\n",
       "<path d=\"M 165.817,76.8027 145.823,58.6949\" style=\"fill:none;fill-rule:evenodd;stroke:#000000;stroke-width:2px;stroke-linecap:butt;stroke-linejoin:miter;stroke-opacity:1\"/>\n",
       "<path d=\"M 145.823,58.6949 119.2,63.0367\" style=\"fill:none;fill-rule:evenodd;stroke:#000000;stroke-width:2px;stroke-linecap:butt;stroke-linejoin:miter;stroke-opacity:1\"/>\n",
       "<path d=\"M 119.2,63.0367 105.995,86.5586\" style=\"fill:none;fill-rule:evenodd;stroke:#000000;stroke-width:2px;stroke-linecap:butt;stroke-linejoin:miter;stroke-opacity:1\"/>\n",
       "<path d=\"M 121.924,69.2059 112.681,85.6713\" style=\"fill:none;fill-rule:evenodd;stroke:#000000;stroke-width:2px;stroke-linecap:butt;stroke-linejoin:miter;stroke-opacity:1\"/>\n",
       "<path d=\"M 119.2,63.0367 105.432,39.84\" style=\"fill:none;fill-rule:evenodd;stroke:#000000;stroke-width:2px;stroke-linecap:butt;stroke-linejoin:miter;stroke-opacity:1\"/>\n",
       "<path d=\"M 105.995,86.5586 79.0225,86.8839\" style=\"fill:none;fill-rule:evenodd;stroke:#000000;stroke-width:2px;stroke-linecap:butt;stroke-linejoin:miter;stroke-opacity:1\"/>\n",
       "<path d=\"M 79.0225,86.8839 65.2543,63.6873\" style=\"fill:none;fill-rule:evenodd;stroke:#000000;stroke-width:2px;stroke-linecap:butt;stroke-linejoin:miter;stroke-opacity:1\"/>\n",
       "<path d=\"M 81.5966,80.6508 71.9588,64.4131\" style=\"fill:none;fill-rule:evenodd;stroke:#000000;stroke-width:2px;stroke-linecap:butt;stroke-linejoin:miter;stroke-opacity:1\"/>\n",
       "<path d=\"M 65.2543,63.6873 78.459,40.1653\" style=\"fill:none;fill-rule:evenodd;stroke:#000000;stroke-width:2px;stroke-linecap:butt;stroke-linejoin:miter;stroke-opacity:1\"/>\n",
       "<path d=\"M 65.2543,63.6873 54.3152,63.8192\" style=\"fill:none;fill-rule:evenodd;stroke:#000000;stroke-width:2px;stroke-linecap:butt;stroke-linejoin:miter;stroke-opacity:1\"/>\n",
       "<path d=\"M 54.3152,63.8192 43.3762,63.9511\" style=\"fill:none;fill-rule:evenodd;stroke:#00CC00;stroke-width:2px;stroke-linecap:butt;stroke-linejoin:miter;stroke-opacity:1\"/>\n",
       "<path d=\"M 78.459,40.1653 105.432,39.84\" style=\"fill:none;fill-rule:evenodd;stroke:#000000;stroke-width:2px;stroke-linecap:butt;stroke-linejoin:miter;stroke-opacity:1\"/>\n",
       "<path d=\"M 82.5701,45.5111 101.451,45.2834\" style=\"fill:none;fill-rule:evenodd;stroke:#000000;stroke-width:2px;stroke-linecap:butt;stroke-linejoin:miter;stroke-opacity:1\"/>\n",
       "<text style=\"font-size:8px;font-style:normal;font-weight:normal;fill-opacity:1;stroke:none;font-family:sans-serif;text-anchor:start;fill:#0000FF\" x=\"23.302\" y=\"144.662\"><tspan>N</tspan></text>\n",
       "<text style=\"font-size:8px;font-style:normal;font-weight:normal;fill-opacity:1;stroke:none;font-family:sans-serif;text-anchor:start;fill:#0000FF\" x=\"112.256\" y=\"116.044\"><tspan>N</tspan></text>\n",
       "<text style=\"font-size:8px;font-style:normal;font-weight:normal;fill-opacity:1;stroke:none;font-family:sans-serif;text-anchor:start;fill:#00CC00\" x=\"33.1864\" y=\"68.5084\"><tspan>Cl</tspan></text>\n",
       "</g></svg>"
      ],
      "text/plain": [
       "<IPython.core.display.SVG object>"
      ]
     },
     "execution_count": 38,
     "metadata": {},
     "output_type": "execute_result"
    }
   ],
   "source": [
    "tca_smiles_set = [amitriptyline, imipramine, clomipramine]\n",
    "tca_mols = [Chem.MolFromSmiles(smiles) for smiles in tca_smiles_set]\n",
    "Draw.MolsToGridImage(tca_mols)"
   ]
  },
  {
   "cell_type": "markdown",
   "metadata": {},
   "source": [
    "三環の部分をscaffoldと指定して関数を用いてみる。  \n",
    "まず三環の部分の原子のインデックスを確認する。"
   ]
  },
  {
   "cell_type": "code",
   "execution_count": 39,
   "metadata": {},
   "outputs": [],
   "source": [
    "def mol_with_atom_index(mol):\n",
    "    atoms = mol.GetNumAtoms()\n",
    "    for idx in range(atoms):\n",
    "        mol.GetAtomWithIdx(idx).SetProp('molAtomMapNumber', str(mol.GetAtomWithIdx(idx).GetIdx()))\n",
    "    return mol"
   ]
  },
  {
   "cell_type": "code",
   "execution_count": 40,
   "metadata": {
    "scrolled": false
   },
   "outputs": [
    {
     "data": {
      "image/png": "[encoded data removed]",
      "image/svg+xml": [
       "<?xml version='1.0' encoding='iso-8859-1'?>\n",
       "<svg version='1.1' baseProfile='full'\n",
       "              xmlns:svg='http://www.w3.org/2000/svg'\n",
       "                      xmlns:rdkit='http://www.rdkit.org/xml'\n",
       "                      xmlns:xlink='http://www.w3.org/1999/xlink'\n",
       "                  xml:space='preserve'\n",
       "width='450px' height='150px' >\n",
       "<rect style='opacity:1.0;fill:#FFFFFF;stroke:none' width='450' height='150' x='0' y='0'> </rect>\n",
       "<path d='M 133.461,125.711 138.966,120.624' style='fill:none;fill-rule:evenodd;stroke:#000000;stroke-width:2px;stroke-linecap:butt;stroke-linejoin:miter;stroke-opacity:1' />\n",
       "<path d='M 138.966,120.624 144.47,115.537' style='fill:none;fill-rule:evenodd;stroke:#0000FF;stroke-width:2px;stroke-linecap:butt;stroke-linejoin:miter;stroke-opacity:1' />\n",
       "<path d='M 148.673,105.717 146.535,96.2602' style='fill:none;fill-rule:evenodd;stroke:#0000FF;stroke-width:2px;stroke-linecap:butt;stroke-linejoin:miter;stroke-opacity:1' />\n",
       "<path d='M 146.535,96.2602 144.397,86.8031' style='fill:none;fill-rule:evenodd;stroke:#000000;stroke-width:2px;stroke-linecap:butt;stroke-linejoin:miter;stroke-opacity:1' />\n",
       "<path d='M 158.955,113.477 163.85,114.998' style='fill:none;fill-rule:evenodd;stroke:#0000FF;stroke-width:2px;stroke-linecap:butt;stroke-linejoin:miter;stroke-opacity:1' />\n",
       "<path d='M 163.85,114.998 168.745,116.518' style='fill:none;fill-rule:evenodd;stroke:#000000;stroke-width:2px;stroke-linecap:butt;stroke-linejoin:miter;stroke-opacity:1' />\n",
       "<path d='M 183.23,114.458 194.239,104.285' style='fill:none;fill-rule:evenodd;stroke:#000000;stroke-width:2px;stroke-linecap:butt;stroke-linejoin:miter;stroke-opacity:1' />\n",
       "<path d='M 208.724,102.224 218.514,105.266' style='fill:none;fill-rule:evenodd;stroke:#000000;stroke-width:2px;stroke-linecap:butt;stroke-linejoin:miter;stroke-opacity:1' />\n",
       "<path d='M 232.998,103.206 244.008,93.0321' style='fill:none;fill-rule:evenodd;stroke:#000000;stroke-width:2px;stroke-linecap:butt;stroke-linejoin:miter;stroke-opacity:1' />\n",
       "<path d='M 230.651,97.3524 238.358,90.2309' style='fill:none;fill-rule:evenodd;stroke:#000000;stroke-width:2px;stroke-linecap:butt;stroke-linejoin:miter;stroke-opacity:1' />\n",
       "<path d='M 258.492,91.7434 267.55,95.3197' style='fill:none;fill-rule:evenodd;stroke:#000000;stroke-width:2px;stroke-linecap:butt;stroke-linejoin:miter;stroke-opacity:1' />\n",
       "<path d='M 247.818,83.2123 242.199,64.8639' style='fill:none;fill-rule:evenodd;stroke:#000000;stroke-width:2px;stroke-linecap:butt;stroke-linejoin:miter;stroke-opacity:1' />\n",
       "<path d='M 276.712,103.851 276.672,123.49' style='fill:none;fill-rule:evenodd;stroke:#000000;stroke-width:2px;stroke-linecap:butt;stroke-linejoin:miter;stroke-opacity:1' />\n",
       "<path d='M 282.598,106.809 282.57,120.556' style='fill:none;fill-rule:evenodd;stroke:#000000;stroke-width:2px;stroke-linecap:butt;stroke-linejoin:miter;stroke-opacity:1' />\n",
       "<path d='M 285.266,94.031 293.72,89.1733' style='fill:none;fill-rule:evenodd;stroke:#000000;stroke-width:2px;stroke-linecap:butt;stroke-linejoin:miter;stroke-opacity:1' />\n",
       "<path d='M 285.126,133.31 293.68,138.272' style='fill:none;fill-rule:evenodd;stroke:#000000;stroke-width:2px;stroke-linecap:butt;stroke-linejoin:miter;stroke-opacity:1' />\n",
       "<path d='M 310.688,138.272 319.142,133.414' style='fill:none;fill-rule:evenodd;stroke:#000000;stroke-width:2px;stroke-linecap:butt;stroke-linejoin:miter;stroke-opacity:1' />\n",
       "<path d='M 309.021,132.435 314.939,129.034' style='fill:none;fill-rule:evenodd;stroke:#000000;stroke-width:2px;stroke-linecap:butt;stroke-linejoin:miter;stroke-opacity:1' />\n",
       "<path d='M 327.697,123.594 327.737,103.955' style='fill:none;fill-rule:evenodd;stroke:#000000;stroke-width:2px;stroke-linecap:butt;stroke-linejoin:miter;stroke-opacity:1' />\n",
       "<path d='M 319.283,94.1352 310.729,89.1733' style='fill:none;fill-rule:evenodd;stroke:#000000;stroke-width:2px;stroke-linecap:butt;stroke-linejoin:miter;stroke-opacity:1' />\n",
       "<path d='M 315.043,98.4874 309.055,95.014' style='fill:none;fill-rule:evenodd;stroke:#000000;stroke-width:2px;stroke-linecap:butt;stroke-linejoin:miter;stroke-opacity:1' />\n",
       "<path d='M 303.015,79.3535 305.964,60.052' style='fill:none;fill-rule:evenodd;stroke:#000000;stroke-width:2px;stroke-linecap:butt;stroke-linejoin:miter;stroke-opacity:1' />\n",
       "<path d='M 302.177,50.2323 291.258,38.416' style='fill:none;fill-rule:evenodd;stroke:#000000;stroke-width:2px;stroke-linecap:butt;stroke-linejoin:miter;stroke-opacity:1' />\n",
       "<path d='M 274.273,34.4134 269.789,34.7403' style='fill:none;fill-rule:evenodd;stroke:#000000;stroke-width:2px;stroke-linecap:butt;stroke-linejoin:miter;stroke-opacity:1' />\n",
       "<path d='M 253.978,40.5575 244.057,55.0442' style='fill:none;fill-rule:evenodd;stroke:#000000;stroke-width:2px;stroke-linecap:butt;stroke-linejoin:miter;stroke-opacity:1' />\n",
       "<path d='M 257.351,46.0594 250.407,56.2001' style='fill:none;fill-rule:evenodd;stroke:#000000;stroke-width:2px;stroke-linecap:butt;stroke-linejoin:miter;stroke-opacity:1' />\n",
       "<path d='M 254.988,30.7377 246.964,13.9895' style='fill:none;fill-rule:evenodd;stroke:#000000;stroke-width:2px;stroke-linecap:butt;stroke-linejoin:miter;stroke-opacity:1' />\n",
       "<path d='M 228.247,58.9956 223.772,58.651' style='fill:none;fill-rule:evenodd;stroke:#000000;stroke-width:2px;stroke-linecap:butt;stroke-linejoin:miter;stroke-opacity:1' />\n",
       "<path d='M 208.971,52.7827 200.947,36.0345' style='fill:none;fill-rule:evenodd;stroke:#000000;stroke-width:2px;stroke-linecap:butt;stroke-linejoin:miter;stroke-opacity:1' />\n",
       "<path d='M 213.081,47.7249 207.464,36.0012' style='fill:none;fill-rule:evenodd;stroke:#000000;stroke-width:2px;stroke-linecap:butt;stroke-linejoin:miter;stroke-opacity:1' />\n",
       "<path d='M 201.957,26.2148 211.878,11.7281' style='fill:none;fill-rule:evenodd;stroke:#000000;stroke-width:2px;stroke-linecap:butt;stroke-linejoin:miter;stroke-opacity:1' />\n",
       "<path d='M 227.689,7.77664 232.164,8.12121' style='fill:none;fill-rule:evenodd;stroke:#000000;stroke-width:2px;stroke-linecap:butt;stroke-linejoin:miter;stroke-opacity:1' />\n",
       "<path d='M 227.907,13.7028 231.04,13.944' style='fill:none;fill-rule:evenodd;stroke:#000000;stroke-width:2px;stroke-linecap:butt;stroke-linejoin:miter;stroke-opacity:1' />\n",
       "<text x='118.976' y='135.53' style='font-size:9px;font-style:normal;font-weight:normal;fill-opacity:1;stroke:none;font-family:sans-serif;text-anchor:start;fill:#000000' ><tspan>C:0</tspan></text>\n",
       "<text x='140.612' y='115.537' style='font-size:9px;font-style:normal;font-weight:normal;fill-opacity:1;stroke:none;font-family:sans-serif;text-anchor:start;fill:#0000FF' ><tspan>N:1</tspan></text>\n",
       "<text x='134.116' y='86.8031' style='font-size:9px;font-style:normal;font-weight:normal;fill-opacity:1;stroke:none;font-family:sans-serif;text-anchor:start;fill:#000000' ><tspan>C:2</tspan></text>\n",
       "<text x='168.745' y='124.278' style='font-size:9px;font-style:normal;font-weight:normal;fill-opacity:1;stroke:none;font-family:sans-serif;text-anchor:start;fill:#000000' ><tspan>C:3</tspan></text>\n",
       "<text x='190.381' y='104.285' style='font-size:9px;font-style:normal;font-weight:normal;fill-opacity:1;stroke:none;font-family:sans-serif;text-anchor:start;fill:#000000' ><tspan>C:4</tspan></text>\n",
       "<text x='218.514' y='113.025' style='font-size:9px;font-style:normal;font-weight:normal;fill-opacity:1;stroke:none;font-family:sans-serif;text-anchor:start;fill:#000000' ><tspan>C:5</tspan></text>\n",
       "<text x='240.15' y='93.0321' style='font-size:9px;font-style:normal;font-weight:normal;fill-opacity:1;stroke:none;font-family:sans-serif;text-anchor:start;fill:#000000' ><tspan>C:6</tspan></text>\n",
       "<text x='267.55' y='103.851' style='font-size:9px;font-style:normal;font-weight:normal;fill-opacity:1;stroke:none;font-family:sans-serif;text-anchor:start;fill:#000000' ><tspan>C:7</tspan></text>\n",
       "<text x='267.49' y='133.31' style='font-size:9px;font-style:normal;font-weight:normal;fill-opacity:1;stroke:none;font-family:sans-serif;text-anchor:start;fill:#000000' ><tspan>C:8</tspan></text>\n",
       "<text x='292.973' y='148.092' style='font-size:9px;font-style:normal;font-weight:normal;fill-opacity:1;stroke:none;font-family:sans-serif;text-anchor:start;fill:#000000' ><tspan>C:9</tspan></text>\n",
       "<text x='315.238' y='133.414' style='font-size:9px;font-style:normal;font-weight:normal;fill-opacity:1;stroke:none;font-family:sans-serif;text-anchor:start;fill:#000000' ><tspan>C:10</tspan></text>\n",
       "<text x='315.298' y='103.955' style='font-size:9px;font-style:normal;font-weight:normal;fill-opacity:1;stroke:none;font-family:sans-serif;text-anchor:start;fill:#000000' ><tspan>C:11</tspan></text>\n",
       "<text x='289.816' y='89.1733' style='font-size:9px;font-style:normal;font-weight:normal;fill-opacity:1;stroke:none;font-family:sans-serif;text-anchor:start;fill:#000000' ><tspan>C:12</tspan></text>\n",
       "<text x='294.266' y='60.052' style='font-size:9px;font-style:normal;font-weight:normal;fill-opacity:1;stroke:none;font-family:sans-serif;text-anchor:start;fill:#000000' ><tspan>C:13</tspan></text>\n",
       "<text x='274.273' y='38.416' style='font-size:9px;font-style:normal;font-weight:normal;fill-opacity:1;stroke:none;font-family:sans-serif;text-anchor:start;fill:#000000' ><tspan>C:14</tspan></text>\n",
       "<text x='244.891' y='40.5575' style='font-size:9px;font-style:normal;font-weight:normal;fill-opacity:1;stroke:none;font-family:sans-serif;text-anchor:start;fill:#000000' ><tspan>C:15</tspan></text>\n",
       "<text x='228.247' y='64.8639' style='font-size:9px;font-style:normal;font-weight:normal;fill-opacity:1;stroke:none;font-family:sans-serif;text-anchor:start;fill:#000000' ><tspan>C:16</tspan></text>\n",
       "<text x='198.874' y='62.6025' style='font-size:9px;font-style:normal;font-weight:normal;fill-opacity:1;stroke:none;font-family:sans-serif;text-anchor:start;fill:#000000' ><tspan>C:17</tspan></text>\n",
       "<text x='186.147' y='36.0345' style='font-size:9px;font-style:normal;font-weight:normal;fill-opacity:1;stroke:none;font-family:sans-serif;text-anchor:start;fill:#000000' ><tspan>C:18</tspan></text>\n",
       "<text x='202.791' y='11.7281' style='font-size:9px;font-style:normal;font-weight:normal;fill-opacity:1;stroke:none;font-family:sans-serif;text-anchor:start;fill:#000000' ><tspan>C:19</tspan></text>\n",
       "<text x='232.164' y='13.9895' style='font-size:9px;font-style:normal;font-weight:normal;fill-opacity:1;stroke:none;font-family:sans-serif;text-anchor:start;fill:#000000' ><tspan>C:20</tspan></text>\n",
       "</svg>\n"
      ],
      "text/plain": [
       "<rdkit.Chem.rdchem.Mol at 0x7fd8f2e5d030>"
      ]
     },
     "execution_count": 40,
     "metadata": {},
     "output_type": "execute_result"
    }
   ],
   "source": [
    "mol = deepcopy(tca_mols[0])\n",
    "mol_with_atom_index(mol)"
   ]
  },
  {
   "cell_type": "markdown",
   "metadata": {},
   "source": [
    "ここに図示するのは省略するが他の２個も確認したところ、すべてで三環の部分の原子のインデックスは6から20であった。"
   ]
  },
  {
   "cell_type": "code",
   "execution_count": 41,
   "metadata": {},
   "outputs": [
    {
     "data": {
      "text/plain": [
       "[6, 7, 8, 9, 10, 11, 12, 13, 14, 15, 16, 17, 18, 19, 20]"
      ]
     },
     "execution_count": 41,
     "metadata": {},
     "output_type": "execute_result"
    }
   ],
   "source": [
    "scaffold_atom_indices = list(range(6, 21))\n",
    "scaffold_atom_indices"
   ]
  },
  {
   "cell_type": "markdown",
   "metadata": {},
   "source": [
    "Jupyter上で図にする部分は関数にできないので冗長ではあるがほぼ同じスクリプトを書き続けてみる。"
   ]
  },
  {
   "cell_type": "code",
   "execution_count": 42,
   "metadata": {},
   "outputs": [
    {
     "data": {
      "image/svg+xml": [
       "<svg baseProfile=\"full\" height=\"200px\" version=\"1.1\" width=\"400px\" xml:space=\"preserve\" xmlns:rdkit=\"http://www.rdkit.org/xml\" xmlns:svg=\"http://www.w3.org/2000/svg\" xmlns:xlink=\"http://www.w3.org/1999/xlink\">\n",
       "<rect height=\"200\" style=\"opacity:1.0;fill:#FFFFFF;stroke:none\" width=\"400\" x=\"0\" y=\"0\"> </rect>\n",
       "<path d=\"M 199.65,144.154 228.499,117.496\" style=\"fill:none;fill-rule:evenodd;stroke:#FF7F7F;stroke-width:16px;stroke-linecap:butt;stroke-linejoin:miter;stroke-opacity:1\"/>\n",
       "<path d=\"M 66.9338,174.161 78.5208,163.453\" style=\"fill:none;fill-rule:evenodd;stroke:#000000;stroke-width:2px;stroke-linecap:butt;stroke-linejoin:miter;stroke-opacity:1\"/>\n",
       "<path d=\"M 78.5208,163.453 90.1077,152.746\" style=\"fill:none;fill-rule:evenodd;stroke:#0000FF;stroke-width:2px;stroke-linecap:butt;stroke-linejoin:miter;stroke-opacity:1\"/>\n",
       "<path d=\"M 94.3018,140.956 90.7108,125.074\" style=\"fill:none;fill-rule:evenodd;stroke:#0000FF;stroke-width:2px;stroke-linecap:butt;stroke-linejoin:miter;stroke-opacity:1\"/>\n",
       "<path d=\"M 90.7108,125.074 87.1197,109.191\" style=\"fill:none;fill-rule:evenodd;stroke:#000000;stroke-width:2px;stroke-linecap:butt;stroke-linejoin:miter;stroke-opacity:1\"/>\n",
       "<path d=\"M 101.456,149.266 117.374,154.212\" style=\"fill:none;fill-rule:evenodd;stroke:#0000FF;stroke-width:2px;stroke-linecap:butt;stroke-linejoin:miter;stroke-opacity:1\"/>\n",
       "<path d=\"M 117.374,154.212 133.292,159.157\" style=\"fill:none;fill-rule:evenodd;stroke:#000000;stroke-width:2px;stroke-linecap:butt;stroke-linejoin:miter;stroke-opacity:1\"/>\n",
       "<path d=\"M 133.292,159.157 162.14,132.5\" style=\"fill:none;fill-rule:evenodd;stroke:#000000;stroke-width:2px;stroke-linecap:butt;stroke-linejoin:miter;stroke-opacity:1\"/>\n",
       "<path d=\"M 162.14,132.5 199.65,144.154\" style=\"fill:none;fill-rule:evenodd;stroke:#000000;stroke-width:2px;stroke-linecap:butt;stroke-linejoin:miter;stroke-opacity:1\"/>\n",
       "<path d=\"M 199.65,144.154 228.499,117.496\" style=\"fill:none;fill-rule:evenodd;stroke:#000000;stroke-width:2px;stroke-linecap:butt;stroke-linejoin:miter;stroke-opacity:1\"/>\n",
       "<path d=\"M 198.646,134.386 218.84,115.725\" style=\"fill:none;fill-rule:evenodd;stroke:#000000;stroke-width:2px;stroke-linecap:butt;stroke-linejoin:miter;stroke-opacity:1\"/>\n",
       "<path d=\"M 228.499,117.496 265.033,131.921\" style=\"fill:none;fill-rule:evenodd;stroke:#000000;stroke-width:2px;stroke-linecap:butt;stroke-linejoin:miter;stroke-opacity:1\"/>\n",
       "<path d=\"M 228.499,117.496 216.998,79.9388\" style=\"fill:none;fill-rule:evenodd;stroke:#000000;stroke-width:2px;stroke-linecap:butt;stroke-linejoin:miter;stroke-opacity:1\"/>\n",
       "<path d=\"M 265.033,131.921 264.953,171.2\" style=\"fill:none;fill-rule:evenodd;stroke:#000000;stroke-width:2px;stroke-linecap:butt;stroke-linejoin:miter;stroke-opacity:1\"/>\n",
       "<path d=\"M 272.877,137.829 272.821,165.324\" style=\"fill:none;fill-rule:evenodd;stroke:#000000;stroke-width:2px;stroke-linecap:butt;stroke-linejoin:miter;stroke-opacity:1;stroke-dasharray:6,6\"/>\n",
       "<path d=\"M 265.033,131.921 299.09,112.351\" style=\"fill:none;fill-rule:evenodd;stroke:#000000;stroke-width:2px;stroke-linecap:butt;stroke-linejoin:miter;stroke-opacity:1\"/>\n",
       "<path d=\"M 274.056,135.797 297.895,122.098\" style=\"fill:none;fill-rule:evenodd;stroke:#000000;stroke-width:2px;stroke-linecap:butt;stroke-linejoin:miter;stroke-opacity:1;stroke-dasharray:6,6\"/>\n",
       "<path d=\"M 264.953,171.2 298.929,190.909\" style=\"fill:none;fill-rule:evenodd;stroke:#000000;stroke-width:2px;stroke-linecap:butt;stroke-linejoin:miter;stroke-opacity:1\"/>\n",
       "<path d=\"M 273.991,167.361 297.775,181.157\" style=\"fill:none;fill-rule:evenodd;stroke:#000000;stroke-width:2px;stroke-linecap:butt;stroke-linejoin:miter;stroke-opacity:1;stroke-dasharray:6,6\"/>\n",
       "<path d=\"M 298.929,190.909 332.986,171.339\" style=\"fill:none;fill-rule:evenodd;stroke:#000000;stroke-width:2px;stroke-linecap:butt;stroke-linejoin:miter;stroke-opacity:1\"/>\n",
       "<path d=\"M 300.124,181.162 323.963,167.463\" style=\"fill:none;fill-rule:evenodd;stroke:#000000;stroke-width:2px;stroke-linecap:butt;stroke-linejoin:miter;stroke-opacity:1;stroke-dasharray:6,6\"/>\n",
       "<path d=\"M 332.986,171.339 333.066,132.06\" style=\"fill:none;fill-rule:evenodd;stroke:#000000;stroke-width:2px;stroke-linecap:butt;stroke-linejoin:miter;stroke-opacity:1\"/>\n",
       "<path d=\"M 325.142,165.431 325.198,137.936\" style=\"fill:none;fill-rule:evenodd;stroke:#000000;stroke-width:2px;stroke-linecap:butt;stroke-linejoin:miter;stroke-opacity:1;stroke-dasharray:6,6\"/>\n",
       "<path d=\"M 333.066,132.06 299.09,112.351\" style=\"fill:none;fill-rule:evenodd;stroke:#000000;stroke-width:2px;stroke-linecap:butt;stroke-linejoin:miter;stroke-opacity:1\"/>\n",
       "<path d=\"M 324.028,135.899 300.244,122.103\" style=\"fill:none;fill-rule:evenodd;stroke:#000000;stroke-width:2px;stroke-linecap:butt;stroke-linejoin:miter;stroke-opacity:1;stroke-dasharray:6,6\"/>\n",
       "<path d=\"M 299.09,112.351 305.023,73.5229\" style=\"fill:none;fill-rule:evenodd;stroke:#000000;stroke-width:2px;stroke-linecap:butt;stroke-linejoin:miter;stroke-opacity:1\"/>\n",
       "<path d=\"M 305.023,73.5229 278.366,44.6748\" style=\"fill:none;fill-rule:evenodd;stroke:#000000;stroke-width:2px;stroke-linecap:butt;stroke-linejoin:miter;stroke-opacity:1\"/>\n",
       "<path d=\"M 278.366,44.6748 239.19,47.5301\" style=\"fill:none;fill-rule:evenodd;stroke:#000000;stroke-width:2px;stroke-linecap:butt;stroke-linejoin:miter;stroke-opacity:1\"/>\n",
       "<path d=\"M 239.19,47.5301 216.998,79.9388\" style=\"fill:none;fill-rule:evenodd;stroke:#000000;stroke-width:2px;stroke-linecap:butt;stroke-linejoin:miter;stroke-opacity:1\"/>\n",
       "<path d=\"M 242.343,56.83 226.808,79.516\" style=\"fill:none;fill-rule:evenodd;stroke:#000000;stroke-width:2px;stroke-linecap:butt;stroke-linejoin:miter;stroke-opacity:1;stroke-dasharray:6,6\"/>\n",
       "<path d=\"M 239.19,47.5301 222.22,12.1062\" style=\"fill:none;fill-rule:evenodd;stroke:#000000;stroke-width:2px;stroke-linecap:butt;stroke-linejoin:miter;stroke-opacity:1\"/>\n",
       "<path d=\"M 229.56,45.6106 217.681,20.8139\" style=\"fill:none;fill-rule:evenodd;stroke:#000000;stroke-width:2px;stroke-linecap:butt;stroke-linejoin:miter;stroke-opacity:1;stroke-dasharray:6,6\"/>\n",
       "<path d=\"M 216.998,79.9388 177.834,76.9234\" style=\"fill:none;fill-rule:evenodd;stroke:#000000;stroke-width:2px;stroke-linecap:butt;stroke-linejoin:miter;stroke-opacity:1\"/>\n",
       "<path d=\"M 211.726,71.6538 184.312,69.5431\" style=\"fill:none;fill-rule:evenodd;stroke:#000000;stroke-width:2px;stroke-linecap:butt;stroke-linejoin:miter;stroke-opacity:1;stroke-dasharray:6,6\"/>\n",
       "<path d=\"M 177.834,76.9234 160.864,41.4995\" style=\"fill:none;fill-rule:evenodd;stroke:#000000;stroke-width:2px;stroke-linecap:butt;stroke-linejoin:miter;stroke-opacity:1\"/>\n",
       "<path d=\"M 182.374,68.2158 170.495,43.4191\" style=\"fill:none;fill-rule:evenodd;stroke:#000000;stroke-width:2px;stroke-linecap:butt;stroke-linejoin:miter;stroke-opacity:1;stroke-dasharray:6,6\"/>\n",
       "<path d=\"M 160.864,41.4995 183.057,9.09091\" style=\"fill:none;fill-rule:evenodd;stroke:#000000;stroke-width:2px;stroke-linecap:butt;stroke-linejoin:miter;stroke-opacity:1\"/>\n",
       "<path d=\"M 170.675,41.0768 186.21,18.3908\" style=\"fill:none;fill-rule:evenodd;stroke:#000000;stroke-width:2px;stroke-linecap:butt;stroke-linejoin:miter;stroke-opacity:1;stroke-dasharray:6,6\"/>\n",
       "<path d=\"M 183.057,9.09091 222.22,12.1062\" style=\"fill:none;fill-rule:evenodd;stroke:#000000;stroke-width:2px;stroke-linecap:butt;stroke-linejoin:miter;stroke-opacity:1\"/>\n",
       "<path d=\"M 188.329,17.3758 215.743,19.4866\" style=\"fill:none;fill-rule:evenodd;stroke:#000000;stroke-width:2px;stroke-linecap:butt;stroke-linejoin:miter;stroke-opacity:1;stroke-dasharray:6,6\"/>\n",
       "<text style=\"font-size:13px;font-style:normal;font-weight:normal;fill-opacity:1;stroke:none;font-family:sans-serif;text-anchor:start;fill:#0000FF\" x=\"90.1077\" y=\"154.049\"><tspan>N</tspan></text>\n",
       "</svg>"
      ],
      "text/plain": [
       "<IPython.core.display.SVG object>"
      ]
     },
     "execution_count": 42,
     "metadata": {},
     "output_type": "execute_result"
    }
   ],
   "source": [
    "mol = tca_mols[0]\n",
    "bonds = find_boundary_bonds(mol, scaffold_atom_indices)\n",
    "bond_idxes = [bond.GetIdx() for bond in bonds]\n",
    "\n",
    "rdDepictor.Compute2DCoords(mol)\n",
    "drawer = rdMolDraw2D.MolDraw2DSVG(400,200)\n",
    "drawer.DrawMolecule(mol, highlightAtoms=[], highlightBonds=bond_idxes)\n",
    "drawer.FinishDrawing()\n",
    "svg = drawer.GetDrawingText().replace('svg:','')\n",
    "SVG(svg)"
   ]
  },
  {
   "cell_type": "code",
   "execution_count": 43,
   "metadata": {},
   "outputs": [
    {
     "data": {
      "image/svg+xml": [
       "<svg baseProfile=\"full\" height=\"200px\" version=\"1.1\" width=\"400px\" xml:space=\"preserve\" xmlns:rdkit=\"http://www.rdkit.org/xml\" xmlns:svg=\"http://www.w3.org/2000/svg\" xmlns:xlink=\"http://www.w3.org/1999/xlink\">\n",
       "<rect height=\"200\" style=\"opacity:1.0;fill:#FFFFFF;stroke:none\" width=\"400\" x=\"0\" y=\"0\"> </rect>\n",
       "<path d=\"M 199.65,144.154 228.499,117.496\" style=\"fill:none;fill-rule:evenodd;stroke:#FF7F7F;stroke-width:16px;stroke-linecap:butt;stroke-linejoin:miter;stroke-opacity:1\"/>\n",
       "<path d=\"M 66.9338,174.161 78.5208,163.453\" style=\"fill:none;fill-rule:evenodd;stroke:#000000;stroke-width:2px;stroke-linecap:butt;stroke-linejoin:miter;stroke-opacity:1\"/>\n",
       "<path d=\"M 78.5208,163.453 90.1077,152.746\" style=\"fill:none;fill-rule:evenodd;stroke:#0000FF;stroke-width:2px;stroke-linecap:butt;stroke-linejoin:miter;stroke-opacity:1\"/>\n",
       "<path d=\"M 94.3018,140.956 90.7108,125.074\" style=\"fill:none;fill-rule:evenodd;stroke:#0000FF;stroke-width:2px;stroke-linecap:butt;stroke-linejoin:miter;stroke-opacity:1\"/>\n",
       "<path d=\"M 90.7108,125.074 87.1197,109.191\" style=\"fill:none;fill-rule:evenodd;stroke:#000000;stroke-width:2px;stroke-linecap:butt;stroke-linejoin:miter;stroke-opacity:1\"/>\n",
       "<path d=\"M 101.456,149.266 117.374,154.212\" style=\"fill:none;fill-rule:evenodd;stroke:#0000FF;stroke-width:2px;stroke-linecap:butt;stroke-linejoin:miter;stroke-opacity:1\"/>\n",
       "<path d=\"M 117.374,154.212 133.292,159.157\" style=\"fill:none;fill-rule:evenodd;stroke:#000000;stroke-width:2px;stroke-linecap:butt;stroke-linejoin:miter;stroke-opacity:1\"/>\n",
       "<path d=\"M 133.292,159.157 162.14,132.5\" style=\"fill:none;fill-rule:evenodd;stroke:#000000;stroke-width:2px;stroke-linecap:butt;stroke-linejoin:miter;stroke-opacity:1\"/>\n",
       "<path d=\"M 162.14,132.5 199.65,144.154\" style=\"fill:none;fill-rule:evenodd;stroke:#000000;stroke-width:2px;stroke-linecap:butt;stroke-linejoin:miter;stroke-opacity:1\"/>\n",
       "<path d=\"M 199.65,144.154 211.237,133.447\" style=\"fill:none;fill-rule:evenodd;stroke:#000000;stroke-width:2px;stroke-linecap:butt;stroke-linejoin:miter;stroke-opacity:1\"/>\n",
       "<path d=\"M 211.237,133.447 222.824,122.74\" style=\"fill:none;fill-rule:evenodd;stroke:#0000FF;stroke-width:2px;stroke-linecap:butt;stroke-linejoin:miter;stroke-opacity:1\"/>\n",
       "<path d=\"M 234.173,119.737 249.603,125.829\" style=\"fill:none;fill-rule:evenodd;stroke:#0000FF;stroke-width:2px;stroke-linecap:butt;stroke-linejoin:miter;stroke-opacity:1\"/>\n",
       "<path d=\"M 249.603,125.829 265.033,131.921\" style=\"fill:none;fill-rule:evenodd;stroke:#000000;stroke-width:2px;stroke-linecap:butt;stroke-linejoin:miter;stroke-opacity:1\"/>\n",
       "<path d=\"M 226.494,110.95 221.746,95.4443\" style=\"fill:none;fill-rule:evenodd;stroke:#0000FF;stroke-width:2px;stroke-linecap:butt;stroke-linejoin:miter;stroke-opacity:1\"/>\n",
       "<path d=\"M 221.746,95.4443 216.998,79.9388\" style=\"fill:none;fill-rule:evenodd;stroke:#000000;stroke-width:2px;stroke-linecap:butt;stroke-linejoin:miter;stroke-opacity:1\"/>\n",
       "<path d=\"M 265.033,131.921 264.953,171.2\" style=\"fill:none;fill-rule:evenodd;stroke:#000000;stroke-width:2px;stroke-linecap:butt;stroke-linejoin:miter;stroke-opacity:1\"/>\n",
       "<path d=\"M 272.877,137.829 272.821,165.324\" style=\"fill:none;fill-rule:evenodd;stroke:#000000;stroke-width:2px;stroke-linecap:butt;stroke-linejoin:miter;stroke-opacity:1;stroke-dasharray:6,6\"/>\n",
       "<path d=\"M 265.033,131.921 299.09,112.351\" style=\"fill:none;fill-rule:evenodd;stroke:#000000;stroke-width:2px;stroke-linecap:butt;stroke-linejoin:miter;stroke-opacity:1\"/>\n",
       "<path d=\"M 274.056,135.797 297.895,122.098\" style=\"fill:none;fill-rule:evenodd;stroke:#000000;stroke-width:2px;stroke-linecap:butt;stroke-linejoin:miter;stroke-opacity:1;stroke-dasharray:6,6\"/>\n",
       "<path d=\"M 264.953,171.2 298.929,190.909\" style=\"fill:none;fill-rule:evenodd;stroke:#000000;stroke-width:2px;stroke-linecap:butt;stroke-linejoin:miter;stroke-opacity:1\"/>\n",
       "<path d=\"M 273.991,167.361 297.775,181.157\" style=\"fill:none;fill-rule:evenodd;stroke:#000000;stroke-width:2px;stroke-linecap:butt;stroke-linejoin:miter;stroke-opacity:1;stroke-dasharray:6,6\"/>\n",
       "<path d=\"M 298.929,190.909 332.986,171.339\" style=\"fill:none;fill-rule:evenodd;stroke:#000000;stroke-width:2px;stroke-linecap:butt;stroke-linejoin:miter;stroke-opacity:1\"/>\n",
       "<path d=\"M 300.124,181.162 323.963,167.463\" style=\"fill:none;fill-rule:evenodd;stroke:#000000;stroke-width:2px;stroke-linecap:butt;stroke-linejoin:miter;stroke-opacity:1;stroke-dasharray:6,6\"/>\n",
       "<path d=\"M 332.986,171.339 333.066,132.06\" style=\"fill:none;fill-rule:evenodd;stroke:#000000;stroke-width:2px;stroke-linecap:butt;stroke-linejoin:miter;stroke-opacity:1\"/>\n",
       "<path d=\"M 325.142,165.431 325.198,137.936\" style=\"fill:none;fill-rule:evenodd;stroke:#000000;stroke-width:2px;stroke-linecap:butt;stroke-linejoin:miter;stroke-opacity:1;stroke-dasharray:6,6\"/>\n",
       "<path d=\"M 333.066,132.06 299.09,112.351\" style=\"fill:none;fill-rule:evenodd;stroke:#000000;stroke-width:2px;stroke-linecap:butt;stroke-linejoin:miter;stroke-opacity:1\"/>\n",
       "<path d=\"M 324.028,135.899 300.244,122.103\" style=\"fill:none;fill-rule:evenodd;stroke:#000000;stroke-width:2px;stroke-linecap:butt;stroke-linejoin:miter;stroke-opacity:1;stroke-dasharray:6,6\"/>\n",
       "<path d=\"M 299.09,112.351 305.023,73.5229\" style=\"fill:none;fill-rule:evenodd;stroke:#000000;stroke-width:2px;stroke-linecap:butt;stroke-linejoin:miter;stroke-opacity:1\"/>\n",
       "<path d=\"M 305.023,73.5229 278.366,44.6748\" style=\"fill:none;fill-rule:evenodd;stroke:#000000;stroke-width:2px;stroke-linecap:butt;stroke-linejoin:miter;stroke-opacity:1\"/>\n",
       "<path d=\"M 278.366,44.6748 239.19,47.5301\" style=\"fill:none;fill-rule:evenodd;stroke:#000000;stroke-width:2px;stroke-linecap:butt;stroke-linejoin:miter;stroke-opacity:1\"/>\n",
       "<path d=\"M 239.19,47.5301 216.998,79.9388\" style=\"fill:none;fill-rule:evenodd;stroke:#000000;stroke-width:2px;stroke-linecap:butt;stroke-linejoin:miter;stroke-opacity:1\"/>\n",
       "<path d=\"M 242.343,56.83 226.808,79.516\" style=\"fill:none;fill-rule:evenodd;stroke:#000000;stroke-width:2px;stroke-linecap:butt;stroke-linejoin:miter;stroke-opacity:1;stroke-dasharray:6,6\"/>\n",
       "<path d=\"M 239.19,47.5301 222.22,12.1062\" style=\"fill:none;fill-rule:evenodd;stroke:#000000;stroke-width:2px;stroke-linecap:butt;stroke-linejoin:miter;stroke-opacity:1\"/>\n",
       "<path d=\"M 229.56,45.6106 217.681,20.8139\" style=\"fill:none;fill-rule:evenodd;stroke:#000000;stroke-width:2px;stroke-linecap:butt;stroke-linejoin:miter;stroke-opacity:1;stroke-dasharray:6,6\"/>\n",
       "<path d=\"M 216.998,79.9388 177.834,76.9234\" style=\"fill:none;fill-rule:evenodd;stroke:#000000;stroke-width:2px;stroke-linecap:butt;stroke-linejoin:miter;stroke-opacity:1\"/>\n",
       "<path d=\"M 211.726,71.6538 184.312,69.5431\" style=\"fill:none;fill-rule:evenodd;stroke:#000000;stroke-width:2px;stroke-linecap:butt;stroke-linejoin:miter;stroke-opacity:1;stroke-dasharray:6,6\"/>\n",
       "<path d=\"M 177.834,76.9234 160.864,41.4995\" style=\"fill:none;fill-rule:evenodd;stroke:#000000;stroke-width:2px;stroke-linecap:butt;stroke-linejoin:miter;stroke-opacity:1\"/>\n",
       "<path d=\"M 182.374,68.2158 170.495,43.4191\" style=\"fill:none;fill-rule:evenodd;stroke:#000000;stroke-width:2px;stroke-linecap:butt;stroke-linejoin:miter;stroke-opacity:1;stroke-dasharray:6,6\"/>\n",
       "<path d=\"M 160.864,41.4995 183.057,9.09091\" style=\"fill:none;fill-rule:evenodd;stroke:#000000;stroke-width:2px;stroke-linecap:butt;stroke-linejoin:miter;stroke-opacity:1\"/>\n",
       "<path d=\"M 170.675,41.0768 186.21,18.3908\" style=\"fill:none;fill-rule:evenodd;stroke:#000000;stroke-width:2px;stroke-linecap:butt;stroke-linejoin:miter;stroke-opacity:1;stroke-dasharray:6,6\"/>\n",
       "<path d=\"M 183.057,9.09091 222.22,12.1062\" style=\"fill:none;fill-rule:evenodd;stroke:#000000;stroke-width:2px;stroke-linecap:butt;stroke-linejoin:miter;stroke-opacity:1\"/>\n",
       "<path d=\"M 188.329,17.3758 215.743,19.4866\" style=\"fill:none;fill-rule:evenodd;stroke:#000000;stroke-width:2px;stroke-linecap:butt;stroke-linejoin:miter;stroke-opacity:1;stroke-dasharray:6,6\"/>\n",
       "<text style=\"font-size:13px;font-style:normal;font-weight:normal;fill-opacity:1;stroke:none;font-family:sans-serif;text-anchor:start;fill:#0000FF\" x=\"90.1077\" y=\"154.049\"><tspan>N</tspan></text>\n",
       "<text style=\"font-size:13px;font-style:normal;font-weight:normal;fill-opacity:1;stroke:none;font-family:sans-serif;text-anchor:start;fill:#0000FF\" x=\"222.824\" y=\"124.043\"><tspan>N</tspan></text>\n",
       "</svg>"
      ],
      "text/plain": [
       "<IPython.core.display.SVG object>"
      ]
     },
     "execution_count": 43,
     "metadata": {},
     "output_type": "execute_result"
    }
   ],
   "source": [
    "mol = tca_mols[1]\n",
    "bonds = find_boundary_bonds(mol, scaffold_atom_indices)\n",
    "bond_idxes = [bond.GetIdx() for bond in bonds]\n",
    "\n",
    "rdDepictor.Compute2DCoords(mol)\n",
    "drawer = rdMolDraw2D.MolDraw2DSVG(400,200)\n",
    "drawer.DrawMolecule(mol, highlightAtoms=[], highlightBonds=bond_idxes)\n",
    "drawer.FinishDrawing()\n",
    "svg = drawer.GetDrawingText().replace('svg:','')\n",
    "SVG(svg)"
   ]
  },
  {
   "cell_type": "code",
   "execution_count": 44,
   "metadata": {},
   "outputs": [
    {
     "data": {
      "image/svg+xml": [
       "<svg baseProfile=\"full\" height=\"200px\" version=\"1.1\" width=\"400px\" xml:space=\"preserve\" xmlns:rdkit=\"http://www.rdkit.org/xml\" xmlns:svg=\"http://www.w3.org/2000/svg\" xmlns:xlink=\"http://www.w3.org/1999/xlink\">\n",
       "<rect height=\"200\" style=\"opacity:1.0;fill:#FFFFFF;stroke:none\" width=\"400\" x=\"0\" y=\"0\"> </rect>\n",
       "<path d=\"M 197.045,147.664 224.409,117.451\" style=\"fill:none;fill-rule:evenodd;stroke:#FF7F7F;stroke-width:16px;stroke-linecap:butt;stroke-linejoin:miter;stroke-opacity:1\"/>\n",
       "<path d=\"M 147.495,45.127 106.735,45.6186\" style=\"fill:none;fill-rule:evenodd;stroke:#FF7F7F;stroke-width:16px;stroke-linecap:butt;stroke-linejoin:miter;stroke-opacity:1\"/>\n",
       "<path d=\"M 62.6252,190.909 73.3626,179.053\" style=\"fill:none;fill-rule:evenodd;stroke:#000000;stroke-width:2px;stroke-linecap:butt;stroke-linejoin:miter;stroke-opacity:1\"/>\n",
       "<path d=\"M 73.3626,179.053 84.0999,167.198\" style=\"fill:none;fill-rule:evenodd;stroke:#0000FF;stroke-width:2px;stroke-linecap:butt;stroke-linejoin:miter;stroke-opacity:1\"/>\n",
       "<path d=\"M 87.8027,153.902 82.6537,137.897\" style=\"fill:none;fill-rule:evenodd;stroke:#0000FF;stroke-width:2px;stroke-linecap:butt;stroke-linejoin:miter;stroke-opacity:1\"/>\n",
       "<path d=\"M 82.6537,137.897 77.5046,121.892\" style=\"fill:none;fill-rule:evenodd;stroke:#000000;stroke-width:2px;stroke-linecap:butt;stroke-linejoin:miter;stroke-opacity:1\"/>\n",
       "<path d=\"M 95.8768,161.965 112.856,165.626\" style=\"fill:none;fill-rule:evenodd;stroke:#0000FF;stroke-width:2px;stroke-linecap:butt;stroke-linejoin:miter;stroke-opacity:1\"/>\n",
       "<path d=\"M 112.856,165.626 129.835,169.287\" style=\"fill:none;fill-rule:evenodd;stroke:#000000;stroke-width:2px;stroke-linecap:butt;stroke-linejoin:miter;stroke-opacity:1\"/>\n",
       "<path d=\"M 129.835,169.287 157.198,139.073\" style=\"fill:none;fill-rule:evenodd;stroke:#000000;stroke-width:2px;stroke-linecap:butt;stroke-linejoin:miter;stroke-opacity:1\"/>\n",
       "<path d=\"M 157.198,139.073 197.045,147.664\" style=\"fill:none;fill-rule:evenodd;stroke:#000000;stroke-width:2px;stroke-linecap:butt;stroke-linejoin:miter;stroke-opacity:1\"/>\n",
       "<path d=\"M 197.045,147.664 207.783,135.808\" style=\"fill:none;fill-rule:evenodd;stroke:#000000;stroke-width:2px;stroke-linecap:butt;stroke-linejoin:miter;stroke-opacity:1\"/>\n",
       "<path d=\"M 207.783,135.808 218.52,123.953\" style=\"fill:none;fill-rule:evenodd;stroke:#0000FF;stroke-width:2px;stroke-linecap:butt;stroke-linejoin:miter;stroke-opacity:1\"/>\n",
       "<path d=\"M 230.297,119.19 246.9,124.092\" style=\"fill:none;fill-rule:evenodd;stroke:#0000FF;stroke-width:2px;stroke-linecap:butt;stroke-linejoin:miter;stroke-opacity:1\"/>\n",
       "<path d=\"M 246.9,124.092 263.502,128.995\" style=\"fill:none;fill-rule:evenodd;stroke:#000000;stroke-width:2px;stroke-linecap:butt;stroke-linejoin:miter;stroke-opacity:1\"/>\n",
       "<path d=\"M 221.647,110.657 215.354,95.1727\" style=\"fill:none;fill-rule:evenodd;stroke:#0000FF;stroke-width:2px;stroke-linecap:butt;stroke-linejoin:miter;stroke-opacity:1\"/>\n",
       "<path d=\"M 215.354,95.1727 209.06,79.6884\" style=\"fill:none;fill-rule:evenodd;stroke:#000000;stroke-width:2px;stroke-linecap:butt;stroke-linejoin:miter;stroke-opacity:1\"/>\n",
       "<path d=\"M 263.502,128.995 267.038,169.604\" style=\"fill:none;fill-rule:evenodd;stroke:#000000;stroke-width:2px;stroke-linecap:butt;stroke-linejoin:miter;stroke-opacity:1\"/>\n",
       "<path d=\"M 272.154,134.379 274.63,162.805\" style=\"fill:none;fill-rule:evenodd;stroke:#000000;stroke-width:2px;stroke-linecap:butt;stroke-linejoin:miter;stroke-opacity:1;stroke-dasharray:6,6\"/>\n",
       "<path d=\"M 263.502,128.995 296.902,105.628\" style=\"fill:none;fill-rule:evenodd;stroke:#000000;stroke-width:2px;stroke-linecap:butt;stroke-linejoin:miter;stroke-opacity:1\"/>\n",
       "<path d=\"M 273.186,132.17 296.566,115.813\" style=\"fill:none;fill-rule:evenodd;stroke:#000000;stroke-width:2px;stroke-linecap:butt;stroke-linejoin:miter;stroke-opacity:1;stroke-dasharray:6,6\"/>\n",
       "<path d=\"M 267.038,169.604 303.975,186.846\" style=\"fill:none;fill-rule:evenodd;stroke:#000000;stroke-width:2px;stroke-linecap:butt;stroke-linejoin:miter;stroke-opacity:1\"/>\n",
       "<path d=\"M 276.027,164.803 301.883,176.872\" style=\"fill:none;fill-rule:evenodd;stroke:#000000;stroke-width:2px;stroke-linecap:butt;stroke-linejoin:miter;stroke-opacity:1;stroke-dasharray:6,6\"/>\n",
       "<path d=\"M 303.975,186.846 337.375,163.479\" style=\"fill:none;fill-rule:evenodd;stroke:#000000;stroke-width:2px;stroke-linecap:butt;stroke-linejoin:miter;stroke-opacity:1\"/>\n",
       "<path d=\"M 304.311,176.661 327.691,160.304\" style=\"fill:none;fill-rule:evenodd;stroke:#000000;stroke-width:2px;stroke-linecap:butt;stroke-linejoin:miter;stroke-opacity:1;stroke-dasharray:6,6\"/>\n",
       "<path d=\"M 337.375,163.479 333.839,122.87\" style=\"fill:none;fill-rule:evenodd;stroke:#000000;stroke-width:2px;stroke-linecap:butt;stroke-linejoin:miter;stroke-opacity:1\"/>\n",
       "<path d=\"M 328.723,158.095 326.247,129.669\" style=\"fill:none;fill-rule:evenodd;stroke:#000000;stroke-width:2px;stroke-linecap:butt;stroke-linejoin:miter;stroke-opacity:1;stroke-dasharray:6,6\"/>\n",
       "<path d=\"M 333.839,122.87 296.902,105.628\" style=\"fill:none;fill-rule:evenodd;stroke:#000000;stroke-width:2px;stroke-linecap:butt;stroke-linejoin:miter;stroke-opacity:1\"/>\n",
       "<path d=\"M 324.85,127.671 298.994,115.602\" style=\"fill:none;fill-rule:evenodd;stroke:#000000;stroke-width:2px;stroke-linecap:butt;stroke-linejoin:miter;stroke-opacity:1;stroke-dasharray:6,6\"/>\n",
       "<path d=\"M 296.902,105.628 299.458,64.9461\" style=\"fill:none;fill-rule:evenodd;stroke:#000000;stroke-width:2px;stroke-linecap:butt;stroke-linejoin:miter;stroke-opacity:1\"/>\n",
       "<path d=\"M 299.458,64.9461 269.245,37.5829\" style=\"fill:none;fill-rule:evenodd;stroke:#000000;stroke-width:2px;stroke-linecap:butt;stroke-linejoin:miter;stroke-opacity:1\"/>\n",
       "<path d=\"M 269.245,37.5829 229.014,44.1439\" style=\"fill:none;fill-rule:evenodd;stroke:#000000;stroke-width:2px;stroke-linecap:butt;stroke-linejoin:miter;stroke-opacity:1\"/>\n",
       "<path d=\"M 229.014,44.1439 209.06,79.6884\" style=\"fill:none;fill-rule:evenodd;stroke:#000000;stroke-width:2px;stroke-linecap:butt;stroke-linejoin:miter;stroke-opacity:1\"/>\n",
       "<path d=\"M 233.13,53.4664 219.162,78.3475\" style=\"fill:none;fill-rule:evenodd;stroke:#000000;stroke-width:2px;stroke-linecap:butt;stroke-linejoin:miter;stroke-opacity:1;stroke-dasharray:6,6\"/>\n",
       "<path d=\"M 229.014,44.1439 208.208,9.09091\" style=\"fill:none;fill-rule:evenodd;stroke:#000000;stroke-width:2px;stroke-linecap:butt;stroke-linejoin:miter;stroke-opacity:1\"/>\n",
       "<path d=\"M 218.883,43.047 204.319,18.5099\" style=\"fill:none;fill-rule:evenodd;stroke:#000000;stroke-width:2px;stroke-linecap:butt;stroke-linejoin:miter;stroke-opacity:1;stroke-dasharray:6,6\"/>\n",
       "<path d=\"M 209.06,79.6884 168.3,80.18\" style=\"fill:none;fill-rule:evenodd;stroke:#000000;stroke-width:2px;stroke-linecap:butt;stroke-linejoin:miter;stroke-opacity:1\"/>\n",
       "<path d=\"M 202.848,71.6103 174.316,71.9544\" style=\"fill:none;fill-rule:evenodd;stroke:#000000;stroke-width:2px;stroke-linecap:butt;stroke-linejoin:miter;stroke-opacity:1;stroke-dasharray:6,6\"/>\n",
       "<path d=\"M 168.3,80.18 147.495,45.127\" style=\"fill:none;fill-rule:evenodd;stroke:#000000;stroke-width:2px;stroke-linecap:butt;stroke-linejoin:miter;stroke-opacity:1\"/>\n",
       "<path d=\"M 172.19,70.7609 157.626,46.2239\" style=\"fill:none;fill-rule:evenodd;stroke:#000000;stroke-width:2px;stroke-linecap:butt;stroke-linejoin:miter;stroke-opacity:1;stroke-dasharray:6,6\"/>\n",
       "<path d=\"M 147.495,45.127 167.449,9.58247\" style=\"fill:none;fill-rule:evenodd;stroke:#000000;stroke-width:2px;stroke-linecap:butt;stroke-linejoin:miter;stroke-opacity:1\"/>\n",
       "<path d=\"M 157.597,43.7861 171.565,18.905\" style=\"fill:none;fill-rule:evenodd;stroke:#000000;stroke-width:2px;stroke-linecap:butt;stroke-linejoin:miter;stroke-opacity:1;stroke-dasharray:6,6\"/>\n",
       "<path d=\"M 147.495,45.127 130.965,45.3264\" style=\"fill:none;fill-rule:evenodd;stroke:#000000;stroke-width:2px;stroke-linecap:butt;stroke-linejoin:miter;stroke-opacity:1\"/>\n",
       "<path d=\"M 130.965,45.3264 114.434,45.5257\" style=\"fill:none;fill-rule:evenodd;stroke:#00CC00;stroke-width:2px;stroke-linecap:butt;stroke-linejoin:miter;stroke-opacity:1\"/>\n",
       "<path d=\"M 167.449,9.58247 208.208,9.09091\" style=\"fill:none;fill-rule:evenodd;stroke:#000000;stroke-width:2px;stroke-linecap:butt;stroke-linejoin:miter;stroke-opacity:1\"/>\n",
       "<path d=\"M 173.661,17.6606 202.193,17.3165\" style=\"fill:none;fill-rule:evenodd;stroke:#000000;stroke-width:2px;stroke-linecap:butt;stroke-linejoin:miter;stroke-opacity:1;stroke-dasharray:6,6\"/>\n",
       "<text style=\"font-size:13px;font-style:normal;font-weight:normal;fill-opacity:1;stroke:none;font-family:sans-serif;text-anchor:start;fill:#0000FF\" x=\"84.0999\" y=\"167.49\"><tspan>N</tspan></text>\n",
       "<text style=\"font-size:13px;font-style:normal;font-weight:normal;fill-opacity:1;stroke:none;font-family:sans-serif;text-anchor:start;fill:#0000FF\" x=\"218.52\" y=\"124.245\"><tspan>N</tspan></text>\n",
       "<text style=\"font-size:13px;font-style:normal;font-weight:normal;fill-opacity:1;stroke:none;font-family:sans-serif;text-anchor:start;fill:#00CC00\" x=\"99.0364\" y=\"52.4123\"><tspan>Cl</tspan></text>\n",
       "</svg>"
      ],
      "text/plain": [
       "<IPython.core.display.SVG object>"
      ]
     },
     "execution_count": 44,
     "metadata": {},
     "output_type": "execute_result"
    }
   ],
   "source": [
    "mol = tca_mols[2]\n",
    "bonds = find_boundary_bonds(mol, scaffold_atom_indices)\n",
    "bond_idxes = [bond.GetIdx() for bond in bonds]\n",
    "\n",
    "rdDepictor.Compute2DCoords(mol)\n",
    "drawer = rdMolDraw2D.MolDraw2DSVG(400,200)\n",
    "drawer.DrawMolecule(mol, highlightAtoms=[], highlightBonds=bond_idxes)\n",
    "drawer.FinishDrawing()\n",
    "svg = drawer.GetDrawingText().replace('svg:','')\n",
    "SVG(svg)"
   ]
  },
  {
   "cell_type": "markdown",
   "metadata": {},
   "source": [
    "3個の化学構造ですべて正常に動作することが確認できた。"
   ]
  },
  {
   "cell_type": "markdown",
   "metadata": {},
   "source": [
    "以上の検証によりfind_boundary_bonds関数を正しく作成することができたといえる。  \n",
    "今後研究などに用いていきたい。"
   ]
  }
 ],
 "metadata": {
  "kernelspec": {
   "display_name": "Python 3",
   "language": "python",
   "name": "python3"
  },
  "language_info": {
   "codemirror_mode": {
    "name": "ipython",
    "version": 3
   },
   "file_extension": ".py",
   "mimetype": "text/x-python",
   "name": "python",
   "nbconvert_exporter": "python",
   "pygments_lexer": "ipython3",
   "version": "3.6.2"
  }
 },
 "nbformat": 4,
 "nbformat_minor": 2
}
